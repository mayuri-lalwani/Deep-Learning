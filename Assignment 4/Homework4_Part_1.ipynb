{
  "nbformat": 4,
  "nbformat_minor": 0,
  "metadata": {
    "accelerator": "GPU",
    "colab": {
      "name": "Homework4_Part_1.ipynb",
      "provenance": []
    },
    "kernelspec": {
      "display_name": "Python 3",
      "name": "python3"
    },
    "language_info": {
      "name": "python"
    }
  },
  "cells": [
    {
      "cell_type": "markdown",
      "metadata": {
        "id": "Ul2peIjZe3vH"
      },
      "source": [
        "**MNIST Classifier with training knobs using numpy **"
      ]
    },
    {
      "cell_type": "markdown",
      "metadata": {
        "id": "rS5fmJ_0fGFg"
      },
      "source": [
        "**Implemented:**<br/>\n",
        "Mini Batch Gradient Descent<br/>\n",
        "Dropout<br/>\n",
        "Image Augmentation<br/>\n",
        "3 layers for training<br/>\n",
        "Relu activation layer in training<br/>\n",
        "Normalized the input before training<br/>\n",
        "Learning rate<br/>\n",
        "Confusion metrics<br/>\n",
        "Visualization<br/>\n"
      ]
    },
    {
      "cell_type": "code",
      "metadata": {
        "id": "V0kfegr0wO1C"
      },
      "source": [
        "import numpy as np # linear algebra\n",
        "import matplotlib.pyplot as plt\n",
        "from keras.datasets import mnist\n",
        "from keras.preprocessing.image import ImageDataGenerator\n",
        "import matplotlib.pyplot as plt\n",
        "\n",
        "import math\n",
        "%matplotlib inline"
      ],
      "execution_count": 4,
      "outputs": []
    },
    {
      "cell_type": "markdown",
      "metadata": {
        "id": "5q5paN5wyG8c"
      },
      "source": [
        "Load the image data set"
      ]
    },
    {
      "cell_type": "code",
      "metadata": {
        "colab": {
          "base_uri": "https://localhost:8080/"
        },
        "id": "18NXdStAwj2c",
        "outputId": "fa9ce77b-8c5d-4672-ec1f-9528cb63f54e"
      },
      "source": [
        "(x_train, y_train), (x_test, y_test) = mnist.load_data()\n"
      ],
      "execution_count": 5,
      "outputs": [
        {
          "output_type": "stream",
          "text": [
            "Downloading data from https://storage.googleapis.com/tensorflow/tf-keras-datasets/mnist.npz\n",
            "11493376/11490434 [==============================] - 0s 0us/step\n"
          ],
          "name": "stdout"
        }
      ]
    },
    {
      "cell_type": "markdown",
      "metadata": {
        "id": "wCROOi9kyLay"
      },
      "source": [
        "Some examples of the input data"
      ]
    },
    {
      "cell_type": "code",
      "metadata": {
        "colab": {
          "base_uri": "https://localhost:8080/",
          "height": 320
        },
        "id": "jUm3qVv9x-NS",
        "outputId": "429c5da8-80b6-4648-9a00-c2305170a00d"
      },
      "source": [
        "fig, axes = plt.subplots(2,5, figsize=(12,5))\n",
        "axes = axes.flatten()\n",
        "idx = np.random.randint(0,42000,size=10)\n",
        "for i in range(10):\n",
        "    axes[i].imshow(x_train[idx[i],:].reshape(28,28), cmap='gray')\n",
        "    axes[i].axis('off') # hide the axes ticks\n",
        "    axes[i].set_title(str(int(y_train[idx[i]])), color= 'black', fontsize=25)\n",
        "plt.show()"
      ],
      "execution_count": 6,
      "outputs": [
        {
          "output_type": "display_data",
          "data": {
            "image/png": "[encoded data removed]",
            "text/plain": [
              "<Figure size 864x360 with 10 Axes>"
            ]
          },
          "metadata": {
            "tags": [],
            "needs_background": "light"
          }
        }
      ]
    },
    {
      "cell_type": "markdown",
      "metadata": {
        "id": "fb8DszYxGKiv"
      },
      "source": [
        "**Data Augmentation<br/>**\n",
        "Using ImageDataGenerator to do Image Augmentation"
      ]
    },
    {
      "cell_type": "code",
      "metadata": {
        "id": "b9P4Ox1Q2d4k"
      },
      "source": [
        " #With data augmentation to prevent overfitting \n",
        "\n",
        "datagen = ImageDataGenerator(\n",
        "        featurewise_center=False,  # set input mean to 0 over the dataset\n",
        "        samplewise_center=False,  # set each sample mean to 0\n",
        "        featurewise_std_normalization=False,  # divide inputs by std of the dataset\n",
        "        samplewise_std_normalization=False,  # divide each input by its std\n",
        "        zca_whitening=False,  # apply ZCA whitening\n",
        "        rotation_range=10,  # randomly rotate images in the range (degrees, 0 to 180)\n",
        "        zoom_range = 0.1, # Randomly zoom image \n",
        "        width_shift_range=0.1,  # randomly shift images horizontally (fraction of total width)\n",
        "        height_shift_range=0.1,  # randomly shift images vertically (fraction of total height)\n",
        "        horizontal_flip=False,  # randomly flip images\n",
        "        vertical_flip=False)  # randomly flip images\n",
        "\n",
        "\n",
        "#datagen.fit(x_train)\n",
        "train_augmentation = datagen.flow(x_train.reshape(-1,28,28,1), y=y_train)\n",
        "\n",
        "batch_index = 0\n",
        "x_list, y_list = [], []\n",
        "while batch_index <= train_augmentation.batch_index:\n",
        "    data = train_augmentation.next()\n",
        "    x_list.append(data[0])\n",
        "    y_list.append(data[1])\n",
        "    batch_index = batch_index + 1\n",
        "x_augmentation = np.asarray(x_list).reshape(-1,28, 28)\n",
        "y_augmentation = np.asarray(y_list).reshape(-1, )"
      ],
      "execution_count": 7,
      "outputs": []
    },
    {
      "cell_type": "markdown",
      "metadata": {
        "id": "9gwlefrdGfSN"
      },
      "source": [
        "**Normalizing the input and converting the data using one hot encoding**"
      ]
    },
    {
      "cell_type": "code",
      "metadata": {
        "colab": {
          "base_uri": "https://localhost:8080/"
        },
        "id": "u9JbfwQpGh4Q",
        "outputId": "64c13cfb-ffc9-47ff-9783-9c08d6cfe758"
      },
      "source": [
        "#images, labels = (x_train[0:1000].reshape(1000,28*28) / 255, y_train[0:1000])\n",
        "def hot_labels(labels):\n",
        "  one_hot_labels = np.zeros((len(labels),10))\n",
        "  for i,l in enumerate(labels):\n",
        "      one_hot_labels[i][l] = 1\n",
        "  return one_hot_labels\n",
        "\n",
        "\n",
        "images, labels = (x_augmentation[0:60000].reshape(60000,28*28) / 255, y_augmentation[0:60000])\n",
        "labels = hot_labels(labels)\n",
        "x, y_true = images, labels\n",
        "\n",
        "test_images = x_test.reshape(len(x_test),28*28) / 255\n",
        "test_labels = y_test\n",
        "#test_labels = np.zeros((len(y_test),10))\n",
        "test_labels = hot_labels(test_labels)\n",
        "x_test, y_test = test_images, test_labels\n",
        "print(f'images: {images.shape}, labels: {labels.shape}, test_images: {test_images.shape}, test_labels: {test_labels.shape}')"
      ],
      "execution_count": 8,
      "outputs": [
        {
          "output_type": "stream",
          "text": [
            "images: (60000, 784), labels: (60000, 10), test_images: (10000, 784), test_labels: (10000, 10)\n"
          ],
          "name": "stdout"
        }
      ]
    },
    {
      "cell_type": "markdown",
      "metadata": {
        "id": "2QOmQazfF7CJ"
      },
      "source": [
        "**Building Model<br/>**\n",
        "Used Linear - Relu - Relu layer for buildinf the model.<br/>\n",
        "Used MSE loss function<br/>\n",
        "Used dropout on the relu layer"
      ]
    },
    {
      "cell_type": "code",
      "metadata": {
        "id": "6G6CaJJgJsW6"
      },
      "source": [
        "class Linear:\n",
        "  def __init__(self, input_dim: int, num_hidden: int =1):\n",
        "    self.weights = np.random.randn(input_dim, num_hidden) * np.sqrt(2./ input_dim)\n",
        "    self.bias = np.zeros(num_hidden)\n",
        "\n",
        "  def __call__(self, x):\n",
        "    self.x = x\n",
        "    output = x @ self.weights + self.bias\n",
        "    return output\n",
        "\n",
        "  def backward(self, gradient):\n",
        "    self.weights_gradient = self.x.T @ gradient\n",
        "    self.bias_gradient = gradient.sum(axis = 0)\n",
        "    self.x_gradient = gradient @ self.weights.T\n",
        "    return self.x_gradient\n",
        "\n",
        "  def update(self, lr):\n",
        "    self.weights = self.weights - lr * self.weights_gradient\n",
        "    self.bias = self.bias - lr * self.bias_gradient\n",
        "\n",
        "class Relu:\n",
        "  def __call__(self, input_, dropout_rate =0):\n",
        "    if dropout_rate > 0:\n",
        "      dropout_mask = np.random.binomial(1, 1-dropout_rate, size=input_.shape)\n",
        "      input_ *= dropout_mask*2\n",
        "    self.input_ = input_\n",
        "    self.output = np.clip(self.input_, 0, None)\n",
        "    return self.output\n",
        "\n",
        "  def backward(self, output_gradient):\n",
        "    self.input_gradient = (self.input_ >0) * output_gradient\n",
        "    return self.input_gradient\n",
        "\n",
        "class Model:\n",
        "  def __init__(self, input_dim, num_hidden, output_dim):\n",
        "    self.linear1 = Linear(input_dim, num_hidden)\n",
        "    self.relu1 = Relu()\n",
        "    self.relu2 = Relu()\n",
        "    self.linear2 = Linear(num_hidden, output_dim)\n",
        "\n",
        "  def __call__(self,x):\n",
        "    l1 = self.linear1(x)\n",
        "    r1 = self.relu1(l1, dropout_rate=0)\n",
        "    r2 = self.relu2(r1, dropout_rate=0.01)\n",
        "    l2 = self.linear2(r2)\n",
        "    return l2\n",
        "\n",
        "  def backward(self, output_gradient):\n",
        "    linear2_grad = self.linear2.backward(output_gradient)\n",
        "    relu2_grad = self.relu2.backward(linear2_grad)\n",
        "    relu1_grad = self.relu1.backward(relu2_grad)\n",
        "    linear1_grad = self.linear1.backward(relu1_grad)\n",
        "    return linear1_grad\n",
        "\n",
        "\n",
        "  def update(self, lr):\n",
        "    self.linear2.update(lr)\n",
        "    self.linear1.update(lr)\n"
      ],
      "execution_count": 9,
      "outputs": []
    },
    {
      "cell_type": "code",
      "metadata": {
        "id": "6pGsc1-SM4wS"
      },
      "source": [
        "class MSE:\n",
        "  def __call__(self, y_pred, y_true):\n",
        "    self.y_pred = y_pred\n",
        "    self.y_true = y_true\n",
        "    return ((y_pred - y_true) ** 2).mean()\n",
        "\n",
        "  def backward(self):\n",
        "    n = self.y_true.shape[0]\n",
        "    self.gradient = 2. * (self.y_pred - self.y_true) / n\n",
        "    return self.gradient"
      ],
      "execution_count": 10,
      "outputs": []
    },
    {
      "cell_type": "code",
      "metadata": {
        "id": "mvTXLkidOuG6"
      },
      "source": [
        "loss = MSE()\n",
        "nonlinear = Model(784, 200, 10)"
      ],
      "execution_count": 11,
      "outputs": []
    },
    {
      "cell_type": "markdown",
      "metadata": {
        "id": "nNjO0rjzQPSI"
      },
      "source": [
        "**Mini Batch Gradient Descent</br>**\n",
        "Implemented mini batch using learning rate = 0.01. I tried different learning rates but 0.01 was the best."
      ]
    },
    {
      "cell_type": "code",
      "metadata": {
        "id": "-7Zlg_7KPcOE"
      },
      "source": [
        "def lr_decay(epoch):\n",
        "  return 0.01 * math.pow(0.6, epoch)"
      ],
      "execution_count": 13,
      "outputs": []
    },
    {
      "cell_type": "code",
      "metadata": {
        "id": "DOUBePByQcI8"
      },
      "source": [
        "from typing import Callable\n",
        "\n",
        "def fit_by_batch(x: np.ndarray, y: np.ndarray, x_test: np.ndarray, y_test: np.ndarray, model: Callable, loss: Callable, num_epochs: int, batch_size: int):\n",
        "  for epoch in range(num_epochs):\n",
        "    correct_cnt = 0\n",
        "    lr = lr_decay(epoch/100)\n",
        "    for i in range(int(len(x) / batch_size)):\n",
        "      batch_start, batch_end = ((i * batch_size), ((i+1)*batch_size))\n",
        "      x_batch = x[batch_start: batch_end]\n",
        "      y_batch = y[batch_start: batch_end]\n",
        "      y_pred_batch = model(x_batch)\n",
        "      loss_value = loss(y_pred_batch, y_batch)\n",
        "      gradient_from_loss = loss.backward()\n",
        "      model.backward(gradient_from_loss)\n",
        "      model.update(lr)\n",
        "      for k in range(batch_size):\n",
        "        correct_cnt += int(np.argmax(y_pred_batch[k:k+1]) == np.argmax(y_batch[k:k+1]))\n",
        "\n",
        "    if epoch % 100 == 0:\n",
        "      test_correct_cnt = 0\n",
        "      y_pred_test = model(x_test)\n",
        "      for k in range(len(y_test)):\n",
        "        test_correct_cnt += int(np.argmax(y_pred_test[k:k+1]) == np.argmax(y_test[k:k+1]))\n",
        "      print(f'Epoch {epoch}, lr {lr}, loss {loss_value}, correct_rate {correct_cnt/float(len(y))}, test_correct_rate {test_correct_cnt/float(len(y_test))}')"
      ],
      "execution_count": 14,
      "outputs": []
    },
    {
      "cell_type": "markdown",
      "metadata": {
        "id": "bPcspU9agy34"
      },
      "source": [
        "Training the model using mini batch.Used batch size=32"
      ]
    },
    {
      "cell_type": "code",
      "metadata": {
        "colab": {
          "base_uri": "https://localhost:8080/"
        },
        "id": "jwqmu31AQys0",
        "outputId": "e68eaa11-6341-4978-943d-5f0b250280a8"
      },
      "source": [
        "fit_by_batch(x, y_true, x_test, y_test, model=nonlinear, loss=loss, num_epochs=1000, batch_size=32)"
      ],
      "execution_count": 15,
      "outputs": [
        {
          "output_type": "stream",
          "text": [
            "Epoch 0, lr 0.01, loss 0.056785658219742165, correct_rate 0.6310333333333333, test_correct_rate 0.8362\n",
            "Epoch 100, lr 0.006, loss 0.012819090393596078, correct_rate 0.9597166666666667, test_correct_rate 0.9612\n",
            "Epoch 200, lr 0.0036, loss 0.011566662664566294, correct_rate 0.9673833333333334, test_correct_rate 0.9625\n",
            "Epoch 300, lr 0.0021599999999999996, loss 0.010678645567238635, correct_rate 0.9698166666666667, test_correct_rate 0.9622\n",
            "Epoch 400, lr 0.001296, loss 0.010080537145038626, correct_rate 0.9718333333333333, test_correct_rate 0.9623\n",
            "Epoch 500, lr 0.0007775999999999998, loss 0.008921441124239697, correct_rate 0.9723, test_correct_rate 0.9614\n",
            "Epoch 600, lr 0.0004665599999999999, loss 0.009805688668111899, correct_rate 0.97285, test_correct_rate 0.9625\n",
            "Epoch 700, lr 0.00027993599999999994, loss 0.009039520211244679, correct_rate 0.9731166666666666, test_correct_rate 0.9632\n",
            "Epoch 800, lr 0.00016796159999999993, loss 0.009421190086670606, correct_rate 0.9732166666666666, test_correct_rate 0.9635\n",
            "Epoch 900, lr 0.00010077695999999997, loss 0.011170015815679443, correct_rate 0.9729, test_correct_rate 0.9627\n"
          ],
          "name": "stdout"
        }
      ]
    },
    {
      "cell_type": "markdown",
      "metadata": {
        "id": "Ujz2CkOuW7mu"
      },
      "source": [
        "Using Confusion matrix to evaluate the model."
      ]
    },
    {
      "cell_type": "code",
      "metadata": {
        "colab": {
          "base_uri": "https://localhost:8080/",
          "height": 311
        },
        "id": "8z1druP0XAdt",
        "outputId": "e710125d-598a-4cd5-948e-43170b87891a"
      },
      "source": [
        "from sklearn.metrics import confusion_matrix\n",
        "import itertools\n",
        "\n",
        "def plot_confusion_matrix(cm, classes,\n",
        "                          normalize=False,\n",
        "                          title='Confusion matrix',\n",
        "                          cmap=plt.cm.Blues):\n",
        "    \"\"\"\n",
        "    This function prints and plots the confusion matrix.\n",
        "    Normalization can be applied by setting `normalize=True`.\n",
        "    \"\"\"\n",
        "    plt.imshow(cm, interpolation='nearest', cmap=cmap)\n",
        "    plt.title(title)\n",
        "    plt.colorbar()\n",
        "    tick_marks = np.arange(len(classes))\n",
        "    plt.xticks(tick_marks, classes, rotation=45)\n",
        "    plt.yticks(tick_marks, classes)\n",
        "\n",
        "    if normalize:\n",
        "        cm = cm.astype('float') / cm.sum(axis=1)[:, np.newaxis]\n",
        "\n",
        "    thresh = cm.max() / 2.\n",
        "    for i, j in itertools.product(range(cm.shape[0]), range(cm.shape[1])):\n",
        "        plt.text(j, i, cm[i, j],\n",
        "                 horizontalalignment=\"center\",\n",
        "                 color=\"white\" if cm[i, j] > thresh else \"black\")\n",
        "    plt.tight_layout()\n",
        "    plt.ylabel('True label')\n",
        "    plt.xlabel('Predicted label')\n",
        "\n",
        "# Predict the values from the validation dataset\n",
        "Y_pred = nonlinear(x_test)\n",
        "# Convert predictions classes to one hot vectors \n",
        "Y_pred_classes = np.argmax(Y_pred,axis = 1) \n",
        "# Convert validation observations to one hot vectors\n",
        "Y_true = np.argmax(y_test,axis = 1) \n",
        "# compute the confusion matrix\n",
        "confusion_mtx = confusion_matrix(Y_true, Y_pred_classes) \n",
        "# plot the confusion matrix\n",
        "plot_confusion_matrix(confusion_mtx, classes = range(10)) "
      ],
      "execution_count": 17,
      "outputs": [
        {
          "output_type": "display_data",
          "data": {
            "image/png": "[encoded data removed]",
            "text/plain": [
              "<Figure size 432x288 with 2 Axes>"
            ]
          },
          "metadata": {
            "tags": [],
            "needs_background": "light"
          }
        }
      ]
    },
    {
      "cell_type": "markdown",
      "metadata": {
        "id": "TMVpu3YEhEcv"
      },
      "source": [
        "Here we see our model performs well with digits with few errors."
      ]
    },
    {
      "cell_type": "markdown",
      "metadata": {
        "id": "27NxhNLCIT58"
      },
      "source": [
        "Lets investigate for the errors.<br/>\n",
        "**Display top common errors**"
      ]
    },
    {
      "cell_type": "code",
      "metadata": {
        "colab": {
          "base_uri": "https://localhost:8080/",
          "height": 296
        },
        "id": "NDDN2hUYIW2e",
        "outputId": "e4ae713a-8320-472f-8973-e968f42cd4dc"
      },
      "source": [
        "errors = (Y_pred_classes - Y_true != 0)\n",
        "\n",
        "Y_pred_classes_errors = Y_pred_classes[errors]\n",
        "Y_pred_errors = Y_pred[errors]\n",
        "Y_true_errors = Y_true[errors]\n",
        "X_val_errors = x_test[errors]\n",
        "\n",
        "def display_errors(errors_index,img_errors,pred_errors, obs_errors):\n",
        "    \"\"\" This function shows 6 images with their predicted and real labels\"\"\"\n",
        "    n = 0\n",
        "    nrows = 2\n",
        "    ncols = 3\n",
        "    fig, ax = plt.subplots(nrows,ncols,sharex=True,sharey=True)\n",
        "    for row in range(nrows):\n",
        "        for col in range(ncols):\n",
        "            error = errors_index[n]\n",
        "            ax[row,col].imshow((img_errors[error]).reshape((28,28)))\n",
        "            ax[row,col].set_title(\"Predicted label :{}\\nTrue label :{}\".format(pred_errors[error],obs_errors[error]))\n",
        "            n += 1\n",
        "\n",
        "# Probabilities of the wrong predicted numbers\n",
        "Y_pred_errors_prob = np.max(Y_pred_errors,axis = 1)\n",
        "\n",
        "# Predicted probabilities of the true values in the error set\n",
        "true_prob_errors = np.diagonal(np.take(Y_pred_errors, Y_true_errors, axis=1))\n",
        "\n",
        "# Difference between the probability of the predicted label and the true label\n",
        "delta_pred_true_errors = Y_pred_errors_prob - true_prob_errors\n",
        "\n",
        "# Sorted list of the delta prob errors\n",
        "sorted_dela_errors = np.argsort(delta_pred_true_errors)\n",
        "\n",
        "# Top 6 errors \n",
        "most_important_errors = sorted_dela_errors[-6:]\n",
        "\n",
        "# Show the top 6 errors\n",
        "display_errors(most_important_errors, X_val_errors, Y_pred_classes_errors, Y_true_errors)"
      ],
      "execution_count": 18,
      "outputs": [
        {
          "output_type": "display_data",
          "data": {
            "image/png": "[encoded data removed]",
            "text/plain": [
              "<Figure size 432x288 with 6 Axes>"
            ]
          },
          "metadata": {
            "tags": [],
            "needs_background": "light"
          }
        }
      ]
    },
    {
      "cell_type": "markdown",
      "metadata": {
        "id": "YrKu29NVhUr3"
      },
      "source": [
        "Refernce:\n",
        "1. For data augmentation, visualization, evaluation metrics and displaying errors: https://www.kaggle.com/yassineghouzam/introduction-to-cnn-keras-0-997-top-6 <br/>\n",
        "2. For model building - used reference from my previous homework.\n"
      ]
    }
  ]
}