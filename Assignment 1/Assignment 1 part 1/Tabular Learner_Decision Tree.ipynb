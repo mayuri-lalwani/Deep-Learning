{
  "nbformat": 4,
  "nbformat_minor": 0,
  "metadata": {
    "colab": {
      "name": "Untitled1.ipynb",
      "provenance": []
    },
    "kernelspec": {
      "name": "python3",
      "display_name": "Python 3"
    },
    "accelerator": "GPU"
  },
  "cells": [
    {
      "cell_type": "code",
      "metadata": {
        "colab": {
          "base_uri": "https://localhost:8080/"
        },
        "id": "t4GGUNiuQMrU",
        "outputId": "b0df1caa-44cb-498b-a97a-d218ee67736a"
      },
      "source": [
        "!pip install -Uqq fastbook\r\n",
        "import fastbook\r\n",
        "fastbook.setup_book()"
      ],
      "execution_count": 1,
      "outputs": [
        {
          "output_type": "stream",
          "text": [
            "\u001b[K     |████████████████████████████████| 727kB 8.2MB/s \n",
            "\u001b[K     |████████████████████████████████| 51kB 6.5MB/s \n",
            "\u001b[K     |████████████████████████████████| 1.2MB 15.0MB/s \n",
            "\u001b[K     |████████████████████████████████| 194kB 54.7MB/s \n",
            "\u001b[K     |████████████████████████████████| 61kB 8.2MB/s \n",
            "\u001b[?25hMounted at /content/gdrive\n"
          ],
          "name": "stdout"
        }
      ]
    },
    {
      "cell_type": "code",
      "metadata": {
        "id": "kfGsNRe9RYun"
      },
      "source": [
        "from fastbook import *"
      ],
      "execution_count": 2,
      "outputs": []
    },
    {
      "cell_type": "code",
      "metadata": {
        "id": "eMlj3qHrRcMj"
      },
      "source": [
        "# Train a model that will predict whether a person is a high income earner based on their socioeconomic background\r\n",
        "from fastai.tabular.all import  *\r\n",
        "path = untar_data(URLs.ADULT_SAMPLE)\r\n",
        "\r\n",
        "#Tell fastai ehich columns are categorigal and whch are continuous\r\n",
        "dls= TabularDataLoaders.from_csv(path/'adult.csv', path=path, y_names=\"salary\",\r\n",
        "     cat_names = ['workclass','education','marital-status','occupation','relationship','race'],\r\n",
        "     cont_names = ['age','fnlwgt','education-num'],\r\n",
        "     procs = [Categorify, FillMissing, Normalize]  )\r\n",
        "\r\n",
        "learn = tabular_learner(dls,metrics=accuracy)\r\n"
      ],
      "execution_count": 5,
      "outputs": []
    },
    {
      "cell_type": "code",
      "metadata": {
        "colab": {
          "base_uri": "https://localhost:8080/",
          "height": 136
        },
        "id": "GALQUWEJT1_N",
        "outputId": "fed7940f-e9f2-4743-a351-bab5d89d6a00"
      },
      "source": [
        "#There are no pre trained models for this task.So, we dont use fine_tune in this case instead we use fir_one_cycle\r\n",
        "learn.fit_one_cycle(3)"
      ],
      "execution_count": 6,
      "outputs": [
        {
          "output_type": "display_data",
          "data": {
            "text/html": [
              "<table border=\"1\" class=\"dataframe\">\n",
              "  <thead>\n",
              "    <tr style=\"text-align: left;\">\n",
              "      <th>epoch</th>\n",
              "      <th>train_loss</th>\n",
              "      <th>valid_loss</th>\n",
              "      <th>accuracy</th>\n",
              "      <th>time</th>\n",
              "    </tr>\n",
              "  </thead>\n",
              "  <tbody>\n",
              "    <tr>\n",
              "      <td>0</td>\n",
              "      <td>0.366050</td>\n",
              "      <td>0.354872</td>\n",
              "      <td>0.836763</td>\n",
              "      <td>00:05</td>\n",
              "    </tr>\n",
              "    <tr>\n",
              "      <td>1</td>\n",
              "      <td>0.361104</td>\n",
              "      <td>0.343797</td>\n",
              "      <td>0.844595</td>\n",
              "      <td>00:04</td>\n",
              "    </tr>\n",
              "    <tr>\n",
              "      <td>2</td>\n",
              "      <td>0.348393</td>\n",
              "      <td>0.341380</td>\n",
              "      <td>0.844287</td>\n",
              "      <td>00:04</td>\n",
              "    </tr>\n",
              "  </tbody>\n",
              "</table>"
            ],
            "text/plain": [
              "<IPython.core.display.HTML object>"
            ]
          },
          "metadata": {
            "tags": []
          }
        }
      ]
    }
  ]
}