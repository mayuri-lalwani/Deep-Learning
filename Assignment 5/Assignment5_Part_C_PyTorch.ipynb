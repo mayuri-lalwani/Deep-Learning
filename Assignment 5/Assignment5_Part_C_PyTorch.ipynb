{
  "nbformat": 4,
  "nbformat_minor": 0,
  "metadata": {
    "colab": {
      "name": "Assignment5_Part_C_PyTorch.ipynb",
      "provenance": [],
      "collapsed_sections": []
    },
    "kernelspec": {
      "name": "python3",
      "display_name": "Python 3"
    },
    "accelerator": "GPU",
    "widgets": {
      "application/vnd.jupyter.widget-state+json": {
        "e90518d07f5d496db7c19b852b173211": {
          "model_module": "@jupyter-widgets/controls",
          "model_name": "HBoxModel",
          "state": {
            "_view_name": "HBoxView",
            "_dom_classes": [],
            "_model_name": "HBoxModel",
            "_view_module": "@jupyter-widgets/controls",
            "_model_module_version": "1.5.0",
            "_view_count": null,
            "_view_module_version": "1.5.0",
            "box_style": "",
            "layout": "IPY_MODEL_ee79b6e9781240c08e12be13b36a7f17",
            "_model_module": "@jupyter-widgets/controls",
            "children": [
              "IPY_MODEL_e6ab9a81357b419b9aea2cdf0a393e6e",
              "IPY_MODEL_7921485655514c1eaa6bc40a886eea06"
            ]
          }
        },
        "ee79b6e9781240c08e12be13b36a7f17": {
          "model_module": "@jupyter-widgets/base",
          "model_name": "LayoutModel",
          "state": {
            "_view_name": "LayoutView",
            "grid_template_rows": null,
            "right": null,
            "justify_content": null,
            "_view_module": "@jupyter-widgets/base",
            "overflow": null,
            "_model_module_version": "1.2.0",
            "_view_count": null,
            "flex_flow": null,
            "width": null,
            "min_width": null,
            "border": null,
            "align_items": null,
            "bottom": null,
            "_model_module": "@jupyter-widgets/base",
            "top": null,
            "grid_column": null,
            "overflow_y": null,
            "overflow_x": null,
            "grid_auto_flow": null,
            "grid_area": null,
            "grid_template_columns": null,
            "flex": null,
            "_model_name": "LayoutModel",
            "justify_items": null,
            "grid_row": null,
            "max_height": null,
            "align_content": null,
            "visibility": null,
            "align_self": null,
            "height": null,
            "min_height": null,
            "padding": null,
            "grid_auto_rows": null,
            "grid_gap": null,
            "max_width": null,
            "order": null,
            "_view_module_version": "1.2.0",
            "grid_template_areas": null,
            "object_position": null,
            "object_fit": null,
            "grid_auto_columns": null,
            "margin": null,
            "display": null,
            "left": null
          }
        },
        "e6ab9a81357b419b9aea2cdf0a393e6e": {
          "model_module": "@jupyter-widgets/controls",
          "model_name": "FloatProgressModel",
          "state": {
            "_view_name": "ProgressView",
            "style": "IPY_MODEL_c20003acd16f453da38b423b946279ae",
            "_dom_classes": [],
            "description": "100%",
            "_model_name": "FloatProgressModel",
            "bar_style": "success",
            "max": 20,
            "_view_module": "@jupyter-widgets/controls",
            "_model_module_version": "1.5.0",
            "value": 20,
            "_view_count": null,
            "_view_module_version": "1.5.0",
            "orientation": "horizontal",
            "min": 0,
            "description_tooltip": null,
            "_model_module": "@jupyter-widgets/controls",
            "layout": "IPY_MODEL_4fff1c35a3a1490a95d9fc371213387a"
          }
        },
        "7921485655514c1eaa6bc40a886eea06": {
          "model_module": "@jupyter-widgets/controls",
          "model_name": "HTMLModel",
          "state": {
            "_view_name": "HTMLView",
            "style": "IPY_MODEL_c9d8d42f096049fba7b1f48119c4f094",
            "_dom_classes": [],
            "description": "",
            "_model_name": "HTMLModel",
            "placeholder": "​",
            "_view_module": "@jupyter-widgets/controls",
            "_model_module_version": "1.5.0",
            "value": " 20/20 [02:52&lt;00:00,  8.64s/it]",
            "_view_count": null,
            "_view_module_version": "1.5.0",
            "description_tooltip": null,
            "_model_module": "@jupyter-widgets/controls",
            "layout": "IPY_MODEL_7308375b0a6646d78b7846920e35c872"
          }
        },
        "c20003acd16f453da38b423b946279ae": {
          "model_module": "@jupyter-widgets/controls",
          "model_name": "ProgressStyleModel",
          "state": {
            "_view_name": "StyleView",
            "_model_name": "ProgressStyleModel",
            "description_width": "initial",
            "_view_module": "@jupyter-widgets/base",
            "_model_module_version": "1.5.0",
            "_view_count": null,
            "_view_module_version": "1.2.0",
            "bar_color": null,
            "_model_module": "@jupyter-widgets/controls"
          }
        },
        "4fff1c35a3a1490a95d9fc371213387a": {
          "model_module": "@jupyter-widgets/base",
          "model_name": "LayoutModel",
          "state": {
            "_view_name": "LayoutView",
            "grid_template_rows": null,
            "right": null,
            "justify_content": null,
            "_view_module": "@jupyter-widgets/base",
            "overflow": null,
            "_model_module_version": "1.2.0",
            "_view_count": null,
            "flex_flow": null,
            "width": null,
            "min_width": null,
            "border": null,
            "align_items": null,
            "bottom": null,
            "_model_module": "@jupyter-widgets/base",
            "top": null,
            "grid_column": null,
            "overflow_y": null,
            "overflow_x": null,
            "grid_auto_flow": null,
            "grid_area": null,
            "grid_template_columns": null,
            "flex": null,
            "_model_name": "LayoutModel",
            "justify_items": null,
            "grid_row": null,
            "max_height": null,
            "align_content": null,
            "visibility": null,
            "align_self": null,
            "height": null,
            "min_height": null,
            "padding": null,
            "grid_auto_rows": null,
            "grid_gap": null,
            "max_width": null,
            "order": null,
            "_view_module_version": "1.2.0",
            "grid_template_areas": null,
            "object_position": null,
            "object_fit": null,
            "grid_auto_columns": null,
            "margin": null,
            "display": null,
            "left": null
          }
        },
        "c9d8d42f096049fba7b1f48119c4f094": {
          "model_module": "@jupyter-widgets/controls",
          "model_name": "DescriptionStyleModel",
          "state": {
            "_view_name": "StyleView",
            "_model_name": "DescriptionStyleModel",
            "description_width": "",
            "_view_module": "@jupyter-widgets/base",
            "_model_module_version": "1.5.0",
            "_view_count": null,
            "_view_module_version": "1.2.0",
            "_model_module": "@jupyter-widgets/controls"
          }
        },
        "7308375b0a6646d78b7846920e35c872": {
          "model_module": "@jupyter-widgets/base",
          "model_name": "LayoutModel",
          "state": {
            "_view_name": "LayoutView",
            "grid_template_rows": null,
            "right": null,
            "justify_content": null,
            "_view_module": "@jupyter-widgets/base",
            "overflow": null,
            "_model_module_version": "1.2.0",
            "_view_count": null,
            "flex_flow": null,
            "width": null,
            "min_width": null,
            "border": null,
            "align_items": null,
            "bottom": null,
            "_model_module": "@jupyter-widgets/base",
            "top": null,
            "grid_column": null,
            "overflow_y": null,
            "overflow_x": null,
            "grid_auto_flow": null,
            "grid_area": null,
            "grid_template_columns": null,
            "flex": null,
            "_model_name": "LayoutModel",
            "justify_items": null,
            "grid_row": null,
            "max_height": null,
            "align_content": null,
            "visibility": null,
            "align_self": null,
            "height": null,
            "min_height": null,
            "padding": null,
            "grid_auto_rows": null,
            "grid_gap": null,
            "max_width": null,
            "order": null,
            "_view_module_version": "1.2.0",
            "grid_template_areas": null,
            "object_position": null,
            "object_fit": null,
            "grid_auto_columns": null,
            "margin": null,
            "display": null,
            "left": null
          }
        },
        "352f566ba8f5464ca84d033584a13040": {
          "model_module": "@jupyter-widgets/controls",
          "model_name": "HBoxModel",
          "state": {
            "_view_name": "HBoxView",
            "_dom_classes": [],
            "_model_name": "HBoxModel",
            "_view_module": "@jupyter-widgets/controls",
            "_model_module_version": "1.5.0",
            "_view_count": null,
            "_view_module_version": "1.5.0",
            "box_style": "",
            "layout": "IPY_MODEL_6a21c4cf2e0346e89e9d4dfde4e62aa9",
            "_model_module": "@jupyter-widgets/controls",
            "children": [
              "IPY_MODEL_72e361930793472ca1e3bfbf19ea397c",
              "IPY_MODEL_0915660b5b1743a084c86e01a018b6a5"
            ]
          }
        },
        "6a21c4cf2e0346e89e9d4dfde4e62aa9": {
          "model_module": "@jupyter-widgets/base",
          "model_name": "LayoutModel",
          "state": {
            "_view_name": "LayoutView",
            "grid_template_rows": null,
            "right": null,
            "justify_content": null,
            "_view_module": "@jupyter-widgets/base",
            "overflow": null,
            "_model_module_version": "1.2.0",
            "_view_count": null,
            "flex_flow": null,
            "width": null,
            "min_width": null,
            "border": null,
            "align_items": null,
            "bottom": null,
            "_model_module": "@jupyter-widgets/base",
            "top": null,
            "grid_column": null,
            "overflow_y": null,
            "overflow_x": null,
            "grid_auto_flow": null,
            "grid_area": null,
            "grid_template_columns": null,
            "flex": null,
            "_model_name": "LayoutModel",
            "justify_items": null,
            "grid_row": null,
            "max_height": null,
            "align_content": null,
            "visibility": null,
            "align_self": null,
            "height": null,
            "min_height": null,
            "padding": null,
            "grid_auto_rows": null,
            "grid_gap": null,
            "max_width": null,
            "order": null,
            "_view_module_version": "1.2.0",
            "grid_template_areas": null,
            "object_position": null,
            "object_fit": null,
            "grid_auto_columns": null,
            "margin": null,
            "display": null,
            "left": null
          }
        },
        "72e361930793472ca1e3bfbf19ea397c": {
          "model_module": "@jupyter-widgets/controls",
          "model_name": "FloatProgressModel",
          "state": {
            "_view_name": "ProgressView",
            "style": "IPY_MODEL_92ca2c302a42441f95358fa1067c8c02",
            "_dom_classes": [],
            "description": "Epoch 0: 100%",
            "_model_name": "FloatProgressModel",
            "bar_style": "",
            "max": 563,
            "_view_module": "@jupyter-widgets/controls",
            "_model_module_version": "1.5.0",
            "value": 563,
            "_view_count": null,
            "_view_module_version": "1.5.0",
            "orientation": "horizontal",
            "min": 0,
            "description_tooltip": null,
            "_model_module": "@jupyter-widgets/controls",
            "layout": "IPY_MODEL_9641612492334f1297c30cbc909c5a5d"
          }
        },
        "0915660b5b1743a084c86e01a018b6a5": {
          "model_module": "@jupyter-widgets/controls",
          "model_name": "HTMLModel",
          "state": {
            "_view_name": "HTMLView",
            "style": "IPY_MODEL_b51f0b5066274c2f9813ea0ca1049cb0",
            "_dom_classes": [],
            "description": "",
            "_model_name": "HTMLModel",
            "placeholder": "​",
            "_view_module": "@jupyter-widgets/controls",
            "_model_module_version": "1.5.0",
            "value": " 563/563 [00:07&lt;00:00, 78.46it/s, loss=0.0943]",
            "_view_count": null,
            "_view_module_version": "1.5.0",
            "description_tooltip": null,
            "_model_module": "@jupyter-widgets/controls",
            "layout": "IPY_MODEL_edd3d1ab196a49cca3a8d483072c7205"
          }
        },
        "92ca2c302a42441f95358fa1067c8c02": {
          "model_module": "@jupyter-widgets/controls",
          "model_name": "ProgressStyleModel",
          "state": {
            "_view_name": "StyleView",
            "_model_name": "ProgressStyleModel",
            "description_width": "initial",
            "_view_module": "@jupyter-widgets/base",
            "_model_module_version": "1.5.0",
            "_view_count": null,
            "_view_module_version": "1.2.0",
            "bar_color": null,
            "_model_module": "@jupyter-widgets/controls"
          }
        },
        "9641612492334f1297c30cbc909c5a5d": {
          "model_module": "@jupyter-widgets/base",
          "model_name": "LayoutModel",
          "state": {
            "_view_name": "LayoutView",
            "grid_template_rows": null,
            "right": null,
            "justify_content": null,
            "_view_module": "@jupyter-widgets/base",
            "overflow": null,
            "_model_module_version": "1.2.0",
            "_view_count": null,
            "flex_flow": null,
            "width": null,
            "min_width": null,
            "border": null,
            "align_items": null,
            "bottom": null,
            "_model_module": "@jupyter-widgets/base",
            "top": null,
            "grid_column": null,
            "overflow_y": null,
            "overflow_x": null,
            "grid_auto_flow": null,
            "grid_area": null,
            "grid_template_columns": null,
            "flex": null,
            "_model_name": "LayoutModel",
            "justify_items": null,
            "grid_row": null,
            "max_height": null,
            "align_content": null,
            "visibility": null,
            "align_self": null,
            "height": null,
            "min_height": null,
            "padding": null,
            "grid_auto_rows": null,
            "grid_gap": null,
            "max_width": null,
            "order": null,
            "_view_module_version": "1.2.0",
            "grid_template_areas": null,
            "object_position": null,
            "object_fit": null,
            "grid_auto_columns": null,
            "margin": null,
            "display": null,
            "left": null
          }
        },
        "b51f0b5066274c2f9813ea0ca1049cb0": {
          "model_module": "@jupyter-widgets/controls",
          "model_name": "DescriptionStyleModel",
          "state": {
            "_view_name": "StyleView",
            "_model_name": "DescriptionStyleModel",
            "description_width": "",
            "_view_module": "@jupyter-widgets/base",
            "_model_module_version": "1.5.0",
            "_view_count": null,
            "_view_module_version": "1.2.0",
            "_model_module": "@jupyter-widgets/controls"
          }
        },
        "edd3d1ab196a49cca3a8d483072c7205": {
          "model_module": "@jupyter-widgets/base",
          "model_name": "LayoutModel",
          "state": {
            "_view_name": "LayoutView",
            "grid_template_rows": null,
            "right": null,
            "justify_content": null,
            "_view_module": "@jupyter-widgets/base",
            "overflow": null,
            "_model_module_version": "1.2.0",
            "_view_count": null,
            "flex_flow": null,
            "width": null,
            "min_width": null,
            "border": null,
            "align_items": null,
            "bottom": null,
            "_model_module": "@jupyter-widgets/base",
            "top": null,
            "grid_column": null,
            "overflow_y": null,
            "overflow_x": null,
            "grid_auto_flow": null,
            "grid_area": null,
            "grid_template_columns": null,
            "flex": null,
            "_model_name": "LayoutModel",
            "justify_items": null,
            "grid_row": null,
            "max_height": null,
            "align_content": null,
            "visibility": null,
            "align_self": null,
            "height": null,
            "min_height": null,
            "padding": null,
            "grid_auto_rows": null,
            "grid_gap": null,
            "max_width": null,
            "order": null,
            "_view_module_version": "1.2.0",
            "grid_template_areas": null,
            "object_position": null,
            "object_fit": null,
            "grid_auto_columns": null,
            "margin": null,
            "display": null,
            "left": null
          }
        },
        "1f325d007ba6477eadaca1e2818b40fa": {
          "model_module": "@jupyter-widgets/controls",
          "model_name": "HBoxModel",
          "state": {
            "_view_name": "HBoxView",
            "_dom_classes": [],
            "_model_name": "HBoxModel",
            "_view_module": "@jupyter-widgets/controls",
            "_model_module_version": "1.5.0",
            "_view_count": null,
            "_view_module_version": "1.5.0",
            "box_style": "",
            "layout": "IPY_MODEL_4973c8178c5241bda623a04346925b03",
            "_model_module": "@jupyter-widgets/controls",
            "children": [
              "IPY_MODEL_9b7e256c90474af2af0c1cdd9415b05f",
              "IPY_MODEL_d53799e2036a4244b407038b6fb32c1d"
            ]
          }
        },
        "4973c8178c5241bda623a04346925b03": {
          "model_module": "@jupyter-widgets/base",
          "model_name": "LayoutModel",
          "state": {
            "_view_name": "LayoutView",
            "grid_template_rows": null,
            "right": null,
            "justify_content": null,
            "_view_module": "@jupyter-widgets/base",
            "overflow": null,
            "_model_module_version": "1.2.0",
            "_view_count": null,
            "flex_flow": null,
            "width": null,
            "min_width": null,
            "border": null,
            "align_items": null,
            "bottom": null,
            "_model_module": "@jupyter-widgets/base",
            "top": null,
            "grid_column": null,
            "overflow_y": null,
            "overflow_x": null,
            "grid_auto_flow": null,
            "grid_area": null,
            "grid_template_columns": null,
            "flex": null,
            "_model_name": "LayoutModel",
            "justify_items": null,
            "grid_row": null,
            "max_height": null,
            "align_content": null,
            "visibility": null,
            "align_self": null,
            "height": null,
            "min_height": null,
            "padding": null,
            "grid_auto_rows": null,
            "grid_gap": null,
            "max_width": null,
            "order": null,
            "_view_module_version": "1.2.0",
            "grid_template_areas": null,
            "object_position": null,
            "object_fit": null,
            "grid_auto_columns": null,
            "margin": null,
            "display": null,
            "left": null
          }
        },
        "9b7e256c90474af2af0c1cdd9415b05f": {
          "model_module": "@jupyter-widgets/controls",
          "model_name": "FloatProgressModel",
          "state": {
            "_view_name": "ProgressView",
            "style": "IPY_MODEL_1a0240456f16414b85d79f7998c683f6",
            "_dom_classes": [],
            "description": "100%",
            "_model_name": "FloatProgressModel",
            "bar_style": "",
            "max": 141,
            "_view_module": "@jupyter-widgets/controls",
            "_model_module_version": "1.5.0",
            "value": 141,
            "_view_count": null,
            "_view_module_version": "1.5.0",
            "orientation": "horizontal",
            "min": 0,
            "description_tooltip": null,
            "_model_module": "@jupyter-widgets/controls",
            "layout": "IPY_MODEL_35abd48aa900449ab51c71268ad140a4"
          }
        },
        "d53799e2036a4244b407038b6fb32c1d": {
          "model_module": "@jupyter-widgets/controls",
          "model_name": "HTMLModel",
          "state": {
            "_view_name": "HTMLView",
            "style": "IPY_MODEL_6b433761af3c4c4b83f742f5d8996037",
            "_dom_classes": [],
            "description": "",
            "_model_name": "HTMLModel",
            "placeholder": "​",
            "_view_module": "@jupyter-widgets/controls",
            "_model_module_version": "1.5.0",
            "value": " 141/141 [00:00&lt;00:00, 210.99it/s]",
            "_view_count": null,
            "_view_module_version": "1.5.0",
            "description_tooltip": null,
            "_model_module": "@jupyter-widgets/controls",
            "layout": "IPY_MODEL_55660ea8ba6840609fd32f6e17bd98c4"
          }
        },
        "1a0240456f16414b85d79f7998c683f6": {
          "model_module": "@jupyter-widgets/controls",
          "model_name": "ProgressStyleModel",
          "state": {
            "_view_name": "StyleView",
            "_model_name": "ProgressStyleModel",
            "description_width": "initial",
            "_view_module": "@jupyter-widgets/base",
            "_model_module_version": "1.5.0",
            "_view_count": null,
            "_view_module_version": "1.2.0",
            "bar_color": null,
            "_model_module": "@jupyter-widgets/controls"
          }
        },
        "35abd48aa900449ab51c71268ad140a4": {
          "model_module": "@jupyter-widgets/base",
          "model_name": "LayoutModel",
          "state": {
            "_view_name": "LayoutView",
            "grid_template_rows": null,
            "right": null,
            "justify_content": null,
            "_view_module": "@jupyter-widgets/base",
            "overflow": null,
            "_model_module_version": "1.2.0",
            "_view_count": null,
            "flex_flow": null,
            "width": null,
            "min_width": null,
            "border": null,
            "align_items": null,
            "bottom": null,
            "_model_module": "@jupyter-widgets/base",
            "top": null,
            "grid_column": null,
            "overflow_y": null,
            "overflow_x": null,
            "grid_auto_flow": null,
            "grid_area": null,
            "grid_template_columns": null,
            "flex": null,
            "_model_name": "LayoutModel",
            "justify_items": null,
            "grid_row": null,
            "max_height": null,
            "align_content": null,
            "visibility": null,
            "align_self": null,
            "height": null,
            "min_height": null,
            "padding": null,
            "grid_auto_rows": null,
            "grid_gap": null,
            "max_width": null,
            "order": null,
            "_view_module_version": "1.2.0",
            "grid_template_areas": null,
            "object_position": null,
            "object_fit": null,
            "grid_auto_columns": null,
            "margin": null,
            "display": null,
            "left": null
          }
        },
        "6b433761af3c4c4b83f742f5d8996037": {
          "model_module": "@jupyter-widgets/controls",
          "model_name": "DescriptionStyleModel",
          "state": {
            "_view_name": "StyleView",
            "_model_name": "DescriptionStyleModel",
            "description_width": "",
            "_view_module": "@jupyter-widgets/base",
            "_model_module_version": "1.5.0",
            "_view_count": null,
            "_view_module_version": "1.2.0",
            "_model_module": "@jupyter-widgets/controls"
          }
        },
        "55660ea8ba6840609fd32f6e17bd98c4": {
          "model_module": "@jupyter-widgets/base",
          "model_name": "LayoutModel",
          "state": {
            "_view_name": "LayoutView",
            "grid_template_rows": null,
            "right": null,
            "justify_content": null,
            "_view_module": "@jupyter-widgets/base",
            "overflow": null,
            "_model_module_version": "1.2.0",
            "_view_count": null,
            "flex_flow": null,
            "width": null,
            "min_width": null,
            "border": null,
            "align_items": null,
            "bottom": null,
            "_model_module": "@jupyter-widgets/base",
            "top": null,
            "grid_column": null,
            "overflow_y": null,
            "overflow_x": null,
            "grid_auto_flow": null,
            "grid_area": null,
            "grid_template_columns": null,
            "flex": null,
            "_model_name": "LayoutModel",
            "justify_items": null,
            "grid_row": null,
            "max_height": null,
            "align_content": null,
            "visibility": null,
            "align_self": null,
            "height": null,
            "min_height": null,
            "padding": null,
            "grid_auto_rows": null,
            "grid_gap": null,
            "max_width": null,
            "order": null,
            "_view_module_version": "1.2.0",
            "grid_template_areas": null,
            "object_position": null,
            "object_fit": null,
            "grid_auto_columns": null,
            "margin": null,
            "display": null,
            "left": null
          }
        },
        "fb3ce7ab3d194a4782290d933df9edf1": {
          "model_module": "@jupyter-widgets/controls",
          "model_name": "HBoxModel",
          "state": {
            "_view_name": "HBoxView",
            "_dom_classes": [],
            "_model_name": "HBoxModel",
            "_view_module": "@jupyter-widgets/controls",
            "_model_module_version": "1.5.0",
            "_view_count": null,
            "_view_module_version": "1.5.0",
            "box_style": "",
            "layout": "IPY_MODEL_7ba6c6e6a5e9412792d033eea855ddf0",
            "_model_module": "@jupyter-widgets/controls",
            "children": [
              "IPY_MODEL_7299fc8fe6a1486f835ec47f696549a0",
              "IPY_MODEL_99fbb0f9efb04916a0d72c96a66fecfc"
            ]
          }
        },
        "7ba6c6e6a5e9412792d033eea855ddf0": {
          "model_module": "@jupyter-widgets/base",
          "model_name": "LayoutModel",
          "state": {
            "_view_name": "LayoutView",
            "grid_template_rows": null,
            "right": null,
            "justify_content": null,
            "_view_module": "@jupyter-widgets/base",
            "overflow": null,
            "_model_module_version": "1.2.0",
            "_view_count": null,
            "flex_flow": null,
            "width": null,
            "min_width": null,
            "border": null,
            "align_items": null,
            "bottom": null,
            "_model_module": "@jupyter-widgets/base",
            "top": null,
            "grid_column": null,
            "overflow_y": null,
            "overflow_x": null,
            "grid_auto_flow": null,
            "grid_area": null,
            "grid_template_columns": null,
            "flex": null,
            "_model_name": "LayoutModel",
            "justify_items": null,
            "grid_row": null,
            "max_height": null,
            "align_content": null,
            "visibility": null,
            "align_self": null,
            "height": null,
            "min_height": null,
            "padding": null,
            "grid_auto_rows": null,
            "grid_gap": null,
            "max_width": null,
            "order": null,
            "_view_module_version": "1.2.0",
            "grid_template_areas": null,
            "object_position": null,
            "object_fit": null,
            "grid_auto_columns": null,
            "margin": null,
            "display": null,
            "left": null
          }
        },
        "7299fc8fe6a1486f835ec47f696549a0": {
          "model_module": "@jupyter-widgets/controls",
          "model_name": "FloatProgressModel",
          "state": {
            "_view_name": "ProgressView",
            "style": "IPY_MODEL_1800e36b796e4bd5b2f2b1e088c3d205",
            "_dom_classes": [],
            "description": "Epoch 1: 100%",
            "_model_name": "FloatProgressModel",
            "bar_style": "",
            "max": 563,
            "_view_module": "@jupyter-widgets/controls",
            "_model_module_version": "1.5.0",
            "value": 563,
            "_view_count": null,
            "_view_module_version": "1.5.0",
            "orientation": "horizontal",
            "min": 0,
            "description_tooltip": null,
            "_model_module": "@jupyter-widgets/controls",
            "layout": "IPY_MODEL_8fe1222b13744208a0cf428f74e0db45"
          }
        },
        "99fbb0f9efb04916a0d72c96a66fecfc": {
          "model_module": "@jupyter-widgets/controls",
          "model_name": "HTMLModel",
          "state": {
            "_view_name": "HTMLView",
            "style": "IPY_MODEL_af34bc6847d9495d8ff387d5f079674e",
            "_dom_classes": [],
            "description": "",
            "_model_name": "HTMLModel",
            "placeholder": "​",
            "_view_module": "@jupyter-widgets/controls",
            "_model_module_version": "1.5.0",
            "value": " 563/563 [00:07&lt;00:00, 73.76it/s, loss=0.0752]",
            "_view_count": null,
            "_view_module_version": "1.5.0",
            "description_tooltip": null,
            "_model_module": "@jupyter-widgets/controls",
            "layout": "IPY_MODEL_9a41c88413bc48608d17dc92f0a54c48"
          }
        },
        "1800e36b796e4bd5b2f2b1e088c3d205": {
          "model_module": "@jupyter-widgets/controls",
          "model_name": "ProgressStyleModel",
          "state": {
            "_view_name": "StyleView",
            "_model_name": "ProgressStyleModel",
            "description_width": "initial",
            "_view_module": "@jupyter-widgets/base",
            "_model_module_version": "1.5.0",
            "_view_count": null,
            "_view_module_version": "1.2.0",
            "bar_color": null,
            "_model_module": "@jupyter-widgets/controls"
          }
        },
        "8fe1222b13744208a0cf428f74e0db45": {
          "model_module": "@jupyter-widgets/base",
          "model_name": "LayoutModel",
          "state": {
            "_view_name": "LayoutView",
            "grid_template_rows": null,
            "right": null,
            "justify_content": null,
            "_view_module": "@jupyter-widgets/base",
            "overflow": null,
            "_model_module_version": "1.2.0",
            "_view_count": null,
            "flex_flow": null,
            "width": null,
            "min_width": null,
            "border": null,
            "align_items": null,
            "bottom": null,
            "_model_module": "@jupyter-widgets/base",
            "top": null,
            "grid_column": null,
            "overflow_y": null,
            "overflow_x": null,
            "grid_auto_flow": null,
            "grid_area": null,
            "grid_template_columns": null,
            "flex": null,
            "_model_name": "LayoutModel",
            "justify_items": null,
            "grid_row": null,
            "max_height": null,
            "align_content": null,
            "visibility": null,
            "align_self": null,
            "height": null,
            "min_height": null,
            "padding": null,
            "grid_auto_rows": null,
            "grid_gap": null,
            "max_width": null,
            "order": null,
            "_view_module_version": "1.2.0",
            "grid_template_areas": null,
            "object_position": null,
            "object_fit": null,
            "grid_auto_columns": null,
            "margin": null,
            "display": null,
            "left": null
          }
        },
        "af34bc6847d9495d8ff387d5f079674e": {
          "model_module": "@jupyter-widgets/controls",
          "model_name": "DescriptionStyleModel",
          "state": {
            "_view_name": "StyleView",
            "_model_name": "DescriptionStyleModel",
            "description_width": "",
            "_view_module": "@jupyter-widgets/base",
            "_model_module_version": "1.5.0",
            "_view_count": null,
            "_view_module_version": "1.2.0",
            "_model_module": "@jupyter-widgets/controls"
          }
        },
        "9a41c88413bc48608d17dc92f0a54c48": {
          "model_module": "@jupyter-widgets/base",
          "model_name": "LayoutModel",
          "state": {
            "_view_name": "LayoutView",
            "grid_template_rows": null,
            "right": null,
            "justify_content": null,
            "_view_module": "@jupyter-widgets/base",
            "overflow": null,
            "_model_module_version": "1.2.0",
            "_view_count": null,
            "flex_flow": null,
            "width": null,
            "min_width": null,
            "border": null,
            "align_items": null,
            "bottom": null,
            "_model_module": "@jupyter-widgets/base",
            "top": null,
            "grid_column": null,
            "overflow_y": null,
            "overflow_x": null,
            "grid_auto_flow": null,
            "grid_area": null,
            "grid_template_columns": null,
            "flex": null,
            "_model_name": "LayoutModel",
            "justify_items": null,
            "grid_row": null,
            "max_height": null,
            "align_content": null,
            "visibility": null,
            "align_self": null,
            "height": null,
            "min_height": null,
            "padding": null,
            "grid_auto_rows": null,
            "grid_gap": null,
            "max_width": null,
            "order": null,
            "_view_module_version": "1.2.0",
            "grid_template_areas": null,
            "object_position": null,
            "object_fit": null,
            "grid_auto_columns": null,
            "margin": null,
            "display": null,
            "left": null
          }
        },
        "24ddbbda19ba4a4ab95c784a64b95907": {
          "model_module": "@jupyter-widgets/controls",
          "model_name": "HBoxModel",
          "state": {
            "_view_name": "HBoxView",
            "_dom_classes": [],
            "_model_name": "HBoxModel",
            "_view_module": "@jupyter-widgets/controls",
            "_model_module_version": "1.5.0",
            "_view_count": null,
            "_view_module_version": "1.5.0",
            "box_style": "",
            "layout": "IPY_MODEL_f269ddcc1f424a149bf173d297210f83",
            "_model_module": "@jupyter-widgets/controls",
            "children": [
              "IPY_MODEL_c8df20d0802a45ba95049290ae4f2447",
              "IPY_MODEL_7fc0357afc9f4e63847909f59c8f2fab"
            ]
          }
        },
        "f269ddcc1f424a149bf173d297210f83": {
          "model_module": "@jupyter-widgets/base",
          "model_name": "LayoutModel",
          "state": {
            "_view_name": "LayoutView",
            "grid_template_rows": null,
            "right": null,
            "justify_content": null,
            "_view_module": "@jupyter-widgets/base",
            "overflow": null,
            "_model_module_version": "1.2.0",
            "_view_count": null,
            "flex_flow": null,
            "width": null,
            "min_width": null,
            "border": null,
            "align_items": null,
            "bottom": null,
            "_model_module": "@jupyter-widgets/base",
            "top": null,
            "grid_column": null,
            "overflow_y": null,
            "overflow_x": null,
            "grid_auto_flow": null,
            "grid_area": null,
            "grid_template_columns": null,
            "flex": null,
            "_model_name": "LayoutModel",
            "justify_items": null,
            "grid_row": null,
            "max_height": null,
            "align_content": null,
            "visibility": null,
            "align_self": null,
            "height": null,
            "min_height": null,
            "padding": null,
            "grid_auto_rows": null,
            "grid_gap": null,
            "max_width": null,
            "order": null,
            "_view_module_version": "1.2.0",
            "grid_template_areas": null,
            "object_position": null,
            "object_fit": null,
            "grid_auto_columns": null,
            "margin": null,
            "display": null,
            "left": null
          }
        },
        "c8df20d0802a45ba95049290ae4f2447": {
          "model_module": "@jupyter-widgets/controls",
          "model_name": "FloatProgressModel",
          "state": {
            "_view_name": "ProgressView",
            "style": "IPY_MODEL_5ce7f86ae30f4290ae802110648cd5de",
            "_dom_classes": [],
            "description": "100%",
            "_model_name": "FloatProgressModel",
            "bar_style": "",
            "max": 141,
            "_view_module": "@jupyter-widgets/controls",
            "_model_module_version": "1.5.0",
            "value": 141,
            "_view_count": null,
            "_view_module_version": "1.5.0",
            "orientation": "horizontal",
            "min": 0,
            "description_tooltip": null,
            "_model_module": "@jupyter-widgets/controls",
            "layout": "IPY_MODEL_86d6424c76924126bf968b9cec5dab5b"
          }
        },
        "7fc0357afc9f4e63847909f59c8f2fab": {
          "model_module": "@jupyter-widgets/controls",
          "model_name": "HTMLModel",
          "state": {
            "_view_name": "HTMLView",
            "style": "IPY_MODEL_dc94a4e9de964a4ea2224e8c7a5aea65",
            "_dom_classes": [],
            "description": "",
            "_model_name": "HTMLModel",
            "placeholder": "​",
            "_view_module": "@jupyter-widgets/controls",
            "_model_module_version": "1.5.0",
            "value": " 141/141 [00:00&lt;00:00, 92.99it/s]",
            "_view_count": null,
            "_view_module_version": "1.5.0",
            "description_tooltip": null,
            "_model_module": "@jupyter-widgets/controls",
            "layout": "IPY_MODEL_d2afef8d26874695b8b59af3976499c8"
          }
        },
        "5ce7f86ae30f4290ae802110648cd5de": {
          "model_module": "@jupyter-widgets/controls",
          "model_name": "ProgressStyleModel",
          "state": {
            "_view_name": "StyleView",
            "_model_name": "ProgressStyleModel",
            "description_width": "initial",
            "_view_module": "@jupyter-widgets/base",
            "_model_module_version": "1.5.0",
            "_view_count": null,
            "_view_module_version": "1.2.0",
            "bar_color": null,
            "_model_module": "@jupyter-widgets/controls"
          }
        },
        "86d6424c76924126bf968b9cec5dab5b": {
          "model_module": "@jupyter-widgets/base",
          "model_name": "LayoutModel",
          "state": {
            "_view_name": "LayoutView",
            "grid_template_rows": null,
            "right": null,
            "justify_content": null,
            "_view_module": "@jupyter-widgets/base",
            "overflow": null,
            "_model_module_version": "1.2.0",
            "_view_count": null,
            "flex_flow": null,
            "width": null,
            "min_width": null,
            "border": null,
            "align_items": null,
            "bottom": null,
            "_model_module": "@jupyter-widgets/base",
            "top": null,
            "grid_column": null,
            "overflow_y": null,
            "overflow_x": null,
            "grid_auto_flow": null,
            "grid_area": null,
            "grid_template_columns": null,
            "flex": null,
            "_model_name": "LayoutModel",
            "justify_items": null,
            "grid_row": null,
            "max_height": null,
            "align_content": null,
            "visibility": null,
            "align_self": null,
            "height": null,
            "min_height": null,
            "padding": null,
            "grid_auto_rows": null,
            "grid_gap": null,
            "max_width": null,
            "order": null,
            "_view_module_version": "1.2.0",
            "grid_template_areas": null,
            "object_position": null,
            "object_fit": null,
            "grid_auto_columns": null,
            "margin": null,
            "display": null,
            "left": null
          }
        },
        "dc94a4e9de964a4ea2224e8c7a5aea65": {
          "model_module": "@jupyter-widgets/controls",
          "model_name": "DescriptionStyleModel",
          "state": {
            "_view_name": "StyleView",
            "_model_name": "DescriptionStyleModel",
            "description_width": "",
            "_view_module": "@jupyter-widgets/base",
            "_model_module_version": "1.5.0",
            "_view_count": null,
            "_view_module_version": "1.2.0",
            "_model_module": "@jupyter-widgets/controls"
          }
        },
        "d2afef8d26874695b8b59af3976499c8": {
          "model_module": "@jupyter-widgets/base",
          "model_name": "LayoutModel",
          "state": {
            "_view_name": "LayoutView",
            "grid_template_rows": null,
            "right": null,
            "justify_content": null,
            "_view_module": "@jupyter-widgets/base",
            "overflow": null,
            "_model_module_version": "1.2.0",
            "_view_count": null,
            "flex_flow": null,
            "width": null,
            "min_width": null,
            "border": null,
            "align_items": null,
            "bottom": null,
            "_model_module": "@jupyter-widgets/base",
            "top": null,
            "grid_column": null,
            "overflow_y": null,
            "overflow_x": null,
            "grid_auto_flow": null,
            "grid_area": null,
            "grid_template_columns": null,
            "flex": null,
            "_model_name": "LayoutModel",
            "justify_items": null,
            "grid_row": null,
            "max_height": null,
            "align_content": null,
            "visibility": null,
            "align_self": null,
            "height": null,
            "min_height": null,
            "padding": null,
            "grid_auto_rows": null,
            "grid_gap": null,
            "max_width": null,
            "order": null,
            "_view_module_version": "1.2.0",
            "grid_template_areas": null,
            "object_position": null,
            "object_fit": null,
            "grid_auto_columns": null,
            "margin": null,
            "display": null,
            "left": null
          }
        },
        "d5c9474d35a24550aec601e809c97971": {
          "model_module": "@jupyter-widgets/controls",
          "model_name": "HBoxModel",
          "state": {
            "_view_name": "HBoxView",
            "_dom_classes": [],
            "_model_name": "HBoxModel",
            "_view_module": "@jupyter-widgets/controls",
            "_model_module_version": "1.5.0",
            "_view_count": null,
            "_view_module_version": "1.5.0",
            "box_style": "",
            "layout": "IPY_MODEL_a4913960f0794a2190584183fe9ec555",
            "_model_module": "@jupyter-widgets/controls",
            "children": [
              "IPY_MODEL_9b6437eac9244649b84b8a493e356ab0",
              "IPY_MODEL_4709986a028d4f3fb0eb0d5c67cbda1e"
            ]
          }
        },
        "a4913960f0794a2190584183fe9ec555": {
          "model_module": "@jupyter-widgets/base",
          "model_name": "LayoutModel",
          "state": {
            "_view_name": "LayoutView",
            "grid_template_rows": null,
            "right": null,
            "justify_content": null,
            "_view_module": "@jupyter-widgets/base",
            "overflow": null,
            "_model_module_version": "1.2.0",
            "_view_count": null,
            "flex_flow": null,
            "width": null,
            "min_width": null,
            "border": null,
            "align_items": null,
            "bottom": null,
            "_model_module": "@jupyter-widgets/base",
            "top": null,
            "grid_column": null,
            "overflow_y": null,
            "overflow_x": null,
            "grid_auto_flow": null,
            "grid_area": null,
            "grid_template_columns": null,
            "flex": null,
            "_model_name": "LayoutModel",
            "justify_items": null,
            "grid_row": null,
            "max_height": null,
            "align_content": null,
            "visibility": null,
            "align_self": null,
            "height": null,
            "min_height": null,
            "padding": null,
            "grid_auto_rows": null,
            "grid_gap": null,
            "max_width": null,
            "order": null,
            "_view_module_version": "1.2.0",
            "grid_template_areas": null,
            "object_position": null,
            "object_fit": null,
            "grid_auto_columns": null,
            "margin": null,
            "display": null,
            "left": null
          }
        },
        "9b6437eac9244649b84b8a493e356ab0": {
          "model_module": "@jupyter-widgets/controls",
          "model_name": "FloatProgressModel",
          "state": {
            "_view_name": "ProgressView",
            "style": "IPY_MODEL_f42339ec4be04ad6aaf60bc666fd2e74",
            "_dom_classes": [],
            "description": "Epoch 2: 100%",
            "_model_name": "FloatProgressModel",
            "bar_style": "",
            "max": 563,
            "_view_module": "@jupyter-widgets/controls",
            "_model_module_version": "1.5.0",
            "value": 563,
            "_view_count": null,
            "_view_module_version": "1.5.0",
            "orientation": "horizontal",
            "min": 0,
            "description_tooltip": null,
            "_model_module": "@jupyter-widgets/controls",
            "layout": "IPY_MODEL_cfe6fa3154b143b1b0984158844e4d03"
          }
        },
        "4709986a028d4f3fb0eb0d5c67cbda1e": {
          "model_module": "@jupyter-widgets/controls",
          "model_name": "HTMLModel",
          "state": {
            "_view_name": "HTMLView",
            "style": "IPY_MODEL_f351e6f04fdb4f0a9f74c627ab353a05",
            "_dom_classes": [],
            "description": "",
            "_model_name": "HTMLModel",
            "placeholder": "​",
            "_view_module": "@jupyter-widgets/controls",
            "_model_module_version": "1.5.0",
            "value": " 563/563 [00:07&lt;00:00, 77.95it/s, loss=0.13]",
            "_view_count": null,
            "_view_module_version": "1.5.0",
            "description_tooltip": null,
            "_model_module": "@jupyter-widgets/controls",
            "layout": "IPY_MODEL_bb254026ce3d4828be6c8077429de57b"
          }
        },
        "f42339ec4be04ad6aaf60bc666fd2e74": {
          "model_module": "@jupyter-widgets/controls",
          "model_name": "ProgressStyleModel",
          "state": {
            "_view_name": "StyleView",
            "_model_name": "ProgressStyleModel",
            "description_width": "initial",
            "_view_module": "@jupyter-widgets/base",
            "_model_module_version": "1.5.0",
            "_view_count": null,
            "_view_module_version": "1.2.0",
            "bar_color": null,
            "_model_module": "@jupyter-widgets/controls"
          }
        },
        "cfe6fa3154b143b1b0984158844e4d03": {
          "model_module": "@jupyter-widgets/base",
          "model_name": "LayoutModel",
          "state": {
            "_view_name": "LayoutView",
            "grid_template_rows": null,
            "right": null,
            "justify_content": null,
            "_view_module": "@jupyter-widgets/base",
            "overflow": null,
            "_model_module_version": "1.2.0",
            "_view_count": null,
            "flex_flow": null,
            "width": null,
            "min_width": null,
            "border": null,
            "align_items": null,
            "bottom": null,
            "_model_module": "@jupyter-widgets/base",
            "top": null,
            "grid_column": null,
            "overflow_y": null,
            "overflow_x": null,
            "grid_auto_flow": null,
            "grid_area": null,
            "grid_template_columns": null,
            "flex": null,
            "_model_name": "LayoutModel",
            "justify_items": null,
            "grid_row": null,
            "max_height": null,
            "align_content": null,
            "visibility": null,
            "align_self": null,
            "height": null,
            "min_height": null,
            "padding": null,
            "grid_auto_rows": null,
            "grid_gap": null,
            "max_width": null,
            "order": null,
            "_view_module_version": "1.2.0",
            "grid_template_areas": null,
            "object_position": null,
            "object_fit": null,
            "grid_auto_columns": null,
            "margin": null,
            "display": null,
            "left": null
          }
        },
        "f351e6f04fdb4f0a9f74c627ab353a05": {
          "model_module": "@jupyter-widgets/controls",
          "model_name": "DescriptionStyleModel",
          "state": {
            "_view_name": "StyleView",
            "_model_name": "DescriptionStyleModel",
            "description_width": "",
            "_view_module": "@jupyter-widgets/base",
            "_model_module_version": "1.5.0",
            "_view_count": null,
            "_view_module_version": "1.2.0",
            "_model_module": "@jupyter-widgets/controls"
          }
        },
        "bb254026ce3d4828be6c8077429de57b": {
          "model_module": "@jupyter-widgets/base",
          "model_name": "LayoutModel",
          "state": {
            "_view_name": "LayoutView",
            "grid_template_rows": null,
            "right": null,
            "justify_content": null,
            "_view_module": "@jupyter-widgets/base",
            "overflow": null,
            "_model_module_version": "1.2.0",
            "_view_count": null,
            "flex_flow": null,
            "width": null,
            "min_width": null,
            "border": null,
            "align_items": null,
            "bottom": null,
            "_model_module": "@jupyter-widgets/base",
            "top": null,
            "grid_column": null,
            "overflow_y": null,
            "overflow_x": null,
            "grid_auto_flow": null,
            "grid_area": null,
            "grid_template_columns": null,
            "flex": null,
            "_model_name": "LayoutModel",
            "justify_items": null,
            "grid_row": null,
            "max_height": null,
            "align_content": null,
            "visibility": null,
            "align_self": null,
            "height": null,
            "min_height": null,
            "padding": null,
            "grid_auto_rows": null,
            "grid_gap": null,
            "max_width": null,
            "order": null,
            "_view_module_version": "1.2.0",
            "grid_template_areas": null,
            "object_position": null,
            "object_fit": null,
            "grid_auto_columns": null,
            "margin": null,
            "display": null,
            "left": null
          }
        },
        "1a23e38248db49ed8953f6f97080a040": {
          "model_module": "@jupyter-widgets/controls",
          "model_name": "HBoxModel",
          "state": {
            "_view_name": "HBoxView",
            "_dom_classes": [],
            "_model_name": "HBoxModel",
            "_view_module": "@jupyter-widgets/controls",
            "_model_module_version": "1.5.0",
            "_view_count": null,
            "_view_module_version": "1.5.0",
            "box_style": "",
            "layout": "IPY_MODEL_570f781b29e4413a8ca907c6777d793c",
            "_model_module": "@jupyter-widgets/controls",
            "children": [
              "IPY_MODEL_91ac370fa9784491ae3da69f21f55806",
              "IPY_MODEL_6de16904903a457d8e401acca4cf6c1d"
            ]
          }
        },
        "570f781b29e4413a8ca907c6777d793c": {
          "model_module": "@jupyter-widgets/base",
          "model_name": "LayoutModel",
          "state": {
            "_view_name": "LayoutView",
            "grid_template_rows": null,
            "right": null,
            "justify_content": null,
            "_view_module": "@jupyter-widgets/base",
            "overflow": null,
            "_model_module_version": "1.2.0",
            "_view_count": null,
            "flex_flow": null,
            "width": null,
            "min_width": null,
            "border": null,
            "align_items": null,
            "bottom": null,
            "_model_module": "@jupyter-widgets/base",
            "top": null,
            "grid_column": null,
            "overflow_y": null,
            "overflow_x": null,
            "grid_auto_flow": null,
            "grid_area": null,
            "grid_template_columns": null,
            "flex": null,
            "_model_name": "LayoutModel",
            "justify_items": null,
            "grid_row": null,
            "max_height": null,
            "align_content": null,
            "visibility": null,
            "align_self": null,
            "height": null,
            "min_height": null,
            "padding": null,
            "grid_auto_rows": null,
            "grid_gap": null,
            "max_width": null,
            "order": null,
            "_view_module_version": "1.2.0",
            "grid_template_areas": null,
            "object_position": null,
            "object_fit": null,
            "grid_auto_columns": null,
            "margin": null,
            "display": null,
            "left": null
          }
        },
        "91ac370fa9784491ae3da69f21f55806": {
          "model_module": "@jupyter-widgets/controls",
          "model_name": "FloatProgressModel",
          "state": {
            "_view_name": "ProgressView",
            "style": "IPY_MODEL_40953442fe2f419d9e1583bc933ad138",
            "_dom_classes": [],
            "description": "100%",
            "_model_name": "FloatProgressModel",
            "bar_style": "",
            "max": 141,
            "_view_module": "@jupyter-widgets/controls",
            "_model_module_version": "1.5.0",
            "value": 141,
            "_view_count": null,
            "_view_module_version": "1.5.0",
            "orientation": "horizontal",
            "min": 0,
            "description_tooltip": null,
            "_model_module": "@jupyter-widgets/controls",
            "layout": "IPY_MODEL_d4a0e041e7de468ca6c6cc12aee3bb3f"
          }
        },
        "6de16904903a457d8e401acca4cf6c1d": {
          "model_module": "@jupyter-widgets/controls",
          "model_name": "HTMLModel",
          "state": {
            "_view_name": "HTMLView",
            "style": "IPY_MODEL_a849ee306756433cb8b9e1d8e3e3a6d8",
            "_dom_classes": [],
            "description": "",
            "_model_name": "HTMLModel",
            "placeholder": "​",
            "_view_module": "@jupyter-widgets/controls",
            "_model_module_version": "1.5.0",
            "value": " 141/141 [00:00&lt;00:00, 165.74it/s]",
            "_view_count": null,
            "_view_module_version": "1.5.0",
            "description_tooltip": null,
            "_model_module": "@jupyter-widgets/controls",
            "layout": "IPY_MODEL_ad26afbfdfe947b783a382a9638b9351"
          }
        },
        "40953442fe2f419d9e1583bc933ad138": {
          "model_module": "@jupyter-widgets/controls",
          "model_name": "ProgressStyleModel",
          "state": {
            "_view_name": "StyleView",
            "_model_name": "ProgressStyleModel",
            "description_width": "initial",
            "_view_module": "@jupyter-widgets/base",
            "_model_module_version": "1.5.0",
            "_view_count": null,
            "_view_module_version": "1.2.0",
            "bar_color": null,
            "_model_module": "@jupyter-widgets/controls"
          }
        },
        "d4a0e041e7de468ca6c6cc12aee3bb3f": {
          "model_module": "@jupyter-widgets/base",
          "model_name": "LayoutModel",
          "state": {
            "_view_name": "LayoutView",
            "grid_template_rows": null,
            "right": null,
            "justify_content": null,
            "_view_module": "@jupyter-widgets/base",
            "overflow": null,
            "_model_module_version": "1.2.0",
            "_view_count": null,
            "flex_flow": null,
            "width": null,
            "min_width": null,
            "border": null,
            "align_items": null,
            "bottom": null,
            "_model_module": "@jupyter-widgets/base",
            "top": null,
            "grid_column": null,
            "overflow_y": null,
            "overflow_x": null,
            "grid_auto_flow": null,
            "grid_area": null,
            "grid_template_columns": null,
            "flex": null,
            "_model_name": "LayoutModel",
            "justify_items": null,
            "grid_row": null,
            "max_height": null,
            "align_content": null,
            "visibility": null,
            "align_self": null,
            "height": null,
            "min_height": null,
            "padding": null,
            "grid_auto_rows": null,
            "grid_gap": null,
            "max_width": null,
            "order": null,
            "_view_module_version": "1.2.0",
            "grid_template_areas": null,
            "object_position": null,
            "object_fit": null,
            "grid_auto_columns": null,
            "margin": null,
            "display": null,
            "left": null
          }
        },
        "a849ee306756433cb8b9e1d8e3e3a6d8": {
          "model_module": "@jupyter-widgets/controls",
          "model_name": "DescriptionStyleModel",
          "state": {
            "_view_name": "StyleView",
            "_model_name": "DescriptionStyleModel",
            "description_width": "",
            "_view_module": "@jupyter-widgets/base",
            "_model_module_version": "1.5.0",
            "_view_count": null,
            "_view_module_version": "1.2.0",
            "_model_module": "@jupyter-widgets/controls"
          }
        },
        "ad26afbfdfe947b783a382a9638b9351": {
          "model_module": "@jupyter-widgets/base",
          "model_name": "LayoutModel",
          "state": {
            "_view_name": "LayoutView",
            "grid_template_rows": null,
            "right": null,
            "justify_content": null,
            "_view_module": "@jupyter-widgets/base",
            "overflow": null,
            "_model_module_version": "1.2.0",
            "_view_count": null,
            "flex_flow": null,
            "width": null,
            "min_width": null,
            "border": null,
            "align_items": null,
            "bottom": null,
            "_model_module": "@jupyter-widgets/base",
            "top": null,
            "grid_column": null,
            "overflow_y": null,
            "overflow_x": null,
            "grid_auto_flow": null,
            "grid_area": null,
            "grid_template_columns": null,
            "flex": null,
            "_model_name": "LayoutModel",
            "justify_items": null,
            "grid_row": null,
            "max_height": null,
            "align_content": null,
            "visibility": null,
            "align_self": null,
            "height": null,
            "min_height": null,
            "padding": null,
            "grid_auto_rows": null,
            "grid_gap": null,
            "max_width": null,
            "order": null,
            "_view_module_version": "1.2.0",
            "grid_template_areas": null,
            "object_position": null,
            "object_fit": null,
            "grid_auto_columns": null,
            "margin": null,
            "display": null,
            "left": null
          }
        },
        "a0b570474fb64529be8ecc90c3adc827": {
          "model_module": "@jupyter-widgets/controls",
          "model_name": "HBoxModel",
          "state": {
            "_view_name": "HBoxView",
            "_dom_classes": [],
            "_model_name": "HBoxModel",
            "_view_module": "@jupyter-widgets/controls",
            "_model_module_version": "1.5.0",
            "_view_count": null,
            "_view_module_version": "1.5.0",
            "box_style": "",
            "layout": "IPY_MODEL_291f37979e1244ff9aae960fedd39945",
            "_model_module": "@jupyter-widgets/controls",
            "children": [
              "IPY_MODEL_3e195f01bb6f4626b72578d46d3bafdb",
              "IPY_MODEL_079dd1be993648a9a2b439e706f3311f"
            ]
          }
        },
        "291f37979e1244ff9aae960fedd39945": {
          "model_module": "@jupyter-widgets/base",
          "model_name": "LayoutModel",
          "state": {
            "_view_name": "LayoutView",
            "grid_template_rows": null,
            "right": null,
            "justify_content": null,
            "_view_module": "@jupyter-widgets/base",
            "overflow": null,
            "_model_module_version": "1.2.0",
            "_view_count": null,
            "flex_flow": null,
            "width": null,
            "min_width": null,
            "border": null,
            "align_items": null,
            "bottom": null,
            "_model_module": "@jupyter-widgets/base",
            "top": null,
            "grid_column": null,
            "overflow_y": null,
            "overflow_x": null,
            "grid_auto_flow": null,
            "grid_area": null,
            "grid_template_columns": null,
            "flex": null,
            "_model_name": "LayoutModel",
            "justify_items": null,
            "grid_row": null,
            "max_height": null,
            "align_content": null,
            "visibility": null,
            "align_self": null,
            "height": null,
            "min_height": null,
            "padding": null,
            "grid_auto_rows": null,
            "grid_gap": null,
            "max_width": null,
            "order": null,
            "_view_module_version": "1.2.0",
            "grid_template_areas": null,
            "object_position": null,
            "object_fit": null,
            "grid_auto_columns": null,
            "margin": null,
            "display": null,
            "left": null
          }
        },
        "3e195f01bb6f4626b72578d46d3bafdb": {
          "model_module": "@jupyter-widgets/controls",
          "model_name": "FloatProgressModel",
          "state": {
            "_view_name": "ProgressView",
            "style": "IPY_MODEL_9926218282154e289db144f38b959b56",
            "_dom_classes": [],
            "description": "Epoch 3: 100%",
            "_model_name": "FloatProgressModel",
            "bar_style": "",
            "max": 563,
            "_view_module": "@jupyter-widgets/controls",
            "_model_module_version": "1.5.0",
            "value": 563,
            "_view_count": null,
            "_view_module_version": "1.5.0",
            "orientation": "horizontal",
            "min": 0,
            "description_tooltip": null,
            "_model_module": "@jupyter-widgets/controls",
            "layout": "IPY_MODEL_40d639fcb7ca4f8199e736f87b933b7e"
          }
        },
        "079dd1be993648a9a2b439e706f3311f": {
          "model_module": "@jupyter-widgets/controls",
          "model_name": "HTMLModel",
          "state": {
            "_view_name": "HTMLView",
            "style": "IPY_MODEL_fd1cb5b47ebf43e0a4a0fb8cd1585f23",
            "_dom_classes": [],
            "description": "",
            "_model_name": "HTMLModel",
            "placeholder": "​",
            "_view_module": "@jupyter-widgets/controls",
            "_model_module_version": "1.5.0",
            "value": " 563/563 [00:07&lt;00:00, 76.98it/s, loss=0.0442]",
            "_view_count": null,
            "_view_module_version": "1.5.0",
            "description_tooltip": null,
            "_model_module": "@jupyter-widgets/controls",
            "layout": "IPY_MODEL_db178224c37e4c538809df846a63b19e"
          }
        },
        "9926218282154e289db144f38b959b56": {
          "model_module": "@jupyter-widgets/controls",
          "model_name": "ProgressStyleModel",
          "state": {
            "_view_name": "StyleView",
            "_model_name": "ProgressStyleModel",
            "description_width": "initial",
            "_view_module": "@jupyter-widgets/base",
            "_model_module_version": "1.5.0",
            "_view_count": null,
            "_view_module_version": "1.2.0",
            "bar_color": null,
            "_model_module": "@jupyter-widgets/controls"
          }
        },
        "40d639fcb7ca4f8199e736f87b933b7e": {
          "model_module": "@jupyter-widgets/base",
          "model_name": "LayoutModel",
          "state": {
            "_view_name": "LayoutView",
            "grid_template_rows": null,
            "right": null,
            "justify_content": null,
            "_view_module": "@jupyter-widgets/base",
            "overflow": null,
            "_model_module_version": "1.2.0",
            "_view_count": null,
            "flex_flow": null,
            "width": null,
            "min_width": null,
            "border": null,
            "align_items": null,
            "bottom": null,
            "_model_module": "@jupyter-widgets/base",
            "top": null,
            "grid_column": null,
            "overflow_y": null,
            "overflow_x": null,
            "grid_auto_flow": null,
            "grid_area": null,
            "grid_template_columns": null,
            "flex": null,
            "_model_name": "LayoutModel",
            "justify_items": null,
            "grid_row": null,
            "max_height": null,
            "align_content": null,
            "visibility": null,
            "align_self": null,
            "height": null,
            "min_height": null,
            "padding": null,
            "grid_auto_rows": null,
            "grid_gap": null,
            "max_width": null,
            "order": null,
            "_view_module_version": "1.2.0",
            "grid_template_areas": null,
            "object_position": null,
            "object_fit": null,
            "grid_auto_columns": null,
            "margin": null,
            "display": null,
            "left": null
          }
        },
        "fd1cb5b47ebf43e0a4a0fb8cd1585f23": {
          "model_module": "@jupyter-widgets/controls",
          "model_name": "DescriptionStyleModel",
          "state": {
            "_view_name": "StyleView",
            "_model_name": "DescriptionStyleModel",
            "description_width": "",
            "_view_module": "@jupyter-widgets/base",
            "_model_module_version": "1.5.0",
            "_view_count": null,
            "_view_module_version": "1.2.0",
            "_model_module": "@jupyter-widgets/controls"
          }
        },
        "db178224c37e4c538809df846a63b19e": {
          "model_module": "@jupyter-widgets/base",
          "model_name": "LayoutModel",
          "state": {
            "_view_name": "LayoutView",
            "grid_template_rows": null,
            "right": null,
            "justify_content": null,
            "_view_module": "@jupyter-widgets/base",
            "overflow": null,
            "_model_module_version": "1.2.0",
            "_view_count": null,
            "flex_flow": null,
            "width": null,
            "min_width": null,
            "border": null,
            "align_items": null,
            "bottom": null,
            "_model_module": "@jupyter-widgets/base",
            "top": null,
            "grid_column": null,
            "overflow_y": null,
            "overflow_x": null,
            "grid_auto_flow": null,
            "grid_area": null,
            "grid_template_columns": null,
            "flex": null,
            "_model_name": "LayoutModel",
            "justify_items": null,
            "grid_row": null,
            "max_height": null,
            "align_content": null,
            "visibility": null,
            "align_self": null,
            "height": null,
            "min_height": null,
            "padding": null,
            "grid_auto_rows": null,
            "grid_gap": null,
            "max_width": null,
            "order": null,
            "_view_module_version": "1.2.0",
            "grid_template_areas": null,
            "object_position": null,
            "object_fit": null,
            "grid_auto_columns": null,
            "margin": null,
            "display": null,
            "left": null
          }
        },
        "32b5448056134cf08fab984edfe3d922": {
          "model_module": "@jupyter-widgets/controls",
          "model_name": "HBoxModel",
          "state": {
            "_view_name": "HBoxView",
            "_dom_classes": [],
            "_model_name": "HBoxModel",
            "_view_module": "@jupyter-widgets/controls",
            "_model_module_version": "1.5.0",
            "_view_count": null,
            "_view_module_version": "1.5.0",
            "box_style": "",
            "layout": "IPY_MODEL_3c9fda5a7d8d4b2cb3a41ea848a8960d",
            "_model_module": "@jupyter-widgets/controls",
            "children": [
              "IPY_MODEL_9612c090fbf84ddd8d9dc8716439daf1",
              "IPY_MODEL_4fd50a1438af487290aee39a732d821d"
            ]
          }
        },
        "3c9fda5a7d8d4b2cb3a41ea848a8960d": {
          "model_module": "@jupyter-widgets/base",
          "model_name": "LayoutModel",
          "state": {
            "_view_name": "LayoutView",
            "grid_template_rows": null,
            "right": null,
            "justify_content": null,
            "_view_module": "@jupyter-widgets/base",
            "overflow": null,
            "_model_module_version": "1.2.0",
            "_view_count": null,
            "flex_flow": null,
            "width": null,
            "min_width": null,
            "border": null,
            "align_items": null,
            "bottom": null,
            "_model_module": "@jupyter-widgets/base",
            "top": null,
            "grid_column": null,
            "overflow_y": null,
            "overflow_x": null,
            "grid_auto_flow": null,
            "grid_area": null,
            "grid_template_columns": null,
            "flex": null,
            "_model_name": "LayoutModel",
            "justify_items": null,
            "grid_row": null,
            "max_height": null,
            "align_content": null,
            "visibility": null,
            "align_self": null,
            "height": null,
            "min_height": null,
            "padding": null,
            "grid_auto_rows": null,
            "grid_gap": null,
            "max_width": null,
            "order": null,
            "_view_module_version": "1.2.0",
            "grid_template_areas": null,
            "object_position": null,
            "object_fit": null,
            "grid_auto_columns": null,
            "margin": null,
            "display": null,
            "left": null
          }
        },
        "9612c090fbf84ddd8d9dc8716439daf1": {
          "model_module": "@jupyter-widgets/controls",
          "model_name": "FloatProgressModel",
          "state": {
            "_view_name": "ProgressView",
            "style": "IPY_MODEL_fa9981428cd44694ae1c7b7651046a41",
            "_dom_classes": [],
            "description": "100%",
            "_model_name": "FloatProgressModel",
            "bar_style": "",
            "max": 141,
            "_view_module": "@jupyter-widgets/controls",
            "_model_module_version": "1.5.0",
            "value": 141,
            "_view_count": null,
            "_view_module_version": "1.5.0",
            "orientation": "horizontal",
            "min": 0,
            "description_tooltip": null,
            "_model_module": "@jupyter-widgets/controls",
            "layout": "IPY_MODEL_6148fb997ef14843ad41ba53acee6ede"
          }
        },
        "4fd50a1438af487290aee39a732d821d": {
          "model_module": "@jupyter-widgets/controls",
          "model_name": "HTMLModel",
          "state": {
            "_view_name": "HTMLView",
            "style": "IPY_MODEL_a44c7401bea745a6be900785f389586c",
            "_dom_classes": [],
            "description": "",
            "_model_name": "HTMLModel",
            "placeholder": "​",
            "_view_module": "@jupyter-widgets/controls",
            "_model_module_version": "1.5.0",
            "value": " 141/141 [00:00&lt;00:00, 203.27it/s]",
            "_view_count": null,
            "_view_module_version": "1.5.0",
            "description_tooltip": null,
            "_model_module": "@jupyter-widgets/controls",
            "layout": "IPY_MODEL_82f2c4a0188242b1aecc7cbddca4d32e"
          }
        },
        "fa9981428cd44694ae1c7b7651046a41": {
          "model_module": "@jupyter-widgets/controls",
          "model_name": "ProgressStyleModel",
          "state": {
            "_view_name": "StyleView",
            "_model_name": "ProgressStyleModel",
            "description_width": "initial",
            "_view_module": "@jupyter-widgets/base",
            "_model_module_version": "1.5.0",
            "_view_count": null,
            "_view_module_version": "1.2.0",
            "bar_color": null,
            "_model_module": "@jupyter-widgets/controls"
          }
        },
        "6148fb997ef14843ad41ba53acee6ede": {
          "model_module": "@jupyter-widgets/base",
          "model_name": "LayoutModel",
          "state": {
            "_view_name": "LayoutView",
            "grid_template_rows": null,
            "right": null,
            "justify_content": null,
            "_view_module": "@jupyter-widgets/base",
            "overflow": null,
            "_model_module_version": "1.2.0",
            "_view_count": null,
            "flex_flow": null,
            "width": null,
            "min_width": null,
            "border": null,
            "align_items": null,
            "bottom": null,
            "_model_module": "@jupyter-widgets/base",
            "top": null,
            "grid_column": null,
            "overflow_y": null,
            "overflow_x": null,
            "grid_auto_flow": null,
            "grid_area": null,
            "grid_template_columns": null,
            "flex": null,
            "_model_name": "LayoutModel",
            "justify_items": null,
            "grid_row": null,
            "max_height": null,
            "align_content": null,
            "visibility": null,
            "align_self": null,
            "height": null,
            "min_height": null,
            "padding": null,
            "grid_auto_rows": null,
            "grid_gap": null,
            "max_width": null,
            "order": null,
            "_view_module_version": "1.2.0",
            "grid_template_areas": null,
            "object_position": null,
            "object_fit": null,
            "grid_auto_columns": null,
            "margin": null,
            "display": null,
            "left": null
          }
        },
        "a44c7401bea745a6be900785f389586c": {
          "model_module": "@jupyter-widgets/controls",
          "model_name": "DescriptionStyleModel",
          "state": {
            "_view_name": "StyleView",
            "_model_name": "DescriptionStyleModel",
            "description_width": "",
            "_view_module": "@jupyter-widgets/base",
            "_model_module_version": "1.5.0",
            "_view_count": null,
            "_view_module_version": "1.2.0",
            "_model_module": "@jupyter-widgets/controls"
          }
        },
        "82f2c4a0188242b1aecc7cbddca4d32e": {
          "model_module": "@jupyter-widgets/base",
          "model_name": "LayoutModel",
          "state": {
            "_view_name": "LayoutView",
            "grid_template_rows": null,
            "right": null,
            "justify_content": null,
            "_view_module": "@jupyter-widgets/base",
            "overflow": null,
            "_model_module_version": "1.2.0",
            "_view_count": null,
            "flex_flow": null,
            "width": null,
            "min_width": null,
            "border": null,
            "align_items": null,
            "bottom": null,
            "_model_module": "@jupyter-widgets/base",
            "top": null,
            "grid_column": null,
            "overflow_y": null,
            "overflow_x": null,
            "grid_auto_flow": null,
            "grid_area": null,
            "grid_template_columns": null,
            "flex": null,
            "_model_name": "LayoutModel",
            "justify_items": null,
            "grid_row": null,
            "max_height": null,
            "align_content": null,
            "visibility": null,
            "align_self": null,
            "height": null,
            "min_height": null,
            "padding": null,
            "grid_auto_rows": null,
            "grid_gap": null,
            "max_width": null,
            "order": null,
            "_view_module_version": "1.2.0",
            "grid_template_areas": null,
            "object_position": null,
            "object_fit": null,
            "grid_auto_columns": null,
            "margin": null,
            "display": null,
            "left": null
          }
        },
        "4fd4a6f73564467eabc20bd3b63267d9": {
          "model_module": "@jupyter-widgets/controls",
          "model_name": "HBoxModel",
          "state": {
            "_view_name": "HBoxView",
            "_dom_classes": [],
            "_model_name": "HBoxModel",
            "_view_module": "@jupyter-widgets/controls",
            "_model_module_version": "1.5.0",
            "_view_count": null,
            "_view_module_version": "1.5.0",
            "box_style": "",
            "layout": "IPY_MODEL_41871c2c1505417f8abc36e81caa1063",
            "_model_module": "@jupyter-widgets/controls",
            "children": [
              "IPY_MODEL_b11006f2f61a4a65b176b7f21fa1e410",
              "IPY_MODEL_4e525081899445b2823ea1319b4aaf43"
            ]
          }
        },
        "41871c2c1505417f8abc36e81caa1063": {
          "model_module": "@jupyter-widgets/base",
          "model_name": "LayoutModel",
          "state": {
            "_view_name": "LayoutView",
            "grid_template_rows": null,
            "right": null,
            "justify_content": null,
            "_view_module": "@jupyter-widgets/base",
            "overflow": null,
            "_model_module_version": "1.2.0",
            "_view_count": null,
            "flex_flow": null,
            "width": null,
            "min_width": null,
            "border": null,
            "align_items": null,
            "bottom": null,
            "_model_module": "@jupyter-widgets/base",
            "top": null,
            "grid_column": null,
            "overflow_y": null,
            "overflow_x": null,
            "grid_auto_flow": null,
            "grid_area": null,
            "grid_template_columns": null,
            "flex": null,
            "_model_name": "LayoutModel",
            "justify_items": null,
            "grid_row": null,
            "max_height": null,
            "align_content": null,
            "visibility": null,
            "align_self": null,
            "height": null,
            "min_height": null,
            "padding": null,
            "grid_auto_rows": null,
            "grid_gap": null,
            "max_width": null,
            "order": null,
            "_view_module_version": "1.2.0",
            "grid_template_areas": null,
            "object_position": null,
            "object_fit": null,
            "grid_auto_columns": null,
            "margin": null,
            "display": null,
            "left": null
          }
        },
        "b11006f2f61a4a65b176b7f21fa1e410": {
          "model_module": "@jupyter-widgets/controls",
          "model_name": "FloatProgressModel",
          "state": {
            "_view_name": "ProgressView",
            "style": "IPY_MODEL_0b9abdbed93b4b63b6ecd00761ec27a4",
            "_dom_classes": [],
            "description": "Epoch 4: 100%",
            "_model_name": "FloatProgressModel",
            "bar_style": "",
            "max": 563,
            "_view_module": "@jupyter-widgets/controls",
            "_model_module_version": "1.5.0",
            "value": 563,
            "_view_count": null,
            "_view_module_version": "1.5.0",
            "orientation": "horizontal",
            "min": 0,
            "description_tooltip": null,
            "_model_module": "@jupyter-widgets/controls",
            "layout": "IPY_MODEL_9bcae8c01eda434ab31b0735ceac743e"
          }
        },
        "4e525081899445b2823ea1319b4aaf43": {
          "model_module": "@jupyter-widgets/controls",
          "model_name": "HTMLModel",
          "state": {
            "_view_name": "HTMLView",
            "style": "IPY_MODEL_a2d5880c720041cf8b1116af558b5727",
            "_dom_classes": [],
            "description": "",
            "_model_name": "HTMLModel",
            "placeholder": "​",
            "_view_module": "@jupyter-widgets/controls",
            "_model_module_version": "1.5.0",
            "value": " 563/563 [00:07&lt;00:00, 74.39it/s, loss=0.0709]",
            "_view_count": null,
            "_view_module_version": "1.5.0",
            "description_tooltip": null,
            "_model_module": "@jupyter-widgets/controls",
            "layout": "IPY_MODEL_f406559e202541e4bd32f44db6cea0a7"
          }
        },
        "0b9abdbed93b4b63b6ecd00761ec27a4": {
          "model_module": "@jupyter-widgets/controls",
          "model_name": "ProgressStyleModel",
          "state": {
            "_view_name": "StyleView",
            "_model_name": "ProgressStyleModel",
            "description_width": "initial",
            "_view_module": "@jupyter-widgets/base",
            "_model_module_version": "1.5.0",
            "_view_count": null,
            "_view_module_version": "1.2.0",
            "bar_color": null,
            "_model_module": "@jupyter-widgets/controls"
          }
        },
        "9bcae8c01eda434ab31b0735ceac743e": {
          "model_module": "@jupyter-widgets/base",
          "model_name": "LayoutModel",
          "state": {
            "_view_name": "LayoutView",
            "grid_template_rows": null,
            "right": null,
            "justify_content": null,
            "_view_module": "@jupyter-widgets/base",
            "overflow": null,
            "_model_module_version": "1.2.0",
            "_view_count": null,
            "flex_flow": null,
            "width": null,
            "min_width": null,
            "border": null,
            "align_items": null,
            "bottom": null,
            "_model_module": "@jupyter-widgets/base",
            "top": null,
            "grid_column": null,
            "overflow_y": null,
            "overflow_x": null,
            "grid_auto_flow": null,
            "grid_area": null,
            "grid_template_columns": null,
            "flex": null,
            "_model_name": "LayoutModel",
            "justify_items": null,
            "grid_row": null,
            "max_height": null,
            "align_content": null,
            "visibility": null,
            "align_self": null,
            "height": null,
            "min_height": null,
            "padding": null,
            "grid_auto_rows": null,
            "grid_gap": null,
            "max_width": null,
            "order": null,
            "_view_module_version": "1.2.0",
            "grid_template_areas": null,
            "object_position": null,
            "object_fit": null,
            "grid_auto_columns": null,
            "margin": null,
            "display": null,
            "left": null
          }
        },
        "a2d5880c720041cf8b1116af558b5727": {
          "model_module": "@jupyter-widgets/controls",
          "model_name": "DescriptionStyleModel",
          "state": {
            "_view_name": "StyleView",
            "_model_name": "DescriptionStyleModel",
            "description_width": "",
            "_view_module": "@jupyter-widgets/base",
            "_model_module_version": "1.5.0",
            "_view_count": null,
            "_view_module_version": "1.2.0",
            "_model_module": "@jupyter-widgets/controls"
          }
        },
        "f406559e202541e4bd32f44db6cea0a7": {
          "model_module": "@jupyter-widgets/base",
          "model_name": "LayoutModel",
          "state": {
            "_view_name": "LayoutView",
            "grid_template_rows": null,
            "right": null,
            "justify_content": null,
            "_view_module": "@jupyter-widgets/base",
            "overflow": null,
            "_model_module_version": "1.2.0",
            "_view_count": null,
            "flex_flow": null,
            "width": null,
            "min_width": null,
            "border": null,
            "align_items": null,
            "bottom": null,
            "_model_module": "@jupyter-widgets/base",
            "top": null,
            "grid_column": null,
            "overflow_y": null,
            "overflow_x": null,
            "grid_auto_flow": null,
            "grid_area": null,
            "grid_template_columns": null,
            "flex": null,
            "_model_name": "LayoutModel",
            "justify_items": null,
            "grid_row": null,
            "max_height": null,
            "align_content": null,
            "visibility": null,
            "align_self": null,
            "height": null,
            "min_height": null,
            "padding": null,
            "grid_auto_rows": null,
            "grid_gap": null,
            "max_width": null,
            "order": null,
            "_view_module_version": "1.2.0",
            "grid_template_areas": null,
            "object_position": null,
            "object_fit": null,
            "grid_auto_columns": null,
            "margin": null,
            "display": null,
            "left": null
          }
        },
        "4b2c3b6a605e4adeb11bcef1bb88e3ec": {
          "model_module": "@jupyter-widgets/controls",
          "model_name": "HBoxModel",
          "state": {
            "_view_name": "HBoxView",
            "_dom_classes": [],
            "_model_name": "HBoxModel",
            "_view_module": "@jupyter-widgets/controls",
            "_model_module_version": "1.5.0",
            "_view_count": null,
            "_view_module_version": "1.5.0",
            "box_style": "",
            "layout": "IPY_MODEL_6b8f402dc98547358e6e69fed7719b68",
            "_model_module": "@jupyter-widgets/controls",
            "children": [
              "IPY_MODEL_ff771d2ebc58456a9bbdeb7824d59b5b",
              "IPY_MODEL_234e02e5b83b4abebad73e4d50154021"
            ]
          }
        },
        "6b8f402dc98547358e6e69fed7719b68": {
          "model_module": "@jupyter-widgets/base",
          "model_name": "LayoutModel",
          "state": {
            "_view_name": "LayoutView",
            "grid_template_rows": null,
            "right": null,
            "justify_content": null,
            "_view_module": "@jupyter-widgets/base",
            "overflow": null,
            "_model_module_version": "1.2.0",
            "_view_count": null,
            "flex_flow": null,
            "width": null,
            "min_width": null,
            "border": null,
            "align_items": null,
            "bottom": null,
            "_model_module": "@jupyter-widgets/base",
            "top": null,
            "grid_column": null,
            "overflow_y": null,
            "overflow_x": null,
            "grid_auto_flow": null,
            "grid_area": null,
            "grid_template_columns": null,
            "flex": null,
            "_model_name": "LayoutModel",
            "justify_items": null,
            "grid_row": null,
            "max_height": null,
            "align_content": null,
            "visibility": null,
            "align_self": null,
            "height": null,
            "min_height": null,
            "padding": null,
            "grid_auto_rows": null,
            "grid_gap": null,
            "max_width": null,
            "order": null,
            "_view_module_version": "1.2.0",
            "grid_template_areas": null,
            "object_position": null,
            "object_fit": null,
            "grid_auto_columns": null,
            "margin": null,
            "display": null,
            "left": null
          }
        },
        "ff771d2ebc58456a9bbdeb7824d59b5b": {
          "model_module": "@jupyter-widgets/controls",
          "model_name": "FloatProgressModel",
          "state": {
            "_view_name": "ProgressView",
            "style": "IPY_MODEL_301713c9460a4801a9e154b313c9e6a9",
            "_dom_classes": [],
            "description": "100%",
            "_model_name": "FloatProgressModel",
            "bar_style": "",
            "max": 141,
            "_view_module": "@jupyter-widgets/controls",
            "_model_module_version": "1.5.0",
            "value": 141,
            "_view_count": null,
            "_view_module_version": "1.5.0",
            "orientation": "horizontal",
            "min": 0,
            "description_tooltip": null,
            "_model_module": "@jupyter-widgets/controls",
            "layout": "IPY_MODEL_cd577ba71d5c41b2814f2432d7171036"
          }
        },
        "234e02e5b83b4abebad73e4d50154021": {
          "model_module": "@jupyter-widgets/controls",
          "model_name": "HTMLModel",
          "state": {
            "_view_name": "HTMLView",
            "style": "IPY_MODEL_6b293f29d8ad4a8d8b28720d030e6566",
            "_dom_classes": [],
            "description": "",
            "_model_name": "HTMLModel",
            "placeholder": "​",
            "_view_module": "@jupyter-widgets/controls",
            "_model_module_version": "1.5.0",
            "value": " 141/141 [00:00&lt;00:00, 180.70it/s]",
            "_view_count": null,
            "_view_module_version": "1.5.0",
            "description_tooltip": null,
            "_model_module": "@jupyter-widgets/controls",
            "layout": "IPY_MODEL_5e2bd58036d04c98ba8ce9bb529d4eed"
          }
        },
        "301713c9460a4801a9e154b313c9e6a9": {
          "model_module": "@jupyter-widgets/controls",
          "model_name": "ProgressStyleModel",
          "state": {
            "_view_name": "StyleView",
            "_model_name": "ProgressStyleModel",
            "description_width": "initial",
            "_view_module": "@jupyter-widgets/base",
            "_model_module_version": "1.5.0",
            "_view_count": null,
            "_view_module_version": "1.2.0",
            "bar_color": null,
            "_model_module": "@jupyter-widgets/controls"
          }
        },
        "cd577ba71d5c41b2814f2432d7171036": {
          "model_module": "@jupyter-widgets/base",
          "model_name": "LayoutModel",
          "state": {
            "_view_name": "LayoutView",
            "grid_template_rows": null,
            "right": null,
            "justify_content": null,
            "_view_module": "@jupyter-widgets/base",
            "overflow": null,
            "_model_module_version": "1.2.0",
            "_view_count": null,
            "flex_flow": null,
            "width": null,
            "min_width": null,
            "border": null,
            "align_items": null,
            "bottom": null,
            "_model_module": "@jupyter-widgets/base",
            "top": null,
            "grid_column": null,
            "overflow_y": null,
            "overflow_x": null,
            "grid_auto_flow": null,
            "grid_area": null,
            "grid_template_columns": null,
            "flex": null,
            "_model_name": "LayoutModel",
            "justify_items": null,
            "grid_row": null,
            "max_height": null,
            "align_content": null,
            "visibility": null,
            "align_self": null,
            "height": null,
            "min_height": null,
            "padding": null,
            "grid_auto_rows": null,
            "grid_gap": null,
            "max_width": null,
            "order": null,
            "_view_module_version": "1.2.0",
            "grid_template_areas": null,
            "object_position": null,
            "object_fit": null,
            "grid_auto_columns": null,
            "margin": null,
            "display": null,
            "left": null
          }
        },
        "6b293f29d8ad4a8d8b28720d030e6566": {
          "model_module": "@jupyter-widgets/controls",
          "model_name": "DescriptionStyleModel",
          "state": {
            "_view_name": "StyleView",
            "_model_name": "DescriptionStyleModel",
            "description_width": "",
            "_view_module": "@jupyter-widgets/base",
            "_model_module_version": "1.5.0",
            "_view_count": null,
            "_view_module_version": "1.2.0",
            "_model_module": "@jupyter-widgets/controls"
          }
        },
        "5e2bd58036d04c98ba8ce9bb529d4eed": {
          "model_module": "@jupyter-widgets/base",
          "model_name": "LayoutModel",
          "state": {
            "_view_name": "LayoutView",
            "grid_template_rows": null,
            "right": null,
            "justify_content": null,
            "_view_module": "@jupyter-widgets/base",
            "overflow": null,
            "_model_module_version": "1.2.0",
            "_view_count": null,
            "flex_flow": null,
            "width": null,
            "min_width": null,
            "border": null,
            "align_items": null,
            "bottom": null,
            "_model_module": "@jupyter-widgets/base",
            "top": null,
            "grid_column": null,
            "overflow_y": null,
            "overflow_x": null,
            "grid_auto_flow": null,
            "grid_area": null,
            "grid_template_columns": null,
            "flex": null,
            "_model_name": "LayoutModel",
            "justify_items": null,
            "grid_row": null,
            "max_height": null,
            "align_content": null,
            "visibility": null,
            "align_self": null,
            "height": null,
            "min_height": null,
            "padding": null,
            "grid_auto_rows": null,
            "grid_gap": null,
            "max_width": null,
            "order": null,
            "_view_module_version": "1.2.0",
            "grid_template_areas": null,
            "object_position": null,
            "object_fit": null,
            "grid_auto_columns": null,
            "margin": null,
            "display": null,
            "left": null
          }
        },
        "fa651527df4d402d8b6fc099daae21fe": {
          "model_module": "@jupyter-widgets/controls",
          "model_name": "HBoxModel",
          "state": {
            "_view_name": "HBoxView",
            "_dom_classes": [],
            "_model_name": "HBoxModel",
            "_view_module": "@jupyter-widgets/controls",
            "_model_module_version": "1.5.0",
            "_view_count": null,
            "_view_module_version": "1.5.0",
            "box_style": "",
            "layout": "IPY_MODEL_581b67d072b54f18a16557b60d121087",
            "_model_module": "@jupyter-widgets/controls",
            "children": [
              "IPY_MODEL_7f79cc21269b486689d0a28c665d9f10",
              "IPY_MODEL_1a38b31343504f51803a111da35a2162"
            ]
          }
        },
        "581b67d072b54f18a16557b60d121087": {
          "model_module": "@jupyter-widgets/base",
          "model_name": "LayoutModel",
          "state": {
            "_view_name": "LayoutView",
            "grid_template_rows": null,
            "right": null,
            "justify_content": null,
            "_view_module": "@jupyter-widgets/base",
            "overflow": null,
            "_model_module_version": "1.2.0",
            "_view_count": null,
            "flex_flow": null,
            "width": null,
            "min_width": null,
            "border": null,
            "align_items": null,
            "bottom": null,
            "_model_module": "@jupyter-widgets/base",
            "top": null,
            "grid_column": null,
            "overflow_y": null,
            "overflow_x": null,
            "grid_auto_flow": null,
            "grid_area": null,
            "grid_template_columns": null,
            "flex": null,
            "_model_name": "LayoutModel",
            "justify_items": null,
            "grid_row": null,
            "max_height": null,
            "align_content": null,
            "visibility": null,
            "align_self": null,
            "height": null,
            "min_height": null,
            "padding": null,
            "grid_auto_rows": null,
            "grid_gap": null,
            "max_width": null,
            "order": null,
            "_view_module_version": "1.2.0",
            "grid_template_areas": null,
            "object_position": null,
            "object_fit": null,
            "grid_auto_columns": null,
            "margin": null,
            "display": null,
            "left": null
          }
        },
        "7f79cc21269b486689d0a28c665d9f10": {
          "model_module": "@jupyter-widgets/controls",
          "model_name": "FloatProgressModel",
          "state": {
            "_view_name": "ProgressView",
            "style": "IPY_MODEL_05bf4e6d38864d50936d09989023326d",
            "_dom_classes": [],
            "description": "Epoch 5: 100%",
            "_model_name": "FloatProgressModel",
            "bar_style": "",
            "max": 563,
            "_view_module": "@jupyter-widgets/controls",
            "_model_module_version": "1.5.0",
            "value": 563,
            "_view_count": null,
            "_view_module_version": "1.5.0",
            "orientation": "horizontal",
            "min": 0,
            "description_tooltip": null,
            "_model_module": "@jupyter-widgets/controls",
            "layout": "IPY_MODEL_77e189b3ec8442efa2340a6780fb7dad"
          }
        },
        "1a38b31343504f51803a111da35a2162": {
          "model_module": "@jupyter-widgets/controls",
          "model_name": "HTMLModel",
          "state": {
            "_view_name": "HTMLView",
            "style": "IPY_MODEL_424ae1475d6340b5b668c49dacb701ff",
            "_dom_classes": [],
            "description": "",
            "_model_name": "HTMLModel",
            "placeholder": "​",
            "_view_module": "@jupyter-widgets/controls",
            "_model_module_version": "1.5.0",
            "value": " 563/563 [00:07&lt;00:00, 70.96it/s, loss=0.0911]",
            "_view_count": null,
            "_view_module_version": "1.5.0",
            "description_tooltip": null,
            "_model_module": "@jupyter-widgets/controls",
            "layout": "IPY_MODEL_98ad96d4d22e485e9e514825f4e933d9"
          }
        },
        "05bf4e6d38864d50936d09989023326d": {
          "model_module": "@jupyter-widgets/controls",
          "model_name": "ProgressStyleModel",
          "state": {
            "_view_name": "StyleView",
            "_model_name": "ProgressStyleModel",
            "description_width": "initial",
            "_view_module": "@jupyter-widgets/base",
            "_model_module_version": "1.5.0",
            "_view_count": null,
            "_view_module_version": "1.2.0",
            "bar_color": null,
            "_model_module": "@jupyter-widgets/controls"
          }
        },
        "77e189b3ec8442efa2340a6780fb7dad": {
          "model_module": "@jupyter-widgets/base",
          "model_name": "LayoutModel",
          "state": {
            "_view_name": "LayoutView",
            "grid_template_rows": null,
            "right": null,
            "justify_content": null,
            "_view_module": "@jupyter-widgets/base",
            "overflow": null,
            "_model_module_version": "1.2.0",
            "_view_count": null,
            "flex_flow": null,
            "width": null,
            "min_width": null,
            "border": null,
            "align_items": null,
            "bottom": null,
            "_model_module": "@jupyter-widgets/base",
            "top": null,
            "grid_column": null,
            "overflow_y": null,
            "overflow_x": null,
            "grid_auto_flow": null,
            "grid_area": null,
            "grid_template_columns": null,
            "flex": null,
            "_model_name": "LayoutModel",
            "justify_items": null,
            "grid_row": null,
            "max_height": null,
            "align_content": null,
            "visibility": null,
            "align_self": null,
            "height": null,
            "min_height": null,
            "padding": null,
            "grid_auto_rows": null,
            "grid_gap": null,
            "max_width": null,
            "order": null,
            "_view_module_version": "1.2.0",
            "grid_template_areas": null,
            "object_position": null,
            "object_fit": null,
            "grid_auto_columns": null,
            "margin": null,
            "display": null,
            "left": null
          }
        },
        "424ae1475d6340b5b668c49dacb701ff": {
          "model_module": "@jupyter-widgets/controls",
          "model_name": "DescriptionStyleModel",
          "state": {
            "_view_name": "StyleView",
            "_model_name": "DescriptionStyleModel",
            "description_width": "",
            "_view_module": "@jupyter-widgets/base",
            "_model_module_version": "1.5.0",
            "_view_count": null,
            "_view_module_version": "1.2.0",
            "_model_module": "@jupyter-widgets/controls"
          }
        },
        "98ad96d4d22e485e9e514825f4e933d9": {
          "model_module": "@jupyter-widgets/base",
          "model_name": "LayoutModel",
          "state": {
            "_view_name": "LayoutView",
            "grid_template_rows": null,
            "right": null,
            "justify_content": null,
            "_view_module": "@jupyter-widgets/base",
            "overflow": null,
            "_model_module_version": "1.2.0",
            "_view_count": null,
            "flex_flow": null,
            "width": null,
            "min_width": null,
            "border": null,
            "align_items": null,
            "bottom": null,
            "_model_module": "@jupyter-widgets/base",
            "top": null,
            "grid_column": null,
            "overflow_y": null,
            "overflow_x": null,
            "grid_auto_flow": null,
            "grid_area": null,
            "grid_template_columns": null,
            "flex": null,
            "_model_name": "LayoutModel",
            "justify_items": null,
            "grid_row": null,
            "max_height": null,
            "align_content": null,
            "visibility": null,
            "align_self": null,
            "height": null,
            "min_height": null,
            "padding": null,
            "grid_auto_rows": null,
            "grid_gap": null,
            "max_width": null,
            "order": null,
            "_view_module_version": "1.2.0",
            "grid_template_areas": null,
            "object_position": null,
            "object_fit": null,
            "grid_auto_columns": null,
            "margin": null,
            "display": null,
            "left": null
          }
        },
        "722f360d1ed8438985cfb20544264059": {
          "model_module": "@jupyter-widgets/controls",
          "model_name": "HBoxModel",
          "state": {
            "_view_name": "HBoxView",
            "_dom_classes": [],
            "_model_name": "HBoxModel",
            "_view_module": "@jupyter-widgets/controls",
            "_model_module_version": "1.5.0",
            "_view_count": null,
            "_view_module_version": "1.5.0",
            "box_style": "",
            "layout": "IPY_MODEL_92c7b864cda24c6faa65506207b2d60d",
            "_model_module": "@jupyter-widgets/controls",
            "children": [
              "IPY_MODEL_c80db52b50d84a31ad44e79a09a71561",
              "IPY_MODEL_aab229dbb6f24abc807126c841ef55f1"
            ]
          }
        },
        "92c7b864cda24c6faa65506207b2d60d": {
          "model_module": "@jupyter-widgets/base",
          "model_name": "LayoutModel",
          "state": {
            "_view_name": "LayoutView",
            "grid_template_rows": null,
            "right": null,
            "justify_content": null,
            "_view_module": "@jupyter-widgets/base",
            "overflow": null,
            "_model_module_version": "1.2.0",
            "_view_count": null,
            "flex_flow": null,
            "width": null,
            "min_width": null,
            "border": null,
            "align_items": null,
            "bottom": null,
            "_model_module": "@jupyter-widgets/base",
            "top": null,
            "grid_column": null,
            "overflow_y": null,
            "overflow_x": null,
            "grid_auto_flow": null,
            "grid_area": null,
            "grid_template_columns": null,
            "flex": null,
            "_model_name": "LayoutModel",
            "justify_items": null,
            "grid_row": null,
            "max_height": null,
            "align_content": null,
            "visibility": null,
            "align_self": null,
            "height": null,
            "min_height": null,
            "padding": null,
            "grid_auto_rows": null,
            "grid_gap": null,
            "max_width": null,
            "order": null,
            "_view_module_version": "1.2.0",
            "grid_template_areas": null,
            "object_position": null,
            "object_fit": null,
            "grid_auto_columns": null,
            "margin": null,
            "display": null,
            "left": null
          }
        },
        "c80db52b50d84a31ad44e79a09a71561": {
          "model_module": "@jupyter-widgets/controls",
          "model_name": "FloatProgressModel",
          "state": {
            "_view_name": "ProgressView",
            "style": "IPY_MODEL_865e7772775b44b0b1eda7e49f067e4b",
            "_dom_classes": [],
            "description": "100%",
            "_model_name": "FloatProgressModel",
            "bar_style": "",
            "max": 141,
            "_view_module": "@jupyter-widgets/controls",
            "_model_module_version": "1.5.0",
            "value": 141,
            "_view_count": null,
            "_view_module_version": "1.5.0",
            "orientation": "horizontal",
            "min": 0,
            "description_tooltip": null,
            "_model_module": "@jupyter-widgets/controls",
            "layout": "IPY_MODEL_1b95f2e4dd0b4781bf5f41529b967f91"
          }
        },
        "aab229dbb6f24abc807126c841ef55f1": {
          "model_module": "@jupyter-widgets/controls",
          "model_name": "HTMLModel",
          "state": {
            "_view_name": "HTMLView",
            "style": "IPY_MODEL_71292f2c784642c694c4b18e3ce089e8",
            "_dom_classes": [],
            "description": "",
            "_model_name": "HTMLModel",
            "placeholder": "​",
            "_view_module": "@jupyter-widgets/controls",
            "_model_module_version": "1.5.0",
            "value": " 141/141 [00:00&lt;00:00, 218.22it/s]",
            "_view_count": null,
            "_view_module_version": "1.5.0",
            "description_tooltip": null,
            "_model_module": "@jupyter-widgets/controls",
            "layout": "IPY_MODEL_c7e703df974042e3b9ec70f66c3f2b30"
          }
        },
        "865e7772775b44b0b1eda7e49f067e4b": {
          "model_module": "@jupyter-widgets/controls",
          "model_name": "ProgressStyleModel",
          "state": {
            "_view_name": "StyleView",
            "_model_name": "ProgressStyleModel",
            "description_width": "initial",
            "_view_module": "@jupyter-widgets/base",
            "_model_module_version": "1.5.0",
            "_view_count": null,
            "_view_module_version": "1.2.0",
            "bar_color": null,
            "_model_module": "@jupyter-widgets/controls"
          }
        },
        "1b95f2e4dd0b4781bf5f41529b967f91": {
          "model_module": "@jupyter-widgets/base",
          "model_name": "LayoutModel",
          "state": {
            "_view_name": "LayoutView",
            "grid_template_rows": null,
            "right": null,
            "justify_content": null,
            "_view_module": "@jupyter-widgets/base",
            "overflow": null,
            "_model_module_version": "1.2.0",
            "_view_count": null,
            "flex_flow": null,
            "width": null,
            "min_width": null,
            "border": null,
            "align_items": null,
            "bottom": null,
            "_model_module": "@jupyter-widgets/base",
            "top": null,
            "grid_column": null,
            "overflow_y": null,
            "overflow_x": null,
            "grid_auto_flow": null,
            "grid_area": null,
            "grid_template_columns": null,
            "flex": null,
            "_model_name": "LayoutModel",
            "justify_items": null,
            "grid_row": null,
            "max_height": null,
            "align_content": null,
            "visibility": null,
            "align_self": null,
            "height": null,
            "min_height": null,
            "padding": null,
            "grid_auto_rows": null,
            "grid_gap": null,
            "max_width": null,
            "order": null,
            "_view_module_version": "1.2.0",
            "grid_template_areas": null,
            "object_position": null,
            "object_fit": null,
            "grid_auto_columns": null,
            "margin": null,
            "display": null,
            "left": null
          }
        },
        "71292f2c784642c694c4b18e3ce089e8": {
          "model_module": "@jupyter-widgets/controls",
          "model_name": "DescriptionStyleModel",
          "state": {
            "_view_name": "StyleView",
            "_model_name": "DescriptionStyleModel",
            "description_width": "",
            "_view_module": "@jupyter-widgets/base",
            "_model_module_version": "1.5.0",
            "_view_count": null,
            "_view_module_version": "1.2.0",
            "_model_module": "@jupyter-widgets/controls"
          }
        },
        "c7e703df974042e3b9ec70f66c3f2b30": {
          "model_module": "@jupyter-widgets/base",
          "model_name": "LayoutModel",
          "state": {
            "_view_name": "LayoutView",
            "grid_template_rows": null,
            "right": null,
            "justify_content": null,
            "_view_module": "@jupyter-widgets/base",
            "overflow": null,
            "_model_module_version": "1.2.0",
            "_view_count": null,
            "flex_flow": null,
            "width": null,
            "min_width": null,
            "border": null,
            "align_items": null,
            "bottom": null,
            "_model_module": "@jupyter-widgets/base",
            "top": null,
            "grid_column": null,
            "overflow_y": null,
            "overflow_x": null,
            "grid_auto_flow": null,
            "grid_area": null,
            "grid_template_columns": null,
            "flex": null,
            "_model_name": "LayoutModel",
            "justify_items": null,
            "grid_row": null,
            "max_height": null,
            "align_content": null,
            "visibility": null,
            "align_self": null,
            "height": null,
            "min_height": null,
            "padding": null,
            "grid_auto_rows": null,
            "grid_gap": null,
            "max_width": null,
            "order": null,
            "_view_module_version": "1.2.0",
            "grid_template_areas": null,
            "object_position": null,
            "object_fit": null,
            "grid_auto_columns": null,
            "margin": null,
            "display": null,
            "left": null
          }
        },
        "c78f5ca757c44620a025a687fda0600d": {
          "model_module": "@jupyter-widgets/controls",
          "model_name": "HBoxModel",
          "state": {
            "_view_name": "HBoxView",
            "_dom_classes": [],
            "_model_name": "HBoxModel",
            "_view_module": "@jupyter-widgets/controls",
            "_model_module_version": "1.5.0",
            "_view_count": null,
            "_view_module_version": "1.5.0",
            "box_style": "",
            "layout": "IPY_MODEL_70c032f50fcc4200a340684d488a8576",
            "_model_module": "@jupyter-widgets/controls",
            "children": [
              "IPY_MODEL_f790c911a4dd4273adee53f676060910",
              "IPY_MODEL_ad44cb0e75e74b35ae3e1ddb82c4af53"
            ]
          }
        },
        "70c032f50fcc4200a340684d488a8576": {
          "model_module": "@jupyter-widgets/base",
          "model_name": "LayoutModel",
          "state": {
            "_view_name": "LayoutView",
            "grid_template_rows": null,
            "right": null,
            "justify_content": null,
            "_view_module": "@jupyter-widgets/base",
            "overflow": null,
            "_model_module_version": "1.2.0",
            "_view_count": null,
            "flex_flow": null,
            "width": null,
            "min_width": null,
            "border": null,
            "align_items": null,
            "bottom": null,
            "_model_module": "@jupyter-widgets/base",
            "top": null,
            "grid_column": null,
            "overflow_y": null,
            "overflow_x": null,
            "grid_auto_flow": null,
            "grid_area": null,
            "grid_template_columns": null,
            "flex": null,
            "_model_name": "LayoutModel",
            "justify_items": null,
            "grid_row": null,
            "max_height": null,
            "align_content": null,
            "visibility": null,
            "align_self": null,
            "height": null,
            "min_height": null,
            "padding": null,
            "grid_auto_rows": null,
            "grid_gap": null,
            "max_width": null,
            "order": null,
            "_view_module_version": "1.2.0",
            "grid_template_areas": null,
            "object_position": null,
            "object_fit": null,
            "grid_auto_columns": null,
            "margin": null,
            "display": null,
            "left": null
          }
        },
        "f790c911a4dd4273adee53f676060910": {
          "model_module": "@jupyter-widgets/controls",
          "model_name": "FloatProgressModel",
          "state": {
            "_view_name": "ProgressView",
            "style": "IPY_MODEL_c5166913787f40da83980e542ebc0c9e",
            "_dom_classes": [],
            "description": "Epoch 6: 100%",
            "_model_name": "FloatProgressModel",
            "bar_style": "",
            "max": 563,
            "_view_module": "@jupyter-widgets/controls",
            "_model_module_version": "1.5.0",
            "value": 563,
            "_view_count": null,
            "_view_module_version": "1.5.0",
            "orientation": "horizontal",
            "min": 0,
            "description_tooltip": null,
            "_model_module": "@jupyter-widgets/controls",
            "layout": "IPY_MODEL_a52a039487c04f7684f8345ffb4deaa2"
          }
        },
        "ad44cb0e75e74b35ae3e1ddb82c4af53": {
          "model_module": "@jupyter-widgets/controls",
          "model_name": "HTMLModel",
          "state": {
            "_view_name": "HTMLView",
            "style": "IPY_MODEL_ed6db6a22c3a4e11b60581101e13c17a",
            "_dom_classes": [],
            "description": "",
            "_model_name": "HTMLModel",
            "placeholder": "​",
            "_view_module": "@jupyter-widgets/controls",
            "_model_module_version": "1.5.0",
            "value": " 563/563 [00:07&lt;00:00, 69.65it/s, loss=0.0581]",
            "_view_count": null,
            "_view_module_version": "1.5.0",
            "description_tooltip": null,
            "_model_module": "@jupyter-widgets/controls",
            "layout": "IPY_MODEL_e78d259b566d4924b5e86f01416a9333"
          }
        },
        "c5166913787f40da83980e542ebc0c9e": {
          "model_module": "@jupyter-widgets/controls",
          "model_name": "ProgressStyleModel",
          "state": {
            "_view_name": "StyleView",
            "_model_name": "ProgressStyleModel",
            "description_width": "initial",
            "_view_module": "@jupyter-widgets/base",
            "_model_module_version": "1.5.0",
            "_view_count": null,
            "_view_module_version": "1.2.0",
            "bar_color": null,
            "_model_module": "@jupyter-widgets/controls"
          }
        },
        "a52a039487c04f7684f8345ffb4deaa2": {
          "model_module": "@jupyter-widgets/base",
          "model_name": "LayoutModel",
          "state": {
            "_view_name": "LayoutView",
            "grid_template_rows": null,
            "right": null,
            "justify_content": null,
            "_view_module": "@jupyter-widgets/base",
            "overflow": null,
            "_model_module_version": "1.2.0",
            "_view_count": null,
            "flex_flow": null,
            "width": null,
            "min_width": null,
            "border": null,
            "align_items": null,
            "bottom": null,
            "_model_module": "@jupyter-widgets/base",
            "top": null,
            "grid_column": null,
            "overflow_y": null,
            "overflow_x": null,
            "grid_auto_flow": null,
            "grid_area": null,
            "grid_template_columns": null,
            "flex": null,
            "_model_name": "LayoutModel",
            "justify_items": null,
            "grid_row": null,
            "max_height": null,
            "align_content": null,
            "visibility": null,
            "align_self": null,
            "height": null,
            "min_height": null,
            "padding": null,
            "grid_auto_rows": null,
            "grid_gap": null,
            "max_width": null,
            "order": null,
            "_view_module_version": "1.2.0",
            "grid_template_areas": null,
            "object_position": null,
            "object_fit": null,
            "grid_auto_columns": null,
            "margin": null,
            "display": null,
            "left": null
          }
        },
        "ed6db6a22c3a4e11b60581101e13c17a": {
          "model_module": "@jupyter-widgets/controls",
          "model_name": "DescriptionStyleModel",
          "state": {
            "_view_name": "StyleView",
            "_model_name": "DescriptionStyleModel",
            "description_width": "",
            "_view_module": "@jupyter-widgets/base",
            "_model_module_version": "1.5.0",
            "_view_count": null,
            "_view_module_version": "1.2.0",
            "_model_module": "@jupyter-widgets/controls"
          }
        },
        "e78d259b566d4924b5e86f01416a9333": {
          "model_module": "@jupyter-widgets/base",
          "model_name": "LayoutModel",
          "state": {
            "_view_name": "LayoutView",
            "grid_template_rows": null,
            "right": null,
            "justify_content": null,
            "_view_module": "@jupyter-widgets/base",
            "overflow": null,
            "_model_module_version": "1.2.0",
            "_view_count": null,
            "flex_flow": null,
            "width": null,
            "min_width": null,
            "border": null,
            "align_items": null,
            "bottom": null,
            "_model_module": "@jupyter-widgets/base",
            "top": null,
            "grid_column": null,
            "overflow_y": null,
            "overflow_x": null,
            "grid_auto_flow": null,
            "grid_area": null,
            "grid_template_columns": null,
            "flex": null,
            "_model_name": "LayoutModel",
            "justify_items": null,
            "grid_row": null,
            "max_height": null,
            "align_content": null,
            "visibility": null,
            "align_self": null,
            "height": null,
            "min_height": null,
            "padding": null,
            "grid_auto_rows": null,
            "grid_gap": null,
            "max_width": null,
            "order": null,
            "_view_module_version": "1.2.0",
            "grid_template_areas": null,
            "object_position": null,
            "object_fit": null,
            "grid_auto_columns": null,
            "margin": null,
            "display": null,
            "left": null
          }
        },
        "94814a69494a4c1a896859e0c4b0e78f": {
          "model_module": "@jupyter-widgets/controls",
          "model_name": "HBoxModel",
          "state": {
            "_view_name": "HBoxView",
            "_dom_classes": [],
            "_model_name": "HBoxModel",
            "_view_module": "@jupyter-widgets/controls",
            "_model_module_version": "1.5.0",
            "_view_count": null,
            "_view_module_version": "1.5.0",
            "box_style": "",
            "layout": "IPY_MODEL_57ab9e2bcd6f417081b1f864e026f172",
            "_model_module": "@jupyter-widgets/controls",
            "children": [
              "IPY_MODEL_922742b71b33495d948c1e1f0a6caab1",
              "IPY_MODEL_7fb78a48809f410b84b58bbddf498b70"
            ]
          }
        },
        "57ab9e2bcd6f417081b1f864e026f172": {
          "model_module": "@jupyter-widgets/base",
          "model_name": "LayoutModel",
          "state": {
            "_view_name": "LayoutView",
            "grid_template_rows": null,
            "right": null,
            "justify_content": null,
            "_view_module": "@jupyter-widgets/base",
            "overflow": null,
            "_model_module_version": "1.2.0",
            "_view_count": null,
            "flex_flow": null,
            "width": null,
            "min_width": null,
            "border": null,
            "align_items": null,
            "bottom": null,
            "_model_module": "@jupyter-widgets/base",
            "top": null,
            "grid_column": null,
            "overflow_y": null,
            "overflow_x": null,
            "grid_auto_flow": null,
            "grid_area": null,
            "grid_template_columns": null,
            "flex": null,
            "_model_name": "LayoutModel",
            "justify_items": null,
            "grid_row": null,
            "max_height": null,
            "align_content": null,
            "visibility": null,
            "align_self": null,
            "height": null,
            "min_height": null,
            "padding": null,
            "grid_auto_rows": null,
            "grid_gap": null,
            "max_width": null,
            "order": null,
            "_view_module_version": "1.2.0",
            "grid_template_areas": null,
            "object_position": null,
            "object_fit": null,
            "grid_auto_columns": null,
            "margin": null,
            "display": null,
            "left": null
          }
        },
        "922742b71b33495d948c1e1f0a6caab1": {
          "model_module": "@jupyter-widgets/controls",
          "model_name": "FloatProgressModel",
          "state": {
            "_view_name": "ProgressView",
            "style": "IPY_MODEL_2da0247f48fb4a67a49e8f091da57fd7",
            "_dom_classes": [],
            "description": "100%",
            "_model_name": "FloatProgressModel",
            "bar_style": "",
            "max": 141,
            "_view_module": "@jupyter-widgets/controls",
            "_model_module_version": "1.5.0",
            "value": 141,
            "_view_count": null,
            "_view_module_version": "1.5.0",
            "orientation": "horizontal",
            "min": 0,
            "description_tooltip": null,
            "_model_module": "@jupyter-widgets/controls",
            "layout": "IPY_MODEL_e3d06c6fdc7b405bb5b7dedddd9d24dc"
          }
        },
        "7fb78a48809f410b84b58bbddf498b70": {
          "model_module": "@jupyter-widgets/controls",
          "model_name": "HTMLModel",
          "state": {
            "_view_name": "HTMLView",
            "style": "IPY_MODEL_6f8b0ef36a0b45e793adfb743a1e4bd0",
            "_dom_classes": [],
            "description": "",
            "_model_name": "HTMLModel",
            "placeholder": "​",
            "_view_module": "@jupyter-widgets/controls",
            "_model_module_version": "1.5.0",
            "value": " 141/141 [00:00&lt;00:00, 211.50it/s]",
            "_view_count": null,
            "_view_module_version": "1.5.0",
            "description_tooltip": null,
            "_model_module": "@jupyter-widgets/controls",
            "layout": "IPY_MODEL_7d621e2443f140a38311f951dbe93ece"
          }
        },
        "2da0247f48fb4a67a49e8f091da57fd7": {
          "model_module": "@jupyter-widgets/controls",
          "model_name": "ProgressStyleModel",
          "state": {
            "_view_name": "StyleView",
            "_model_name": "ProgressStyleModel",
            "description_width": "initial",
            "_view_module": "@jupyter-widgets/base",
            "_model_module_version": "1.5.0",
            "_view_count": null,
            "_view_module_version": "1.2.0",
            "bar_color": null,
            "_model_module": "@jupyter-widgets/controls"
          }
        },
        "e3d06c6fdc7b405bb5b7dedddd9d24dc": {
          "model_module": "@jupyter-widgets/base",
          "model_name": "LayoutModel",
          "state": {
            "_view_name": "LayoutView",
            "grid_template_rows": null,
            "right": null,
            "justify_content": null,
            "_view_module": "@jupyter-widgets/base",
            "overflow": null,
            "_model_module_version": "1.2.0",
            "_view_count": null,
            "flex_flow": null,
            "width": null,
            "min_width": null,
            "border": null,
            "align_items": null,
            "bottom": null,
            "_model_module": "@jupyter-widgets/base",
            "top": null,
            "grid_column": null,
            "overflow_y": null,
            "overflow_x": null,
            "grid_auto_flow": null,
            "grid_area": null,
            "grid_template_columns": null,
            "flex": null,
            "_model_name": "LayoutModel",
            "justify_items": null,
            "grid_row": null,
            "max_height": null,
            "align_content": null,
            "visibility": null,
            "align_self": null,
            "height": null,
            "min_height": null,
            "padding": null,
            "grid_auto_rows": null,
            "grid_gap": null,
            "max_width": null,
            "order": null,
            "_view_module_version": "1.2.0",
            "grid_template_areas": null,
            "object_position": null,
            "object_fit": null,
            "grid_auto_columns": null,
            "margin": null,
            "display": null,
            "left": null
          }
        },
        "6f8b0ef36a0b45e793adfb743a1e4bd0": {
          "model_module": "@jupyter-widgets/controls",
          "model_name": "DescriptionStyleModel",
          "state": {
            "_view_name": "StyleView",
            "_model_name": "DescriptionStyleModel",
            "description_width": "",
            "_view_module": "@jupyter-widgets/base",
            "_model_module_version": "1.5.0",
            "_view_count": null,
            "_view_module_version": "1.2.0",
            "_model_module": "@jupyter-widgets/controls"
          }
        },
        "7d621e2443f140a38311f951dbe93ece": {
          "model_module": "@jupyter-widgets/base",
          "model_name": "LayoutModel",
          "state": {
            "_view_name": "LayoutView",
            "grid_template_rows": null,
            "right": null,
            "justify_content": null,
            "_view_module": "@jupyter-widgets/base",
            "overflow": null,
            "_model_module_version": "1.2.0",
            "_view_count": null,
            "flex_flow": null,
            "width": null,
            "min_width": null,
            "border": null,
            "align_items": null,
            "bottom": null,
            "_model_module": "@jupyter-widgets/base",
            "top": null,
            "grid_column": null,
            "overflow_y": null,
            "overflow_x": null,
            "grid_auto_flow": null,
            "grid_area": null,
            "grid_template_columns": null,
            "flex": null,
            "_model_name": "LayoutModel",
            "justify_items": null,
            "grid_row": null,
            "max_height": null,
            "align_content": null,
            "visibility": null,
            "align_self": null,
            "height": null,
            "min_height": null,
            "padding": null,
            "grid_auto_rows": null,
            "grid_gap": null,
            "max_width": null,
            "order": null,
            "_view_module_version": "1.2.0",
            "grid_template_areas": null,
            "object_position": null,
            "object_fit": null,
            "grid_auto_columns": null,
            "margin": null,
            "display": null,
            "left": null
          }
        },
        "36df4bf4e71a40898499aac2e6bd340a": {
          "model_module": "@jupyter-widgets/controls",
          "model_name": "HBoxModel",
          "state": {
            "_view_name": "HBoxView",
            "_dom_classes": [],
            "_model_name": "HBoxModel",
            "_view_module": "@jupyter-widgets/controls",
            "_model_module_version": "1.5.0",
            "_view_count": null,
            "_view_module_version": "1.5.0",
            "box_style": "",
            "layout": "IPY_MODEL_59b463e19db04dd78cad484521d755d7",
            "_model_module": "@jupyter-widgets/controls",
            "children": [
              "IPY_MODEL_d5a79eeb8c3c4b74b77cc210a19bbbb2",
              "IPY_MODEL_d9e936d0faaa4a609ac1fbe260f1b6fc"
            ]
          }
        },
        "59b463e19db04dd78cad484521d755d7": {
          "model_module": "@jupyter-widgets/base",
          "model_name": "LayoutModel",
          "state": {
            "_view_name": "LayoutView",
            "grid_template_rows": null,
            "right": null,
            "justify_content": null,
            "_view_module": "@jupyter-widgets/base",
            "overflow": null,
            "_model_module_version": "1.2.0",
            "_view_count": null,
            "flex_flow": null,
            "width": null,
            "min_width": null,
            "border": null,
            "align_items": null,
            "bottom": null,
            "_model_module": "@jupyter-widgets/base",
            "top": null,
            "grid_column": null,
            "overflow_y": null,
            "overflow_x": null,
            "grid_auto_flow": null,
            "grid_area": null,
            "grid_template_columns": null,
            "flex": null,
            "_model_name": "LayoutModel",
            "justify_items": null,
            "grid_row": null,
            "max_height": null,
            "align_content": null,
            "visibility": null,
            "align_self": null,
            "height": null,
            "min_height": null,
            "padding": null,
            "grid_auto_rows": null,
            "grid_gap": null,
            "max_width": null,
            "order": null,
            "_view_module_version": "1.2.0",
            "grid_template_areas": null,
            "object_position": null,
            "object_fit": null,
            "grid_auto_columns": null,
            "margin": null,
            "display": null,
            "left": null
          }
        },
        "d5a79eeb8c3c4b74b77cc210a19bbbb2": {
          "model_module": "@jupyter-widgets/controls",
          "model_name": "FloatProgressModel",
          "state": {
            "_view_name": "ProgressView",
            "style": "IPY_MODEL_f3ba6d9420f64873871e8beffaf95679",
            "_dom_classes": [],
            "description": "Epoch 7: 100%",
            "_model_name": "FloatProgressModel",
            "bar_style": "",
            "max": 563,
            "_view_module": "@jupyter-widgets/controls",
            "_model_module_version": "1.5.0",
            "value": 563,
            "_view_count": null,
            "_view_module_version": "1.5.0",
            "orientation": "horizontal",
            "min": 0,
            "description_tooltip": null,
            "_model_module": "@jupyter-widgets/controls",
            "layout": "IPY_MODEL_197dbda679f545a6af75ff198e0a157f"
          }
        },
        "d9e936d0faaa4a609ac1fbe260f1b6fc": {
          "model_module": "@jupyter-widgets/controls",
          "model_name": "HTMLModel",
          "state": {
            "_view_name": "HTMLView",
            "style": "IPY_MODEL_d032c9d2ffab45a8af4e4d7bc33f297c",
            "_dom_classes": [],
            "description": "",
            "_model_name": "HTMLModel",
            "placeholder": "​",
            "_view_module": "@jupyter-widgets/controls",
            "_model_module_version": "1.5.0",
            "value": " 563/563 [00:07&lt;00:00, 74.18it/s, loss=0.117]",
            "_view_count": null,
            "_view_module_version": "1.5.0",
            "description_tooltip": null,
            "_model_module": "@jupyter-widgets/controls",
            "layout": "IPY_MODEL_c19c8e7332554469a55ab28fe777d3fe"
          }
        },
        "f3ba6d9420f64873871e8beffaf95679": {
          "model_module": "@jupyter-widgets/controls",
          "model_name": "ProgressStyleModel",
          "state": {
            "_view_name": "StyleView",
            "_model_name": "ProgressStyleModel",
            "description_width": "initial",
            "_view_module": "@jupyter-widgets/base",
            "_model_module_version": "1.5.0",
            "_view_count": null,
            "_view_module_version": "1.2.0",
            "bar_color": null,
            "_model_module": "@jupyter-widgets/controls"
          }
        },
        "197dbda679f545a6af75ff198e0a157f": {
          "model_module": "@jupyter-widgets/base",
          "model_name": "LayoutModel",
          "state": {
            "_view_name": "LayoutView",
            "grid_template_rows": null,
            "right": null,
            "justify_content": null,
            "_view_module": "@jupyter-widgets/base",
            "overflow": null,
            "_model_module_version": "1.2.0",
            "_view_count": null,
            "flex_flow": null,
            "width": null,
            "min_width": null,
            "border": null,
            "align_items": null,
            "bottom": null,
            "_model_module": "@jupyter-widgets/base",
            "top": null,
            "grid_column": null,
            "overflow_y": null,
            "overflow_x": null,
            "grid_auto_flow": null,
            "grid_area": null,
            "grid_template_columns": null,
            "flex": null,
            "_model_name": "LayoutModel",
            "justify_items": null,
            "grid_row": null,
            "max_height": null,
            "align_content": null,
            "visibility": null,
            "align_self": null,
            "height": null,
            "min_height": null,
            "padding": null,
            "grid_auto_rows": null,
            "grid_gap": null,
            "max_width": null,
            "order": null,
            "_view_module_version": "1.2.0",
            "grid_template_areas": null,
            "object_position": null,
            "object_fit": null,
            "grid_auto_columns": null,
            "margin": null,
            "display": null,
            "left": null
          }
        },
        "d032c9d2ffab45a8af4e4d7bc33f297c": {
          "model_module": "@jupyter-widgets/controls",
          "model_name": "DescriptionStyleModel",
          "state": {
            "_view_name": "StyleView",
            "_model_name": "DescriptionStyleModel",
            "description_width": "",
            "_view_module": "@jupyter-widgets/base",
            "_model_module_version": "1.5.0",
            "_view_count": null,
            "_view_module_version": "1.2.0",
            "_model_module": "@jupyter-widgets/controls"
          }
        },
        "c19c8e7332554469a55ab28fe777d3fe": {
          "model_module": "@jupyter-widgets/base",
          "model_name": "LayoutModel",
          "state": {
            "_view_name": "LayoutView",
            "grid_template_rows": null,
            "right": null,
            "justify_content": null,
            "_view_module": "@jupyter-widgets/base",
            "overflow": null,
            "_model_module_version": "1.2.0",
            "_view_count": null,
            "flex_flow": null,
            "width": null,
            "min_width": null,
            "border": null,
            "align_items": null,
            "bottom": null,
            "_model_module": "@jupyter-widgets/base",
            "top": null,
            "grid_column": null,
            "overflow_y": null,
            "overflow_x": null,
            "grid_auto_flow": null,
            "grid_area": null,
            "grid_template_columns": null,
            "flex": null,
            "_model_name": "LayoutModel",
            "justify_items": null,
            "grid_row": null,
            "max_height": null,
            "align_content": null,
            "visibility": null,
            "align_self": null,
            "height": null,
            "min_height": null,
            "padding": null,
            "grid_auto_rows": null,
            "grid_gap": null,
            "max_width": null,
            "order": null,
            "_view_module_version": "1.2.0",
            "grid_template_areas": null,
            "object_position": null,
            "object_fit": null,
            "grid_auto_columns": null,
            "margin": null,
            "display": null,
            "left": null
          }
        },
        "f76e37af50614e288829e403160875b5": {
          "model_module": "@jupyter-widgets/controls",
          "model_name": "HBoxModel",
          "state": {
            "_view_name": "HBoxView",
            "_dom_classes": [],
            "_model_name": "HBoxModel",
            "_view_module": "@jupyter-widgets/controls",
            "_model_module_version": "1.5.0",
            "_view_count": null,
            "_view_module_version": "1.5.0",
            "box_style": "",
            "layout": "IPY_MODEL_7961f6276c4f4c2aa5bbbaa141e82982",
            "_model_module": "@jupyter-widgets/controls",
            "children": [
              "IPY_MODEL_783573df504b45dfb3d8785ef6d8b1b3",
              "IPY_MODEL_bae6e1fe47c74db496ec7cd50c418f95"
            ]
          }
        },
        "7961f6276c4f4c2aa5bbbaa141e82982": {
          "model_module": "@jupyter-widgets/base",
          "model_name": "LayoutModel",
          "state": {
            "_view_name": "LayoutView",
            "grid_template_rows": null,
            "right": null,
            "justify_content": null,
            "_view_module": "@jupyter-widgets/base",
            "overflow": null,
            "_model_module_version": "1.2.0",
            "_view_count": null,
            "flex_flow": null,
            "width": null,
            "min_width": null,
            "border": null,
            "align_items": null,
            "bottom": null,
            "_model_module": "@jupyter-widgets/base",
            "top": null,
            "grid_column": null,
            "overflow_y": null,
            "overflow_x": null,
            "grid_auto_flow": null,
            "grid_area": null,
            "grid_template_columns": null,
            "flex": null,
            "_model_name": "LayoutModel",
            "justify_items": null,
            "grid_row": null,
            "max_height": null,
            "align_content": null,
            "visibility": null,
            "align_self": null,
            "height": null,
            "min_height": null,
            "padding": null,
            "grid_auto_rows": null,
            "grid_gap": null,
            "max_width": null,
            "order": null,
            "_view_module_version": "1.2.0",
            "grid_template_areas": null,
            "object_position": null,
            "object_fit": null,
            "grid_auto_columns": null,
            "margin": null,
            "display": null,
            "left": null
          }
        },
        "783573df504b45dfb3d8785ef6d8b1b3": {
          "model_module": "@jupyter-widgets/controls",
          "model_name": "FloatProgressModel",
          "state": {
            "_view_name": "ProgressView",
            "style": "IPY_MODEL_235975a792b44dd09c9931c8110ac927",
            "_dom_classes": [],
            "description": "100%",
            "_model_name": "FloatProgressModel",
            "bar_style": "",
            "max": 141,
            "_view_module": "@jupyter-widgets/controls",
            "_model_module_version": "1.5.0",
            "value": 141,
            "_view_count": null,
            "_view_module_version": "1.5.0",
            "orientation": "horizontal",
            "min": 0,
            "description_tooltip": null,
            "_model_module": "@jupyter-widgets/controls",
            "layout": "IPY_MODEL_ff73d4b711bd4711b82fab8f3ba1ff9c"
          }
        },
        "bae6e1fe47c74db496ec7cd50c418f95": {
          "model_module": "@jupyter-widgets/controls",
          "model_name": "HTMLModel",
          "state": {
            "_view_name": "HTMLView",
            "style": "IPY_MODEL_af734a024b544b59b58adab678cc500a",
            "_dom_classes": [],
            "description": "",
            "_model_name": "HTMLModel",
            "placeholder": "​",
            "_view_module": "@jupyter-widgets/controls",
            "_model_module_version": "1.5.0",
            "value": " 141/141 [00:00&lt;00:00, 228.12it/s]",
            "_view_count": null,
            "_view_module_version": "1.5.0",
            "description_tooltip": null,
            "_model_module": "@jupyter-widgets/controls",
            "layout": "IPY_MODEL_76868afedaa84f74841fa6757f74c59b"
          }
        },
        "235975a792b44dd09c9931c8110ac927": {
          "model_module": "@jupyter-widgets/controls",
          "model_name": "ProgressStyleModel",
          "state": {
            "_view_name": "StyleView",
            "_model_name": "ProgressStyleModel",
            "description_width": "initial",
            "_view_module": "@jupyter-widgets/base",
            "_model_module_version": "1.5.0",
            "_view_count": null,
            "_view_module_version": "1.2.0",
            "bar_color": null,
            "_model_module": "@jupyter-widgets/controls"
          }
        },
        "ff73d4b711bd4711b82fab8f3ba1ff9c": {
          "model_module": "@jupyter-widgets/base",
          "model_name": "LayoutModel",
          "state": {
            "_view_name": "LayoutView",
            "grid_template_rows": null,
            "right": null,
            "justify_content": null,
            "_view_module": "@jupyter-widgets/base",
            "overflow": null,
            "_model_module_version": "1.2.0",
            "_view_count": null,
            "flex_flow": null,
            "width": null,
            "min_width": null,
            "border": null,
            "align_items": null,
            "bottom": null,
            "_model_module": "@jupyter-widgets/base",
            "top": null,
            "grid_column": null,
            "overflow_y": null,
            "overflow_x": null,
            "grid_auto_flow": null,
            "grid_area": null,
            "grid_template_columns": null,
            "flex": null,
            "_model_name": "LayoutModel",
            "justify_items": null,
            "grid_row": null,
            "max_height": null,
            "align_content": null,
            "visibility": null,
            "align_self": null,
            "height": null,
            "min_height": null,
            "padding": null,
            "grid_auto_rows": null,
            "grid_gap": null,
            "max_width": null,
            "order": null,
            "_view_module_version": "1.2.0",
            "grid_template_areas": null,
            "object_position": null,
            "object_fit": null,
            "grid_auto_columns": null,
            "margin": null,
            "display": null,
            "left": null
          }
        },
        "af734a024b544b59b58adab678cc500a": {
          "model_module": "@jupyter-widgets/controls",
          "model_name": "DescriptionStyleModel",
          "state": {
            "_view_name": "StyleView",
            "_model_name": "DescriptionStyleModel",
            "description_width": "",
            "_view_module": "@jupyter-widgets/base",
            "_model_module_version": "1.5.0",
            "_view_count": null,
            "_view_module_version": "1.2.0",
            "_model_module": "@jupyter-widgets/controls"
          }
        },
        "76868afedaa84f74841fa6757f74c59b": {
          "model_module": "@jupyter-widgets/base",
          "model_name": "LayoutModel",
          "state": {
            "_view_name": "LayoutView",
            "grid_template_rows": null,
            "right": null,
            "justify_content": null,
            "_view_module": "@jupyter-widgets/base",
            "overflow": null,
            "_model_module_version": "1.2.0",
            "_view_count": null,
            "flex_flow": null,
            "width": null,
            "min_width": null,
            "border": null,
            "align_items": null,
            "bottom": null,
            "_model_module": "@jupyter-widgets/base",
            "top": null,
            "grid_column": null,
            "overflow_y": null,
            "overflow_x": null,
            "grid_auto_flow": null,
            "grid_area": null,
            "grid_template_columns": null,
            "flex": null,
            "_model_name": "LayoutModel",
            "justify_items": null,
            "grid_row": null,
            "max_height": null,
            "align_content": null,
            "visibility": null,
            "align_self": null,
            "height": null,
            "min_height": null,
            "padding": null,
            "grid_auto_rows": null,
            "grid_gap": null,
            "max_width": null,
            "order": null,
            "_view_module_version": "1.2.0",
            "grid_template_areas": null,
            "object_position": null,
            "object_fit": null,
            "grid_auto_columns": null,
            "margin": null,
            "display": null,
            "left": null
          }
        },
        "acb066b0c6544994a938cf90c15c158a": {
          "model_module": "@jupyter-widgets/controls",
          "model_name": "HBoxModel",
          "state": {
            "_view_name": "HBoxView",
            "_dom_classes": [],
            "_model_name": "HBoxModel",
            "_view_module": "@jupyter-widgets/controls",
            "_model_module_version": "1.5.0",
            "_view_count": null,
            "_view_module_version": "1.5.0",
            "box_style": "",
            "layout": "IPY_MODEL_1c20bfadeb9341fba7019c283ed23ac1",
            "_model_module": "@jupyter-widgets/controls",
            "children": [
              "IPY_MODEL_48edd718ffbe4ee3a7b11a550db6cd9b",
              "IPY_MODEL_4b47124492044274872dd87149b8e87f"
            ]
          }
        },
        "1c20bfadeb9341fba7019c283ed23ac1": {
          "model_module": "@jupyter-widgets/base",
          "model_name": "LayoutModel",
          "state": {
            "_view_name": "LayoutView",
            "grid_template_rows": null,
            "right": null,
            "justify_content": null,
            "_view_module": "@jupyter-widgets/base",
            "overflow": null,
            "_model_module_version": "1.2.0",
            "_view_count": null,
            "flex_flow": null,
            "width": null,
            "min_width": null,
            "border": null,
            "align_items": null,
            "bottom": null,
            "_model_module": "@jupyter-widgets/base",
            "top": null,
            "grid_column": null,
            "overflow_y": null,
            "overflow_x": null,
            "grid_auto_flow": null,
            "grid_area": null,
            "grid_template_columns": null,
            "flex": null,
            "_model_name": "LayoutModel",
            "justify_items": null,
            "grid_row": null,
            "max_height": null,
            "align_content": null,
            "visibility": null,
            "align_self": null,
            "height": null,
            "min_height": null,
            "padding": null,
            "grid_auto_rows": null,
            "grid_gap": null,
            "max_width": null,
            "order": null,
            "_view_module_version": "1.2.0",
            "grid_template_areas": null,
            "object_position": null,
            "object_fit": null,
            "grid_auto_columns": null,
            "margin": null,
            "display": null,
            "left": null
          }
        },
        "48edd718ffbe4ee3a7b11a550db6cd9b": {
          "model_module": "@jupyter-widgets/controls",
          "model_name": "FloatProgressModel",
          "state": {
            "_view_name": "ProgressView",
            "style": "IPY_MODEL_57f4ac09d88c4bcf80c05ce28063a571",
            "_dom_classes": [],
            "description": "Epoch 8: 100%",
            "_model_name": "FloatProgressModel",
            "bar_style": "",
            "max": 563,
            "_view_module": "@jupyter-widgets/controls",
            "_model_module_version": "1.5.0",
            "value": 563,
            "_view_count": null,
            "_view_module_version": "1.5.0",
            "orientation": "horizontal",
            "min": 0,
            "description_tooltip": null,
            "_model_module": "@jupyter-widgets/controls",
            "layout": "IPY_MODEL_1692443e8ef24077a25dfce599877c66"
          }
        },
        "4b47124492044274872dd87149b8e87f": {
          "model_module": "@jupyter-widgets/controls",
          "model_name": "HTMLModel",
          "state": {
            "_view_name": "HTMLView",
            "style": "IPY_MODEL_13c1607d9239492c8c76598c35bf1623",
            "_dom_classes": [],
            "description": "",
            "_model_name": "HTMLModel",
            "placeholder": "​",
            "_view_module": "@jupyter-widgets/controls",
            "_model_module_version": "1.5.0",
            "value": " 563/563 [00:07&lt;00:00, 72.02it/s, loss=0.0874]",
            "_view_count": null,
            "_view_module_version": "1.5.0",
            "description_tooltip": null,
            "_model_module": "@jupyter-widgets/controls",
            "layout": "IPY_MODEL_5371cc162d5d439985e26a1e4ce17cae"
          }
        },
        "57f4ac09d88c4bcf80c05ce28063a571": {
          "model_module": "@jupyter-widgets/controls",
          "model_name": "ProgressStyleModel",
          "state": {
            "_view_name": "StyleView",
            "_model_name": "ProgressStyleModel",
            "description_width": "initial",
            "_view_module": "@jupyter-widgets/base",
            "_model_module_version": "1.5.0",
            "_view_count": null,
            "_view_module_version": "1.2.0",
            "bar_color": null,
            "_model_module": "@jupyter-widgets/controls"
          }
        },
        "1692443e8ef24077a25dfce599877c66": {
          "model_module": "@jupyter-widgets/base",
          "model_name": "LayoutModel",
          "state": {
            "_view_name": "LayoutView",
            "grid_template_rows": null,
            "right": null,
            "justify_content": null,
            "_view_module": "@jupyter-widgets/base",
            "overflow": null,
            "_model_module_version": "1.2.0",
            "_view_count": null,
            "flex_flow": null,
            "width": null,
            "min_width": null,
            "border": null,
            "align_items": null,
            "bottom": null,
            "_model_module": "@jupyter-widgets/base",
            "top": null,
            "grid_column": null,
            "overflow_y": null,
            "overflow_x": null,
            "grid_auto_flow": null,
            "grid_area": null,
            "grid_template_columns": null,
            "flex": null,
            "_model_name": "LayoutModel",
            "justify_items": null,
            "grid_row": null,
            "max_height": null,
            "align_content": null,
            "visibility": null,
            "align_self": null,
            "height": null,
            "min_height": null,
            "padding": null,
            "grid_auto_rows": null,
            "grid_gap": null,
            "max_width": null,
            "order": null,
            "_view_module_version": "1.2.0",
            "grid_template_areas": null,
            "object_position": null,
            "object_fit": null,
            "grid_auto_columns": null,
            "margin": null,
            "display": null,
            "left": null
          }
        },
        "13c1607d9239492c8c76598c35bf1623": {
          "model_module": "@jupyter-widgets/controls",
          "model_name": "DescriptionStyleModel",
          "state": {
            "_view_name": "StyleView",
            "_model_name": "DescriptionStyleModel",
            "description_width": "",
            "_view_module": "@jupyter-widgets/base",
            "_model_module_version": "1.5.0",
            "_view_count": null,
            "_view_module_version": "1.2.0",
            "_model_module": "@jupyter-widgets/controls"
          }
        },
        "5371cc162d5d439985e26a1e4ce17cae": {
          "model_module": "@jupyter-widgets/base",
          "model_name": "LayoutModel",
          "state": {
            "_view_name": "LayoutView",
            "grid_template_rows": null,
            "right": null,
            "justify_content": null,
            "_view_module": "@jupyter-widgets/base",
            "overflow": null,
            "_model_module_version": "1.2.0",
            "_view_count": null,
            "flex_flow": null,
            "width": null,
            "min_width": null,
            "border": null,
            "align_items": null,
            "bottom": null,
            "_model_module": "@jupyter-widgets/base",
            "top": null,
            "grid_column": null,
            "overflow_y": null,
            "overflow_x": null,
            "grid_auto_flow": null,
            "grid_area": null,
            "grid_template_columns": null,
            "flex": null,
            "_model_name": "LayoutModel",
            "justify_items": null,
            "grid_row": null,
            "max_height": null,
            "align_content": null,
            "visibility": null,
            "align_self": null,
            "height": null,
            "min_height": null,
            "padding": null,
            "grid_auto_rows": null,
            "grid_gap": null,
            "max_width": null,
            "order": null,
            "_view_module_version": "1.2.0",
            "grid_template_areas": null,
            "object_position": null,
            "object_fit": null,
            "grid_auto_columns": null,
            "margin": null,
            "display": null,
            "left": null
          }
        },
        "79b9ab221dd844939fe871f408574d7b": {
          "model_module": "@jupyter-widgets/controls",
          "model_name": "HBoxModel",
          "state": {
            "_view_name": "HBoxView",
            "_dom_classes": [],
            "_model_name": "HBoxModel",
            "_view_module": "@jupyter-widgets/controls",
            "_model_module_version": "1.5.0",
            "_view_count": null,
            "_view_module_version": "1.5.0",
            "box_style": "",
            "layout": "IPY_MODEL_73dcec5db3504dc890b147af3dfebe58",
            "_model_module": "@jupyter-widgets/controls",
            "children": [
              "IPY_MODEL_ab8ac96673d645438a724e371a0777c4",
              "IPY_MODEL_c727da9540554553956114698d451d2f"
            ]
          }
        },
        "73dcec5db3504dc890b147af3dfebe58": {
          "model_module": "@jupyter-widgets/base",
          "model_name": "LayoutModel",
          "state": {
            "_view_name": "LayoutView",
            "grid_template_rows": null,
            "right": null,
            "justify_content": null,
            "_view_module": "@jupyter-widgets/base",
            "overflow": null,
            "_model_module_version": "1.2.0",
            "_view_count": null,
            "flex_flow": null,
            "width": null,
            "min_width": null,
            "border": null,
            "align_items": null,
            "bottom": null,
            "_model_module": "@jupyter-widgets/base",
            "top": null,
            "grid_column": null,
            "overflow_y": null,
            "overflow_x": null,
            "grid_auto_flow": null,
            "grid_area": null,
            "grid_template_columns": null,
            "flex": null,
            "_model_name": "LayoutModel",
            "justify_items": null,
            "grid_row": null,
            "max_height": null,
            "align_content": null,
            "visibility": null,
            "align_self": null,
            "height": null,
            "min_height": null,
            "padding": null,
            "grid_auto_rows": null,
            "grid_gap": null,
            "max_width": null,
            "order": null,
            "_view_module_version": "1.2.0",
            "grid_template_areas": null,
            "object_position": null,
            "object_fit": null,
            "grid_auto_columns": null,
            "margin": null,
            "display": null,
            "left": null
          }
        },
        "ab8ac96673d645438a724e371a0777c4": {
          "model_module": "@jupyter-widgets/controls",
          "model_name": "FloatProgressModel",
          "state": {
            "_view_name": "ProgressView",
            "style": "IPY_MODEL_8d85f9d770644601bac66b539654a906",
            "_dom_classes": [],
            "description": "100%",
            "_model_name": "FloatProgressModel",
            "bar_style": "",
            "max": 141,
            "_view_module": "@jupyter-widgets/controls",
            "_model_module_version": "1.5.0",
            "value": 141,
            "_view_count": null,
            "_view_module_version": "1.5.0",
            "orientation": "horizontal",
            "min": 0,
            "description_tooltip": null,
            "_model_module": "@jupyter-widgets/controls",
            "layout": "IPY_MODEL_40704f9bf1eb405a8975f4a5d0f9c7a0"
          }
        },
        "c727da9540554553956114698d451d2f": {
          "model_module": "@jupyter-widgets/controls",
          "model_name": "HTMLModel",
          "state": {
            "_view_name": "HTMLView",
            "style": "IPY_MODEL_cdd6f7234bc04d3e81d842dd0656b75c",
            "_dom_classes": [],
            "description": "",
            "_model_name": "HTMLModel",
            "placeholder": "​",
            "_view_module": "@jupyter-widgets/controls",
            "_model_module_version": "1.5.0",
            "value": " 141/141 [00:00&lt;00:00, 199.83it/s]",
            "_view_count": null,
            "_view_module_version": "1.5.0",
            "description_tooltip": null,
            "_model_module": "@jupyter-widgets/controls",
            "layout": "IPY_MODEL_eb2887b10690457b8c4db8cddaed35ce"
          }
        },
        "8d85f9d770644601bac66b539654a906": {
          "model_module": "@jupyter-widgets/controls",
          "model_name": "ProgressStyleModel",
          "state": {
            "_view_name": "StyleView",
            "_model_name": "ProgressStyleModel",
            "description_width": "initial",
            "_view_module": "@jupyter-widgets/base",
            "_model_module_version": "1.5.0",
            "_view_count": null,
            "_view_module_version": "1.2.0",
            "bar_color": null,
            "_model_module": "@jupyter-widgets/controls"
          }
        },
        "40704f9bf1eb405a8975f4a5d0f9c7a0": {
          "model_module": "@jupyter-widgets/base",
          "model_name": "LayoutModel",
          "state": {
            "_view_name": "LayoutView",
            "grid_template_rows": null,
            "right": null,
            "justify_content": null,
            "_view_module": "@jupyter-widgets/base",
            "overflow": null,
            "_model_module_version": "1.2.0",
            "_view_count": null,
            "flex_flow": null,
            "width": null,
            "min_width": null,
            "border": null,
            "align_items": null,
            "bottom": null,
            "_model_module": "@jupyter-widgets/base",
            "top": null,
            "grid_column": null,
            "overflow_y": null,
            "overflow_x": null,
            "grid_auto_flow": null,
            "grid_area": null,
            "grid_template_columns": null,
            "flex": null,
            "_model_name": "LayoutModel",
            "justify_items": null,
            "grid_row": null,
            "max_height": null,
            "align_content": null,
            "visibility": null,
            "align_self": null,
            "height": null,
            "min_height": null,
            "padding": null,
            "grid_auto_rows": null,
            "grid_gap": null,
            "max_width": null,
            "order": null,
            "_view_module_version": "1.2.0",
            "grid_template_areas": null,
            "object_position": null,
            "object_fit": null,
            "grid_auto_columns": null,
            "margin": null,
            "display": null,
            "left": null
          }
        },
        "cdd6f7234bc04d3e81d842dd0656b75c": {
          "model_module": "@jupyter-widgets/controls",
          "model_name": "DescriptionStyleModel",
          "state": {
            "_view_name": "StyleView",
            "_model_name": "DescriptionStyleModel",
            "description_width": "",
            "_view_module": "@jupyter-widgets/base",
            "_model_module_version": "1.5.0",
            "_view_count": null,
            "_view_module_version": "1.2.0",
            "_model_module": "@jupyter-widgets/controls"
          }
        },
        "eb2887b10690457b8c4db8cddaed35ce": {
          "model_module": "@jupyter-widgets/base",
          "model_name": "LayoutModel",
          "state": {
            "_view_name": "LayoutView",
            "grid_template_rows": null,
            "right": null,
            "justify_content": null,
            "_view_module": "@jupyter-widgets/base",
            "overflow": null,
            "_model_module_version": "1.2.0",
            "_view_count": null,
            "flex_flow": null,
            "width": null,
            "min_width": null,
            "border": null,
            "align_items": null,
            "bottom": null,
            "_model_module": "@jupyter-widgets/base",
            "top": null,
            "grid_column": null,
            "overflow_y": null,
            "overflow_x": null,
            "grid_auto_flow": null,
            "grid_area": null,
            "grid_template_columns": null,
            "flex": null,
            "_model_name": "LayoutModel",
            "justify_items": null,
            "grid_row": null,
            "max_height": null,
            "align_content": null,
            "visibility": null,
            "align_self": null,
            "height": null,
            "min_height": null,
            "padding": null,
            "grid_auto_rows": null,
            "grid_gap": null,
            "max_width": null,
            "order": null,
            "_view_module_version": "1.2.0",
            "grid_template_areas": null,
            "object_position": null,
            "object_fit": null,
            "grid_auto_columns": null,
            "margin": null,
            "display": null,
            "left": null
          }
        },
        "6465ff9482a647239df8d2bd3b2b5d27": {
          "model_module": "@jupyter-widgets/controls",
          "model_name": "HBoxModel",
          "state": {
            "_view_name": "HBoxView",
            "_dom_classes": [],
            "_model_name": "HBoxModel",
            "_view_module": "@jupyter-widgets/controls",
            "_model_module_version": "1.5.0",
            "_view_count": null,
            "_view_module_version": "1.5.0",
            "box_style": "",
            "layout": "IPY_MODEL_7bc0a59c6d8a41abad026970f0f1a679",
            "_model_module": "@jupyter-widgets/controls",
            "children": [
              "IPY_MODEL_94a9c6eb33654928845c92f850165726",
              "IPY_MODEL_e58d51f0cdf8458a8d781100aced2d86"
            ]
          }
        },
        "7bc0a59c6d8a41abad026970f0f1a679": {
          "model_module": "@jupyter-widgets/base",
          "model_name": "LayoutModel",
          "state": {
            "_view_name": "LayoutView",
            "grid_template_rows": null,
            "right": null,
            "justify_content": null,
            "_view_module": "@jupyter-widgets/base",
            "overflow": null,
            "_model_module_version": "1.2.0",
            "_view_count": null,
            "flex_flow": null,
            "width": null,
            "min_width": null,
            "border": null,
            "align_items": null,
            "bottom": null,
            "_model_module": "@jupyter-widgets/base",
            "top": null,
            "grid_column": null,
            "overflow_y": null,
            "overflow_x": null,
            "grid_auto_flow": null,
            "grid_area": null,
            "grid_template_columns": null,
            "flex": null,
            "_model_name": "LayoutModel",
            "justify_items": null,
            "grid_row": null,
            "max_height": null,
            "align_content": null,
            "visibility": null,
            "align_self": null,
            "height": null,
            "min_height": null,
            "padding": null,
            "grid_auto_rows": null,
            "grid_gap": null,
            "max_width": null,
            "order": null,
            "_view_module_version": "1.2.0",
            "grid_template_areas": null,
            "object_position": null,
            "object_fit": null,
            "grid_auto_columns": null,
            "margin": null,
            "display": null,
            "left": null
          }
        },
        "94a9c6eb33654928845c92f850165726": {
          "model_module": "@jupyter-widgets/controls",
          "model_name": "FloatProgressModel",
          "state": {
            "_view_name": "ProgressView",
            "style": "IPY_MODEL_259fdf7f6fc44103b06f1ee3837b4069",
            "_dom_classes": [],
            "description": "Epoch 9: 100%",
            "_model_name": "FloatProgressModel",
            "bar_style": "",
            "max": 563,
            "_view_module": "@jupyter-widgets/controls",
            "_model_module_version": "1.5.0",
            "value": 563,
            "_view_count": null,
            "_view_module_version": "1.5.0",
            "orientation": "horizontal",
            "min": 0,
            "description_tooltip": null,
            "_model_module": "@jupyter-widgets/controls",
            "layout": "IPY_MODEL_447cf54c1f814d1ca48345c015c2a950"
          }
        },
        "e58d51f0cdf8458a8d781100aced2d86": {
          "model_module": "@jupyter-widgets/controls",
          "model_name": "HTMLModel",
          "state": {
            "_view_name": "HTMLView",
            "style": "IPY_MODEL_9c4798b224c6433f92ee7a784519c4b4",
            "_dom_classes": [],
            "description": "",
            "_model_name": "HTMLModel",
            "placeholder": "​",
            "_view_module": "@jupyter-widgets/controls",
            "_model_module_version": "1.5.0",
            "value": " 563/563 [00:08&lt;00:00, 70.83it/s, loss=0.0615]",
            "_view_count": null,
            "_view_module_version": "1.5.0",
            "description_tooltip": null,
            "_model_module": "@jupyter-widgets/controls",
            "layout": "IPY_MODEL_864a7bfd0136444f932306b83445190b"
          }
        },
        "259fdf7f6fc44103b06f1ee3837b4069": {
          "model_module": "@jupyter-widgets/controls",
          "model_name": "ProgressStyleModel",
          "state": {
            "_view_name": "StyleView",
            "_model_name": "ProgressStyleModel",
            "description_width": "initial",
            "_view_module": "@jupyter-widgets/base",
            "_model_module_version": "1.5.0",
            "_view_count": null,
            "_view_module_version": "1.2.0",
            "bar_color": null,
            "_model_module": "@jupyter-widgets/controls"
          }
        },
        "447cf54c1f814d1ca48345c015c2a950": {
          "model_module": "@jupyter-widgets/base",
          "model_name": "LayoutModel",
          "state": {
            "_view_name": "LayoutView",
            "grid_template_rows": null,
            "right": null,
            "justify_content": null,
            "_view_module": "@jupyter-widgets/base",
            "overflow": null,
            "_model_module_version": "1.2.0",
            "_view_count": null,
            "flex_flow": null,
            "width": null,
            "min_width": null,
            "border": null,
            "align_items": null,
            "bottom": null,
            "_model_module": "@jupyter-widgets/base",
            "top": null,
            "grid_column": null,
            "overflow_y": null,
            "overflow_x": null,
            "grid_auto_flow": null,
            "grid_area": null,
            "grid_template_columns": null,
            "flex": null,
            "_model_name": "LayoutModel",
            "justify_items": null,
            "grid_row": null,
            "max_height": null,
            "align_content": null,
            "visibility": null,
            "align_self": null,
            "height": null,
            "min_height": null,
            "padding": null,
            "grid_auto_rows": null,
            "grid_gap": null,
            "max_width": null,
            "order": null,
            "_view_module_version": "1.2.0",
            "grid_template_areas": null,
            "object_position": null,
            "object_fit": null,
            "grid_auto_columns": null,
            "margin": null,
            "display": null,
            "left": null
          }
        },
        "9c4798b224c6433f92ee7a784519c4b4": {
          "model_module": "@jupyter-widgets/controls",
          "model_name": "DescriptionStyleModel",
          "state": {
            "_view_name": "StyleView",
            "_model_name": "DescriptionStyleModel",
            "description_width": "",
            "_view_module": "@jupyter-widgets/base",
            "_model_module_version": "1.5.0",
            "_view_count": null,
            "_view_module_version": "1.2.0",
            "_model_module": "@jupyter-widgets/controls"
          }
        },
        "864a7bfd0136444f932306b83445190b": {
          "model_module": "@jupyter-widgets/base",
          "model_name": "LayoutModel",
          "state": {
            "_view_name": "LayoutView",
            "grid_template_rows": null,
            "right": null,
            "justify_content": null,
            "_view_module": "@jupyter-widgets/base",
            "overflow": null,
            "_model_module_version": "1.2.0",
            "_view_count": null,
            "flex_flow": null,
            "width": null,
            "min_width": null,
            "border": null,
            "align_items": null,
            "bottom": null,
            "_model_module": "@jupyter-widgets/base",
            "top": null,
            "grid_column": null,
            "overflow_y": null,
            "overflow_x": null,
            "grid_auto_flow": null,
            "grid_area": null,
            "grid_template_columns": null,
            "flex": null,
            "_model_name": "LayoutModel",
            "justify_items": null,
            "grid_row": null,
            "max_height": null,
            "align_content": null,
            "visibility": null,
            "align_self": null,
            "height": null,
            "min_height": null,
            "padding": null,
            "grid_auto_rows": null,
            "grid_gap": null,
            "max_width": null,
            "order": null,
            "_view_module_version": "1.2.0",
            "grid_template_areas": null,
            "object_position": null,
            "object_fit": null,
            "grid_auto_columns": null,
            "margin": null,
            "display": null,
            "left": null
          }
        },
        "e5d164afdf194ab48c9c132215e92606": {
          "model_module": "@jupyter-widgets/controls",
          "model_name": "HBoxModel",
          "state": {
            "_view_name": "HBoxView",
            "_dom_classes": [],
            "_model_name": "HBoxModel",
            "_view_module": "@jupyter-widgets/controls",
            "_model_module_version": "1.5.0",
            "_view_count": null,
            "_view_module_version": "1.5.0",
            "box_style": "",
            "layout": "IPY_MODEL_919ed07b0fb740b2a181a00c68d6e4af",
            "_model_module": "@jupyter-widgets/controls",
            "children": [
              "IPY_MODEL_b07485b3a0e74cdda0c435aac6242336",
              "IPY_MODEL_b74d9ff1d2a94b0e803b49f4c7a7892c"
            ]
          }
        },
        "919ed07b0fb740b2a181a00c68d6e4af": {
          "model_module": "@jupyter-widgets/base",
          "model_name": "LayoutModel",
          "state": {
            "_view_name": "LayoutView",
            "grid_template_rows": null,
            "right": null,
            "justify_content": null,
            "_view_module": "@jupyter-widgets/base",
            "overflow": null,
            "_model_module_version": "1.2.0",
            "_view_count": null,
            "flex_flow": null,
            "width": null,
            "min_width": null,
            "border": null,
            "align_items": null,
            "bottom": null,
            "_model_module": "@jupyter-widgets/base",
            "top": null,
            "grid_column": null,
            "overflow_y": null,
            "overflow_x": null,
            "grid_auto_flow": null,
            "grid_area": null,
            "grid_template_columns": null,
            "flex": null,
            "_model_name": "LayoutModel",
            "justify_items": null,
            "grid_row": null,
            "max_height": null,
            "align_content": null,
            "visibility": null,
            "align_self": null,
            "height": null,
            "min_height": null,
            "padding": null,
            "grid_auto_rows": null,
            "grid_gap": null,
            "max_width": null,
            "order": null,
            "_view_module_version": "1.2.0",
            "grid_template_areas": null,
            "object_position": null,
            "object_fit": null,
            "grid_auto_columns": null,
            "margin": null,
            "display": null,
            "left": null
          }
        },
        "b07485b3a0e74cdda0c435aac6242336": {
          "model_module": "@jupyter-widgets/controls",
          "model_name": "FloatProgressModel",
          "state": {
            "_view_name": "ProgressView",
            "style": "IPY_MODEL_7941d081c0314e5aaacb04e7c6e81923",
            "_dom_classes": [],
            "description": "100%",
            "_model_name": "FloatProgressModel",
            "bar_style": "",
            "max": 141,
            "_view_module": "@jupyter-widgets/controls",
            "_model_module_version": "1.5.0",
            "value": 141,
            "_view_count": null,
            "_view_module_version": "1.5.0",
            "orientation": "horizontal",
            "min": 0,
            "description_tooltip": null,
            "_model_module": "@jupyter-widgets/controls",
            "layout": "IPY_MODEL_ff7658e70cd243619e47b31d505bd1a0"
          }
        },
        "b74d9ff1d2a94b0e803b49f4c7a7892c": {
          "model_module": "@jupyter-widgets/controls",
          "model_name": "HTMLModel",
          "state": {
            "_view_name": "HTMLView",
            "style": "IPY_MODEL_834375ee4f9248e7912685b46b34f75f",
            "_dom_classes": [],
            "description": "",
            "_model_name": "HTMLModel",
            "placeholder": "​",
            "_view_module": "@jupyter-widgets/controls",
            "_model_module_version": "1.5.0",
            "value": " 141/141 [00:00&lt;00:00, 197.85it/s]",
            "_view_count": null,
            "_view_module_version": "1.5.0",
            "description_tooltip": null,
            "_model_module": "@jupyter-widgets/controls",
            "layout": "IPY_MODEL_3d2026279bb4481193bc64ec4e075847"
          }
        },
        "7941d081c0314e5aaacb04e7c6e81923": {
          "model_module": "@jupyter-widgets/controls",
          "model_name": "ProgressStyleModel",
          "state": {
            "_view_name": "StyleView",
            "_model_name": "ProgressStyleModel",
            "description_width": "initial",
            "_view_module": "@jupyter-widgets/base",
            "_model_module_version": "1.5.0",
            "_view_count": null,
            "_view_module_version": "1.2.0",
            "bar_color": null,
            "_model_module": "@jupyter-widgets/controls"
          }
        },
        "ff7658e70cd243619e47b31d505bd1a0": {
          "model_module": "@jupyter-widgets/base",
          "model_name": "LayoutModel",
          "state": {
            "_view_name": "LayoutView",
            "grid_template_rows": null,
            "right": null,
            "justify_content": null,
            "_view_module": "@jupyter-widgets/base",
            "overflow": null,
            "_model_module_version": "1.2.0",
            "_view_count": null,
            "flex_flow": null,
            "width": null,
            "min_width": null,
            "border": null,
            "align_items": null,
            "bottom": null,
            "_model_module": "@jupyter-widgets/base",
            "top": null,
            "grid_column": null,
            "overflow_y": null,
            "overflow_x": null,
            "grid_auto_flow": null,
            "grid_area": null,
            "grid_template_columns": null,
            "flex": null,
            "_model_name": "LayoutModel",
            "justify_items": null,
            "grid_row": null,
            "max_height": null,
            "align_content": null,
            "visibility": null,
            "align_self": null,
            "height": null,
            "min_height": null,
            "padding": null,
            "grid_auto_rows": null,
            "grid_gap": null,
            "max_width": null,
            "order": null,
            "_view_module_version": "1.2.0",
            "grid_template_areas": null,
            "object_position": null,
            "object_fit": null,
            "grid_auto_columns": null,
            "margin": null,
            "display": null,
            "left": null
          }
        },
        "834375ee4f9248e7912685b46b34f75f": {
          "model_module": "@jupyter-widgets/controls",
          "model_name": "DescriptionStyleModel",
          "state": {
            "_view_name": "StyleView",
            "_model_name": "DescriptionStyleModel",
            "description_width": "",
            "_view_module": "@jupyter-widgets/base",
            "_model_module_version": "1.5.0",
            "_view_count": null,
            "_view_module_version": "1.2.0",
            "_model_module": "@jupyter-widgets/controls"
          }
        },
        "3d2026279bb4481193bc64ec4e075847": {
          "model_module": "@jupyter-widgets/base",
          "model_name": "LayoutModel",
          "state": {
            "_view_name": "LayoutView",
            "grid_template_rows": null,
            "right": null,
            "justify_content": null,
            "_view_module": "@jupyter-widgets/base",
            "overflow": null,
            "_model_module_version": "1.2.0",
            "_view_count": null,
            "flex_flow": null,
            "width": null,
            "min_width": null,
            "border": null,
            "align_items": null,
            "bottom": null,
            "_model_module": "@jupyter-widgets/base",
            "top": null,
            "grid_column": null,
            "overflow_y": null,
            "overflow_x": null,
            "grid_auto_flow": null,
            "grid_area": null,
            "grid_template_columns": null,
            "flex": null,
            "_model_name": "LayoutModel",
            "justify_items": null,
            "grid_row": null,
            "max_height": null,
            "align_content": null,
            "visibility": null,
            "align_self": null,
            "height": null,
            "min_height": null,
            "padding": null,
            "grid_auto_rows": null,
            "grid_gap": null,
            "max_width": null,
            "order": null,
            "_view_module_version": "1.2.0",
            "grid_template_areas": null,
            "object_position": null,
            "object_fit": null,
            "grid_auto_columns": null,
            "margin": null,
            "display": null,
            "left": null
          }
        },
        "7e46b0c0c8834966ad808f73d10a4ca7": {
          "model_module": "@jupyter-widgets/controls",
          "model_name": "HBoxModel",
          "state": {
            "_view_name": "HBoxView",
            "_dom_classes": [],
            "_model_name": "HBoxModel",
            "_view_module": "@jupyter-widgets/controls",
            "_model_module_version": "1.5.0",
            "_view_count": null,
            "_view_module_version": "1.5.0",
            "box_style": "",
            "layout": "IPY_MODEL_68613169aadd4175b3f4dfb9540d9ccb",
            "_model_module": "@jupyter-widgets/controls",
            "children": [
              "IPY_MODEL_c581d1e6c477450a8c32903d389db61b",
              "IPY_MODEL_c6464f50068d401ea87251e219ecf201"
            ]
          }
        },
        "68613169aadd4175b3f4dfb9540d9ccb": {
          "model_module": "@jupyter-widgets/base",
          "model_name": "LayoutModel",
          "state": {
            "_view_name": "LayoutView",
            "grid_template_rows": null,
            "right": null,
            "justify_content": null,
            "_view_module": "@jupyter-widgets/base",
            "overflow": null,
            "_model_module_version": "1.2.0",
            "_view_count": null,
            "flex_flow": null,
            "width": null,
            "min_width": null,
            "border": null,
            "align_items": null,
            "bottom": null,
            "_model_module": "@jupyter-widgets/base",
            "top": null,
            "grid_column": null,
            "overflow_y": null,
            "overflow_x": null,
            "grid_auto_flow": null,
            "grid_area": null,
            "grid_template_columns": null,
            "flex": null,
            "_model_name": "LayoutModel",
            "justify_items": null,
            "grid_row": null,
            "max_height": null,
            "align_content": null,
            "visibility": null,
            "align_self": null,
            "height": null,
            "min_height": null,
            "padding": null,
            "grid_auto_rows": null,
            "grid_gap": null,
            "max_width": null,
            "order": null,
            "_view_module_version": "1.2.0",
            "grid_template_areas": null,
            "object_position": null,
            "object_fit": null,
            "grid_auto_columns": null,
            "margin": null,
            "display": null,
            "left": null
          }
        },
        "c581d1e6c477450a8c32903d389db61b": {
          "model_module": "@jupyter-widgets/controls",
          "model_name": "FloatProgressModel",
          "state": {
            "_view_name": "ProgressView",
            "style": "IPY_MODEL_28997a997e0040c7bb2b793831358a89",
            "_dom_classes": [],
            "description": "Epoch 10: 100%",
            "_model_name": "FloatProgressModel",
            "bar_style": "",
            "max": 563,
            "_view_module": "@jupyter-widgets/controls",
            "_model_module_version": "1.5.0",
            "value": 563,
            "_view_count": null,
            "_view_module_version": "1.5.0",
            "orientation": "horizontal",
            "min": 0,
            "description_tooltip": null,
            "_model_module": "@jupyter-widgets/controls",
            "layout": "IPY_MODEL_f5f4492507684aa3b2bc678816967b31"
          }
        },
        "c6464f50068d401ea87251e219ecf201": {
          "model_module": "@jupyter-widgets/controls",
          "model_name": "HTMLModel",
          "state": {
            "_view_name": "HTMLView",
            "style": "IPY_MODEL_09e91e43b9e943b8b68cc47ecbe48006",
            "_dom_classes": [],
            "description": "",
            "_model_name": "HTMLModel",
            "placeholder": "​",
            "_view_module": "@jupyter-widgets/controls",
            "_model_module_version": "1.5.0",
            "value": " 563/563 [00:07&lt;00:00, 72.04it/s, loss=0.132]",
            "_view_count": null,
            "_view_module_version": "1.5.0",
            "description_tooltip": null,
            "_model_module": "@jupyter-widgets/controls",
            "layout": "IPY_MODEL_6665e4132fd94ababaa5c4a23960e5e5"
          }
        },
        "28997a997e0040c7bb2b793831358a89": {
          "model_module": "@jupyter-widgets/controls",
          "model_name": "ProgressStyleModel",
          "state": {
            "_view_name": "StyleView",
            "_model_name": "ProgressStyleModel",
            "description_width": "initial",
            "_view_module": "@jupyter-widgets/base",
            "_model_module_version": "1.5.0",
            "_view_count": null,
            "_view_module_version": "1.2.0",
            "bar_color": null,
            "_model_module": "@jupyter-widgets/controls"
          }
        },
        "f5f4492507684aa3b2bc678816967b31": {
          "model_module": "@jupyter-widgets/base",
          "model_name": "LayoutModel",
          "state": {
            "_view_name": "LayoutView",
            "grid_template_rows": null,
            "right": null,
            "justify_content": null,
            "_view_module": "@jupyter-widgets/base",
            "overflow": null,
            "_model_module_version": "1.2.0",
            "_view_count": null,
            "flex_flow": null,
            "width": null,
            "min_width": null,
            "border": null,
            "align_items": null,
            "bottom": null,
            "_model_module": "@jupyter-widgets/base",
            "top": null,
            "grid_column": null,
            "overflow_y": null,
            "overflow_x": null,
            "grid_auto_flow": null,
            "grid_area": null,
            "grid_template_columns": null,
            "flex": null,
            "_model_name": "LayoutModel",
            "justify_items": null,
            "grid_row": null,
            "max_height": null,
            "align_content": null,
            "visibility": null,
            "align_self": null,
            "height": null,
            "min_height": null,
            "padding": null,
            "grid_auto_rows": null,
            "grid_gap": null,
            "max_width": null,
            "order": null,
            "_view_module_version": "1.2.0",
            "grid_template_areas": null,
            "object_position": null,
            "object_fit": null,
            "grid_auto_columns": null,
            "margin": null,
            "display": null,
            "left": null
          }
        },
        "09e91e43b9e943b8b68cc47ecbe48006": {
          "model_module": "@jupyter-widgets/controls",
          "model_name": "DescriptionStyleModel",
          "state": {
            "_view_name": "StyleView",
            "_model_name": "DescriptionStyleModel",
            "description_width": "",
            "_view_module": "@jupyter-widgets/base",
            "_model_module_version": "1.5.0",
            "_view_count": null,
            "_view_module_version": "1.2.0",
            "_model_module": "@jupyter-widgets/controls"
          }
        },
        "6665e4132fd94ababaa5c4a23960e5e5": {
          "model_module": "@jupyter-widgets/base",
          "model_name": "LayoutModel",
          "state": {
            "_view_name": "LayoutView",
            "grid_template_rows": null,
            "right": null,
            "justify_content": null,
            "_view_module": "@jupyter-widgets/base",
            "overflow": null,
            "_model_module_version": "1.2.0",
            "_view_count": null,
            "flex_flow": null,
            "width": null,
            "min_width": null,
            "border": null,
            "align_items": null,
            "bottom": null,
            "_model_module": "@jupyter-widgets/base",
            "top": null,
            "grid_column": null,
            "overflow_y": null,
            "overflow_x": null,
            "grid_auto_flow": null,
            "grid_area": null,
            "grid_template_columns": null,
            "flex": null,
            "_model_name": "LayoutModel",
            "justify_items": null,
            "grid_row": null,
            "max_height": null,
            "align_content": null,
            "visibility": null,
            "align_self": null,
            "height": null,
            "min_height": null,
            "padding": null,
            "grid_auto_rows": null,
            "grid_gap": null,
            "max_width": null,
            "order": null,
            "_view_module_version": "1.2.0",
            "grid_template_areas": null,
            "object_position": null,
            "object_fit": null,
            "grid_auto_columns": null,
            "margin": null,
            "display": null,
            "left": null
          }
        },
        "62afe46b95b249b3b6de0df2f67c7506": {
          "model_module": "@jupyter-widgets/controls",
          "model_name": "HBoxModel",
          "state": {
            "_view_name": "HBoxView",
            "_dom_classes": [],
            "_model_name": "HBoxModel",
            "_view_module": "@jupyter-widgets/controls",
            "_model_module_version": "1.5.0",
            "_view_count": null,
            "_view_module_version": "1.5.0",
            "box_style": "",
            "layout": "IPY_MODEL_d8dc14b3d21344539d7c4aedeced7478",
            "_model_module": "@jupyter-widgets/controls",
            "children": [
              "IPY_MODEL_f98c4dcb545e45a79d0180f176d48368",
              "IPY_MODEL_baf9ca68016847f2aa8541742515e0f0"
            ]
          }
        },
        "d8dc14b3d21344539d7c4aedeced7478": {
          "model_module": "@jupyter-widgets/base",
          "model_name": "LayoutModel",
          "state": {
            "_view_name": "LayoutView",
            "grid_template_rows": null,
            "right": null,
            "justify_content": null,
            "_view_module": "@jupyter-widgets/base",
            "overflow": null,
            "_model_module_version": "1.2.0",
            "_view_count": null,
            "flex_flow": null,
            "width": null,
            "min_width": null,
            "border": null,
            "align_items": null,
            "bottom": null,
            "_model_module": "@jupyter-widgets/base",
            "top": null,
            "grid_column": null,
            "overflow_y": null,
            "overflow_x": null,
            "grid_auto_flow": null,
            "grid_area": null,
            "grid_template_columns": null,
            "flex": null,
            "_model_name": "LayoutModel",
            "justify_items": null,
            "grid_row": null,
            "max_height": null,
            "align_content": null,
            "visibility": null,
            "align_self": null,
            "height": null,
            "min_height": null,
            "padding": null,
            "grid_auto_rows": null,
            "grid_gap": null,
            "max_width": null,
            "order": null,
            "_view_module_version": "1.2.0",
            "grid_template_areas": null,
            "object_position": null,
            "object_fit": null,
            "grid_auto_columns": null,
            "margin": null,
            "display": null,
            "left": null
          }
        },
        "f98c4dcb545e45a79d0180f176d48368": {
          "model_module": "@jupyter-widgets/controls",
          "model_name": "FloatProgressModel",
          "state": {
            "_view_name": "ProgressView",
            "style": "IPY_MODEL_a83a868e118345c39b5c115be91e6b13",
            "_dom_classes": [],
            "description": "100%",
            "_model_name": "FloatProgressModel",
            "bar_style": "",
            "max": 141,
            "_view_module": "@jupyter-widgets/controls",
            "_model_module_version": "1.5.0",
            "value": 141,
            "_view_count": null,
            "_view_module_version": "1.5.0",
            "orientation": "horizontal",
            "min": 0,
            "description_tooltip": null,
            "_model_module": "@jupyter-widgets/controls",
            "layout": "IPY_MODEL_accc5813317440a59d97bfa7e73ee82e"
          }
        },
        "baf9ca68016847f2aa8541742515e0f0": {
          "model_module": "@jupyter-widgets/controls",
          "model_name": "HTMLModel",
          "state": {
            "_view_name": "HTMLView",
            "style": "IPY_MODEL_909a2b1672c74fbfa0f683974206eb0f",
            "_dom_classes": [],
            "description": "",
            "_model_name": "HTMLModel",
            "placeholder": "​",
            "_view_module": "@jupyter-widgets/controls",
            "_model_module_version": "1.5.0",
            "value": " 141/141 [00:00&lt;00:00, 161.89it/s]",
            "_view_count": null,
            "_view_module_version": "1.5.0",
            "description_tooltip": null,
            "_model_module": "@jupyter-widgets/controls",
            "layout": "IPY_MODEL_63194bc2434e4ec6a90e512b54787dc1"
          }
        },
        "a83a868e118345c39b5c115be91e6b13": {
          "model_module": "@jupyter-widgets/controls",
          "model_name": "ProgressStyleModel",
          "state": {
            "_view_name": "StyleView",
            "_model_name": "ProgressStyleModel",
            "description_width": "initial",
            "_view_module": "@jupyter-widgets/base",
            "_model_module_version": "1.5.0",
            "_view_count": null,
            "_view_module_version": "1.2.0",
            "bar_color": null,
            "_model_module": "@jupyter-widgets/controls"
          }
        },
        "accc5813317440a59d97bfa7e73ee82e": {
          "model_module": "@jupyter-widgets/base",
          "model_name": "LayoutModel",
          "state": {
            "_view_name": "LayoutView",
            "grid_template_rows": null,
            "right": null,
            "justify_content": null,
            "_view_module": "@jupyter-widgets/base",
            "overflow": null,
            "_model_module_version": "1.2.0",
            "_view_count": null,
            "flex_flow": null,
            "width": null,
            "min_width": null,
            "border": null,
            "align_items": null,
            "bottom": null,
            "_model_module": "@jupyter-widgets/base",
            "top": null,
            "grid_column": null,
            "overflow_y": null,
            "overflow_x": null,
            "grid_auto_flow": null,
            "grid_area": null,
            "grid_template_columns": null,
            "flex": null,
            "_model_name": "LayoutModel",
            "justify_items": null,
            "grid_row": null,
            "max_height": null,
            "align_content": null,
            "visibility": null,
            "align_self": null,
            "height": null,
            "min_height": null,
            "padding": null,
            "grid_auto_rows": null,
            "grid_gap": null,
            "max_width": null,
            "order": null,
            "_view_module_version": "1.2.0",
            "grid_template_areas": null,
            "object_position": null,
            "object_fit": null,
            "grid_auto_columns": null,
            "margin": null,
            "display": null,
            "left": null
          }
        },
        "909a2b1672c74fbfa0f683974206eb0f": {
          "model_module": "@jupyter-widgets/controls",
          "model_name": "DescriptionStyleModel",
          "state": {
            "_view_name": "StyleView",
            "_model_name": "DescriptionStyleModel",
            "description_width": "",
            "_view_module": "@jupyter-widgets/base",
            "_model_module_version": "1.5.0",
            "_view_count": null,
            "_view_module_version": "1.2.0",
            "_model_module": "@jupyter-widgets/controls"
          }
        },
        "63194bc2434e4ec6a90e512b54787dc1": {
          "model_module": "@jupyter-widgets/base",
          "model_name": "LayoutModel",
          "state": {
            "_view_name": "LayoutView",
            "grid_template_rows": null,
            "right": null,
            "justify_content": null,
            "_view_module": "@jupyter-widgets/base",
            "overflow": null,
            "_model_module_version": "1.2.0",
            "_view_count": null,
            "flex_flow": null,
            "width": null,
            "min_width": null,
            "border": null,
            "align_items": null,
            "bottom": null,
            "_model_module": "@jupyter-widgets/base",
            "top": null,
            "grid_column": null,
            "overflow_y": null,
            "overflow_x": null,
            "grid_auto_flow": null,
            "grid_area": null,
            "grid_template_columns": null,
            "flex": null,
            "_model_name": "LayoutModel",
            "justify_items": null,
            "grid_row": null,
            "max_height": null,
            "align_content": null,
            "visibility": null,
            "align_self": null,
            "height": null,
            "min_height": null,
            "padding": null,
            "grid_auto_rows": null,
            "grid_gap": null,
            "max_width": null,
            "order": null,
            "_view_module_version": "1.2.0",
            "grid_template_areas": null,
            "object_position": null,
            "object_fit": null,
            "grid_auto_columns": null,
            "margin": null,
            "display": null,
            "left": null
          }
        },
        "87148b5a19aa4c15a122ebdf799c7181": {
          "model_module": "@jupyter-widgets/controls",
          "model_name": "HBoxModel",
          "state": {
            "_view_name": "HBoxView",
            "_dom_classes": [],
            "_model_name": "HBoxModel",
            "_view_module": "@jupyter-widgets/controls",
            "_model_module_version": "1.5.0",
            "_view_count": null,
            "_view_module_version": "1.5.0",
            "box_style": "",
            "layout": "IPY_MODEL_febb6be6aed948b6964203cd85a428f7",
            "_model_module": "@jupyter-widgets/controls",
            "children": [
              "IPY_MODEL_cfd1f0eb46a74850ba70b0e5a803942a",
              "IPY_MODEL_2b2a29cab3b54598a8f1c3c018395e1b"
            ]
          }
        },
        "febb6be6aed948b6964203cd85a428f7": {
          "model_module": "@jupyter-widgets/base",
          "model_name": "LayoutModel",
          "state": {
            "_view_name": "LayoutView",
            "grid_template_rows": null,
            "right": null,
            "justify_content": null,
            "_view_module": "@jupyter-widgets/base",
            "overflow": null,
            "_model_module_version": "1.2.0",
            "_view_count": null,
            "flex_flow": null,
            "width": null,
            "min_width": null,
            "border": null,
            "align_items": null,
            "bottom": null,
            "_model_module": "@jupyter-widgets/base",
            "top": null,
            "grid_column": null,
            "overflow_y": null,
            "overflow_x": null,
            "grid_auto_flow": null,
            "grid_area": null,
            "grid_template_columns": null,
            "flex": null,
            "_model_name": "LayoutModel",
            "justify_items": null,
            "grid_row": null,
            "max_height": null,
            "align_content": null,
            "visibility": null,
            "align_self": null,
            "height": null,
            "min_height": null,
            "padding": null,
            "grid_auto_rows": null,
            "grid_gap": null,
            "max_width": null,
            "order": null,
            "_view_module_version": "1.2.0",
            "grid_template_areas": null,
            "object_position": null,
            "object_fit": null,
            "grid_auto_columns": null,
            "margin": null,
            "display": null,
            "left": null
          }
        },
        "cfd1f0eb46a74850ba70b0e5a803942a": {
          "model_module": "@jupyter-widgets/controls",
          "model_name": "FloatProgressModel",
          "state": {
            "_view_name": "ProgressView",
            "style": "IPY_MODEL_4dfa9a04cb3f45fe8c9f125d31f055ac",
            "_dom_classes": [],
            "description": "Epoch 11: 100%",
            "_model_name": "FloatProgressModel",
            "bar_style": "",
            "max": 563,
            "_view_module": "@jupyter-widgets/controls",
            "_model_module_version": "1.5.0",
            "value": 563,
            "_view_count": null,
            "_view_module_version": "1.5.0",
            "orientation": "horizontal",
            "min": 0,
            "description_tooltip": null,
            "_model_module": "@jupyter-widgets/controls",
            "layout": "IPY_MODEL_22386860d12542bb9a297f0e1d0e44f8"
          }
        },
        "2b2a29cab3b54598a8f1c3c018395e1b": {
          "model_module": "@jupyter-widgets/controls",
          "model_name": "HTMLModel",
          "state": {
            "_view_name": "HTMLView",
            "style": "IPY_MODEL_5e56e1ae26194df3ab649fd0b49b2fe1",
            "_dom_classes": [],
            "description": "",
            "_model_name": "HTMLModel",
            "placeholder": "​",
            "_view_module": "@jupyter-widgets/controls",
            "_model_module_version": "1.5.0",
            "value": " 563/563 [00:07&lt;00:00, 69.00it/s, loss=0.0842]",
            "_view_count": null,
            "_view_module_version": "1.5.0",
            "description_tooltip": null,
            "_model_module": "@jupyter-widgets/controls",
            "layout": "IPY_MODEL_b64721d285b94e0e91409ff4725fb1e6"
          }
        },
        "4dfa9a04cb3f45fe8c9f125d31f055ac": {
          "model_module": "@jupyter-widgets/controls",
          "model_name": "ProgressStyleModel",
          "state": {
            "_view_name": "StyleView",
            "_model_name": "ProgressStyleModel",
            "description_width": "initial",
            "_view_module": "@jupyter-widgets/base",
            "_model_module_version": "1.5.0",
            "_view_count": null,
            "_view_module_version": "1.2.0",
            "bar_color": null,
            "_model_module": "@jupyter-widgets/controls"
          }
        },
        "22386860d12542bb9a297f0e1d0e44f8": {
          "model_module": "@jupyter-widgets/base",
          "model_name": "LayoutModel",
          "state": {
            "_view_name": "LayoutView",
            "grid_template_rows": null,
            "right": null,
            "justify_content": null,
            "_view_module": "@jupyter-widgets/base",
            "overflow": null,
            "_model_module_version": "1.2.0",
            "_view_count": null,
            "flex_flow": null,
            "width": null,
            "min_width": null,
            "border": null,
            "align_items": null,
            "bottom": null,
            "_model_module": "@jupyter-widgets/base",
            "top": null,
            "grid_column": null,
            "overflow_y": null,
            "overflow_x": null,
            "grid_auto_flow": null,
            "grid_area": null,
            "grid_template_columns": null,
            "flex": null,
            "_model_name": "LayoutModel",
            "justify_items": null,
            "grid_row": null,
            "max_height": null,
            "align_content": null,
            "visibility": null,
            "align_self": null,
            "height": null,
            "min_height": null,
            "padding": null,
            "grid_auto_rows": null,
            "grid_gap": null,
            "max_width": null,
            "order": null,
            "_view_module_version": "1.2.0",
            "grid_template_areas": null,
            "object_position": null,
            "object_fit": null,
            "grid_auto_columns": null,
            "margin": null,
            "display": null,
            "left": null
          }
        },
        "5e56e1ae26194df3ab649fd0b49b2fe1": {
          "model_module": "@jupyter-widgets/controls",
          "model_name": "DescriptionStyleModel",
          "state": {
            "_view_name": "StyleView",
            "_model_name": "DescriptionStyleModel",
            "description_width": "",
            "_view_module": "@jupyter-widgets/base",
            "_model_module_version": "1.5.0",
            "_view_count": null,
            "_view_module_version": "1.2.0",
            "_model_module": "@jupyter-widgets/controls"
          }
        },
        "b64721d285b94e0e91409ff4725fb1e6": {
          "model_module": "@jupyter-widgets/base",
          "model_name": "LayoutModel",
          "state": {
            "_view_name": "LayoutView",
            "grid_template_rows": null,
            "right": null,
            "justify_content": null,
            "_view_module": "@jupyter-widgets/base",
            "overflow": null,
            "_model_module_version": "1.2.0",
            "_view_count": null,
            "flex_flow": null,
            "width": null,
            "min_width": null,
            "border": null,
            "align_items": null,
            "bottom": null,
            "_model_module": "@jupyter-widgets/base",
            "top": null,
            "grid_column": null,
            "overflow_y": null,
            "overflow_x": null,
            "grid_auto_flow": null,
            "grid_area": null,
            "grid_template_columns": null,
            "flex": null,
            "_model_name": "LayoutModel",
            "justify_items": null,
            "grid_row": null,
            "max_height": null,
            "align_content": null,
            "visibility": null,
            "align_self": null,
            "height": null,
            "min_height": null,
            "padding": null,
            "grid_auto_rows": null,
            "grid_gap": null,
            "max_width": null,
            "order": null,
            "_view_module_version": "1.2.0",
            "grid_template_areas": null,
            "object_position": null,
            "object_fit": null,
            "grid_auto_columns": null,
            "margin": null,
            "display": null,
            "left": null
          }
        },
        "fdeb1be535614919a3dff41a5a29e656": {
          "model_module": "@jupyter-widgets/controls",
          "model_name": "HBoxModel",
          "state": {
            "_view_name": "HBoxView",
            "_dom_classes": [],
            "_model_name": "HBoxModel",
            "_view_module": "@jupyter-widgets/controls",
            "_model_module_version": "1.5.0",
            "_view_count": null,
            "_view_module_version": "1.5.0",
            "box_style": "",
            "layout": "IPY_MODEL_f4df6af468854fee96c50a7808a04034",
            "_model_module": "@jupyter-widgets/controls",
            "children": [
              "IPY_MODEL_942f4fc45ac441d4bd36aec4fd992d44",
              "IPY_MODEL_1462d1dd1e3e4b0da44f785cb841e21d"
            ]
          }
        },
        "f4df6af468854fee96c50a7808a04034": {
          "model_module": "@jupyter-widgets/base",
          "model_name": "LayoutModel",
          "state": {
            "_view_name": "LayoutView",
            "grid_template_rows": null,
            "right": null,
            "justify_content": null,
            "_view_module": "@jupyter-widgets/base",
            "overflow": null,
            "_model_module_version": "1.2.0",
            "_view_count": null,
            "flex_flow": null,
            "width": null,
            "min_width": null,
            "border": null,
            "align_items": null,
            "bottom": null,
            "_model_module": "@jupyter-widgets/base",
            "top": null,
            "grid_column": null,
            "overflow_y": null,
            "overflow_x": null,
            "grid_auto_flow": null,
            "grid_area": null,
            "grid_template_columns": null,
            "flex": null,
            "_model_name": "LayoutModel",
            "justify_items": null,
            "grid_row": null,
            "max_height": null,
            "align_content": null,
            "visibility": null,
            "align_self": null,
            "height": null,
            "min_height": null,
            "padding": null,
            "grid_auto_rows": null,
            "grid_gap": null,
            "max_width": null,
            "order": null,
            "_view_module_version": "1.2.0",
            "grid_template_areas": null,
            "object_position": null,
            "object_fit": null,
            "grid_auto_columns": null,
            "margin": null,
            "display": null,
            "left": null
          }
        },
        "942f4fc45ac441d4bd36aec4fd992d44": {
          "model_module": "@jupyter-widgets/controls",
          "model_name": "FloatProgressModel",
          "state": {
            "_view_name": "ProgressView",
            "style": "IPY_MODEL_f892b1a4b744485fb27eb0a6e10e570d",
            "_dom_classes": [],
            "description": "100%",
            "_model_name": "FloatProgressModel",
            "bar_style": "",
            "max": 141,
            "_view_module": "@jupyter-widgets/controls",
            "_model_module_version": "1.5.0",
            "value": 141,
            "_view_count": null,
            "_view_module_version": "1.5.0",
            "orientation": "horizontal",
            "min": 0,
            "description_tooltip": null,
            "_model_module": "@jupyter-widgets/controls",
            "layout": "IPY_MODEL_047d038f4efb48cf8c4623535fa884c4"
          }
        },
        "1462d1dd1e3e4b0da44f785cb841e21d": {
          "model_module": "@jupyter-widgets/controls",
          "model_name": "HTMLModel",
          "state": {
            "_view_name": "HTMLView",
            "style": "IPY_MODEL_967566cf23674999833252c9832886ab",
            "_dom_classes": [],
            "description": "",
            "_model_name": "HTMLModel",
            "placeholder": "​",
            "_view_module": "@jupyter-widgets/controls",
            "_model_module_version": "1.5.0",
            "value": " 141/141 [00:00&lt;00:00, 190.22it/s]",
            "_view_count": null,
            "_view_module_version": "1.5.0",
            "description_tooltip": null,
            "_model_module": "@jupyter-widgets/controls",
            "layout": "IPY_MODEL_b3a0ac2c916043aa918de715a9a56f09"
          }
        },
        "f892b1a4b744485fb27eb0a6e10e570d": {
          "model_module": "@jupyter-widgets/controls",
          "model_name": "ProgressStyleModel",
          "state": {
            "_view_name": "StyleView",
            "_model_name": "ProgressStyleModel",
            "description_width": "initial",
            "_view_module": "@jupyter-widgets/base",
            "_model_module_version": "1.5.0",
            "_view_count": null,
            "_view_module_version": "1.2.0",
            "bar_color": null,
            "_model_module": "@jupyter-widgets/controls"
          }
        },
        "047d038f4efb48cf8c4623535fa884c4": {
          "model_module": "@jupyter-widgets/base",
          "model_name": "LayoutModel",
          "state": {
            "_view_name": "LayoutView",
            "grid_template_rows": null,
            "right": null,
            "justify_content": null,
            "_view_module": "@jupyter-widgets/base",
            "overflow": null,
            "_model_module_version": "1.2.0",
            "_view_count": null,
            "flex_flow": null,
            "width": null,
            "min_width": null,
            "border": null,
            "align_items": null,
            "bottom": null,
            "_model_module": "@jupyter-widgets/base",
            "top": null,
            "grid_column": null,
            "overflow_y": null,
            "overflow_x": null,
            "grid_auto_flow": null,
            "grid_area": null,
            "grid_template_columns": null,
            "flex": null,
            "_model_name": "LayoutModel",
            "justify_items": null,
            "grid_row": null,
            "max_height": null,
            "align_content": null,
            "visibility": null,
            "align_self": null,
            "height": null,
            "min_height": null,
            "padding": null,
            "grid_auto_rows": null,
            "grid_gap": null,
            "max_width": null,
            "order": null,
            "_view_module_version": "1.2.0",
            "grid_template_areas": null,
            "object_position": null,
            "object_fit": null,
            "grid_auto_columns": null,
            "margin": null,
            "display": null,
            "left": null
          }
        },
        "967566cf23674999833252c9832886ab": {
          "model_module": "@jupyter-widgets/controls",
          "model_name": "DescriptionStyleModel",
          "state": {
            "_view_name": "StyleView",
            "_model_name": "DescriptionStyleModel",
            "description_width": "",
            "_view_module": "@jupyter-widgets/base",
            "_model_module_version": "1.5.0",
            "_view_count": null,
            "_view_module_version": "1.2.0",
            "_model_module": "@jupyter-widgets/controls"
          }
        },
        "b3a0ac2c916043aa918de715a9a56f09": {
          "model_module": "@jupyter-widgets/base",
          "model_name": "LayoutModel",
          "state": {
            "_view_name": "LayoutView",
            "grid_template_rows": null,
            "right": null,
            "justify_content": null,
            "_view_module": "@jupyter-widgets/base",
            "overflow": null,
            "_model_module_version": "1.2.0",
            "_view_count": null,
            "flex_flow": null,
            "width": null,
            "min_width": null,
            "border": null,
            "align_items": null,
            "bottom": null,
            "_model_module": "@jupyter-widgets/base",
            "top": null,
            "grid_column": null,
            "overflow_y": null,
            "overflow_x": null,
            "grid_auto_flow": null,
            "grid_area": null,
            "grid_template_columns": null,
            "flex": null,
            "_model_name": "LayoutModel",
            "justify_items": null,
            "grid_row": null,
            "max_height": null,
            "align_content": null,
            "visibility": null,
            "align_self": null,
            "height": null,
            "min_height": null,
            "padding": null,
            "grid_auto_rows": null,
            "grid_gap": null,
            "max_width": null,
            "order": null,
            "_view_module_version": "1.2.0",
            "grid_template_areas": null,
            "object_position": null,
            "object_fit": null,
            "grid_auto_columns": null,
            "margin": null,
            "display": null,
            "left": null
          }
        },
        "8a061978ce304bd7a7976d8484abcd9c": {
          "model_module": "@jupyter-widgets/controls",
          "model_name": "HBoxModel",
          "state": {
            "_view_name": "HBoxView",
            "_dom_classes": [],
            "_model_name": "HBoxModel",
            "_view_module": "@jupyter-widgets/controls",
            "_model_module_version": "1.5.0",
            "_view_count": null,
            "_view_module_version": "1.5.0",
            "box_style": "",
            "layout": "IPY_MODEL_c698f3de5acd4e68a2851d1716b168ab",
            "_model_module": "@jupyter-widgets/controls",
            "children": [
              "IPY_MODEL_34dd998b1725470e98bda0162cdc48c1",
              "IPY_MODEL_c967e49499b045debb18778158e56321"
            ]
          }
        },
        "c698f3de5acd4e68a2851d1716b168ab": {
          "model_module": "@jupyter-widgets/base",
          "model_name": "LayoutModel",
          "state": {
            "_view_name": "LayoutView",
            "grid_template_rows": null,
            "right": null,
            "justify_content": null,
            "_view_module": "@jupyter-widgets/base",
            "overflow": null,
            "_model_module_version": "1.2.0",
            "_view_count": null,
            "flex_flow": null,
            "width": null,
            "min_width": null,
            "border": null,
            "align_items": null,
            "bottom": null,
            "_model_module": "@jupyter-widgets/base",
            "top": null,
            "grid_column": null,
            "overflow_y": null,
            "overflow_x": null,
            "grid_auto_flow": null,
            "grid_area": null,
            "grid_template_columns": null,
            "flex": null,
            "_model_name": "LayoutModel",
            "justify_items": null,
            "grid_row": null,
            "max_height": null,
            "align_content": null,
            "visibility": null,
            "align_self": null,
            "height": null,
            "min_height": null,
            "padding": null,
            "grid_auto_rows": null,
            "grid_gap": null,
            "max_width": null,
            "order": null,
            "_view_module_version": "1.2.0",
            "grid_template_areas": null,
            "object_position": null,
            "object_fit": null,
            "grid_auto_columns": null,
            "margin": null,
            "display": null,
            "left": null
          }
        },
        "34dd998b1725470e98bda0162cdc48c1": {
          "model_module": "@jupyter-widgets/controls",
          "model_name": "FloatProgressModel",
          "state": {
            "_view_name": "ProgressView",
            "style": "IPY_MODEL_4a764ee69199442ebb2d008af93475bc",
            "_dom_classes": [],
            "description": "Epoch 12: 100%",
            "_model_name": "FloatProgressModel",
            "bar_style": "",
            "max": 563,
            "_view_module": "@jupyter-widgets/controls",
            "_model_module_version": "1.5.0",
            "value": 563,
            "_view_count": null,
            "_view_module_version": "1.5.0",
            "orientation": "horizontal",
            "min": 0,
            "description_tooltip": null,
            "_model_module": "@jupyter-widgets/controls",
            "layout": "IPY_MODEL_847213ebaaa04a2ab9e37ce275c74162"
          }
        },
        "c967e49499b045debb18778158e56321": {
          "model_module": "@jupyter-widgets/controls",
          "model_name": "HTMLModel",
          "state": {
            "_view_name": "HTMLView",
            "style": "IPY_MODEL_128d12350e664e93869302b7e8293291",
            "_dom_classes": [],
            "description": "",
            "_model_name": "HTMLModel",
            "placeholder": "​",
            "_view_module": "@jupyter-widgets/controls",
            "_model_module_version": "1.5.0",
            "value": " 563/563 [00:08&lt;00:00, 66.68it/s, loss=0.136]",
            "_view_count": null,
            "_view_module_version": "1.5.0",
            "description_tooltip": null,
            "_model_module": "@jupyter-widgets/controls",
            "layout": "IPY_MODEL_39e65421912c46b0835fb8e788e86187"
          }
        },
        "4a764ee69199442ebb2d008af93475bc": {
          "model_module": "@jupyter-widgets/controls",
          "model_name": "ProgressStyleModel",
          "state": {
            "_view_name": "StyleView",
            "_model_name": "ProgressStyleModel",
            "description_width": "initial",
            "_view_module": "@jupyter-widgets/base",
            "_model_module_version": "1.5.0",
            "_view_count": null,
            "_view_module_version": "1.2.0",
            "bar_color": null,
            "_model_module": "@jupyter-widgets/controls"
          }
        },
        "847213ebaaa04a2ab9e37ce275c74162": {
          "model_module": "@jupyter-widgets/base",
          "model_name": "LayoutModel",
          "state": {
            "_view_name": "LayoutView",
            "grid_template_rows": null,
            "right": null,
            "justify_content": null,
            "_view_module": "@jupyter-widgets/base",
            "overflow": null,
            "_model_module_version": "1.2.0",
            "_view_count": null,
            "flex_flow": null,
            "width": null,
            "min_width": null,
            "border": null,
            "align_items": null,
            "bottom": null,
            "_model_module": "@jupyter-widgets/base",
            "top": null,
            "grid_column": null,
            "overflow_y": null,
            "overflow_x": null,
            "grid_auto_flow": null,
            "grid_area": null,
            "grid_template_columns": null,
            "flex": null,
            "_model_name": "LayoutModel",
            "justify_items": null,
            "grid_row": null,
            "max_height": null,
            "align_content": null,
            "visibility": null,
            "align_self": null,
            "height": null,
            "min_height": null,
            "padding": null,
            "grid_auto_rows": null,
            "grid_gap": null,
            "max_width": null,
            "order": null,
            "_view_module_version": "1.2.0",
            "grid_template_areas": null,
            "object_position": null,
            "object_fit": null,
            "grid_auto_columns": null,
            "margin": null,
            "display": null,
            "left": null
          }
        },
        "128d12350e664e93869302b7e8293291": {
          "model_module": "@jupyter-widgets/controls",
          "model_name": "DescriptionStyleModel",
          "state": {
            "_view_name": "StyleView",
            "_model_name": "DescriptionStyleModel",
            "description_width": "",
            "_view_module": "@jupyter-widgets/base",
            "_model_module_version": "1.5.0",
            "_view_count": null,
            "_view_module_version": "1.2.0",
            "_model_module": "@jupyter-widgets/controls"
          }
        },
        "39e65421912c46b0835fb8e788e86187": {
          "model_module": "@jupyter-widgets/base",
          "model_name": "LayoutModel",
          "state": {
            "_view_name": "LayoutView",
            "grid_template_rows": null,
            "right": null,
            "justify_content": null,
            "_view_module": "@jupyter-widgets/base",
            "overflow": null,
            "_model_module_version": "1.2.0",
            "_view_count": null,
            "flex_flow": null,
            "width": null,
            "min_width": null,
            "border": null,
            "align_items": null,
            "bottom": null,
            "_model_module": "@jupyter-widgets/base",
            "top": null,
            "grid_column": null,
            "overflow_y": null,
            "overflow_x": null,
            "grid_auto_flow": null,
            "grid_area": null,
            "grid_template_columns": null,
            "flex": null,
            "_model_name": "LayoutModel",
            "justify_items": null,
            "grid_row": null,
            "max_height": null,
            "align_content": null,
            "visibility": null,
            "align_self": null,
            "height": null,
            "min_height": null,
            "padding": null,
            "grid_auto_rows": null,
            "grid_gap": null,
            "max_width": null,
            "order": null,
            "_view_module_version": "1.2.0",
            "grid_template_areas": null,
            "object_position": null,
            "object_fit": null,
            "grid_auto_columns": null,
            "margin": null,
            "display": null,
            "left": null
          }
        },
        "2eebcccb9d434700aa7c78321772e4f2": {
          "model_module": "@jupyter-widgets/controls",
          "model_name": "HBoxModel",
          "state": {
            "_view_name": "HBoxView",
            "_dom_classes": [],
            "_model_name": "HBoxModel",
            "_view_module": "@jupyter-widgets/controls",
            "_model_module_version": "1.5.0",
            "_view_count": null,
            "_view_module_version": "1.5.0",
            "box_style": "",
            "layout": "IPY_MODEL_2f9fb2cdc30d4d55a68fa59fa6eedfec",
            "_model_module": "@jupyter-widgets/controls",
            "children": [
              "IPY_MODEL_e445f7049b114cb9b97a163abacfaa9b",
              "IPY_MODEL_46d790eaa0324709b0604a606a6c0b19"
            ]
          }
        },
        "2f9fb2cdc30d4d55a68fa59fa6eedfec": {
          "model_module": "@jupyter-widgets/base",
          "model_name": "LayoutModel",
          "state": {
            "_view_name": "LayoutView",
            "grid_template_rows": null,
            "right": null,
            "justify_content": null,
            "_view_module": "@jupyter-widgets/base",
            "overflow": null,
            "_model_module_version": "1.2.0",
            "_view_count": null,
            "flex_flow": null,
            "width": null,
            "min_width": null,
            "border": null,
            "align_items": null,
            "bottom": null,
            "_model_module": "@jupyter-widgets/base",
            "top": null,
            "grid_column": null,
            "overflow_y": null,
            "overflow_x": null,
            "grid_auto_flow": null,
            "grid_area": null,
            "grid_template_columns": null,
            "flex": null,
            "_model_name": "LayoutModel",
            "justify_items": null,
            "grid_row": null,
            "max_height": null,
            "align_content": null,
            "visibility": null,
            "align_self": null,
            "height": null,
            "min_height": null,
            "padding": null,
            "grid_auto_rows": null,
            "grid_gap": null,
            "max_width": null,
            "order": null,
            "_view_module_version": "1.2.0",
            "grid_template_areas": null,
            "object_position": null,
            "object_fit": null,
            "grid_auto_columns": null,
            "margin": null,
            "display": null,
            "left": null
          }
        },
        "e445f7049b114cb9b97a163abacfaa9b": {
          "model_module": "@jupyter-widgets/controls",
          "model_name": "FloatProgressModel",
          "state": {
            "_view_name": "ProgressView",
            "style": "IPY_MODEL_0e039ccb43234990910f405f960d4751",
            "_dom_classes": [],
            "description": "100%",
            "_model_name": "FloatProgressModel",
            "bar_style": "",
            "max": 141,
            "_view_module": "@jupyter-widgets/controls",
            "_model_module_version": "1.5.0",
            "value": 141,
            "_view_count": null,
            "_view_module_version": "1.5.0",
            "orientation": "horizontal",
            "min": 0,
            "description_tooltip": null,
            "_model_module": "@jupyter-widgets/controls",
            "layout": "IPY_MODEL_c6165d891dc34ae5b6e02b76858f8d43"
          }
        },
        "46d790eaa0324709b0604a606a6c0b19": {
          "model_module": "@jupyter-widgets/controls",
          "model_name": "HTMLModel",
          "state": {
            "_view_name": "HTMLView",
            "style": "IPY_MODEL_d0bab61c27d44960a986abfc3c35fd52",
            "_dom_classes": [],
            "description": "",
            "_model_name": "HTMLModel",
            "placeholder": "​",
            "_view_module": "@jupyter-widgets/controls",
            "_model_module_version": "1.5.0",
            "value": " 141/141 [00:00&lt;00:00, 181.79it/s]",
            "_view_count": null,
            "_view_module_version": "1.5.0",
            "description_tooltip": null,
            "_model_module": "@jupyter-widgets/controls",
            "layout": "IPY_MODEL_ce24b56071fa4f45986f9ced40906a68"
          }
        },
        "0e039ccb43234990910f405f960d4751": {
          "model_module": "@jupyter-widgets/controls",
          "model_name": "ProgressStyleModel",
          "state": {
            "_view_name": "StyleView",
            "_model_name": "ProgressStyleModel",
            "description_width": "initial",
            "_view_module": "@jupyter-widgets/base",
            "_model_module_version": "1.5.0",
            "_view_count": null,
            "_view_module_version": "1.2.0",
            "bar_color": null,
            "_model_module": "@jupyter-widgets/controls"
          }
        },
        "c6165d891dc34ae5b6e02b76858f8d43": {
          "model_module": "@jupyter-widgets/base",
          "model_name": "LayoutModel",
          "state": {
            "_view_name": "LayoutView",
            "grid_template_rows": null,
            "right": null,
            "justify_content": null,
            "_view_module": "@jupyter-widgets/base",
            "overflow": null,
            "_model_module_version": "1.2.0",
            "_view_count": null,
            "flex_flow": null,
            "width": null,
            "min_width": null,
            "border": null,
            "align_items": null,
            "bottom": null,
            "_model_module": "@jupyter-widgets/base",
            "top": null,
            "grid_column": null,
            "overflow_y": null,
            "overflow_x": null,
            "grid_auto_flow": null,
            "grid_area": null,
            "grid_template_columns": null,
            "flex": null,
            "_model_name": "LayoutModel",
            "justify_items": null,
            "grid_row": null,
            "max_height": null,
            "align_content": null,
            "visibility": null,
            "align_self": null,
            "height": null,
            "min_height": null,
            "padding": null,
            "grid_auto_rows": null,
            "grid_gap": null,
            "max_width": null,
            "order": null,
            "_view_module_version": "1.2.0",
            "grid_template_areas": null,
            "object_position": null,
            "object_fit": null,
            "grid_auto_columns": null,
            "margin": null,
            "display": null,
            "left": null
          }
        },
        "d0bab61c27d44960a986abfc3c35fd52": {
          "model_module": "@jupyter-widgets/controls",
          "model_name": "DescriptionStyleModel",
          "state": {
            "_view_name": "StyleView",
            "_model_name": "DescriptionStyleModel",
            "description_width": "",
            "_view_module": "@jupyter-widgets/base",
            "_model_module_version": "1.5.0",
            "_view_count": null,
            "_view_module_version": "1.2.0",
            "_model_module": "@jupyter-widgets/controls"
          }
        },
        "ce24b56071fa4f45986f9ced40906a68": {
          "model_module": "@jupyter-widgets/base",
          "model_name": "LayoutModel",
          "state": {
            "_view_name": "LayoutView",
            "grid_template_rows": null,
            "right": null,
            "justify_content": null,
            "_view_module": "@jupyter-widgets/base",
            "overflow": null,
            "_model_module_version": "1.2.0",
            "_view_count": null,
            "flex_flow": null,
            "width": null,
            "min_width": null,
            "border": null,
            "align_items": null,
            "bottom": null,
            "_model_module": "@jupyter-widgets/base",
            "top": null,
            "grid_column": null,
            "overflow_y": null,
            "overflow_x": null,
            "grid_auto_flow": null,
            "grid_area": null,
            "grid_template_columns": null,
            "flex": null,
            "_model_name": "LayoutModel",
            "justify_items": null,
            "grid_row": null,
            "max_height": null,
            "align_content": null,
            "visibility": null,
            "align_self": null,
            "height": null,
            "min_height": null,
            "padding": null,
            "grid_auto_rows": null,
            "grid_gap": null,
            "max_width": null,
            "order": null,
            "_view_module_version": "1.2.0",
            "grid_template_areas": null,
            "object_position": null,
            "object_fit": null,
            "grid_auto_columns": null,
            "margin": null,
            "display": null,
            "left": null
          }
        },
        "76581f787df54111ad7ffb4a41ecec83": {
          "model_module": "@jupyter-widgets/controls",
          "model_name": "HBoxModel",
          "state": {
            "_view_name": "HBoxView",
            "_dom_classes": [],
            "_model_name": "HBoxModel",
            "_view_module": "@jupyter-widgets/controls",
            "_model_module_version": "1.5.0",
            "_view_count": null,
            "_view_module_version": "1.5.0",
            "box_style": "",
            "layout": "IPY_MODEL_899a67cdb3c94a46a9654924bdd32b32",
            "_model_module": "@jupyter-widgets/controls",
            "children": [
              "IPY_MODEL_0ecd250a620249b0bd2e50c35ade561b",
              "IPY_MODEL_1812346f0bb54965b668516a3c72e521"
            ]
          }
        },
        "899a67cdb3c94a46a9654924bdd32b32": {
          "model_module": "@jupyter-widgets/base",
          "model_name": "LayoutModel",
          "state": {
            "_view_name": "LayoutView",
            "grid_template_rows": null,
            "right": null,
            "justify_content": null,
            "_view_module": "@jupyter-widgets/base",
            "overflow": null,
            "_model_module_version": "1.2.0",
            "_view_count": null,
            "flex_flow": null,
            "width": null,
            "min_width": null,
            "border": null,
            "align_items": null,
            "bottom": null,
            "_model_module": "@jupyter-widgets/base",
            "top": null,
            "grid_column": null,
            "overflow_y": null,
            "overflow_x": null,
            "grid_auto_flow": null,
            "grid_area": null,
            "grid_template_columns": null,
            "flex": null,
            "_model_name": "LayoutModel",
            "justify_items": null,
            "grid_row": null,
            "max_height": null,
            "align_content": null,
            "visibility": null,
            "align_self": null,
            "height": null,
            "min_height": null,
            "padding": null,
            "grid_auto_rows": null,
            "grid_gap": null,
            "max_width": null,
            "order": null,
            "_view_module_version": "1.2.0",
            "grid_template_areas": null,
            "object_position": null,
            "object_fit": null,
            "grid_auto_columns": null,
            "margin": null,
            "display": null,
            "left": null
          }
        },
        "0ecd250a620249b0bd2e50c35ade561b": {
          "model_module": "@jupyter-widgets/controls",
          "model_name": "FloatProgressModel",
          "state": {
            "_view_name": "ProgressView",
            "style": "IPY_MODEL_c4ca998bd86f44e6aaa0139298e2e821",
            "_dom_classes": [],
            "description": "Epoch 13: 100%",
            "_model_name": "FloatProgressModel",
            "bar_style": "",
            "max": 563,
            "_view_module": "@jupyter-widgets/controls",
            "_model_module_version": "1.5.0",
            "value": 563,
            "_view_count": null,
            "_view_module_version": "1.5.0",
            "orientation": "horizontal",
            "min": 0,
            "description_tooltip": null,
            "_model_module": "@jupyter-widgets/controls",
            "layout": "IPY_MODEL_b4fc86f0d62c4a4aacc2c1d6c84eaf79"
          }
        },
        "1812346f0bb54965b668516a3c72e521": {
          "model_module": "@jupyter-widgets/controls",
          "model_name": "HTMLModel",
          "state": {
            "_view_name": "HTMLView",
            "style": "IPY_MODEL_b8e32e18bc9e4435923a2359b0af18fe",
            "_dom_classes": [],
            "description": "",
            "_model_name": "HTMLModel",
            "placeholder": "​",
            "_view_module": "@jupyter-widgets/controls",
            "_model_module_version": "1.5.0",
            "value": " 563/563 [00:08&lt;00:00, 67.54it/s, loss=0.12]",
            "_view_count": null,
            "_view_module_version": "1.5.0",
            "description_tooltip": null,
            "_model_module": "@jupyter-widgets/controls",
            "layout": "IPY_MODEL_1458e374de054aa393805cae1289c0fc"
          }
        },
        "c4ca998bd86f44e6aaa0139298e2e821": {
          "model_module": "@jupyter-widgets/controls",
          "model_name": "ProgressStyleModel",
          "state": {
            "_view_name": "StyleView",
            "_model_name": "ProgressStyleModel",
            "description_width": "initial",
            "_view_module": "@jupyter-widgets/base",
            "_model_module_version": "1.5.0",
            "_view_count": null,
            "_view_module_version": "1.2.0",
            "bar_color": null,
            "_model_module": "@jupyter-widgets/controls"
          }
        },
        "b4fc86f0d62c4a4aacc2c1d6c84eaf79": {
          "model_module": "@jupyter-widgets/base",
          "model_name": "LayoutModel",
          "state": {
            "_view_name": "LayoutView",
            "grid_template_rows": null,
            "right": null,
            "justify_content": null,
            "_view_module": "@jupyter-widgets/base",
            "overflow": null,
            "_model_module_version": "1.2.0",
            "_view_count": null,
            "flex_flow": null,
            "width": null,
            "min_width": null,
            "border": null,
            "align_items": null,
            "bottom": null,
            "_model_module": "@jupyter-widgets/base",
            "top": null,
            "grid_column": null,
            "overflow_y": null,
            "overflow_x": null,
            "grid_auto_flow": null,
            "grid_area": null,
            "grid_template_columns": null,
            "flex": null,
            "_model_name": "LayoutModel",
            "justify_items": null,
            "grid_row": null,
            "max_height": null,
            "align_content": null,
            "visibility": null,
            "align_self": null,
            "height": null,
            "min_height": null,
            "padding": null,
            "grid_auto_rows": null,
            "grid_gap": null,
            "max_width": null,
            "order": null,
            "_view_module_version": "1.2.0",
            "grid_template_areas": null,
            "object_position": null,
            "object_fit": null,
            "grid_auto_columns": null,
            "margin": null,
            "display": null,
            "left": null
          }
        },
        "b8e32e18bc9e4435923a2359b0af18fe": {
          "model_module": "@jupyter-widgets/controls",
          "model_name": "DescriptionStyleModel",
          "state": {
            "_view_name": "StyleView",
            "_model_name": "DescriptionStyleModel",
            "description_width": "",
            "_view_module": "@jupyter-widgets/base",
            "_model_module_version": "1.5.0",
            "_view_count": null,
            "_view_module_version": "1.2.0",
            "_model_module": "@jupyter-widgets/controls"
          }
        },
        "1458e374de054aa393805cae1289c0fc": {
          "model_module": "@jupyter-widgets/base",
          "model_name": "LayoutModel",
          "state": {
            "_view_name": "LayoutView",
            "grid_template_rows": null,
            "right": null,
            "justify_content": null,
            "_view_module": "@jupyter-widgets/base",
            "overflow": null,
            "_model_module_version": "1.2.0",
            "_view_count": null,
            "flex_flow": null,
            "width": null,
            "min_width": null,
            "border": null,
            "align_items": null,
            "bottom": null,
            "_model_module": "@jupyter-widgets/base",
            "top": null,
            "grid_column": null,
            "overflow_y": null,
            "overflow_x": null,
            "grid_auto_flow": null,
            "grid_area": null,
            "grid_template_columns": null,
            "flex": null,
            "_model_name": "LayoutModel",
            "justify_items": null,
            "grid_row": null,
            "max_height": null,
            "align_content": null,
            "visibility": null,
            "align_self": null,
            "height": null,
            "min_height": null,
            "padding": null,
            "grid_auto_rows": null,
            "grid_gap": null,
            "max_width": null,
            "order": null,
            "_view_module_version": "1.2.0",
            "grid_template_areas": null,
            "object_position": null,
            "object_fit": null,
            "grid_auto_columns": null,
            "margin": null,
            "display": null,
            "left": null
          }
        },
        "eb0a576ef5124e408bbf2d741e583810": {
          "model_module": "@jupyter-widgets/controls",
          "model_name": "HBoxModel",
          "state": {
            "_view_name": "HBoxView",
            "_dom_classes": [],
            "_model_name": "HBoxModel",
            "_view_module": "@jupyter-widgets/controls",
            "_model_module_version": "1.5.0",
            "_view_count": null,
            "_view_module_version": "1.5.0",
            "box_style": "",
            "layout": "IPY_MODEL_9bbfc917558e447ab6705ab0d404b55a",
            "_model_module": "@jupyter-widgets/controls",
            "children": [
              "IPY_MODEL_177c8d2b4726498a8514c108247583d7",
              "IPY_MODEL_fc35cd6b2a8945dfb39c7a93ef5e4999"
            ]
          }
        },
        "9bbfc917558e447ab6705ab0d404b55a": {
          "model_module": "@jupyter-widgets/base",
          "model_name": "LayoutModel",
          "state": {
            "_view_name": "LayoutView",
            "grid_template_rows": null,
            "right": null,
            "justify_content": null,
            "_view_module": "@jupyter-widgets/base",
            "overflow": null,
            "_model_module_version": "1.2.0",
            "_view_count": null,
            "flex_flow": null,
            "width": null,
            "min_width": null,
            "border": null,
            "align_items": null,
            "bottom": null,
            "_model_module": "@jupyter-widgets/base",
            "top": null,
            "grid_column": null,
            "overflow_y": null,
            "overflow_x": null,
            "grid_auto_flow": null,
            "grid_area": null,
            "grid_template_columns": null,
            "flex": null,
            "_model_name": "LayoutModel",
            "justify_items": null,
            "grid_row": null,
            "max_height": null,
            "align_content": null,
            "visibility": null,
            "align_self": null,
            "height": null,
            "min_height": null,
            "padding": null,
            "grid_auto_rows": null,
            "grid_gap": null,
            "max_width": null,
            "order": null,
            "_view_module_version": "1.2.0",
            "grid_template_areas": null,
            "object_position": null,
            "object_fit": null,
            "grid_auto_columns": null,
            "margin": null,
            "display": null,
            "left": null
          }
        },
        "177c8d2b4726498a8514c108247583d7": {
          "model_module": "@jupyter-widgets/controls",
          "model_name": "FloatProgressModel",
          "state": {
            "_view_name": "ProgressView",
            "style": "IPY_MODEL_c61b41a03ac348b082947352cd9ab8e1",
            "_dom_classes": [],
            "description": "100%",
            "_model_name": "FloatProgressModel",
            "bar_style": "",
            "max": 141,
            "_view_module": "@jupyter-widgets/controls",
            "_model_module_version": "1.5.0",
            "value": 141,
            "_view_count": null,
            "_view_module_version": "1.5.0",
            "orientation": "horizontal",
            "min": 0,
            "description_tooltip": null,
            "_model_module": "@jupyter-widgets/controls",
            "layout": "IPY_MODEL_ffccea7d43114af8a0ccb15387f21a02"
          }
        },
        "fc35cd6b2a8945dfb39c7a93ef5e4999": {
          "model_module": "@jupyter-widgets/controls",
          "model_name": "HTMLModel",
          "state": {
            "_view_name": "HTMLView",
            "style": "IPY_MODEL_44e7b9df2eda4e6285220173621038be",
            "_dom_classes": [],
            "description": "",
            "_model_name": "HTMLModel",
            "placeholder": "​",
            "_view_module": "@jupyter-widgets/controls",
            "_model_module_version": "1.5.0",
            "value": " 141/141 [00:00&lt;00:00, 189.60it/s]",
            "_view_count": null,
            "_view_module_version": "1.5.0",
            "description_tooltip": null,
            "_model_module": "@jupyter-widgets/controls",
            "layout": "IPY_MODEL_09811726338243e7a968d2b7993e4d9b"
          }
        },
        "c61b41a03ac348b082947352cd9ab8e1": {
          "model_module": "@jupyter-widgets/controls",
          "model_name": "ProgressStyleModel",
          "state": {
            "_view_name": "StyleView",
            "_model_name": "ProgressStyleModel",
            "description_width": "initial",
            "_view_module": "@jupyter-widgets/base",
            "_model_module_version": "1.5.0",
            "_view_count": null,
            "_view_module_version": "1.2.0",
            "bar_color": null,
            "_model_module": "@jupyter-widgets/controls"
          }
        },
        "ffccea7d43114af8a0ccb15387f21a02": {
          "model_module": "@jupyter-widgets/base",
          "model_name": "LayoutModel",
          "state": {
            "_view_name": "LayoutView",
            "grid_template_rows": null,
            "right": null,
            "justify_content": null,
            "_view_module": "@jupyter-widgets/base",
            "overflow": null,
            "_model_module_version": "1.2.0",
            "_view_count": null,
            "flex_flow": null,
            "width": null,
            "min_width": null,
            "border": null,
            "align_items": null,
            "bottom": null,
            "_model_module": "@jupyter-widgets/base",
            "top": null,
            "grid_column": null,
            "overflow_y": null,
            "overflow_x": null,
            "grid_auto_flow": null,
            "grid_area": null,
            "grid_template_columns": null,
            "flex": null,
            "_model_name": "LayoutModel",
            "justify_items": null,
            "grid_row": null,
            "max_height": null,
            "align_content": null,
            "visibility": null,
            "align_self": null,
            "height": null,
            "min_height": null,
            "padding": null,
            "grid_auto_rows": null,
            "grid_gap": null,
            "max_width": null,
            "order": null,
            "_view_module_version": "1.2.0",
            "grid_template_areas": null,
            "object_position": null,
            "object_fit": null,
            "grid_auto_columns": null,
            "margin": null,
            "display": null,
            "left": null
          }
        },
        "44e7b9df2eda4e6285220173621038be": {
          "model_module": "@jupyter-widgets/controls",
          "model_name": "DescriptionStyleModel",
          "state": {
            "_view_name": "StyleView",
            "_model_name": "DescriptionStyleModel",
            "description_width": "",
            "_view_module": "@jupyter-widgets/base",
            "_model_module_version": "1.5.0",
            "_view_count": null,
            "_view_module_version": "1.2.0",
            "_model_module": "@jupyter-widgets/controls"
          }
        },
        "09811726338243e7a968d2b7993e4d9b": {
          "model_module": "@jupyter-widgets/base",
          "model_name": "LayoutModel",
          "state": {
            "_view_name": "LayoutView",
            "grid_template_rows": null,
            "right": null,
            "justify_content": null,
            "_view_module": "@jupyter-widgets/base",
            "overflow": null,
            "_model_module_version": "1.2.0",
            "_view_count": null,
            "flex_flow": null,
            "width": null,
            "min_width": null,
            "border": null,
            "align_items": null,
            "bottom": null,
            "_model_module": "@jupyter-widgets/base",
            "top": null,
            "grid_column": null,
            "overflow_y": null,
            "overflow_x": null,
            "grid_auto_flow": null,
            "grid_area": null,
            "grid_template_columns": null,
            "flex": null,
            "_model_name": "LayoutModel",
            "justify_items": null,
            "grid_row": null,
            "max_height": null,
            "align_content": null,
            "visibility": null,
            "align_self": null,
            "height": null,
            "min_height": null,
            "padding": null,
            "grid_auto_rows": null,
            "grid_gap": null,
            "max_width": null,
            "order": null,
            "_view_module_version": "1.2.0",
            "grid_template_areas": null,
            "object_position": null,
            "object_fit": null,
            "grid_auto_columns": null,
            "margin": null,
            "display": null,
            "left": null
          }
        },
        "a8bfa81bc04441f3a8c5e4ac03b8d77a": {
          "model_module": "@jupyter-widgets/controls",
          "model_name": "HBoxModel",
          "state": {
            "_view_name": "HBoxView",
            "_dom_classes": [],
            "_model_name": "HBoxModel",
            "_view_module": "@jupyter-widgets/controls",
            "_model_module_version": "1.5.0",
            "_view_count": null,
            "_view_module_version": "1.5.0",
            "box_style": "",
            "layout": "IPY_MODEL_1eddd12256564de5aa8d6a0aae0f0cd9",
            "_model_module": "@jupyter-widgets/controls",
            "children": [
              "IPY_MODEL_0c75ae318558412ea1f3ed4bd03582b8",
              "IPY_MODEL_c22bdde756914553b719670b5373e148"
            ]
          }
        },
        "1eddd12256564de5aa8d6a0aae0f0cd9": {
          "model_module": "@jupyter-widgets/base",
          "model_name": "LayoutModel",
          "state": {
            "_view_name": "LayoutView",
            "grid_template_rows": null,
            "right": null,
            "justify_content": null,
            "_view_module": "@jupyter-widgets/base",
            "overflow": null,
            "_model_module_version": "1.2.0",
            "_view_count": null,
            "flex_flow": null,
            "width": null,
            "min_width": null,
            "border": null,
            "align_items": null,
            "bottom": null,
            "_model_module": "@jupyter-widgets/base",
            "top": null,
            "grid_column": null,
            "overflow_y": null,
            "overflow_x": null,
            "grid_auto_flow": null,
            "grid_area": null,
            "grid_template_columns": null,
            "flex": null,
            "_model_name": "LayoutModel",
            "justify_items": null,
            "grid_row": null,
            "max_height": null,
            "align_content": null,
            "visibility": null,
            "align_self": null,
            "height": null,
            "min_height": null,
            "padding": null,
            "grid_auto_rows": null,
            "grid_gap": null,
            "max_width": null,
            "order": null,
            "_view_module_version": "1.2.0",
            "grid_template_areas": null,
            "object_position": null,
            "object_fit": null,
            "grid_auto_columns": null,
            "margin": null,
            "display": null,
            "left": null
          }
        },
        "0c75ae318558412ea1f3ed4bd03582b8": {
          "model_module": "@jupyter-widgets/controls",
          "model_name": "FloatProgressModel",
          "state": {
            "_view_name": "ProgressView",
            "style": "IPY_MODEL_74433a9a8d504d0da15440aceb90b906",
            "_dom_classes": [],
            "description": "Epoch 14: 100%",
            "_model_name": "FloatProgressModel",
            "bar_style": "",
            "max": 563,
            "_view_module": "@jupyter-widgets/controls",
            "_model_module_version": "1.5.0",
            "value": 563,
            "_view_count": null,
            "_view_module_version": "1.5.0",
            "orientation": "horizontal",
            "min": 0,
            "description_tooltip": null,
            "_model_module": "@jupyter-widgets/controls",
            "layout": "IPY_MODEL_75d5f8bfe6c2491daea5ee727080f677"
          }
        },
        "c22bdde756914553b719670b5373e148": {
          "model_module": "@jupyter-widgets/controls",
          "model_name": "HTMLModel",
          "state": {
            "_view_name": "HTMLView",
            "style": "IPY_MODEL_9e99be579c99405cb91c899a9d4583aa",
            "_dom_classes": [],
            "description": "",
            "_model_name": "HTMLModel",
            "placeholder": "​",
            "_view_module": "@jupyter-widgets/controls",
            "_model_module_version": "1.5.0",
            "value": " 563/563 [00:08&lt;00:00, 72.76it/s, loss=0.116]",
            "_view_count": null,
            "_view_module_version": "1.5.0",
            "description_tooltip": null,
            "_model_module": "@jupyter-widgets/controls",
            "layout": "IPY_MODEL_0de4a1e22d564b44a2c8f4ce370b97bf"
          }
        },
        "74433a9a8d504d0da15440aceb90b906": {
          "model_module": "@jupyter-widgets/controls",
          "model_name": "ProgressStyleModel",
          "state": {
            "_view_name": "StyleView",
            "_model_name": "ProgressStyleModel",
            "description_width": "initial",
            "_view_module": "@jupyter-widgets/base",
            "_model_module_version": "1.5.0",
            "_view_count": null,
            "_view_module_version": "1.2.0",
            "bar_color": null,
            "_model_module": "@jupyter-widgets/controls"
          }
        },
        "75d5f8bfe6c2491daea5ee727080f677": {
          "model_module": "@jupyter-widgets/base",
          "model_name": "LayoutModel",
          "state": {
            "_view_name": "LayoutView",
            "grid_template_rows": null,
            "right": null,
            "justify_content": null,
            "_view_module": "@jupyter-widgets/base",
            "overflow": null,
            "_model_module_version": "1.2.0",
            "_view_count": null,
            "flex_flow": null,
            "width": null,
            "min_width": null,
            "border": null,
            "align_items": null,
            "bottom": null,
            "_model_module": "@jupyter-widgets/base",
            "top": null,
            "grid_column": null,
            "overflow_y": null,
            "overflow_x": null,
            "grid_auto_flow": null,
            "grid_area": null,
            "grid_template_columns": null,
            "flex": null,
            "_model_name": "LayoutModel",
            "justify_items": null,
            "grid_row": null,
            "max_height": null,
            "align_content": null,
            "visibility": null,
            "align_self": null,
            "height": null,
            "min_height": null,
            "padding": null,
            "grid_auto_rows": null,
            "grid_gap": null,
            "max_width": null,
            "order": null,
            "_view_module_version": "1.2.0",
            "grid_template_areas": null,
            "object_position": null,
            "object_fit": null,
            "grid_auto_columns": null,
            "margin": null,
            "display": null,
            "left": null
          }
        },
        "9e99be579c99405cb91c899a9d4583aa": {
          "model_module": "@jupyter-widgets/controls",
          "model_name": "DescriptionStyleModel",
          "state": {
            "_view_name": "StyleView",
            "_model_name": "DescriptionStyleModel",
            "description_width": "",
            "_view_module": "@jupyter-widgets/base",
            "_model_module_version": "1.5.0",
            "_view_count": null,
            "_view_module_version": "1.2.0",
            "_model_module": "@jupyter-widgets/controls"
          }
        },
        "0de4a1e22d564b44a2c8f4ce370b97bf": {
          "model_module": "@jupyter-widgets/base",
          "model_name": "LayoutModel",
          "state": {
            "_view_name": "LayoutView",
            "grid_template_rows": null,
            "right": null,
            "justify_content": null,
            "_view_module": "@jupyter-widgets/base",
            "overflow": null,
            "_model_module_version": "1.2.0",
            "_view_count": null,
            "flex_flow": null,
            "width": null,
            "min_width": null,
            "border": null,
            "align_items": null,
            "bottom": null,
            "_model_module": "@jupyter-widgets/base",
            "top": null,
            "grid_column": null,
            "overflow_y": null,
            "overflow_x": null,
            "grid_auto_flow": null,
            "grid_area": null,
            "grid_template_columns": null,
            "flex": null,
            "_model_name": "LayoutModel",
            "justify_items": null,
            "grid_row": null,
            "max_height": null,
            "align_content": null,
            "visibility": null,
            "align_self": null,
            "height": null,
            "min_height": null,
            "padding": null,
            "grid_auto_rows": null,
            "grid_gap": null,
            "max_width": null,
            "order": null,
            "_view_module_version": "1.2.0",
            "grid_template_areas": null,
            "object_position": null,
            "object_fit": null,
            "grid_auto_columns": null,
            "margin": null,
            "display": null,
            "left": null
          }
        },
        "b8e1f4fa5325405baf353f8cbb9d1dee": {
          "model_module": "@jupyter-widgets/controls",
          "model_name": "HBoxModel",
          "state": {
            "_view_name": "HBoxView",
            "_dom_classes": [],
            "_model_name": "HBoxModel",
            "_view_module": "@jupyter-widgets/controls",
            "_model_module_version": "1.5.0",
            "_view_count": null,
            "_view_module_version": "1.5.0",
            "box_style": "",
            "layout": "IPY_MODEL_c929d619edb340f8a87a0760893d5a8d",
            "_model_module": "@jupyter-widgets/controls",
            "children": [
              "IPY_MODEL_e9f29656ac274be684f9e564da2ae624",
              "IPY_MODEL_e71dcb48c7124a4890a9214fb7965164"
            ]
          }
        },
        "c929d619edb340f8a87a0760893d5a8d": {
          "model_module": "@jupyter-widgets/base",
          "model_name": "LayoutModel",
          "state": {
            "_view_name": "LayoutView",
            "grid_template_rows": null,
            "right": null,
            "justify_content": null,
            "_view_module": "@jupyter-widgets/base",
            "overflow": null,
            "_model_module_version": "1.2.0",
            "_view_count": null,
            "flex_flow": null,
            "width": null,
            "min_width": null,
            "border": null,
            "align_items": null,
            "bottom": null,
            "_model_module": "@jupyter-widgets/base",
            "top": null,
            "grid_column": null,
            "overflow_y": null,
            "overflow_x": null,
            "grid_auto_flow": null,
            "grid_area": null,
            "grid_template_columns": null,
            "flex": null,
            "_model_name": "LayoutModel",
            "justify_items": null,
            "grid_row": null,
            "max_height": null,
            "align_content": null,
            "visibility": null,
            "align_self": null,
            "height": null,
            "min_height": null,
            "padding": null,
            "grid_auto_rows": null,
            "grid_gap": null,
            "max_width": null,
            "order": null,
            "_view_module_version": "1.2.0",
            "grid_template_areas": null,
            "object_position": null,
            "object_fit": null,
            "grid_auto_columns": null,
            "margin": null,
            "display": null,
            "left": null
          }
        },
        "e9f29656ac274be684f9e564da2ae624": {
          "model_module": "@jupyter-widgets/controls",
          "model_name": "FloatProgressModel",
          "state": {
            "_view_name": "ProgressView",
            "style": "IPY_MODEL_11ca0cbf9c9a4f12a740df893c903097",
            "_dom_classes": [],
            "description": "100%",
            "_model_name": "FloatProgressModel",
            "bar_style": "",
            "max": 141,
            "_view_module": "@jupyter-widgets/controls",
            "_model_module_version": "1.5.0",
            "value": 141,
            "_view_count": null,
            "_view_module_version": "1.5.0",
            "orientation": "horizontal",
            "min": 0,
            "description_tooltip": null,
            "_model_module": "@jupyter-widgets/controls",
            "layout": "IPY_MODEL_c443da419b4f41eab56d21b415cab888"
          }
        },
        "e71dcb48c7124a4890a9214fb7965164": {
          "model_module": "@jupyter-widgets/controls",
          "model_name": "HTMLModel",
          "state": {
            "_view_name": "HTMLView",
            "style": "IPY_MODEL_4c06e5e0dc1d4a1498f60a5abc84f1fb",
            "_dom_classes": [],
            "description": "",
            "_model_name": "HTMLModel",
            "placeholder": "​",
            "_view_module": "@jupyter-widgets/controls",
            "_model_module_version": "1.5.0",
            "value": " 141/141 [00:00&lt;00:00, 193.14it/s]",
            "_view_count": null,
            "_view_module_version": "1.5.0",
            "description_tooltip": null,
            "_model_module": "@jupyter-widgets/controls",
            "layout": "IPY_MODEL_953084a52e81459abd755bcf2d4e2eec"
          }
        },
        "11ca0cbf9c9a4f12a740df893c903097": {
          "model_module": "@jupyter-widgets/controls",
          "model_name": "ProgressStyleModel",
          "state": {
            "_view_name": "StyleView",
            "_model_name": "ProgressStyleModel",
            "description_width": "initial",
            "_view_module": "@jupyter-widgets/base",
            "_model_module_version": "1.5.0",
            "_view_count": null,
            "_view_module_version": "1.2.0",
            "bar_color": null,
            "_model_module": "@jupyter-widgets/controls"
          }
        },
        "c443da419b4f41eab56d21b415cab888": {
          "model_module": "@jupyter-widgets/base",
          "model_name": "LayoutModel",
          "state": {
            "_view_name": "LayoutView",
            "grid_template_rows": null,
            "right": null,
            "justify_content": null,
            "_view_module": "@jupyter-widgets/base",
            "overflow": null,
            "_model_module_version": "1.2.0",
            "_view_count": null,
            "flex_flow": null,
            "width": null,
            "min_width": null,
            "border": null,
            "align_items": null,
            "bottom": null,
            "_model_module": "@jupyter-widgets/base",
            "top": null,
            "grid_column": null,
            "overflow_y": null,
            "overflow_x": null,
            "grid_auto_flow": null,
            "grid_area": null,
            "grid_template_columns": null,
            "flex": null,
            "_model_name": "LayoutModel",
            "justify_items": null,
            "grid_row": null,
            "max_height": null,
            "align_content": null,
            "visibility": null,
            "align_self": null,
            "height": null,
            "min_height": null,
            "padding": null,
            "grid_auto_rows": null,
            "grid_gap": null,
            "max_width": null,
            "order": null,
            "_view_module_version": "1.2.0",
            "grid_template_areas": null,
            "object_position": null,
            "object_fit": null,
            "grid_auto_columns": null,
            "margin": null,
            "display": null,
            "left": null
          }
        },
        "4c06e5e0dc1d4a1498f60a5abc84f1fb": {
          "model_module": "@jupyter-widgets/controls",
          "model_name": "DescriptionStyleModel",
          "state": {
            "_view_name": "StyleView",
            "_model_name": "DescriptionStyleModel",
            "description_width": "",
            "_view_module": "@jupyter-widgets/base",
            "_model_module_version": "1.5.0",
            "_view_count": null,
            "_view_module_version": "1.2.0",
            "_model_module": "@jupyter-widgets/controls"
          }
        },
        "953084a52e81459abd755bcf2d4e2eec": {
          "model_module": "@jupyter-widgets/base",
          "model_name": "LayoutModel",
          "state": {
            "_view_name": "LayoutView",
            "grid_template_rows": null,
            "right": null,
            "justify_content": null,
            "_view_module": "@jupyter-widgets/base",
            "overflow": null,
            "_model_module_version": "1.2.0",
            "_view_count": null,
            "flex_flow": null,
            "width": null,
            "min_width": null,
            "border": null,
            "align_items": null,
            "bottom": null,
            "_model_module": "@jupyter-widgets/base",
            "top": null,
            "grid_column": null,
            "overflow_y": null,
            "overflow_x": null,
            "grid_auto_flow": null,
            "grid_area": null,
            "grid_template_columns": null,
            "flex": null,
            "_model_name": "LayoutModel",
            "justify_items": null,
            "grid_row": null,
            "max_height": null,
            "align_content": null,
            "visibility": null,
            "align_self": null,
            "height": null,
            "min_height": null,
            "padding": null,
            "grid_auto_rows": null,
            "grid_gap": null,
            "max_width": null,
            "order": null,
            "_view_module_version": "1.2.0",
            "grid_template_areas": null,
            "object_position": null,
            "object_fit": null,
            "grid_auto_columns": null,
            "margin": null,
            "display": null,
            "left": null
          }
        },
        "88920b23f10749d6a2e71ea0116e51db": {
          "model_module": "@jupyter-widgets/controls",
          "model_name": "HBoxModel",
          "state": {
            "_view_name": "HBoxView",
            "_dom_classes": [],
            "_model_name": "HBoxModel",
            "_view_module": "@jupyter-widgets/controls",
            "_model_module_version": "1.5.0",
            "_view_count": null,
            "_view_module_version": "1.5.0",
            "box_style": "",
            "layout": "IPY_MODEL_3174bc7cac2546c89e8f1c65e303d3dc",
            "_model_module": "@jupyter-widgets/controls",
            "children": [
              "IPY_MODEL_c775ccfe4ea541de8e74e7a412a5efde",
              "IPY_MODEL_a300b866cf004d1880c4692faf65985a"
            ]
          }
        },
        "3174bc7cac2546c89e8f1c65e303d3dc": {
          "model_module": "@jupyter-widgets/base",
          "model_name": "LayoutModel",
          "state": {
            "_view_name": "LayoutView",
            "grid_template_rows": null,
            "right": null,
            "justify_content": null,
            "_view_module": "@jupyter-widgets/base",
            "overflow": null,
            "_model_module_version": "1.2.0",
            "_view_count": null,
            "flex_flow": null,
            "width": null,
            "min_width": null,
            "border": null,
            "align_items": null,
            "bottom": null,
            "_model_module": "@jupyter-widgets/base",
            "top": null,
            "grid_column": null,
            "overflow_y": null,
            "overflow_x": null,
            "grid_auto_flow": null,
            "grid_area": null,
            "grid_template_columns": null,
            "flex": null,
            "_model_name": "LayoutModel",
            "justify_items": null,
            "grid_row": null,
            "max_height": null,
            "align_content": null,
            "visibility": null,
            "align_self": null,
            "height": null,
            "min_height": null,
            "padding": null,
            "grid_auto_rows": null,
            "grid_gap": null,
            "max_width": null,
            "order": null,
            "_view_module_version": "1.2.0",
            "grid_template_areas": null,
            "object_position": null,
            "object_fit": null,
            "grid_auto_columns": null,
            "margin": null,
            "display": null,
            "left": null
          }
        },
        "c775ccfe4ea541de8e74e7a412a5efde": {
          "model_module": "@jupyter-widgets/controls",
          "model_name": "FloatProgressModel",
          "state": {
            "_view_name": "ProgressView",
            "style": "IPY_MODEL_597c29fb08194036b38a2ac5c1739628",
            "_dom_classes": [],
            "description": "Epoch 15: 100%",
            "_model_name": "FloatProgressModel",
            "bar_style": "",
            "max": 563,
            "_view_module": "@jupyter-widgets/controls",
            "_model_module_version": "1.5.0",
            "value": 563,
            "_view_count": null,
            "_view_module_version": "1.5.0",
            "orientation": "horizontal",
            "min": 0,
            "description_tooltip": null,
            "_model_module": "@jupyter-widgets/controls",
            "layout": "IPY_MODEL_a860383480044b229558deb95e9a9d92"
          }
        },
        "a300b866cf004d1880c4692faf65985a": {
          "model_module": "@jupyter-widgets/controls",
          "model_name": "HTMLModel",
          "state": {
            "_view_name": "HTMLView",
            "style": "IPY_MODEL_388db6511f16412f91421ce9afe71adf",
            "_dom_classes": [],
            "description": "",
            "_model_name": "HTMLModel",
            "placeholder": "​",
            "_view_module": "@jupyter-widgets/controls",
            "_model_module_version": "1.5.0",
            "value": " 563/563 [00:08&lt;00:00, 66.57it/s, loss=0.0611]",
            "_view_count": null,
            "_view_module_version": "1.5.0",
            "description_tooltip": null,
            "_model_module": "@jupyter-widgets/controls",
            "layout": "IPY_MODEL_6df180a53b9546009ae44b69b8130980"
          }
        },
        "597c29fb08194036b38a2ac5c1739628": {
          "model_module": "@jupyter-widgets/controls",
          "model_name": "ProgressStyleModel",
          "state": {
            "_view_name": "StyleView",
            "_model_name": "ProgressStyleModel",
            "description_width": "initial",
            "_view_module": "@jupyter-widgets/base",
            "_model_module_version": "1.5.0",
            "_view_count": null,
            "_view_module_version": "1.2.0",
            "bar_color": null,
            "_model_module": "@jupyter-widgets/controls"
          }
        },
        "a860383480044b229558deb95e9a9d92": {
          "model_module": "@jupyter-widgets/base",
          "model_name": "LayoutModel",
          "state": {
            "_view_name": "LayoutView",
            "grid_template_rows": null,
            "right": null,
            "justify_content": null,
            "_view_module": "@jupyter-widgets/base",
            "overflow": null,
            "_model_module_version": "1.2.0",
            "_view_count": null,
            "flex_flow": null,
            "width": null,
            "min_width": null,
            "border": null,
            "align_items": null,
            "bottom": null,
            "_model_module": "@jupyter-widgets/base",
            "top": null,
            "grid_column": null,
            "overflow_y": null,
            "overflow_x": null,
            "grid_auto_flow": null,
            "grid_area": null,
            "grid_template_columns": null,
            "flex": null,
            "_model_name": "LayoutModel",
            "justify_items": null,
            "grid_row": null,
            "max_height": null,
            "align_content": null,
            "visibility": null,
            "align_self": null,
            "height": null,
            "min_height": null,
            "padding": null,
            "grid_auto_rows": null,
            "grid_gap": null,
            "max_width": null,
            "order": null,
            "_view_module_version": "1.2.0",
            "grid_template_areas": null,
            "object_position": null,
            "object_fit": null,
            "grid_auto_columns": null,
            "margin": null,
            "display": null,
            "left": null
          }
        },
        "388db6511f16412f91421ce9afe71adf": {
          "model_module": "@jupyter-widgets/controls",
          "model_name": "DescriptionStyleModel",
          "state": {
            "_view_name": "StyleView",
            "_model_name": "DescriptionStyleModel",
            "description_width": "",
            "_view_module": "@jupyter-widgets/base",
            "_model_module_version": "1.5.0",
            "_view_count": null,
            "_view_module_version": "1.2.0",
            "_model_module": "@jupyter-widgets/controls"
          }
        },
        "6df180a53b9546009ae44b69b8130980": {
          "model_module": "@jupyter-widgets/base",
          "model_name": "LayoutModel",
          "state": {
            "_view_name": "LayoutView",
            "grid_template_rows": null,
            "right": null,
            "justify_content": null,
            "_view_module": "@jupyter-widgets/base",
            "overflow": null,
            "_model_module_version": "1.2.0",
            "_view_count": null,
            "flex_flow": null,
            "width": null,
            "min_width": null,
            "border": null,
            "align_items": null,
            "bottom": null,
            "_model_module": "@jupyter-widgets/base",
            "top": null,
            "grid_column": null,
            "overflow_y": null,
            "overflow_x": null,
            "grid_auto_flow": null,
            "grid_area": null,
            "grid_template_columns": null,
            "flex": null,
            "_model_name": "LayoutModel",
            "justify_items": null,
            "grid_row": null,
            "max_height": null,
            "align_content": null,
            "visibility": null,
            "align_self": null,
            "height": null,
            "min_height": null,
            "padding": null,
            "grid_auto_rows": null,
            "grid_gap": null,
            "max_width": null,
            "order": null,
            "_view_module_version": "1.2.0",
            "grid_template_areas": null,
            "object_position": null,
            "object_fit": null,
            "grid_auto_columns": null,
            "margin": null,
            "display": null,
            "left": null
          }
        },
        "5a4c756da84f46cdbf2cb648814142fc": {
          "model_module": "@jupyter-widgets/controls",
          "model_name": "HBoxModel",
          "state": {
            "_view_name": "HBoxView",
            "_dom_classes": [],
            "_model_name": "HBoxModel",
            "_view_module": "@jupyter-widgets/controls",
            "_model_module_version": "1.5.0",
            "_view_count": null,
            "_view_module_version": "1.5.0",
            "box_style": "",
            "layout": "IPY_MODEL_3cf985e8d22b4520bf00dea7421b7f92",
            "_model_module": "@jupyter-widgets/controls",
            "children": [
              "IPY_MODEL_6ed1a14241384fb08cbee757f1b16e10",
              "IPY_MODEL_6fde59490b1d42da8f609a538d4d80da"
            ]
          }
        },
        "3cf985e8d22b4520bf00dea7421b7f92": {
          "model_module": "@jupyter-widgets/base",
          "model_name": "LayoutModel",
          "state": {
            "_view_name": "LayoutView",
            "grid_template_rows": null,
            "right": null,
            "justify_content": null,
            "_view_module": "@jupyter-widgets/base",
            "overflow": null,
            "_model_module_version": "1.2.0",
            "_view_count": null,
            "flex_flow": null,
            "width": null,
            "min_width": null,
            "border": null,
            "align_items": null,
            "bottom": null,
            "_model_module": "@jupyter-widgets/base",
            "top": null,
            "grid_column": null,
            "overflow_y": null,
            "overflow_x": null,
            "grid_auto_flow": null,
            "grid_area": null,
            "grid_template_columns": null,
            "flex": null,
            "_model_name": "LayoutModel",
            "justify_items": null,
            "grid_row": null,
            "max_height": null,
            "align_content": null,
            "visibility": null,
            "align_self": null,
            "height": null,
            "min_height": null,
            "padding": null,
            "grid_auto_rows": null,
            "grid_gap": null,
            "max_width": null,
            "order": null,
            "_view_module_version": "1.2.0",
            "grid_template_areas": null,
            "object_position": null,
            "object_fit": null,
            "grid_auto_columns": null,
            "margin": null,
            "display": null,
            "left": null
          }
        },
        "6ed1a14241384fb08cbee757f1b16e10": {
          "model_module": "@jupyter-widgets/controls",
          "model_name": "FloatProgressModel",
          "state": {
            "_view_name": "ProgressView",
            "style": "IPY_MODEL_bed5e0accba4493ca59b6dba8b2b157d",
            "_dom_classes": [],
            "description": "100%",
            "_model_name": "FloatProgressModel",
            "bar_style": "",
            "max": 141,
            "_view_module": "@jupyter-widgets/controls",
            "_model_module_version": "1.5.0",
            "value": 141,
            "_view_count": null,
            "_view_module_version": "1.5.0",
            "orientation": "horizontal",
            "min": 0,
            "description_tooltip": null,
            "_model_module": "@jupyter-widgets/controls",
            "layout": "IPY_MODEL_129d8edc7d06410da9e12f42c8e5f23c"
          }
        },
        "6fde59490b1d42da8f609a538d4d80da": {
          "model_module": "@jupyter-widgets/controls",
          "model_name": "HTMLModel",
          "state": {
            "_view_name": "HTMLView",
            "style": "IPY_MODEL_8a1fe0b56ceb4877892d353cfb5f6e43",
            "_dom_classes": [],
            "description": "",
            "_model_name": "HTMLModel",
            "placeholder": "​",
            "_view_module": "@jupyter-widgets/controls",
            "_model_module_version": "1.5.0",
            "value": " 141/141 [00:00&lt;00:00, 187.39it/s]",
            "_view_count": null,
            "_view_module_version": "1.5.0",
            "description_tooltip": null,
            "_model_module": "@jupyter-widgets/controls",
            "layout": "IPY_MODEL_d02c44b50ed5439cbca2c2f52f85c338"
          }
        },
        "bed5e0accba4493ca59b6dba8b2b157d": {
          "model_module": "@jupyter-widgets/controls",
          "model_name": "ProgressStyleModel",
          "state": {
            "_view_name": "StyleView",
            "_model_name": "ProgressStyleModel",
            "description_width": "initial",
            "_view_module": "@jupyter-widgets/base",
            "_model_module_version": "1.5.0",
            "_view_count": null,
            "_view_module_version": "1.2.0",
            "bar_color": null,
            "_model_module": "@jupyter-widgets/controls"
          }
        },
        "129d8edc7d06410da9e12f42c8e5f23c": {
          "model_module": "@jupyter-widgets/base",
          "model_name": "LayoutModel",
          "state": {
            "_view_name": "LayoutView",
            "grid_template_rows": null,
            "right": null,
            "justify_content": null,
            "_view_module": "@jupyter-widgets/base",
            "overflow": null,
            "_model_module_version": "1.2.0",
            "_view_count": null,
            "flex_flow": null,
            "width": null,
            "min_width": null,
            "border": null,
            "align_items": null,
            "bottom": null,
            "_model_module": "@jupyter-widgets/base",
            "top": null,
            "grid_column": null,
            "overflow_y": null,
            "overflow_x": null,
            "grid_auto_flow": null,
            "grid_area": null,
            "grid_template_columns": null,
            "flex": null,
            "_model_name": "LayoutModel",
            "justify_items": null,
            "grid_row": null,
            "max_height": null,
            "align_content": null,
            "visibility": null,
            "align_self": null,
            "height": null,
            "min_height": null,
            "padding": null,
            "grid_auto_rows": null,
            "grid_gap": null,
            "max_width": null,
            "order": null,
            "_view_module_version": "1.2.0",
            "grid_template_areas": null,
            "object_position": null,
            "object_fit": null,
            "grid_auto_columns": null,
            "margin": null,
            "display": null,
            "left": null
          }
        },
        "8a1fe0b56ceb4877892d353cfb5f6e43": {
          "model_module": "@jupyter-widgets/controls",
          "model_name": "DescriptionStyleModel",
          "state": {
            "_view_name": "StyleView",
            "_model_name": "DescriptionStyleModel",
            "description_width": "",
            "_view_module": "@jupyter-widgets/base",
            "_model_module_version": "1.5.0",
            "_view_count": null,
            "_view_module_version": "1.2.0",
            "_model_module": "@jupyter-widgets/controls"
          }
        },
        "d02c44b50ed5439cbca2c2f52f85c338": {
          "model_module": "@jupyter-widgets/base",
          "model_name": "LayoutModel",
          "state": {
            "_view_name": "LayoutView",
            "grid_template_rows": null,
            "right": null,
            "justify_content": null,
            "_view_module": "@jupyter-widgets/base",
            "overflow": null,
            "_model_module_version": "1.2.0",
            "_view_count": null,
            "flex_flow": null,
            "width": null,
            "min_width": null,
            "border": null,
            "align_items": null,
            "bottom": null,
            "_model_module": "@jupyter-widgets/base",
            "top": null,
            "grid_column": null,
            "overflow_y": null,
            "overflow_x": null,
            "grid_auto_flow": null,
            "grid_area": null,
            "grid_template_columns": null,
            "flex": null,
            "_model_name": "LayoutModel",
            "justify_items": null,
            "grid_row": null,
            "max_height": null,
            "align_content": null,
            "visibility": null,
            "align_self": null,
            "height": null,
            "min_height": null,
            "padding": null,
            "grid_auto_rows": null,
            "grid_gap": null,
            "max_width": null,
            "order": null,
            "_view_module_version": "1.2.0",
            "grid_template_areas": null,
            "object_position": null,
            "object_fit": null,
            "grid_auto_columns": null,
            "margin": null,
            "display": null,
            "left": null
          }
        },
        "1c43e2fd06804046926b2293a749bec0": {
          "model_module": "@jupyter-widgets/controls",
          "model_name": "HBoxModel",
          "state": {
            "_view_name": "HBoxView",
            "_dom_classes": [],
            "_model_name": "HBoxModel",
            "_view_module": "@jupyter-widgets/controls",
            "_model_module_version": "1.5.0",
            "_view_count": null,
            "_view_module_version": "1.5.0",
            "box_style": "",
            "layout": "IPY_MODEL_b2e3119779924e3eb5d8ea7b9b931c3e",
            "_model_module": "@jupyter-widgets/controls",
            "children": [
              "IPY_MODEL_1cf8647fb7ce434ea7c26085add2fffb",
              "IPY_MODEL_15965c77a9da4612aed7eba7a1436a0e"
            ]
          }
        },
        "b2e3119779924e3eb5d8ea7b9b931c3e": {
          "model_module": "@jupyter-widgets/base",
          "model_name": "LayoutModel",
          "state": {
            "_view_name": "LayoutView",
            "grid_template_rows": null,
            "right": null,
            "justify_content": null,
            "_view_module": "@jupyter-widgets/base",
            "overflow": null,
            "_model_module_version": "1.2.0",
            "_view_count": null,
            "flex_flow": null,
            "width": null,
            "min_width": null,
            "border": null,
            "align_items": null,
            "bottom": null,
            "_model_module": "@jupyter-widgets/base",
            "top": null,
            "grid_column": null,
            "overflow_y": null,
            "overflow_x": null,
            "grid_auto_flow": null,
            "grid_area": null,
            "grid_template_columns": null,
            "flex": null,
            "_model_name": "LayoutModel",
            "justify_items": null,
            "grid_row": null,
            "max_height": null,
            "align_content": null,
            "visibility": null,
            "align_self": null,
            "height": null,
            "min_height": null,
            "padding": null,
            "grid_auto_rows": null,
            "grid_gap": null,
            "max_width": null,
            "order": null,
            "_view_module_version": "1.2.0",
            "grid_template_areas": null,
            "object_position": null,
            "object_fit": null,
            "grid_auto_columns": null,
            "margin": null,
            "display": null,
            "left": null
          }
        },
        "1cf8647fb7ce434ea7c26085add2fffb": {
          "model_module": "@jupyter-widgets/controls",
          "model_name": "FloatProgressModel",
          "state": {
            "_view_name": "ProgressView",
            "style": "IPY_MODEL_3029116fa24d4bea901513a26c1db595",
            "_dom_classes": [],
            "description": "Epoch 16: 100%",
            "_model_name": "FloatProgressModel",
            "bar_style": "",
            "max": 563,
            "_view_module": "@jupyter-widgets/controls",
            "_model_module_version": "1.5.0",
            "value": 563,
            "_view_count": null,
            "_view_module_version": "1.5.0",
            "orientation": "horizontal",
            "min": 0,
            "description_tooltip": null,
            "_model_module": "@jupyter-widgets/controls",
            "layout": "IPY_MODEL_ea036c11c40b44609c162435bb3f68a9"
          }
        },
        "15965c77a9da4612aed7eba7a1436a0e": {
          "model_module": "@jupyter-widgets/controls",
          "model_name": "HTMLModel",
          "state": {
            "_view_name": "HTMLView",
            "style": "IPY_MODEL_b2e92cec13b044058b68d1b158ef938f",
            "_dom_classes": [],
            "description": "",
            "_model_name": "HTMLModel",
            "placeholder": "​",
            "_view_module": "@jupyter-widgets/controls",
            "_model_module_version": "1.5.0",
            "value": " 563/563 [00:08&lt;00:00, 70.56it/s, loss=0.101]",
            "_view_count": null,
            "_view_module_version": "1.5.0",
            "description_tooltip": null,
            "_model_module": "@jupyter-widgets/controls",
            "layout": "IPY_MODEL_24bb19a32afa4f8d824b78a5cbe4a4cc"
          }
        },
        "3029116fa24d4bea901513a26c1db595": {
          "model_module": "@jupyter-widgets/controls",
          "model_name": "ProgressStyleModel",
          "state": {
            "_view_name": "StyleView",
            "_model_name": "ProgressStyleModel",
            "description_width": "initial",
            "_view_module": "@jupyter-widgets/base",
            "_model_module_version": "1.5.0",
            "_view_count": null,
            "_view_module_version": "1.2.0",
            "bar_color": null,
            "_model_module": "@jupyter-widgets/controls"
          }
        },
        "ea036c11c40b44609c162435bb3f68a9": {
          "model_module": "@jupyter-widgets/base",
          "model_name": "LayoutModel",
          "state": {
            "_view_name": "LayoutView",
            "grid_template_rows": null,
            "right": null,
            "justify_content": null,
            "_view_module": "@jupyter-widgets/base",
            "overflow": null,
            "_model_module_version": "1.2.0",
            "_view_count": null,
            "flex_flow": null,
            "width": null,
            "min_width": null,
            "border": null,
            "align_items": null,
            "bottom": null,
            "_model_module": "@jupyter-widgets/base",
            "top": null,
            "grid_column": null,
            "overflow_y": null,
            "overflow_x": null,
            "grid_auto_flow": null,
            "grid_area": null,
            "grid_template_columns": null,
            "flex": null,
            "_model_name": "LayoutModel",
            "justify_items": null,
            "grid_row": null,
            "max_height": null,
            "align_content": null,
            "visibility": null,
            "align_self": null,
            "height": null,
            "min_height": null,
            "padding": null,
            "grid_auto_rows": null,
            "grid_gap": null,
            "max_width": null,
            "order": null,
            "_view_module_version": "1.2.0",
            "grid_template_areas": null,
            "object_position": null,
            "object_fit": null,
            "grid_auto_columns": null,
            "margin": null,
            "display": null,
            "left": null
          }
        },
        "b2e92cec13b044058b68d1b158ef938f": {
          "model_module": "@jupyter-widgets/controls",
          "model_name": "DescriptionStyleModel",
          "state": {
            "_view_name": "StyleView",
            "_model_name": "DescriptionStyleModel",
            "description_width": "",
            "_view_module": "@jupyter-widgets/base",
            "_model_module_version": "1.5.0",
            "_view_count": null,
            "_view_module_version": "1.2.0",
            "_model_module": "@jupyter-widgets/controls"
          }
        },
        "24bb19a32afa4f8d824b78a5cbe4a4cc": {
          "model_module": "@jupyter-widgets/base",
          "model_name": "LayoutModel",
          "state": {
            "_view_name": "LayoutView",
            "grid_template_rows": null,
            "right": null,
            "justify_content": null,
            "_view_module": "@jupyter-widgets/base",
            "overflow": null,
            "_model_module_version": "1.2.0",
            "_view_count": null,
            "flex_flow": null,
            "width": null,
            "min_width": null,
            "border": null,
            "align_items": null,
            "bottom": null,
            "_model_module": "@jupyter-widgets/base",
            "top": null,
            "grid_column": null,
            "overflow_y": null,
            "overflow_x": null,
            "grid_auto_flow": null,
            "grid_area": null,
            "grid_template_columns": null,
            "flex": null,
            "_model_name": "LayoutModel",
            "justify_items": null,
            "grid_row": null,
            "max_height": null,
            "align_content": null,
            "visibility": null,
            "align_self": null,
            "height": null,
            "min_height": null,
            "padding": null,
            "grid_auto_rows": null,
            "grid_gap": null,
            "max_width": null,
            "order": null,
            "_view_module_version": "1.2.0",
            "grid_template_areas": null,
            "object_position": null,
            "object_fit": null,
            "grid_auto_columns": null,
            "margin": null,
            "display": null,
            "left": null
          }
        },
        "64b1c34581324f30a721ae0bdc1c01cc": {
          "model_module": "@jupyter-widgets/controls",
          "model_name": "HBoxModel",
          "state": {
            "_view_name": "HBoxView",
            "_dom_classes": [],
            "_model_name": "HBoxModel",
            "_view_module": "@jupyter-widgets/controls",
            "_model_module_version": "1.5.0",
            "_view_count": null,
            "_view_module_version": "1.5.0",
            "box_style": "",
            "layout": "IPY_MODEL_ce0c1dcd6c6547519062eb4a5c4775b7",
            "_model_module": "@jupyter-widgets/controls",
            "children": [
              "IPY_MODEL_90721fab949443038fc579a2c8c81abf",
              "IPY_MODEL_6e8743afad99487381cd217c9f62ae05"
            ]
          }
        },
        "ce0c1dcd6c6547519062eb4a5c4775b7": {
          "model_module": "@jupyter-widgets/base",
          "model_name": "LayoutModel",
          "state": {
            "_view_name": "LayoutView",
            "grid_template_rows": null,
            "right": null,
            "justify_content": null,
            "_view_module": "@jupyter-widgets/base",
            "overflow": null,
            "_model_module_version": "1.2.0",
            "_view_count": null,
            "flex_flow": null,
            "width": null,
            "min_width": null,
            "border": null,
            "align_items": null,
            "bottom": null,
            "_model_module": "@jupyter-widgets/base",
            "top": null,
            "grid_column": null,
            "overflow_y": null,
            "overflow_x": null,
            "grid_auto_flow": null,
            "grid_area": null,
            "grid_template_columns": null,
            "flex": null,
            "_model_name": "LayoutModel",
            "justify_items": null,
            "grid_row": null,
            "max_height": null,
            "align_content": null,
            "visibility": null,
            "align_self": null,
            "height": null,
            "min_height": null,
            "padding": null,
            "grid_auto_rows": null,
            "grid_gap": null,
            "max_width": null,
            "order": null,
            "_view_module_version": "1.2.0",
            "grid_template_areas": null,
            "object_position": null,
            "object_fit": null,
            "grid_auto_columns": null,
            "margin": null,
            "display": null,
            "left": null
          }
        },
        "90721fab949443038fc579a2c8c81abf": {
          "model_module": "@jupyter-widgets/controls",
          "model_name": "FloatProgressModel",
          "state": {
            "_view_name": "ProgressView",
            "style": "IPY_MODEL_c054ebee6fd74891a72ef1255580df96",
            "_dom_classes": [],
            "description": "100%",
            "_model_name": "FloatProgressModel",
            "bar_style": "",
            "max": 141,
            "_view_module": "@jupyter-widgets/controls",
            "_model_module_version": "1.5.0",
            "value": 141,
            "_view_count": null,
            "_view_module_version": "1.5.0",
            "orientation": "horizontal",
            "min": 0,
            "description_tooltip": null,
            "_model_module": "@jupyter-widgets/controls",
            "layout": "IPY_MODEL_789dfc2f0bf1459d98b18a0ecdd3a76c"
          }
        },
        "6e8743afad99487381cd217c9f62ae05": {
          "model_module": "@jupyter-widgets/controls",
          "model_name": "HTMLModel",
          "state": {
            "_view_name": "HTMLView",
            "style": "IPY_MODEL_9a277196de9945d7aaf71e1a649cb6bb",
            "_dom_classes": [],
            "description": "",
            "_model_name": "HTMLModel",
            "placeholder": "​",
            "_view_module": "@jupyter-widgets/controls",
            "_model_module_version": "1.5.0",
            "value": " 141/141 [00:00&lt;00:00, 161.47it/s]",
            "_view_count": null,
            "_view_module_version": "1.5.0",
            "description_tooltip": null,
            "_model_module": "@jupyter-widgets/controls",
            "layout": "IPY_MODEL_3e1334c3f7154b0f8139ea47470f46e0"
          }
        },
        "c054ebee6fd74891a72ef1255580df96": {
          "model_module": "@jupyter-widgets/controls",
          "model_name": "ProgressStyleModel",
          "state": {
            "_view_name": "StyleView",
            "_model_name": "ProgressStyleModel",
            "description_width": "initial",
            "_view_module": "@jupyter-widgets/base",
            "_model_module_version": "1.5.0",
            "_view_count": null,
            "_view_module_version": "1.2.0",
            "bar_color": null,
            "_model_module": "@jupyter-widgets/controls"
          }
        },
        "789dfc2f0bf1459d98b18a0ecdd3a76c": {
          "model_module": "@jupyter-widgets/base",
          "model_name": "LayoutModel",
          "state": {
            "_view_name": "LayoutView",
            "grid_template_rows": null,
            "right": null,
            "justify_content": null,
            "_view_module": "@jupyter-widgets/base",
            "overflow": null,
            "_model_module_version": "1.2.0",
            "_view_count": null,
            "flex_flow": null,
            "width": null,
            "min_width": null,
            "border": null,
            "align_items": null,
            "bottom": null,
            "_model_module": "@jupyter-widgets/base",
            "top": null,
            "grid_column": null,
            "overflow_y": null,
            "overflow_x": null,
            "grid_auto_flow": null,
            "grid_area": null,
            "grid_template_columns": null,
            "flex": null,
            "_model_name": "LayoutModel",
            "justify_items": null,
            "grid_row": null,
            "max_height": null,
            "align_content": null,
            "visibility": null,
            "align_self": null,
            "height": null,
            "min_height": null,
            "padding": null,
            "grid_auto_rows": null,
            "grid_gap": null,
            "max_width": null,
            "order": null,
            "_view_module_version": "1.2.0",
            "grid_template_areas": null,
            "object_position": null,
            "object_fit": null,
            "grid_auto_columns": null,
            "margin": null,
            "display": null,
            "left": null
          }
        },
        "9a277196de9945d7aaf71e1a649cb6bb": {
          "model_module": "@jupyter-widgets/controls",
          "model_name": "DescriptionStyleModel",
          "state": {
            "_view_name": "StyleView",
            "_model_name": "DescriptionStyleModel",
            "description_width": "",
            "_view_module": "@jupyter-widgets/base",
            "_model_module_version": "1.5.0",
            "_view_count": null,
            "_view_module_version": "1.2.0",
            "_model_module": "@jupyter-widgets/controls"
          }
        },
        "3e1334c3f7154b0f8139ea47470f46e0": {
          "model_module": "@jupyter-widgets/base",
          "model_name": "LayoutModel",
          "state": {
            "_view_name": "LayoutView",
            "grid_template_rows": null,
            "right": null,
            "justify_content": null,
            "_view_module": "@jupyter-widgets/base",
            "overflow": null,
            "_model_module_version": "1.2.0",
            "_view_count": null,
            "flex_flow": null,
            "width": null,
            "min_width": null,
            "border": null,
            "align_items": null,
            "bottom": null,
            "_model_module": "@jupyter-widgets/base",
            "top": null,
            "grid_column": null,
            "overflow_y": null,
            "overflow_x": null,
            "grid_auto_flow": null,
            "grid_area": null,
            "grid_template_columns": null,
            "flex": null,
            "_model_name": "LayoutModel",
            "justify_items": null,
            "grid_row": null,
            "max_height": null,
            "align_content": null,
            "visibility": null,
            "align_self": null,
            "height": null,
            "min_height": null,
            "padding": null,
            "grid_auto_rows": null,
            "grid_gap": null,
            "max_width": null,
            "order": null,
            "_view_module_version": "1.2.0",
            "grid_template_areas": null,
            "object_position": null,
            "object_fit": null,
            "grid_auto_columns": null,
            "margin": null,
            "display": null,
            "left": null
          }
        },
        "394b227b3c424c51b2438e2613d38bc7": {
          "model_module": "@jupyter-widgets/controls",
          "model_name": "HBoxModel",
          "state": {
            "_view_name": "HBoxView",
            "_dom_classes": [],
            "_model_name": "HBoxModel",
            "_view_module": "@jupyter-widgets/controls",
            "_model_module_version": "1.5.0",
            "_view_count": null,
            "_view_module_version": "1.5.0",
            "box_style": "",
            "layout": "IPY_MODEL_ef6336a5a1414d209585368c80dbf123",
            "_model_module": "@jupyter-widgets/controls",
            "children": [
              "IPY_MODEL_96352f3a820f452fa82797953a7cfeea",
              "IPY_MODEL_0c99fbbb9a82466db3c690df7f73edcf"
            ]
          }
        },
        "ef6336a5a1414d209585368c80dbf123": {
          "model_module": "@jupyter-widgets/base",
          "model_name": "LayoutModel",
          "state": {
            "_view_name": "LayoutView",
            "grid_template_rows": null,
            "right": null,
            "justify_content": null,
            "_view_module": "@jupyter-widgets/base",
            "overflow": null,
            "_model_module_version": "1.2.0",
            "_view_count": null,
            "flex_flow": null,
            "width": null,
            "min_width": null,
            "border": null,
            "align_items": null,
            "bottom": null,
            "_model_module": "@jupyter-widgets/base",
            "top": null,
            "grid_column": null,
            "overflow_y": null,
            "overflow_x": null,
            "grid_auto_flow": null,
            "grid_area": null,
            "grid_template_columns": null,
            "flex": null,
            "_model_name": "LayoutModel",
            "justify_items": null,
            "grid_row": null,
            "max_height": null,
            "align_content": null,
            "visibility": null,
            "align_self": null,
            "height": null,
            "min_height": null,
            "padding": null,
            "grid_auto_rows": null,
            "grid_gap": null,
            "max_width": null,
            "order": null,
            "_view_module_version": "1.2.0",
            "grid_template_areas": null,
            "object_position": null,
            "object_fit": null,
            "grid_auto_columns": null,
            "margin": null,
            "display": null,
            "left": null
          }
        },
        "96352f3a820f452fa82797953a7cfeea": {
          "model_module": "@jupyter-widgets/controls",
          "model_name": "FloatProgressModel",
          "state": {
            "_view_name": "ProgressView",
            "style": "IPY_MODEL_790a7bef3bd9441a99f3e7eae3eb8473",
            "_dom_classes": [],
            "description": "Epoch 17: 100%",
            "_model_name": "FloatProgressModel",
            "bar_style": "",
            "max": 563,
            "_view_module": "@jupyter-widgets/controls",
            "_model_module_version": "1.5.0",
            "value": 563,
            "_view_count": null,
            "_view_module_version": "1.5.0",
            "orientation": "horizontal",
            "min": 0,
            "description_tooltip": null,
            "_model_module": "@jupyter-widgets/controls",
            "layout": "IPY_MODEL_f52b83ed8f624f3ca037669afcd4bed0"
          }
        },
        "0c99fbbb9a82466db3c690df7f73edcf": {
          "model_module": "@jupyter-widgets/controls",
          "model_name": "HTMLModel",
          "state": {
            "_view_name": "HTMLView",
            "style": "IPY_MODEL_ad6a486528444deb93b65c05f794261d",
            "_dom_classes": [],
            "description": "",
            "_model_name": "HTMLModel",
            "placeholder": "​",
            "_view_module": "@jupyter-widgets/controls",
            "_model_module_version": "1.5.0",
            "value": " 563/563 [00:08&lt;00:00, 69.08it/s, loss=0.0935]",
            "_view_count": null,
            "_view_module_version": "1.5.0",
            "description_tooltip": null,
            "_model_module": "@jupyter-widgets/controls",
            "layout": "IPY_MODEL_23dfd39b48a046cf84c8342a82d123d7"
          }
        },
        "790a7bef3bd9441a99f3e7eae3eb8473": {
          "model_module": "@jupyter-widgets/controls",
          "model_name": "ProgressStyleModel",
          "state": {
            "_view_name": "StyleView",
            "_model_name": "ProgressStyleModel",
            "description_width": "initial",
            "_view_module": "@jupyter-widgets/base",
            "_model_module_version": "1.5.0",
            "_view_count": null,
            "_view_module_version": "1.2.0",
            "bar_color": null,
            "_model_module": "@jupyter-widgets/controls"
          }
        },
        "f52b83ed8f624f3ca037669afcd4bed0": {
          "model_module": "@jupyter-widgets/base",
          "model_name": "LayoutModel",
          "state": {
            "_view_name": "LayoutView",
            "grid_template_rows": null,
            "right": null,
            "justify_content": null,
            "_view_module": "@jupyter-widgets/base",
            "overflow": null,
            "_model_module_version": "1.2.0",
            "_view_count": null,
            "flex_flow": null,
            "width": null,
            "min_width": null,
            "border": null,
            "align_items": null,
            "bottom": null,
            "_model_module": "@jupyter-widgets/base",
            "top": null,
            "grid_column": null,
            "overflow_y": null,
            "overflow_x": null,
            "grid_auto_flow": null,
            "grid_area": null,
            "grid_template_columns": null,
            "flex": null,
            "_model_name": "LayoutModel",
            "justify_items": null,
            "grid_row": null,
            "max_height": null,
            "align_content": null,
            "visibility": null,
            "align_self": null,
            "height": null,
            "min_height": null,
            "padding": null,
            "grid_auto_rows": null,
            "grid_gap": null,
            "max_width": null,
            "order": null,
            "_view_module_version": "1.2.0",
            "grid_template_areas": null,
            "object_position": null,
            "object_fit": null,
            "grid_auto_columns": null,
            "margin": null,
            "display": null,
            "left": null
          }
        },
        "ad6a486528444deb93b65c05f794261d": {
          "model_module": "@jupyter-widgets/controls",
          "model_name": "DescriptionStyleModel",
          "state": {
            "_view_name": "StyleView",
            "_model_name": "DescriptionStyleModel",
            "description_width": "",
            "_view_module": "@jupyter-widgets/base",
            "_model_module_version": "1.5.0",
            "_view_count": null,
            "_view_module_version": "1.2.0",
            "_model_module": "@jupyter-widgets/controls"
          }
        },
        "23dfd39b48a046cf84c8342a82d123d7": {
          "model_module": "@jupyter-widgets/base",
          "model_name": "LayoutModel",
          "state": {
            "_view_name": "LayoutView",
            "grid_template_rows": null,
            "right": null,
            "justify_content": null,
            "_view_module": "@jupyter-widgets/base",
            "overflow": null,
            "_model_module_version": "1.2.0",
            "_view_count": null,
            "flex_flow": null,
            "width": null,
            "min_width": null,
            "border": null,
            "align_items": null,
            "bottom": null,
            "_model_module": "@jupyter-widgets/base",
            "top": null,
            "grid_column": null,
            "overflow_y": null,
            "overflow_x": null,
            "grid_auto_flow": null,
            "grid_area": null,
            "grid_template_columns": null,
            "flex": null,
            "_model_name": "LayoutModel",
            "justify_items": null,
            "grid_row": null,
            "max_height": null,
            "align_content": null,
            "visibility": null,
            "align_self": null,
            "height": null,
            "min_height": null,
            "padding": null,
            "grid_auto_rows": null,
            "grid_gap": null,
            "max_width": null,
            "order": null,
            "_view_module_version": "1.2.0",
            "grid_template_areas": null,
            "object_position": null,
            "object_fit": null,
            "grid_auto_columns": null,
            "margin": null,
            "display": null,
            "left": null
          }
        },
        "4a5d34f621f34dd5b1ea2b0ef96a711c": {
          "model_module": "@jupyter-widgets/controls",
          "model_name": "HBoxModel",
          "state": {
            "_view_name": "HBoxView",
            "_dom_classes": [],
            "_model_name": "HBoxModel",
            "_view_module": "@jupyter-widgets/controls",
            "_model_module_version": "1.5.0",
            "_view_count": null,
            "_view_module_version": "1.5.0",
            "box_style": "",
            "layout": "IPY_MODEL_1e9f40064bb342be8bd5ac167f803152",
            "_model_module": "@jupyter-widgets/controls",
            "children": [
              "IPY_MODEL_e8fe276f29374d23874cfd30da378151",
              "IPY_MODEL_0e127632d74949629bd02c046a14bf4c"
            ]
          }
        },
        "1e9f40064bb342be8bd5ac167f803152": {
          "model_module": "@jupyter-widgets/base",
          "model_name": "LayoutModel",
          "state": {
            "_view_name": "LayoutView",
            "grid_template_rows": null,
            "right": null,
            "justify_content": null,
            "_view_module": "@jupyter-widgets/base",
            "overflow": null,
            "_model_module_version": "1.2.0",
            "_view_count": null,
            "flex_flow": null,
            "width": null,
            "min_width": null,
            "border": null,
            "align_items": null,
            "bottom": null,
            "_model_module": "@jupyter-widgets/base",
            "top": null,
            "grid_column": null,
            "overflow_y": null,
            "overflow_x": null,
            "grid_auto_flow": null,
            "grid_area": null,
            "grid_template_columns": null,
            "flex": null,
            "_model_name": "LayoutModel",
            "justify_items": null,
            "grid_row": null,
            "max_height": null,
            "align_content": null,
            "visibility": null,
            "align_self": null,
            "height": null,
            "min_height": null,
            "padding": null,
            "grid_auto_rows": null,
            "grid_gap": null,
            "max_width": null,
            "order": null,
            "_view_module_version": "1.2.0",
            "grid_template_areas": null,
            "object_position": null,
            "object_fit": null,
            "grid_auto_columns": null,
            "margin": null,
            "display": null,
            "left": null
          }
        },
        "e8fe276f29374d23874cfd30da378151": {
          "model_module": "@jupyter-widgets/controls",
          "model_name": "FloatProgressModel",
          "state": {
            "_view_name": "ProgressView",
            "style": "IPY_MODEL_903756dcc8cb40bebc3e38b5f1ad2e98",
            "_dom_classes": [],
            "description": "100%",
            "_model_name": "FloatProgressModel",
            "bar_style": "",
            "max": 141,
            "_view_module": "@jupyter-widgets/controls",
            "_model_module_version": "1.5.0",
            "value": 141,
            "_view_count": null,
            "_view_module_version": "1.5.0",
            "orientation": "horizontal",
            "min": 0,
            "description_tooltip": null,
            "_model_module": "@jupyter-widgets/controls",
            "layout": "IPY_MODEL_7e71dc5e69f643debc8d0c0fea38e753"
          }
        },
        "0e127632d74949629bd02c046a14bf4c": {
          "model_module": "@jupyter-widgets/controls",
          "model_name": "HTMLModel",
          "state": {
            "_view_name": "HTMLView",
            "style": "IPY_MODEL_95f3f4c4d2624f3d9ca238c64c5c8292",
            "_dom_classes": [],
            "description": "",
            "_model_name": "HTMLModel",
            "placeholder": "​",
            "_view_module": "@jupyter-widgets/controls",
            "_model_module_version": "1.5.0",
            "value": " 141/141 [00:00&lt;00:00, 168.86it/s]",
            "_view_count": null,
            "_view_module_version": "1.5.0",
            "description_tooltip": null,
            "_model_module": "@jupyter-widgets/controls",
            "layout": "IPY_MODEL_f5c9138459c9411d8daa495177a94a5b"
          }
        },
        "903756dcc8cb40bebc3e38b5f1ad2e98": {
          "model_module": "@jupyter-widgets/controls",
          "model_name": "ProgressStyleModel",
          "state": {
            "_view_name": "StyleView",
            "_model_name": "ProgressStyleModel",
            "description_width": "initial",
            "_view_module": "@jupyter-widgets/base",
            "_model_module_version": "1.5.0",
            "_view_count": null,
            "_view_module_version": "1.2.0",
            "bar_color": null,
            "_model_module": "@jupyter-widgets/controls"
          }
        },
        "7e71dc5e69f643debc8d0c0fea38e753": {
          "model_module": "@jupyter-widgets/base",
          "model_name": "LayoutModel",
          "state": {
            "_view_name": "LayoutView",
            "grid_template_rows": null,
            "right": null,
            "justify_content": null,
            "_view_module": "@jupyter-widgets/base",
            "overflow": null,
            "_model_module_version": "1.2.0",
            "_view_count": null,
            "flex_flow": null,
            "width": null,
            "min_width": null,
            "border": null,
            "align_items": null,
            "bottom": null,
            "_model_module": "@jupyter-widgets/base",
            "top": null,
            "grid_column": null,
            "overflow_y": null,
            "overflow_x": null,
            "grid_auto_flow": null,
            "grid_area": null,
            "grid_template_columns": null,
            "flex": null,
            "_model_name": "LayoutModel",
            "justify_items": null,
            "grid_row": null,
            "max_height": null,
            "align_content": null,
            "visibility": null,
            "align_self": null,
            "height": null,
            "min_height": null,
            "padding": null,
            "grid_auto_rows": null,
            "grid_gap": null,
            "max_width": null,
            "order": null,
            "_view_module_version": "1.2.0",
            "grid_template_areas": null,
            "object_position": null,
            "object_fit": null,
            "grid_auto_columns": null,
            "margin": null,
            "display": null,
            "left": null
          }
        },
        "95f3f4c4d2624f3d9ca238c64c5c8292": {
          "model_module": "@jupyter-widgets/controls",
          "model_name": "DescriptionStyleModel",
          "state": {
            "_view_name": "StyleView",
            "_model_name": "DescriptionStyleModel",
            "description_width": "",
            "_view_module": "@jupyter-widgets/base",
            "_model_module_version": "1.5.0",
            "_view_count": null,
            "_view_module_version": "1.2.0",
            "_model_module": "@jupyter-widgets/controls"
          }
        },
        "f5c9138459c9411d8daa495177a94a5b": {
          "model_module": "@jupyter-widgets/base",
          "model_name": "LayoutModel",
          "state": {
            "_view_name": "LayoutView",
            "grid_template_rows": null,
            "right": null,
            "justify_content": null,
            "_view_module": "@jupyter-widgets/base",
            "overflow": null,
            "_model_module_version": "1.2.0",
            "_view_count": null,
            "flex_flow": null,
            "width": null,
            "min_width": null,
            "border": null,
            "align_items": null,
            "bottom": null,
            "_model_module": "@jupyter-widgets/base",
            "top": null,
            "grid_column": null,
            "overflow_y": null,
            "overflow_x": null,
            "grid_auto_flow": null,
            "grid_area": null,
            "grid_template_columns": null,
            "flex": null,
            "_model_name": "LayoutModel",
            "justify_items": null,
            "grid_row": null,
            "max_height": null,
            "align_content": null,
            "visibility": null,
            "align_self": null,
            "height": null,
            "min_height": null,
            "padding": null,
            "grid_auto_rows": null,
            "grid_gap": null,
            "max_width": null,
            "order": null,
            "_view_module_version": "1.2.0",
            "grid_template_areas": null,
            "object_position": null,
            "object_fit": null,
            "grid_auto_columns": null,
            "margin": null,
            "display": null,
            "left": null
          }
        },
        "62ff16a4c7c84ea995d70d3208467d6e": {
          "model_module": "@jupyter-widgets/controls",
          "model_name": "HBoxModel",
          "state": {
            "_view_name": "HBoxView",
            "_dom_classes": [],
            "_model_name": "HBoxModel",
            "_view_module": "@jupyter-widgets/controls",
            "_model_module_version": "1.5.0",
            "_view_count": null,
            "_view_module_version": "1.5.0",
            "box_style": "",
            "layout": "IPY_MODEL_d99d326bbc944d11b176b96ea5a89532",
            "_model_module": "@jupyter-widgets/controls",
            "children": [
              "IPY_MODEL_2512d8559da24e3d9f6286860a0f41dd",
              "IPY_MODEL_3bc45023c24b49ab90833ec3f6793a87"
            ]
          }
        },
        "d99d326bbc944d11b176b96ea5a89532": {
          "model_module": "@jupyter-widgets/base",
          "model_name": "LayoutModel",
          "state": {
            "_view_name": "LayoutView",
            "grid_template_rows": null,
            "right": null,
            "justify_content": null,
            "_view_module": "@jupyter-widgets/base",
            "overflow": null,
            "_model_module_version": "1.2.0",
            "_view_count": null,
            "flex_flow": null,
            "width": null,
            "min_width": null,
            "border": null,
            "align_items": null,
            "bottom": null,
            "_model_module": "@jupyter-widgets/base",
            "top": null,
            "grid_column": null,
            "overflow_y": null,
            "overflow_x": null,
            "grid_auto_flow": null,
            "grid_area": null,
            "grid_template_columns": null,
            "flex": null,
            "_model_name": "LayoutModel",
            "justify_items": null,
            "grid_row": null,
            "max_height": null,
            "align_content": null,
            "visibility": null,
            "align_self": null,
            "height": null,
            "min_height": null,
            "padding": null,
            "grid_auto_rows": null,
            "grid_gap": null,
            "max_width": null,
            "order": null,
            "_view_module_version": "1.2.0",
            "grid_template_areas": null,
            "object_position": null,
            "object_fit": null,
            "grid_auto_columns": null,
            "margin": null,
            "display": null,
            "left": null
          }
        },
        "2512d8559da24e3d9f6286860a0f41dd": {
          "model_module": "@jupyter-widgets/controls",
          "model_name": "FloatProgressModel",
          "state": {
            "_view_name": "ProgressView",
            "style": "IPY_MODEL_a59ae7bf83e3478c9d550466a1f159cd",
            "_dom_classes": [],
            "description": "Epoch 18: 100%",
            "_model_name": "FloatProgressModel",
            "bar_style": "",
            "max": 563,
            "_view_module": "@jupyter-widgets/controls",
            "_model_module_version": "1.5.0",
            "value": 563,
            "_view_count": null,
            "_view_module_version": "1.5.0",
            "orientation": "horizontal",
            "min": 0,
            "description_tooltip": null,
            "_model_module": "@jupyter-widgets/controls",
            "layout": "IPY_MODEL_6a66ab8a257c4a9db566e79f0b938e19"
          }
        },
        "3bc45023c24b49ab90833ec3f6793a87": {
          "model_module": "@jupyter-widgets/controls",
          "model_name": "HTMLModel",
          "state": {
            "_view_name": "HTMLView",
            "style": "IPY_MODEL_339014eae87a4463bdcdf6157bd2adbb",
            "_dom_classes": [],
            "description": "",
            "_model_name": "HTMLModel",
            "placeholder": "​",
            "_view_module": "@jupyter-widgets/controls",
            "_model_module_version": "1.5.0",
            "value": " 563/563 [00:08&lt;00:00, 66.83it/s, loss=0.0907]",
            "_view_count": null,
            "_view_module_version": "1.5.0",
            "description_tooltip": null,
            "_model_module": "@jupyter-widgets/controls",
            "layout": "IPY_MODEL_c84741484ec047aa893c8217e27cf49c"
          }
        },
        "a59ae7bf83e3478c9d550466a1f159cd": {
          "model_module": "@jupyter-widgets/controls",
          "model_name": "ProgressStyleModel",
          "state": {
            "_view_name": "StyleView",
            "_model_name": "ProgressStyleModel",
            "description_width": "initial",
            "_view_module": "@jupyter-widgets/base",
            "_model_module_version": "1.5.0",
            "_view_count": null,
            "_view_module_version": "1.2.0",
            "bar_color": null,
            "_model_module": "@jupyter-widgets/controls"
          }
        },
        "6a66ab8a257c4a9db566e79f0b938e19": {
          "model_module": "@jupyter-widgets/base",
          "model_name": "LayoutModel",
          "state": {
            "_view_name": "LayoutView",
            "grid_template_rows": null,
            "right": null,
            "justify_content": null,
            "_view_module": "@jupyter-widgets/base",
            "overflow": null,
            "_model_module_version": "1.2.0",
            "_view_count": null,
            "flex_flow": null,
            "width": null,
            "min_width": null,
            "border": null,
            "align_items": null,
            "bottom": null,
            "_model_module": "@jupyter-widgets/base",
            "top": null,
            "grid_column": null,
            "overflow_y": null,
            "overflow_x": null,
            "grid_auto_flow": null,
            "grid_area": null,
            "grid_template_columns": null,
            "flex": null,
            "_model_name": "LayoutModel",
            "justify_items": null,
            "grid_row": null,
            "max_height": null,
            "align_content": null,
            "visibility": null,
            "align_self": null,
            "height": null,
            "min_height": null,
            "padding": null,
            "grid_auto_rows": null,
            "grid_gap": null,
            "max_width": null,
            "order": null,
            "_view_module_version": "1.2.0",
            "grid_template_areas": null,
            "object_position": null,
            "object_fit": null,
            "grid_auto_columns": null,
            "margin": null,
            "display": null,
            "left": null
          }
        },
        "339014eae87a4463bdcdf6157bd2adbb": {
          "model_module": "@jupyter-widgets/controls",
          "model_name": "DescriptionStyleModel",
          "state": {
            "_view_name": "StyleView",
            "_model_name": "DescriptionStyleModel",
            "description_width": "",
            "_view_module": "@jupyter-widgets/base",
            "_model_module_version": "1.5.0",
            "_view_count": null,
            "_view_module_version": "1.2.0",
            "_model_module": "@jupyter-widgets/controls"
          }
        },
        "c84741484ec047aa893c8217e27cf49c": {
          "model_module": "@jupyter-widgets/base",
          "model_name": "LayoutModel",
          "state": {
            "_view_name": "LayoutView",
            "grid_template_rows": null,
            "right": null,
            "justify_content": null,
            "_view_module": "@jupyter-widgets/base",
            "overflow": null,
            "_model_module_version": "1.2.0",
            "_view_count": null,
            "flex_flow": null,
            "width": null,
            "min_width": null,
            "border": null,
            "align_items": null,
            "bottom": null,
            "_model_module": "@jupyter-widgets/base",
            "top": null,
            "grid_column": null,
            "overflow_y": null,
            "overflow_x": null,
            "grid_auto_flow": null,
            "grid_area": null,
            "grid_template_columns": null,
            "flex": null,
            "_model_name": "LayoutModel",
            "justify_items": null,
            "grid_row": null,
            "max_height": null,
            "align_content": null,
            "visibility": null,
            "align_self": null,
            "height": null,
            "min_height": null,
            "padding": null,
            "grid_auto_rows": null,
            "grid_gap": null,
            "max_width": null,
            "order": null,
            "_view_module_version": "1.2.0",
            "grid_template_areas": null,
            "object_position": null,
            "object_fit": null,
            "grid_auto_columns": null,
            "margin": null,
            "display": null,
            "left": null
          }
        },
        "631913cb76954bdd9bf00a64837499bc": {
          "model_module": "@jupyter-widgets/controls",
          "model_name": "HBoxModel",
          "state": {
            "_view_name": "HBoxView",
            "_dom_classes": [],
            "_model_name": "HBoxModel",
            "_view_module": "@jupyter-widgets/controls",
            "_model_module_version": "1.5.0",
            "_view_count": null,
            "_view_module_version": "1.5.0",
            "box_style": "",
            "layout": "IPY_MODEL_b24a9cbaff794bab9d8f6435a90a289d",
            "_model_module": "@jupyter-widgets/controls",
            "children": [
              "IPY_MODEL_484139b895324966bffbd1ec4169f745",
              "IPY_MODEL_f4cd0c33d7704923ad01f66c99cc3b0b"
            ]
          }
        },
        "b24a9cbaff794bab9d8f6435a90a289d": {
          "model_module": "@jupyter-widgets/base",
          "model_name": "LayoutModel",
          "state": {
            "_view_name": "LayoutView",
            "grid_template_rows": null,
            "right": null,
            "justify_content": null,
            "_view_module": "@jupyter-widgets/base",
            "overflow": null,
            "_model_module_version": "1.2.0",
            "_view_count": null,
            "flex_flow": null,
            "width": null,
            "min_width": null,
            "border": null,
            "align_items": null,
            "bottom": null,
            "_model_module": "@jupyter-widgets/base",
            "top": null,
            "grid_column": null,
            "overflow_y": null,
            "overflow_x": null,
            "grid_auto_flow": null,
            "grid_area": null,
            "grid_template_columns": null,
            "flex": null,
            "_model_name": "LayoutModel",
            "justify_items": null,
            "grid_row": null,
            "max_height": null,
            "align_content": null,
            "visibility": null,
            "align_self": null,
            "height": null,
            "min_height": null,
            "padding": null,
            "grid_auto_rows": null,
            "grid_gap": null,
            "max_width": null,
            "order": null,
            "_view_module_version": "1.2.0",
            "grid_template_areas": null,
            "object_position": null,
            "object_fit": null,
            "grid_auto_columns": null,
            "margin": null,
            "display": null,
            "left": null
          }
        },
        "484139b895324966bffbd1ec4169f745": {
          "model_module": "@jupyter-widgets/controls",
          "model_name": "FloatProgressModel",
          "state": {
            "_view_name": "ProgressView",
            "style": "IPY_MODEL_78d16dbbc9234127b653dc52063764bd",
            "_dom_classes": [],
            "description": "100%",
            "_model_name": "FloatProgressModel",
            "bar_style": "",
            "max": 141,
            "_view_module": "@jupyter-widgets/controls",
            "_model_module_version": "1.5.0",
            "value": 141,
            "_view_count": null,
            "_view_module_version": "1.5.0",
            "orientation": "horizontal",
            "min": 0,
            "description_tooltip": null,
            "_model_module": "@jupyter-widgets/controls",
            "layout": "IPY_MODEL_e753b63bd6034852a73588bd07b363e2"
          }
        },
        "f4cd0c33d7704923ad01f66c99cc3b0b": {
          "model_module": "@jupyter-widgets/controls",
          "model_name": "HTMLModel",
          "state": {
            "_view_name": "HTMLView",
            "style": "IPY_MODEL_d89c80aa442344ad94f19e2978e2a481",
            "_dom_classes": [],
            "description": "",
            "_model_name": "HTMLModel",
            "placeholder": "​",
            "_view_module": "@jupyter-widgets/controls",
            "_model_module_version": "1.5.0",
            "value": " 141/141 [00:00&lt;00:00, 202.54it/s]",
            "_view_count": null,
            "_view_module_version": "1.5.0",
            "description_tooltip": null,
            "_model_module": "@jupyter-widgets/controls",
            "layout": "IPY_MODEL_c2d65d89be8147e992603129aedf2f34"
          }
        },
        "78d16dbbc9234127b653dc52063764bd": {
          "model_module": "@jupyter-widgets/controls",
          "model_name": "ProgressStyleModel",
          "state": {
            "_view_name": "StyleView",
            "_model_name": "ProgressStyleModel",
            "description_width": "initial",
            "_view_module": "@jupyter-widgets/base",
            "_model_module_version": "1.5.0",
            "_view_count": null,
            "_view_module_version": "1.2.0",
            "bar_color": null,
            "_model_module": "@jupyter-widgets/controls"
          }
        },
        "e753b63bd6034852a73588bd07b363e2": {
          "model_module": "@jupyter-widgets/base",
          "model_name": "LayoutModel",
          "state": {
            "_view_name": "LayoutView",
            "grid_template_rows": null,
            "right": null,
            "justify_content": null,
            "_view_module": "@jupyter-widgets/base",
            "overflow": null,
            "_model_module_version": "1.2.0",
            "_view_count": null,
            "flex_flow": null,
            "width": null,
            "min_width": null,
            "border": null,
            "align_items": null,
            "bottom": null,
            "_model_module": "@jupyter-widgets/base",
            "top": null,
            "grid_column": null,
            "overflow_y": null,
            "overflow_x": null,
            "grid_auto_flow": null,
            "grid_area": null,
            "grid_template_columns": null,
            "flex": null,
            "_model_name": "LayoutModel",
            "justify_items": null,
            "grid_row": null,
            "max_height": null,
            "align_content": null,
            "visibility": null,
            "align_self": null,
            "height": null,
            "min_height": null,
            "padding": null,
            "grid_auto_rows": null,
            "grid_gap": null,
            "max_width": null,
            "order": null,
            "_view_module_version": "1.2.0",
            "grid_template_areas": null,
            "object_position": null,
            "object_fit": null,
            "grid_auto_columns": null,
            "margin": null,
            "display": null,
            "left": null
          }
        },
        "d89c80aa442344ad94f19e2978e2a481": {
          "model_module": "@jupyter-widgets/controls",
          "model_name": "DescriptionStyleModel",
          "state": {
            "_view_name": "StyleView",
            "_model_name": "DescriptionStyleModel",
            "description_width": "",
            "_view_module": "@jupyter-widgets/base",
            "_model_module_version": "1.5.0",
            "_view_count": null,
            "_view_module_version": "1.2.0",
            "_model_module": "@jupyter-widgets/controls"
          }
        },
        "c2d65d89be8147e992603129aedf2f34": {
          "model_module": "@jupyter-widgets/base",
          "model_name": "LayoutModel",
          "state": {
            "_view_name": "LayoutView",
            "grid_template_rows": null,
            "right": null,
            "justify_content": null,
            "_view_module": "@jupyter-widgets/base",
            "overflow": null,
            "_model_module_version": "1.2.0",
            "_view_count": null,
            "flex_flow": null,
            "width": null,
            "min_width": null,
            "border": null,
            "align_items": null,
            "bottom": null,
            "_model_module": "@jupyter-widgets/base",
            "top": null,
            "grid_column": null,
            "overflow_y": null,
            "overflow_x": null,
            "grid_auto_flow": null,
            "grid_area": null,
            "grid_template_columns": null,
            "flex": null,
            "_model_name": "LayoutModel",
            "justify_items": null,
            "grid_row": null,
            "max_height": null,
            "align_content": null,
            "visibility": null,
            "align_self": null,
            "height": null,
            "min_height": null,
            "padding": null,
            "grid_auto_rows": null,
            "grid_gap": null,
            "max_width": null,
            "order": null,
            "_view_module_version": "1.2.0",
            "grid_template_areas": null,
            "object_position": null,
            "object_fit": null,
            "grid_auto_columns": null,
            "margin": null,
            "display": null,
            "left": null
          }
        },
        "404db2b7fa2040f9bfc5a8627cda3564": {
          "model_module": "@jupyter-widgets/controls",
          "model_name": "HBoxModel",
          "state": {
            "_view_name": "HBoxView",
            "_dom_classes": [],
            "_model_name": "HBoxModel",
            "_view_module": "@jupyter-widgets/controls",
            "_model_module_version": "1.5.0",
            "_view_count": null,
            "_view_module_version": "1.5.0",
            "box_style": "",
            "layout": "IPY_MODEL_676098223b35489787dbcdcaf4f64825",
            "_model_module": "@jupyter-widgets/controls",
            "children": [
              "IPY_MODEL_56e9b2f1a2cc4786a475e5e3ee10d16b",
              "IPY_MODEL_33f403c42b6f459bb948744d10cbcda3"
            ]
          }
        },
        "676098223b35489787dbcdcaf4f64825": {
          "model_module": "@jupyter-widgets/base",
          "model_name": "LayoutModel",
          "state": {
            "_view_name": "LayoutView",
            "grid_template_rows": null,
            "right": null,
            "justify_content": null,
            "_view_module": "@jupyter-widgets/base",
            "overflow": null,
            "_model_module_version": "1.2.0",
            "_view_count": null,
            "flex_flow": null,
            "width": null,
            "min_width": null,
            "border": null,
            "align_items": null,
            "bottom": null,
            "_model_module": "@jupyter-widgets/base",
            "top": null,
            "grid_column": null,
            "overflow_y": null,
            "overflow_x": null,
            "grid_auto_flow": null,
            "grid_area": null,
            "grid_template_columns": null,
            "flex": null,
            "_model_name": "LayoutModel",
            "justify_items": null,
            "grid_row": null,
            "max_height": null,
            "align_content": null,
            "visibility": null,
            "align_self": null,
            "height": null,
            "min_height": null,
            "padding": null,
            "grid_auto_rows": null,
            "grid_gap": null,
            "max_width": null,
            "order": null,
            "_view_module_version": "1.2.0",
            "grid_template_areas": null,
            "object_position": null,
            "object_fit": null,
            "grid_auto_columns": null,
            "margin": null,
            "display": null,
            "left": null
          }
        },
        "56e9b2f1a2cc4786a475e5e3ee10d16b": {
          "model_module": "@jupyter-widgets/controls",
          "model_name": "FloatProgressModel",
          "state": {
            "_view_name": "ProgressView",
            "style": "IPY_MODEL_8cf94a3605a14899abbbed25efe6ce4e",
            "_dom_classes": [],
            "description": "Epoch 19: 100%",
            "_model_name": "FloatProgressModel",
            "bar_style": "",
            "max": 563,
            "_view_module": "@jupyter-widgets/controls",
            "_model_module_version": "1.5.0",
            "value": 563,
            "_view_count": null,
            "_view_module_version": "1.5.0",
            "orientation": "horizontal",
            "min": 0,
            "description_tooltip": null,
            "_model_module": "@jupyter-widgets/controls",
            "layout": "IPY_MODEL_4de82c7516d74a9cb80d19bb1cdacc00"
          }
        },
        "33f403c42b6f459bb948744d10cbcda3": {
          "model_module": "@jupyter-widgets/controls",
          "model_name": "HTMLModel",
          "state": {
            "_view_name": "HTMLView",
            "style": "IPY_MODEL_1947dede16614db98a68655d1853fef4",
            "_dom_classes": [],
            "description": "",
            "_model_name": "HTMLModel",
            "placeholder": "​",
            "_view_module": "@jupyter-widgets/controls",
            "_model_module_version": "1.5.0",
            "value": " 563/563 [00:08&lt;00:00, 65.88it/s, loss=0.301]",
            "_view_count": null,
            "_view_module_version": "1.5.0",
            "description_tooltip": null,
            "_model_module": "@jupyter-widgets/controls",
            "layout": "IPY_MODEL_2113556d2b2e468184b30eb033e550df"
          }
        },
        "8cf94a3605a14899abbbed25efe6ce4e": {
          "model_module": "@jupyter-widgets/controls",
          "model_name": "ProgressStyleModel",
          "state": {
            "_view_name": "StyleView",
            "_model_name": "ProgressStyleModel",
            "description_width": "initial",
            "_view_module": "@jupyter-widgets/base",
            "_model_module_version": "1.5.0",
            "_view_count": null,
            "_view_module_version": "1.2.0",
            "bar_color": null,
            "_model_module": "@jupyter-widgets/controls"
          }
        },
        "4de82c7516d74a9cb80d19bb1cdacc00": {
          "model_module": "@jupyter-widgets/base",
          "model_name": "LayoutModel",
          "state": {
            "_view_name": "LayoutView",
            "grid_template_rows": null,
            "right": null,
            "justify_content": null,
            "_view_module": "@jupyter-widgets/base",
            "overflow": null,
            "_model_module_version": "1.2.0",
            "_view_count": null,
            "flex_flow": null,
            "width": null,
            "min_width": null,
            "border": null,
            "align_items": null,
            "bottom": null,
            "_model_module": "@jupyter-widgets/base",
            "top": null,
            "grid_column": null,
            "overflow_y": null,
            "overflow_x": null,
            "grid_auto_flow": null,
            "grid_area": null,
            "grid_template_columns": null,
            "flex": null,
            "_model_name": "LayoutModel",
            "justify_items": null,
            "grid_row": null,
            "max_height": null,
            "align_content": null,
            "visibility": null,
            "align_self": null,
            "height": null,
            "min_height": null,
            "padding": null,
            "grid_auto_rows": null,
            "grid_gap": null,
            "max_width": null,
            "order": null,
            "_view_module_version": "1.2.0",
            "grid_template_areas": null,
            "object_position": null,
            "object_fit": null,
            "grid_auto_columns": null,
            "margin": null,
            "display": null,
            "left": null
          }
        },
        "1947dede16614db98a68655d1853fef4": {
          "model_module": "@jupyter-widgets/controls",
          "model_name": "DescriptionStyleModel",
          "state": {
            "_view_name": "StyleView",
            "_model_name": "DescriptionStyleModel",
            "description_width": "",
            "_view_module": "@jupyter-widgets/base",
            "_model_module_version": "1.5.0",
            "_view_count": null,
            "_view_module_version": "1.2.0",
            "_model_module": "@jupyter-widgets/controls"
          }
        },
        "2113556d2b2e468184b30eb033e550df": {
          "model_module": "@jupyter-widgets/base",
          "model_name": "LayoutModel",
          "state": {
            "_view_name": "LayoutView",
            "grid_template_rows": null,
            "right": null,
            "justify_content": null,
            "_view_module": "@jupyter-widgets/base",
            "overflow": null,
            "_model_module_version": "1.2.0",
            "_view_count": null,
            "flex_flow": null,
            "width": null,
            "min_width": null,
            "border": null,
            "align_items": null,
            "bottom": null,
            "_model_module": "@jupyter-widgets/base",
            "top": null,
            "grid_column": null,
            "overflow_y": null,
            "overflow_x": null,
            "grid_auto_flow": null,
            "grid_area": null,
            "grid_template_columns": null,
            "flex": null,
            "_model_name": "LayoutModel",
            "justify_items": null,
            "grid_row": null,
            "max_height": null,
            "align_content": null,
            "visibility": null,
            "align_self": null,
            "height": null,
            "min_height": null,
            "padding": null,
            "grid_auto_rows": null,
            "grid_gap": null,
            "max_width": null,
            "order": null,
            "_view_module_version": "1.2.0",
            "grid_template_areas": null,
            "object_position": null,
            "object_fit": null,
            "grid_auto_columns": null,
            "margin": null,
            "display": null,
            "left": null
          }
        },
        "1a0c5e4f2b4047d6bd2002906a491bc8": {
          "model_module": "@jupyter-widgets/controls",
          "model_name": "HBoxModel",
          "state": {
            "_view_name": "HBoxView",
            "_dom_classes": [],
            "_model_name": "HBoxModel",
            "_view_module": "@jupyter-widgets/controls",
            "_model_module_version": "1.5.0",
            "_view_count": null,
            "_view_module_version": "1.5.0",
            "box_style": "",
            "layout": "IPY_MODEL_8dead88ea9544479a89942066b38ad7d",
            "_model_module": "@jupyter-widgets/controls",
            "children": [
              "IPY_MODEL_d714212f86ef42cea1d37729b758b4f0",
              "IPY_MODEL_6cd4ec40506d44f581e561642490f6f8"
            ]
          }
        },
        "8dead88ea9544479a89942066b38ad7d": {
          "model_module": "@jupyter-widgets/base",
          "model_name": "LayoutModel",
          "state": {
            "_view_name": "LayoutView",
            "grid_template_rows": null,
            "right": null,
            "justify_content": null,
            "_view_module": "@jupyter-widgets/base",
            "overflow": null,
            "_model_module_version": "1.2.0",
            "_view_count": null,
            "flex_flow": null,
            "width": null,
            "min_width": null,
            "border": null,
            "align_items": null,
            "bottom": null,
            "_model_module": "@jupyter-widgets/base",
            "top": null,
            "grid_column": null,
            "overflow_y": null,
            "overflow_x": null,
            "grid_auto_flow": null,
            "grid_area": null,
            "grid_template_columns": null,
            "flex": null,
            "_model_name": "LayoutModel",
            "justify_items": null,
            "grid_row": null,
            "max_height": null,
            "align_content": null,
            "visibility": null,
            "align_self": null,
            "height": null,
            "min_height": null,
            "padding": null,
            "grid_auto_rows": null,
            "grid_gap": null,
            "max_width": null,
            "order": null,
            "_view_module_version": "1.2.0",
            "grid_template_areas": null,
            "object_position": null,
            "object_fit": null,
            "grid_auto_columns": null,
            "margin": null,
            "display": null,
            "left": null
          }
        },
        "d714212f86ef42cea1d37729b758b4f0": {
          "model_module": "@jupyter-widgets/controls",
          "model_name": "FloatProgressModel",
          "state": {
            "_view_name": "ProgressView",
            "style": "IPY_MODEL_5ccc4c6e996d47ccb370deebb828eeeb",
            "_dom_classes": [],
            "description": "100%",
            "_model_name": "FloatProgressModel",
            "bar_style": "",
            "max": 141,
            "_view_module": "@jupyter-widgets/controls",
            "_model_module_version": "1.5.0",
            "value": 141,
            "_view_count": null,
            "_view_module_version": "1.5.0",
            "orientation": "horizontal",
            "min": 0,
            "description_tooltip": null,
            "_model_module": "@jupyter-widgets/controls",
            "layout": "IPY_MODEL_d1dc7e05502242079111f6ffd39342b5"
          }
        },
        "6cd4ec40506d44f581e561642490f6f8": {
          "model_module": "@jupyter-widgets/controls",
          "model_name": "HTMLModel",
          "state": {
            "_view_name": "HTMLView",
            "style": "IPY_MODEL_6bfb9e5493724e4c86d99291b8758194",
            "_dom_classes": [],
            "description": "",
            "_model_name": "HTMLModel",
            "placeholder": "​",
            "_view_module": "@jupyter-widgets/controls",
            "_model_module_version": "1.5.0",
            "value": " 141/141 [00:00&lt;00:00, 162.38it/s]",
            "_view_count": null,
            "_view_module_version": "1.5.0",
            "description_tooltip": null,
            "_model_module": "@jupyter-widgets/controls",
            "layout": "IPY_MODEL_f9dcd63dfc2f4a34be19ef67d89fe6a7"
          }
        },
        "5ccc4c6e996d47ccb370deebb828eeeb": {
          "model_module": "@jupyter-widgets/controls",
          "model_name": "ProgressStyleModel",
          "state": {
            "_view_name": "StyleView",
            "_model_name": "ProgressStyleModel",
            "description_width": "initial",
            "_view_module": "@jupyter-widgets/base",
            "_model_module_version": "1.5.0",
            "_view_count": null,
            "_view_module_version": "1.2.0",
            "bar_color": null,
            "_model_module": "@jupyter-widgets/controls"
          }
        },
        "d1dc7e05502242079111f6ffd39342b5": {
          "model_module": "@jupyter-widgets/base",
          "model_name": "LayoutModel",
          "state": {
            "_view_name": "LayoutView",
            "grid_template_rows": null,
            "right": null,
            "justify_content": null,
            "_view_module": "@jupyter-widgets/base",
            "overflow": null,
            "_model_module_version": "1.2.0",
            "_view_count": null,
            "flex_flow": null,
            "width": null,
            "min_width": null,
            "border": null,
            "align_items": null,
            "bottom": null,
            "_model_module": "@jupyter-widgets/base",
            "top": null,
            "grid_column": null,
            "overflow_y": null,
            "overflow_x": null,
            "grid_auto_flow": null,
            "grid_area": null,
            "grid_template_columns": null,
            "flex": null,
            "_model_name": "LayoutModel",
            "justify_items": null,
            "grid_row": null,
            "max_height": null,
            "align_content": null,
            "visibility": null,
            "align_self": null,
            "height": null,
            "min_height": null,
            "padding": null,
            "grid_auto_rows": null,
            "grid_gap": null,
            "max_width": null,
            "order": null,
            "_view_module_version": "1.2.0",
            "grid_template_areas": null,
            "object_position": null,
            "object_fit": null,
            "grid_auto_columns": null,
            "margin": null,
            "display": null,
            "left": null
          }
        },
        "6bfb9e5493724e4c86d99291b8758194": {
          "model_module": "@jupyter-widgets/controls",
          "model_name": "DescriptionStyleModel",
          "state": {
            "_view_name": "StyleView",
            "_model_name": "DescriptionStyleModel",
            "description_width": "",
            "_view_module": "@jupyter-widgets/base",
            "_model_module_version": "1.5.0",
            "_view_count": null,
            "_view_module_version": "1.2.0",
            "_model_module": "@jupyter-widgets/controls"
          }
        },
        "f9dcd63dfc2f4a34be19ef67d89fe6a7": {
          "model_module": "@jupyter-widgets/base",
          "model_name": "LayoutModel",
          "state": {
            "_view_name": "LayoutView",
            "grid_template_rows": null,
            "right": null,
            "justify_content": null,
            "_view_module": "@jupyter-widgets/base",
            "overflow": null,
            "_model_module_version": "1.2.0",
            "_view_count": null,
            "flex_flow": null,
            "width": null,
            "min_width": null,
            "border": null,
            "align_items": null,
            "bottom": null,
            "_model_module": "@jupyter-widgets/base",
            "top": null,
            "grid_column": null,
            "overflow_y": null,
            "overflow_x": null,
            "grid_auto_flow": null,
            "grid_area": null,
            "grid_template_columns": null,
            "flex": null,
            "_model_name": "LayoutModel",
            "justify_items": null,
            "grid_row": null,
            "max_height": null,
            "align_content": null,
            "visibility": null,
            "align_self": null,
            "height": null,
            "min_height": null,
            "padding": null,
            "grid_auto_rows": null,
            "grid_gap": null,
            "max_width": null,
            "order": null,
            "_view_module_version": "1.2.0",
            "grid_template_areas": null,
            "object_position": null,
            "object_fit": null,
            "grid_auto_columns": null,
            "margin": null,
            "display": null,
            "left": null
          }
        }
      }
    }
  },
  "cells": [
    {
      "cell_type": "markdown",
      "metadata": {
        "id": "PNBTeQsT1Rn4"
      },
      "source": [
        "**Problem Statement:** Predict NYC taxi fares<br/>\n",
        "**Goal:** using pytorch"
      ]
    },
    {
      "cell_type": "markdown",
      "metadata": {
        "id": "uh2Y1u6JkBVG"
      },
      "source": [
        "## Import libraries\n"
      ]
    },
    {
      "cell_type": "code",
      "metadata": {
        "id": "3256OFoIjIrM"
      },
      "source": [
        "## import libraries\n",
        "\n",
        "#PyTorch \n",
        "\n",
        "import torch\n",
        "import torch.nn as nn\n",
        "from torch.utils.data import Dataset, DataLoader\n",
        "import torch.optim as torch_optim\n",
        "from torchvision import models\n",
        "from torch.nn import init\n",
        "import torch.optim as optim\n",
        "from torch.autograd import Variable\n",
        "import torch.nn.functional as F\n",
        "from torch.utils import data\n",
        "from torch.optim import lr_scheduler\n",
        "\n",
        "#sklearn\n",
        "from sklearn.model_selection import train_test_split\n",
        "from sklearn.preprocessing import LabelEncoder\n",
        "from sklearn.metrics import mean_squared_error\n",
        "from sklearn import preprocessing\n",
        "\n",
        "\n",
        "#other\n",
        "from IPython.core.debugger import set_trace\n",
        "import pandas as pd\n",
        "import numpy as np\n",
        "from collections import Counter\n",
        "from datetime import datetime\n",
        "import math \n",
        "from google.colab import files\n",
        "import io\n",
        "import datetime as dt\n",
        "import re\n",
        "import pandas_profiling\n",
        "import pandas_profiling as pp\n",
        "from math import sqrt\n",
        "\n",
        "#graphs\n",
        "import seaborn as sns\n",
        "import matplotlib.pyplot as plt\n",
        "import matplotlib.ticker as ticker\n",
        "import matplotlib.dates as mdates\n",
        "import matplotlib.cbook as cbook\n",
        "import pylab as plt\n",
        "import matplotlib.dates as dates\n",
        "import seaborn as sns\n",
        "import pylab\n",
        "import matplotlib\n",
        "import matplotlib.dates\n",
        "from IPython.display import display\n",
        "import plotly.graph_objects as go\n",
        "\n",
        "\n",
        "%matplotlib inline"
      ],
      "execution_count": 1,
      "outputs": []
    },
    {
      "cell_type": "code",
      "metadata": {
        "id": "jENRWz7YBP8v",
        "colab": {
          "base_uri": "https://localhost:8080/"
        },
        "outputId": "0d918926-e542-4449-ccfd-97a398a62c2d"
      },
      "source": [
        "# load tqdm\n",
        "from tqdm import tqdm, tqdm_notebook, tnrange\n",
        "\n",
        "device = torch.device(\"cuda:0\" if torch.cuda.is_available() else \"cpu\")\n",
        "device"
      ],
      "execution_count": 2,
      "outputs": [
        {
          "output_type": "execute_result",
          "data": {
            "text/plain": [
              "device(type='cuda', index=0)"
            ]
          },
          "metadata": {
            "tags": []
          },
          "execution_count": 2
        }
      ]
    },
    {
      "cell_type": "code",
      "metadata": {
        "colab": {
          "base_uri": "https://localhost:8080/",
          "height": 195
        },
        "id": "9w2zahxUZzFs",
        "outputId": "327bc852-7d41-4135-fb93-be5397755750"
      },
      "source": [
        "import requests\n",
        "from io import BytesIO\n",
        "\n",
        "url = 'https://docs.google.com/spreadsheets/d/e/2PACX-1vSdR1c5jpsE5Kp2DzQoIm7H2XywINfGNMnTL7nP92mu_GBHgu2T0mPxnu5O0YVfSpAbAu1NGNrm0auq/pub?output=csv'\n",
        "r = requests.get(url)\n",
        "csv_data = r.content\n",
        "df = pd.read_csv(BytesIO(csv_data))\n",
        "df.head()"
      ],
      "execution_count": 3,
      "outputs": [
        {
          "output_type": "execute_result",
          "data": {
            "text/html": [
              "<div>\n",
              "<style scoped>\n",
              "    .dataframe tbody tr th:only-of-type {\n",
              "        vertical-align: middle;\n",
              "    }\n",
              "\n",
              "    .dataframe tbody tr th {\n",
              "        vertical-align: top;\n",
              "    }\n",
              "\n",
              "    .dataframe thead th {\n",
              "        text-align: right;\n",
              "    }\n",
              "</style>\n",
              "<table border=\"1\" class=\"dataframe\">\n",
              "  <thead>\n",
              "    <tr style=\"text-align: right;\">\n",
              "      <th></th>\n",
              "      <th>key</th>\n",
              "      <th>fare_amount</th>\n",
              "      <th>pickup_datetime</th>\n",
              "      <th>pickup_longitude</th>\n",
              "      <th>pickup_latitude</th>\n",
              "      <th>dropoff_longitude</th>\n",
              "      <th>dropoff_latitude</th>\n",
              "      <th>passenger_count</th>\n",
              "    </tr>\n",
              "  </thead>\n",
              "  <tbody>\n",
              "    <tr>\n",
              "      <th>0</th>\n",
              "      <td>2009-06-15 17:26:21</td>\n",
              "      <td>4.5</td>\n",
              "      <td>2009-06-15 17:26:21 UTC</td>\n",
              "      <td>-73.844311</td>\n",
              "      <td>40.721319</td>\n",
              "      <td>-73.841610</td>\n",
              "      <td>40.712278</td>\n",
              "      <td>1</td>\n",
              "    </tr>\n",
              "    <tr>\n",
              "      <th>1</th>\n",
              "      <td>2010-01-05 16:52:16</td>\n",
              "      <td>16.9</td>\n",
              "      <td>2010-01-05 16:52:16 UTC</td>\n",
              "      <td>-74.016048</td>\n",
              "      <td>40.711303</td>\n",
              "      <td>-73.979268</td>\n",
              "      <td>40.782004</td>\n",
              "      <td>1</td>\n",
              "    </tr>\n",
              "    <tr>\n",
              "      <th>2</th>\n",
              "      <td>2011-08-18 0:35:00</td>\n",
              "      <td>5.7</td>\n",
              "      <td>2011-08-18 00:35:00 UTC</td>\n",
              "      <td>-73.982738</td>\n",
              "      <td>40.761270</td>\n",
              "      <td>-73.991242</td>\n",
              "      <td>40.750562</td>\n",
              "      <td>2</td>\n",
              "    </tr>\n",
              "    <tr>\n",
              "      <th>3</th>\n",
              "      <td>2012-04-21 4:30:42</td>\n",
              "      <td>7.7</td>\n",
              "      <td>2012-04-21 04:30:42 UTC</td>\n",
              "      <td>-73.987130</td>\n",
              "      <td>40.733143</td>\n",
              "      <td>-73.991567</td>\n",
              "      <td>40.758092</td>\n",
              "      <td>1</td>\n",
              "    </tr>\n",
              "    <tr>\n",
              "      <th>4</th>\n",
              "      <td>2010-03-09 7:51:00</td>\n",
              "      <td>5.3</td>\n",
              "      <td>2010-03-09 07:51:00 UTC</td>\n",
              "      <td>-73.968095</td>\n",
              "      <td>40.768008</td>\n",
              "      <td>-73.956655</td>\n",
              "      <td>40.783762</td>\n",
              "      <td>1</td>\n",
              "    </tr>\n",
              "  </tbody>\n",
              "</table>\n",
              "</div>"
            ],
            "text/plain": [
              "                   key  fare_amount  ... dropoff_latitude  passenger_count\n",
              "0  2009-06-15 17:26:21          4.5  ...        40.712278                1\n",
              "1  2010-01-05 16:52:16         16.9  ...        40.782004                1\n",
              "2   2011-08-18 0:35:00          5.7  ...        40.750562                2\n",
              "3   2012-04-21 4:30:42          7.7  ...        40.758092                1\n",
              "4   2010-03-09 7:51:00          5.3  ...        40.783762                1\n",
              "\n",
              "[5 rows x 8 columns]"
            ]
          },
          "metadata": {
            "tags": []
          },
          "execution_count": 3
        }
      ]
    },
    {
      "cell_type": "markdown",
      "metadata": {
        "id": "QSAiBGfNkbhb"
      },
      "source": [
        "# Data preprocessing and transformation"
      ]
    },
    {
      "cell_type": "markdown",
      "metadata": {
        "id": "lbRO0s7mmtOz"
      },
      "source": [
        "##Calculate the distance traveled"
      ]
    },
    {
      "cell_type": "markdown",
      "metadata": {
        "id": "0PVX-6qokEWI"
      },
      "source": [
        "**Distance Function**\n",
        "\n"
      ]
    },
    {
      "cell_type": "code",
      "metadata": {
        "id": "uJoaYsqKjjTu"
      },
      "source": [
        "def haversine_distance(df, lat1, long1, lat2, long2):\n",
        "    \"\"\"\n",
        "    Calculates the haversine distance between 2 sets of GPS coordinates in df\n",
        "    \"\"\"\n",
        "    r = 6371  # average radius of Earth in kilometers\n",
        "       \n",
        "    phi1 = np.radians(df[lat1])\n",
        "    phi2 = np.radians(df[lat2])\n",
        "    \n",
        "    delta_phi = np.radians(df[lat2]-df[lat1])\n",
        "    delta_lambda = np.radians(df[long2]-df[long1])\n",
        "     \n",
        "    a = np.sin(delta_phi/2)**2 + np.cos(phi1) * np.cos(phi2) * np.sin(delta_lambda/2)**2\n",
        "    c = 2 * np.arctan2(np.sqrt(a), np.sqrt(1-a))\n",
        "    d = (r * c) # in kilometers\n",
        "\n",
        "    return d"
      ],
      "execution_count": 4,
      "outputs": []
    },
    {
      "cell_type": "code",
      "metadata": {
        "id": "U6prpp5lmivr"
      },
      "source": [
        "df['dist_km'] = haversine_distance(df,'pickup_latitude', 'pickup_longitude', 'dropoff_latitude', 'dropoff_longitude')"
      ],
      "execution_count": 5,
      "outputs": []
    },
    {
      "cell_type": "markdown",
      "metadata": {
        "id": "mxYVYQ3lm2dI"
      },
      "source": [
        "##Add a datetime column and derive useful statistics"
      ]
    },
    {
      "cell_type": "code",
      "metadata": {
        "id": "HLmdLkipktOK"
      },
      "source": [
        "df['EDTdate'] = pd.to_datetime(df['pickup_datetime'].str[:19]) - pd.Timedelta(hours=4)\n",
        "df['Hour'] = df['EDTdate'].dt.hour\n",
        "df['AMorPM'] = np.where(df['Hour']<12,'am','pm')\n",
        "df['Weekday'] = df['EDTdate'].dt.strftime(\"%a\")"
      ],
      "execution_count": 6,
      "outputs": []
    },
    {
      "cell_type": "code",
      "metadata": {
        "id": "mN0xUIP0nH-K"
      },
      "source": [
        "cat_cols = ['Hour', 'AMorPM', 'Weekday']\n",
        "cont_cols = ['pickup_latitude', 'pickup_longitude', 'dropoff_latitude', 'dropoff_longitude', 'passenger_count', 'dist_km']\n"
      ],
      "execution_count": 7,
      "outputs": []
    },
    {
      "cell_type": "code",
      "metadata": {
        "id": "G91bMyUroUMw",
        "colab": {
          "base_uri": "https://localhost:8080/",
          "height": 279
        },
        "outputId": "f0e6aeb8-c78f-4b44-cdbe-1f06e09b5fd7"
      },
      "source": [
        "#make the cat categories as \"category\" and label encoder it.\n",
        "for col in df.columns:\n",
        "  if col in cat_cols:\n",
        "    df[col] = LabelEncoder().fit_transform(df[col])\n",
        "    df[col]= df[col].astype('category')\n",
        "\n",
        "df.head()"
      ],
      "execution_count": 8,
      "outputs": [
        {
          "output_type": "execute_result",
          "data": {
            "text/html": [
              "<div>\n",
              "<style scoped>\n",
              "    .dataframe tbody tr th:only-of-type {\n",
              "        vertical-align: middle;\n",
              "    }\n",
              "\n",
              "    .dataframe tbody tr th {\n",
              "        vertical-align: top;\n",
              "    }\n",
              "\n",
              "    .dataframe thead th {\n",
              "        text-align: right;\n",
              "    }\n",
              "</style>\n",
              "<table border=\"1\" class=\"dataframe\">\n",
              "  <thead>\n",
              "    <tr style=\"text-align: right;\">\n",
              "      <th></th>\n",
              "      <th>key</th>\n",
              "      <th>fare_amount</th>\n",
              "      <th>pickup_datetime</th>\n",
              "      <th>pickup_longitude</th>\n",
              "      <th>pickup_latitude</th>\n",
              "      <th>dropoff_longitude</th>\n",
              "      <th>dropoff_latitude</th>\n",
              "      <th>passenger_count</th>\n",
              "      <th>dist_km</th>\n",
              "      <th>EDTdate</th>\n",
              "      <th>Hour</th>\n",
              "      <th>AMorPM</th>\n",
              "      <th>Weekday</th>\n",
              "    </tr>\n",
              "  </thead>\n",
              "  <tbody>\n",
              "    <tr>\n",
              "      <th>0</th>\n",
              "      <td>2009-06-15 17:26:21</td>\n",
              "      <td>4.5</td>\n",
              "      <td>2009-06-15 17:26:21 UTC</td>\n",
              "      <td>-73.844311</td>\n",
              "      <td>40.721319</td>\n",
              "      <td>-73.841610</td>\n",
              "      <td>40.712278</td>\n",
              "      <td>1</td>\n",
              "      <td>1.030764</td>\n",
              "      <td>2009-06-15 13:26:21</td>\n",
              "      <td>13</td>\n",
              "      <td>1</td>\n",
              "      <td>1</td>\n",
              "    </tr>\n",
              "    <tr>\n",
              "      <th>1</th>\n",
              "      <td>2010-01-05 16:52:16</td>\n",
              "      <td>16.9</td>\n",
              "      <td>2010-01-05 16:52:16 UTC</td>\n",
              "      <td>-74.016048</td>\n",
              "      <td>40.711303</td>\n",
              "      <td>-73.979268</td>\n",
              "      <td>40.782004</td>\n",
              "      <td>1</td>\n",
              "      <td>8.450134</td>\n",
              "      <td>2010-01-05 12:52:16</td>\n",
              "      <td>12</td>\n",
              "      <td>1</td>\n",
              "      <td>5</td>\n",
              "    </tr>\n",
              "    <tr>\n",
              "      <th>2</th>\n",
              "      <td>2011-08-18 0:35:00</td>\n",
              "      <td>5.7</td>\n",
              "      <td>2011-08-18 00:35:00 UTC</td>\n",
              "      <td>-73.982738</td>\n",
              "      <td>40.761270</td>\n",
              "      <td>-73.991242</td>\n",
              "      <td>40.750562</td>\n",
              "      <td>2</td>\n",
              "      <td>1.389525</td>\n",
              "      <td>2011-08-17 20:35:00</td>\n",
              "      <td>20</td>\n",
              "      <td>1</td>\n",
              "      <td>6</td>\n",
              "    </tr>\n",
              "    <tr>\n",
              "      <th>3</th>\n",
              "      <td>2012-04-21 4:30:42</td>\n",
              "      <td>7.7</td>\n",
              "      <td>2012-04-21 04:30:42 UTC</td>\n",
              "      <td>-73.987130</td>\n",
              "      <td>40.733143</td>\n",
              "      <td>-73.991567</td>\n",
              "      <td>40.758092</td>\n",
              "      <td>1</td>\n",
              "      <td>2.799270</td>\n",
              "      <td>2012-04-21 00:30:42</td>\n",
              "      <td>0</td>\n",
              "      <td>0</td>\n",
              "      <td>2</td>\n",
              "    </tr>\n",
              "    <tr>\n",
              "      <th>4</th>\n",
              "      <td>2010-03-09 7:51:00</td>\n",
              "      <td>5.3</td>\n",
              "      <td>2010-03-09 07:51:00 UTC</td>\n",
              "      <td>-73.968095</td>\n",
              "      <td>40.768008</td>\n",
              "      <td>-73.956655</td>\n",
              "      <td>40.783762</td>\n",
              "      <td>1</td>\n",
              "      <td>1.999157</td>\n",
              "      <td>2010-03-09 03:51:00</td>\n",
              "      <td>3</td>\n",
              "      <td>0</td>\n",
              "      <td>5</td>\n",
              "    </tr>\n",
              "  </tbody>\n",
              "</table>\n",
              "</div>"
            ],
            "text/plain": [
              "                   key  fare_amount  ... AMorPM  Weekday\n",
              "0  2009-06-15 17:26:21          4.5  ...      1        1\n",
              "1  2010-01-05 16:52:16         16.9  ...      1        5\n",
              "2   2011-08-18 0:35:00          5.7  ...      1        6\n",
              "3   2012-04-21 4:30:42          7.7  ...      0        2\n",
              "4   2010-03-09 7:51:00          5.3  ...      0        5\n",
              "\n",
              "[5 rows x 13 columns]"
            ]
          },
          "metadata": {
            "tags": []
          },
          "execution_count": 8
        }
      ]
    },
    {
      "cell_type": "code",
      "metadata": {
        "colab": {
          "base_uri": "https://localhost:8080/"
        },
        "id": "BBmIeIYThlbz",
        "outputId": "3697257d-18c1-4c90-d172-b1c8bcba2243"
      },
      "source": [
        "# delete the fares that are less than 0\n",
        "df = df.loc[df.fare_amount > 0]\n",
        "df.fare_amount.min()"
      ],
      "execution_count": 9,
      "outputs": [
        {
          "output_type": "execute_result",
          "data": {
            "text/plain": [
              "0.01"
            ]
          },
          "metadata": {
            "tags": []
          },
          "execution_count": 9
        }
      ]
    },
    {
      "cell_type": "code",
      "metadata": {
        "id": "AoSYRIUD1Dbc"
      },
      "source": [
        "# keep only the cols for the model\n",
        "df = df[['Hour', 'AMorPM', 'Weekday','pickup_latitude', 'pickup_longitude', 'dropoff_latitude', 'dropoff_longitude', 'passenger_count', 'dist_km', 'fare_amount']]"
      ],
      "execution_count": 10,
      "outputs": []
    },
    {
      "cell_type": "code",
      "metadata": {
        "id": "WDuMjwYqxrZr"
      },
      "source": [
        "#Normalizing \n",
        "\n",
        "from pandas.api.types import is_numeric_dtype\n",
        "\n",
        "#\"Compute the means and stds of `self.cont_names` columns to normalize them.\"\n",
        "def Normalize(df):\n",
        "  means,stds = {},{}\n",
        "  cont_names = ['pickup_latitude', 'pickup_longitude', 'dropoff_latitude', 'dropoff_longitude', 'passenger_count', 'dist_km']\n",
        "  for n in cont_names:\n",
        "    assert is_numeric_dtype(df[n]), (f\"\"\"Cannot normalize '{n}' column as it isn't numerical. Are you sure it doesn't belong in the categorical set of columns?\"\"\")\n",
        "    means[n],stds[n] = df[n].mean(),df[n].std()\n",
        "    df[n] = (df[n]-means[n]) / (1e-7 + stds[n])\n",
        "\n",
        "\n",
        "Normalize(df)"
      ],
      "execution_count": 11,
      "outputs": []
    },
    {
      "cell_type": "code",
      "metadata": {
        "id": "6pyrDASAqcxM"
      },
      "source": [
        "df_train = df[:90000]\n",
        "df_test = df[90000:]"
      ],
      "execution_count": 12,
      "outputs": []
    },
    {
      "cell_type": "markdown",
      "metadata": {
        "id": "KFNfBofHn2OV"
      },
      "source": [
        "# Prepare the model"
      ]
    },
    {
      "cell_type": "markdown",
      "metadata": {
        "id": "G-0h_LjXn8ha"
      },
      "source": [
        "## define Categorical and continuous columns"
      ]
    },
    {
      "cell_type": "code",
      "metadata": {
        "id": "TtN1pnhIox7K",
        "colab": {
          "base_uri": "https://localhost:8080/",
          "height": 195
        },
        "outputId": "91984d9d-2943-4f56-cebb-26bc4ade9dc8"
      },
      "source": [
        "df.head()"
      ],
      "execution_count": 13,
      "outputs": [
        {
          "output_type": "execute_result",
          "data": {
            "text/html": [
              "<div>\n",
              "<style scoped>\n",
              "    .dataframe tbody tr th:only-of-type {\n",
              "        vertical-align: middle;\n",
              "    }\n",
              "\n",
              "    .dataframe tbody tr th {\n",
              "        vertical-align: top;\n",
              "    }\n",
              "\n",
              "    .dataframe thead th {\n",
              "        text-align: right;\n",
              "    }\n",
              "</style>\n",
              "<table border=\"1\" class=\"dataframe\">\n",
              "  <thead>\n",
              "    <tr style=\"text-align: right;\">\n",
              "      <th></th>\n",
              "      <th>Hour</th>\n",
              "      <th>AMorPM</th>\n",
              "      <th>Weekday</th>\n",
              "      <th>pickup_latitude</th>\n",
              "      <th>pickup_longitude</th>\n",
              "      <th>dropoff_latitude</th>\n",
              "      <th>dropoff_longitude</th>\n",
              "      <th>passenger_count</th>\n",
              "      <th>dist_km</th>\n",
              "      <th>fare_amount</th>\n",
              "    </tr>\n",
              "  </thead>\n",
              "  <tbody>\n",
              "    <tr>\n",
              "      <th>0</th>\n",
              "      <td>13</td>\n",
              "      <td>1</td>\n",
              "      <td>1</td>\n",
              "      <td>0.129607</td>\n",
              "      <td>-0.126215</td>\n",
              "      <td>0.127633</td>\n",
              "      <td>-0.128954</td>\n",
              "      <td>-0.518257</td>\n",
              "      <td>-0.049129</td>\n",
              "      <td>4.5</td>\n",
              "    </tr>\n",
              "    <tr>\n",
              "      <th>1</th>\n",
              "      <td>12</td>\n",
              "      <td>1</td>\n",
              "      <td>5</td>\n",
              "      <td>0.127999</td>\n",
              "      <td>-0.142273</td>\n",
              "      <td>0.138857</td>\n",
              "      <td>-0.142103</td>\n",
              "      <td>-0.518257</td>\n",
              "      <td>-0.028273</td>\n",
              "      <td>16.9</td>\n",
              "    </tr>\n",
              "    <tr>\n",
              "      <th>2</th>\n",
              "      <td>20</td>\n",
              "      <td>1</td>\n",
              "      <td>6</td>\n",
              "      <td>0.136024</td>\n",
              "      <td>-0.139158</td>\n",
              "      <td>0.133796</td>\n",
              "      <td>-0.143246</td>\n",
              "      <td>0.250913</td>\n",
              "      <td>-0.048120</td>\n",
              "      <td>5.7</td>\n",
              "    </tr>\n",
              "    <tr>\n",
              "      <th>3</th>\n",
              "      <td>0</td>\n",
              "      <td>0</td>\n",
              "      <td>2</td>\n",
              "      <td>0.131506</td>\n",
              "      <td>-0.139569</td>\n",
              "      <td>0.135008</td>\n",
              "      <td>-0.143277</td>\n",
              "      <td>-0.518257</td>\n",
              "      <td>-0.044158</td>\n",
              "      <td>7.7</td>\n",
              "    </tr>\n",
              "    <tr>\n",
              "      <th>4</th>\n",
              "      <td>3</td>\n",
              "      <td>0</td>\n",
              "      <td>5</td>\n",
              "      <td>0.137106</td>\n",
              "      <td>-0.137789</td>\n",
              "      <td>0.139140</td>\n",
              "      <td>-0.139943</td>\n",
              "      <td>-0.518257</td>\n",
              "      <td>-0.046407</td>\n",
              "      <td>5.3</td>\n",
              "    </tr>\n",
              "  </tbody>\n",
              "</table>\n",
              "</div>"
            ],
            "text/plain": [
              "  Hour AMorPM Weekday  ...  passenger_count   dist_km  fare_amount\n",
              "0   13      1       1  ...        -0.518257 -0.049129          4.5\n",
              "1   12      1       5  ...        -0.518257 -0.028273         16.9\n",
              "2   20      1       6  ...         0.250913 -0.048120          5.7\n",
              "3    0      0       2  ...        -0.518257 -0.044158          7.7\n",
              "4    3      0       5  ...        -0.518257 -0.046407          5.3\n",
              "\n",
              "[5 rows x 10 columns]"
            ]
          },
          "metadata": {
            "tags": []
          },
          "execution_count": 13
        }
      ]
    },
    {
      "cell_type": "code",
      "metadata": {
        "id": "ZwW1Ubgeo5ea",
        "colab": {
          "base_uri": "https://localhost:8080/"
        },
        "outputId": "e4cb3979-1cc2-4f28-94a1-1fb60b6752c0"
      },
      "source": [
        "df.info()"
      ],
      "execution_count": 14,
      "outputs": [
        {
          "output_type": "stream",
          "text": [
            "<class 'pandas.core.frame.DataFrame'>\n",
            "Int64Index: 99987 entries, 0 to 99998\n",
            "Data columns (total 10 columns):\n",
            " #   Column             Non-Null Count  Dtype   \n",
            "---  ------             --------------  -----   \n",
            " 0   Hour               99987 non-null  category\n",
            " 1   AMorPM             99987 non-null  category\n",
            " 2   Weekday            99987 non-null  category\n",
            " 3   pickup_latitude    99987 non-null  float64 \n",
            " 4   pickup_longitude   99987 non-null  float64 \n",
            " 5   dropoff_latitude   99987 non-null  float64 \n",
            " 6   dropoff_longitude  99987 non-null  float64 \n",
            " 7   passenger_count    99987 non-null  float64 \n",
            " 8   dist_km            99987 non-null  float64 \n",
            " 9   fare_amount        99987 non-null  float64 \n",
            "dtypes: category(3), float64(7)\n",
            "memory usage: 6.4 MB\n"
          ],
          "name": "stdout"
        }
      ]
    },
    {
      "cell_type": "markdown",
      "metadata": {
        "id": "QsebxQMFrLkr"
      },
      "source": [
        "##Take the relevent columns for the Model and Split to train and test"
      ]
    },
    {
      "cell_type": "code",
      "metadata": {
        "id": "DMk-Q1RC0-aL",
        "colab": {
          "base_uri": "https://localhost:8080/"
        },
        "outputId": "0c83972b-9da1-44ef-9773-abc45643d840"
      },
      "source": [
        "df.columns"
      ],
      "execution_count": 15,
      "outputs": [
        {
          "output_type": "execute_result",
          "data": {
            "text/plain": [
              "Index(['Hour', 'AMorPM', 'Weekday', 'pickup_latitude', 'pickup_longitude',\n",
              "       'dropoff_latitude', 'dropoff_longitude', 'passenger_count', 'dist_km',\n",
              "       'fare_amount'],\n",
              "      dtype='object')"
            ]
          },
          "metadata": {
            "tags": []
          },
          "execution_count": 15
        }
      ]
    },
    {
      "cell_type": "code",
      "metadata": {
        "colab": {
          "base_uri": "https://localhost:8080/"
        },
        "id": "GMyDMKJrb4yJ",
        "outputId": "75c87354-77c2-4d33-8922-41481c9c4e90"
      },
      "source": [
        "df_train.columns"
      ],
      "execution_count": 16,
      "outputs": [
        {
          "output_type": "execute_result",
          "data": {
            "text/plain": [
              "Index(['Hour', 'AMorPM', 'Weekday', 'pickup_latitude', 'pickup_longitude',\n",
              "       'dropoff_latitude', 'dropoff_longitude', 'passenger_count', 'dist_km',\n",
              "       'fare_amount'],\n",
              "      dtype='object')"
            ]
          },
          "metadata": {
            "tags": []
          },
          "execution_count": 16
        }
      ]
    },
    {
      "cell_type": "code",
      "metadata": {
        "id": "vgjHk0wzrb_L"
      },
      "source": [
        "X = df_train.drop(columns=['fare_amount'])\n",
        "Y = np.log(df_train.fare_amount)\n",
        "\n",
        "test_X = df_test"
      ],
      "execution_count": 17,
      "outputs": []
    },
    {
      "cell_type": "code",
      "metadata": {
        "id": "5cmS2F6crnFq",
        "colab": {
          "base_uri": "https://localhost:8080/",
          "height": 195
        },
        "outputId": "c39d9066-2170-4732-fa78-7847dc6ae283"
      },
      "source": [
        "df_train.head()"
      ],
      "execution_count": 18,
      "outputs": [
        {
          "output_type": "execute_result",
          "data": {
            "text/html": [
              "<div>\n",
              "<style scoped>\n",
              "    .dataframe tbody tr th:only-of-type {\n",
              "        vertical-align: middle;\n",
              "    }\n",
              "\n",
              "    .dataframe tbody tr th {\n",
              "        vertical-align: top;\n",
              "    }\n",
              "\n",
              "    .dataframe thead th {\n",
              "        text-align: right;\n",
              "    }\n",
              "</style>\n",
              "<table border=\"1\" class=\"dataframe\">\n",
              "  <thead>\n",
              "    <tr style=\"text-align: right;\">\n",
              "      <th></th>\n",
              "      <th>Hour</th>\n",
              "      <th>AMorPM</th>\n",
              "      <th>Weekday</th>\n",
              "      <th>pickup_latitude</th>\n",
              "      <th>pickup_longitude</th>\n",
              "      <th>dropoff_latitude</th>\n",
              "      <th>dropoff_longitude</th>\n",
              "      <th>passenger_count</th>\n",
              "      <th>dist_km</th>\n",
              "      <th>fare_amount</th>\n",
              "    </tr>\n",
              "  </thead>\n",
              "  <tbody>\n",
              "    <tr>\n",
              "      <th>0</th>\n",
              "      <td>13</td>\n",
              "      <td>1</td>\n",
              "      <td>1</td>\n",
              "      <td>0.129607</td>\n",
              "      <td>-0.126215</td>\n",
              "      <td>0.127633</td>\n",
              "      <td>-0.128954</td>\n",
              "      <td>-0.518257</td>\n",
              "      <td>-0.049129</td>\n",
              "      <td>4.5</td>\n",
              "    </tr>\n",
              "    <tr>\n",
              "      <th>1</th>\n",
              "      <td>12</td>\n",
              "      <td>1</td>\n",
              "      <td>5</td>\n",
              "      <td>0.127999</td>\n",
              "      <td>-0.142273</td>\n",
              "      <td>0.138857</td>\n",
              "      <td>-0.142103</td>\n",
              "      <td>-0.518257</td>\n",
              "      <td>-0.028273</td>\n",
              "      <td>16.9</td>\n",
              "    </tr>\n",
              "    <tr>\n",
              "      <th>2</th>\n",
              "      <td>20</td>\n",
              "      <td>1</td>\n",
              "      <td>6</td>\n",
              "      <td>0.136024</td>\n",
              "      <td>-0.139158</td>\n",
              "      <td>0.133796</td>\n",
              "      <td>-0.143246</td>\n",
              "      <td>0.250913</td>\n",
              "      <td>-0.048120</td>\n",
              "      <td>5.7</td>\n",
              "    </tr>\n",
              "    <tr>\n",
              "      <th>3</th>\n",
              "      <td>0</td>\n",
              "      <td>0</td>\n",
              "      <td>2</td>\n",
              "      <td>0.131506</td>\n",
              "      <td>-0.139569</td>\n",
              "      <td>0.135008</td>\n",
              "      <td>-0.143277</td>\n",
              "      <td>-0.518257</td>\n",
              "      <td>-0.044158</td>\n",
              "      <td>7.7</td>\n",
              "    </tr>\n",
              "    <tr>\n",
              "      <th>4</th>\n",
              "      <td>3</td>\n",
              "      <td>0</td>\n",
              "      <td>5</td>\n",
              "      <td>0.137106</td>\n",
              "      <td>-0.137789</td>\n",
              "      <td>0.139140</td>\n",
              "      <td>-0.139943</td>\n",
              "      <td>-0.518257</td>\n",
              "      <td>-0.046407</td>\n",
              "      <td>5.3</td>\n",
              "    </tr>\n",
              "  </tbody>\n",
              "</table>\n",
              "</div>"
            ],
            "text/plain": [
              "  Hour AMorPM Weekday  ...  passenger_count   dist_km  fare_amount\n",
              "0   13      1       1  ...        -0.518257 -0.049129          4.5\n",
              "1   12      1       5  ...        -0.518257 -0.028273         16.9\n",
              "2   20      1       6  ...         0.250913 -0.048120          5.7\n",
              "3    0      0       2  ...        -0.518257 -0.044158          7.7\n",
              "4    3      0       5  ...        -0.518257 -0.046407          5.3\n",
              "\n",
              "[5 rows x 10 columns]"
            ]
          },
          "metadata": {
            "tags": []
          },
          "execution_count": 18
        }
      ]
    },
    {
      "cell_type": "code",
      "metadata": {
        "id": "4urVKk9NxDCx",
        "colab": {
          "base_uri": "https://localhost:8080/"
        },
        "outputId": "d64b216d-e401-4070-9604-36477c05c5f8"
      },
      "source": [
        "Y.shape"
      ],
      "execution_count": 19,
      "outputs": [
        {
          "output_type": "execute_result",
          "data": {
            "text/plain": [
              "(90000,)"
            ]
          },
          "metadata": {
            "tags": []
          },
          "execution_count": 19
        }
      ]
    },
    {
      "cell_type": "code",
      "metadata": {
        "id": "7vV8_9do4-Oo",
        "colab": {
          "base_uri": "https://localhost:8080/"
        },
        "outputId": "34525fa4-984f-4081-e608-435092ae5053"
      },
      "source": [
        "X.info()"
      ],
      "execution_count": 20,
      "outputs": [
        {
          "output_type": "stream",
          "text": [
            "<class 'pandas.core.frame.DataFrame'>\n",
            "Int64Index: 90000 entries, 0 to 90010\n",
            "Data columns (total 9 columns):\n",
            " #   Column             Non-Null Count  Dtype   \n",
            "---  ------             --------------  -----   \n",
            " 0   Hour               90000 non-null  category\n",
            " 1   AMorPM             90000 non-null  category\n",
            " 2   Weekday            90000 non-null  category\n",
            " 3   pickup_latitude    90000 non-null  float64 \n",
            " 4   pickup_longitude   90000 non-null  float64 \n",
            " 5   dropoff_latitude   90000 non-null  float64 \n",
            " 6   dropoff_longitude  90000 non-null  float64 \n",
            " 7   passenger_count    90000 non-null  float64 \n",
            " 8   dist_km            90000 non-null  float64 \n",
            "dtypes: category(3), float64(6)\n",
            "memory usage: 5.1 MB\n"
          ],
          "name": "stdout"
        }
      ]
    },
    {
      "cell_type": "markdown",
      "metadata": {
        "id": "fTHaK8PusKx9"
      },
      "source": [
        "**train-valid split**"
      ]
    },
    {
      "cell_type": "code",
      "metadata": {
        "id": "_RdHsihKtYLK",
        "colab": {
          "base_uri": "https://localhost:8080/",
          "height": 195
        },
        "outputId": "2bb51122-3a66-4bbd-c286-3e9590a4f106"
      },
      "source": [
        "X_train, X_val, y_train, y_val = train_test_split(X, Y, test_size=0.20, random_state=42,shuffle=True ) \n",
        "X_train.head()"
      ],
      "execution_count": 21,
      "outputs": [
        {
          "output_type": "execute_result",
          "data": {
            "text/html": [
              "<div>\n",
              "<style scoped>\n",
              "    .dataframe tbody tr th:only-of-type {\n",
              "        vertical-align: middle;\n",
              "    }\n",
              "\n",
              "    .dataframe tbody tr th {\n",
              "        vertical-align: top;\n",
              "    }\n",
              "\n",
              "    .dataframe thead th {\n",
              "        text-align: right;\n",
              "    }\n",
              "</style>\n",
              "<table border=\"1\" class=\"dataframe\">\n",
              "  <thead>\n",
              "    <tr style=\"text-align: right;\">\n",
              "      <th></th>\n",
              "      <th>Hour</th>\n",
              "      <th>AMorPM</th>\n",
              "      <th>Weekday</th>\n",
              "      <th>pickup_latitude</th>\n",
              "      <th>pickup_longitude</th>\n",
              "      <th>dropoff_latitude</th>\n",
              "      <th>dropoff_longitude</th>\n",
              "      <th>passenger_count</th>\n",
              "      <th>dist_km</th>\n",
              "    </tr>\n",
              "  </thead>\n",
              "  <tbody>\n",
              "    <tr>\n",
              "      <th>51013</th>\n",
              "      <td>13</td>\n",
              "      <td>1</td>\n",
              "      <td>5</td>\n",
              "      <td>0.137835</td>\n",
              "      <td>-0.135782</td>\n",
              "      <td>0.136943</td>\n",
              "      <td>-0.140388</td>\n",
              "      <td>-0.518257</td>\n",
              "      <td>-0.048468</td>\n",
              "    </tr>\n",
              "    <tr>\n",
              "      <th>11456</th>\n",
              "      <td>23</td>\n",
              "      <td>1</td>\n",
              "      <td>6</td>\n",
              "      <td>0.135027</td>\n",
              "      <td>-0.140099</td>\n",
              "      <td>0.137124</td>\n",
              "      <td>-0.135060</td>\n",
              "      <td>-0.518257</td>\n",
              "      <td>-0.030755</td>\n",
              "    </tr>\n",
              "    <tr>\n",
              "      <th>9693</th>\n",
              "      <td>3</td>\n",
              "      <td>0</td>\n",
              "      <td>4</td>\n",
              "      <td>0.142997</td>\n",
              "      <td>-0.134898</td>\n",
              "      <td>0.138698</td>\n",
              "      <td>-0.139930</td>\n",
              "      <td>-0.518257</td>\n",
              "      <td>-0.043326</td>\n",
              "    </tr>\n",
              "    <tr>\n",
              "      <th>52001</th>\n",
              "      <td>9</td>\n",
              "      <td>0</td>\n",
              "      <td>6</td>\n",
              "      <td>0.131347</td>\n",
              "      <td>-0.141163</td>\n",
              "      <td>0.132937</td>\n",
              "      <td>-0.143908</td>\n",
              "      <td>2.558423</td>\n",
              "      <td>-0.047698</td>\n",
              "    </tr>\n",
              "    <tr>\n",
              "      <th>23535</th>\n",
              "      <td>19</td>\n",
              "      <td>1</td>\n",
              "      <td>5</td>\n",
              "      <td>0.132095</td>\n",
              "      <td>-0.141385</td>\n",
              "      <td>0.127312</td>\n",
              "      <td>-0.144980</td>\n",
              "      <td>-0.518257</td>\n",
              "      <td>-0.043708</td>\n",
              "    </tr>\n",
              "  </tbody>\n",
              "</table>\n",
              "</div>"
            ],
            "text/plain": [
              "      Hour AMorPM Weekday  ...  dropoff_longitude  passenger_count   dist_km\n",
              "51013   13      1       5  ...          -0.140388        -0.518257 -0.048468\n",
              "11456   23      1       6  ...          -0.135060        -0.518257 -0.030755\n",
              "9693     3      0       4  ...          -0.139930        -0.518257 -0.043326\n",
              "52001    9      0       6  ...          -0.143908         2.558423 -0.047698\n",
              "23535   19      1       5  ...          -0.144980        -0.518257 -0.043708\n",
              "\n",
              "[5 rows x 9 columns]"
            ]
          },
          "metadata": {
            "tags": []
          },
          "execution_count": 21
        }
      ]
    },
    {
      "cell_type": "markdown",
      "metadata": {
        "id": "_oCxNy_X3Mp9"
      },
      "source": [
        "## Embeddings"
      ]
    },
    {
      "cell_type": "code",
      "metadata": {
        "id": "vCvmV8v1wMPs",
        "colab": {
          "base_uri": "https://localhost:8080/"
        },
        "outputId": "b682f684-ac36-4dc4-d44d-30c5cf75f0d6"
      },
      "source": [
        "cat_szs = [len(df[col].cat.categories) for col in cat_cols]\n",
        "emb_szs = [(size, min(50, (size+1)//2)) for size in cat_szs]\n",
        "emb_szs"
      ],
      "execution_count": 22,
      "outputs": [
        {
          "output_type": "execute_result",
          "data": {
            "text/plain": [
              "[(24, 12), (2, 1), (7, 4)]"
            ]
          },
          "metadata": {
            "tags": []
          },
          "execution_count": 22
        }
      ]
    },
    {
      "cell_type": "code",
      "metadata": {
        "id": "i_4YuUvx46la",
        "colab": {
          "base_uri": "https://localhost:8080/"
        },
        "outputId": "6d983a6d-68af-4059-d456-a939b69d12de"
      },
      "source": [
        "type(emb_szs)"
      ],
      "execution_count": 23,
      "outputs": [
        {
          "output_type": "execute_result",
          "data": {
            "text/plain": [
              "list"
            ]
          },
          "metadata": {
            "tags": []
          },
          "execution_count": 23
        }
      ]
    },
    {
      "cell_type": "code",
      "metadata": {
        "id": "xB0WRovpW2Ui",
        "colab": {
          "base_uri": "https://localhost:8080/"
        },
        "outputId": "c2cc9450-68e2-4a93-9791-a24360266d00"
      },
      "source": [
        "X_train.shape\n"
      ],
      "execution_count": 24,
      "outputs": [
        {
          "output_type": "execute_result",
          "data": {
            "text/plain": [
              "(72000, 9)"
            ]
          },
          "metadata": {
            "tags": []
          },
          "execution_count": 24
        }
      ]
    },
    {
      "cell_type": "code",
      "metadata": {
        "id": "AL4mUwLxW5Xa",
        "colab": {
          "base_uri": "https://localhost:8080/"
        },
        "outputId": "b69480c3-aedc-4429-d3ff-ac618df96363"
      },
      "source": [
        "X_val.shape"
      ],
      "execution_count": 25,
      "outputs": [
        {
          "output_type": "execute_result",
          "data": {
            "text/plain": [
              "(18000, 9)"
            ]
          },
          "metadata": {
            "tags": []
          },
          "execution_count": 25
        }
      ]
    },
    {
      "cell_type": "code",
      "metadata": {
        "id": "I-N__07EXSo2",
        "colab": {
          "base_uri": "https://localhost:8080/"
        },
        "outputId": "12b96ce1-6faf-4d89-abd8-8b6d0c01a964"
      },
      "source": [
        "y_train.shape"
      ],
      "execution_count": 26,
      "outputs": [
        {
          "output_type": "execute_result",
          "data": {
            "text/plain": [
              "(72000,)"
            ]
          },
          "metadata": {
            "tags": []
          },
          "execution_count": 26
        }
      ]
    },
    {
      "cell_type": "code",
      "metadata": {
        "id": "7Hvf57M-XVw4",
        "colab": {
          "base_uri": "https://localhost:8080/"
        },
        "outputId": "1c710ae4-3dd6-40de-d70e-752f33b178e5"
      },
      "source": [
        "y_val.shape"
      ],
      "execution_count": 27,
      "outputs": [
        {
          "output_type": "execute_result",
          "data": {
            "text/plain": [
              "(18000,)"
            ]
          },
          "metadata": {
            "tags": []
          },
          "execution_count": 27
        }
      ]
    },
    {
      "cell_type": "markdown",
      "metadata": {
        "id": "DPSMOoA_5cRV"
      },
      "source": [
        "#Model"
      ]
    },
    {
      "cell_type": "markdown",
      "metadata": {
        "id": "PUt8V_eR56DU"
      },
      "source": [
        "##Pytorch datasets and dataloaders"
      ]
    },
    {
      "cell_type": "code",
      "metadata": {
        "id": "q2uUbOcllJdF"
      },
      "source": [
        "class RegressionColumnarDataset(data.Dataset):\n",
        "    def __init__(self, df, cats, y):\n",
        "        \n",
        "        \n",
        "        self.dfcats = df[cats] #type: pandas.core.frame.DataFrame\n",
        "        self.dfconts = df.drop(cats, axis=1) #type: pandas.core.frame.DataFrame\n",
        "        \n",
        "        \n",
        "        self.cats = np.stack([c.values for n, c in self.dfcats.items()], axis=1).astype(np.int64) #tpye: numpy.ndarray\n",
        "        self.conts = np.stack([c.values for n, c in self.dfconts.items()], axis=1).astype(np.float32) #tpye: numpy.ndarray\n",
        "        self.y = y.values.astype(np.float32)\n",
        "        \n",
        "        \n",
        "    def __len__(self): return len(self.y)\n",
        "\n",
        "    def __getitem__(self, idx):\n",
        "        \n",
        "        return [self.cats[idx], self.conts[idx], self.y[idx]]\n",
        "        \n",
        "        "
      ],
      "execution_count": 28,
      "outputs": []
    },
    {
      "cell_type": "code",
      "metadata": {
        "id": "kJ2KTRgolJA7"
      },
      "source": [
        "trainds = RegressionColumnarDataset(X_train, cat_cols, y_train) #type: __main__.RegressionColumnarDataset\n",
        "valds = RegressionColumnarDataset(X_val, cat_cols, y_val) #type: __main__.RegressionColumnarDataset"
      ],
      "execution_count": 29,
      "outputs": []
    },
    {
      "cell_type": "code",
      "metadata": {
        "id": "4iJaFR-24gFf"
      },
      "source": [
        "params = {'batch_size': 128,\n",
        "          'shuffle': True}\n",
        "\n",
        "\n",
        "traindl = DataLoader(trainds, **params) #type: torch.utils.data.dataloader.DataLoader\n",
        "valdl = DataLoader(valds, **params) #type: torch.utils.data.dataloader.DataLoader"
      ],
      "execution_count": 30,
      "outputs": []
    },
    {
      "cell_type": "markdown",
      "metadata": {
        "id": "HXMjyAMC-hNo"
      },
      "source": [
        "##Tabular Model"
      ]
    },
    {
      "cell_type": "code",
      "metadata": {
        "id": "dynnFczJ8UhL"
      },
      "source": [
        "# help functions\n",
        "\n",
        "from collections.abc import Iterable\n",
        "\n",
        "\n",
        "def bn_drop_lin(n_in:int, n_out:int, bn:bool=True, p:float=0., actn=None):\n",
        "    \"Sequence of batchnorm (if `bn`), dropout (with `p`) and linear (`n_in`,`n_out`) layers followed by `actn`.\"\n",
        "    layers = [nn.BatchNorm1d(n_in)] if bn else []\n",
        "    if p != 0: layers.append(nn.Dropout(p))\n",
        "    layers.append(nn.Linear(n_in, n_out))\n",
        "    if actn is not None: layers.append(actn)\n",
        "    return layers\n",
        "\n",
        "def ifnone(a,b):\n",
        "    \"`a` if `a` is not None, otherwise `b`.\"\n",
        "    return b if a is None else a\n",
        "\n",
        "def listify(p, q):\n",
        "    \"Make `p` listy and the same length as `q`.\"\n",
        "    if p is None: p=[]\n",
        "    elif isinstance(p, str):          p = [p]\n",
        "    elif not isinstance(p, Iterable): p = [p]\n",
        "    #Rank 0 tensors in PyTorch are Iterable but don't have a length.\n",
        "    else:\n",
        "        try: a = len(p)\n",
        "        except: p = [p]\n",
        "    n = q if type(q)==int else len(p) if q is None else len(q)\n",
        "    if len(p)==1: p = p * n\n",
        "    assert len(p)==n, f'List len mismatch ({len(p)} vs {n})'\n",
        "    return list(p)\n",
        "\n",
        "              \n",
        "\n",
        "class TabularModel(nn.Module):\n",
        "    \"Basic model for tabular data.\"\n",
        "    def __init__(self, emb_szs, n_cont:int, out_sz:int, layers, ps=None,\n",
        "                 emb_drop:float=0., y_range=None, use_bn:bool=True, bn_final:bool=False):\n",
        "        super().__init__()\n",
        "        ps = ifnone(ps, [0]*len(layers))\n",
        "        ps = listify(ps, layers)\n",
        "        self.embeds = nn.ModuleList([nn.Embedding(ni, nf) for ni,nf in emb_szs]) #type: torch.nn.modules.container.ModuleList\n",
        "        self.emb_drop = nn.Dropout(emb_drop) #type: torch.nn.modules.dropout.Dropout\n",
        "        self.bn_cont = nn.BatchNorm1d(n_cont) #type torch.nn.modules.batchnorm.BatchNorm1d\n",
        "        n_emb = sum(e.embedding_dim for e in self.embeds) # n_emb = 17 , type: int\n",
        "        self.n_emb,self.n_cont,self.y_range = n_emb,n_cont,y_range\n",
        "        sizes = [n_emb + n_cont] + layers + [out_sz] #typeL list, len: 4\n",
        "        actns = [nn.ReLU(inplace=True) for _ in range(len(sizes)-2)] + [None] #type: list, len: 3.  the last in None because we finish with linear\n",
        "        layers = []\n",
        "        for i,(n_in,n_out,dp,act) in enumerate(zip(sizes[:-1],sizes[1:],[0.]+ps,actns)):\n",
        "            layers += bn_drop_lin(n_in, n_out, bn=use_bn and i!=0, p=dp, actn=act)\n",
        "        if bn_final: layers.append(nn.BatchNorm1d(sizes[-1]))\n",
        "        self.layers = nn.Sequential(*layers) #type: torch.nn.modules.container.Sequential\n",
        "        \n",
        "\n",
        "\n",
        "\n",
        "    def forward(self, x_cat, x_cont):\n",
        "        if self.n_emb != 0:\n",
        "            x = [e(x_cat[:,i]) for i,e in enumerate(self.embeds)] #take the embedding list and grab an embedding and pass in our single row of data.        \n",
        "            x = torch.cat(x, 1) # concatenate it on dim 1 ## remeber that the len is the batch size\n",
        "            x = self.emb_drop(x) # pass it through a dropout layer\n",
        "        if self.n_cont != 0:\n",
        "            x_cont = self.bn_cont(x_cont) # batchnorm1d\n",
        "            x = torch.cat([x, x_cont], 1) if self.n_emb != 0 else x_cont # combine the categircal and continous variables on dim 1\n",
        "        x = self.layers(x)\n",
        "        if self.y_range is not None:\n",
        "            x = (self.y_range[1]-self.y_range[0]) * torch.sigmoid(x) + self.y_range[0] # deal with y_range\n",
        "        return x.squeeze()\n",
        "    "
      ],
      "execution_count": 31,
      "outputs": []
    },
    {
      "cell_type": "code",
      "metadata": {
        "id": "voS5fTPF-mFb",
        "colab": {
          "base_uri": "https://localhost:8080/"
        },
        "outputId": "c71f41e6-289f-4754-9c88-f1ff0e652d68"
      },
      "source": [
        "torch.manual_seed(33)"
      ],
      "execution_count": 32,
      "outputs": [
        {
          "output_type": "execute_result",
          "data": {
            "text/plain": [
              "<torch._C.Generator at 0x7f8f584f1910>"
            ]
          },
          "metadata": {
            "tags": []
          },
          "execution_count": 32
        }
      ]
    },
    {
      "cell_type": "code",
      "metadata": {
        "id": "Qdy8Vq-eRPvh",
        "colab": {
          "base_uri": "https://localhost:8080/"
        },
        "outputId": "cfa56590-f6e3-45ac-a3ad-961b86436036"
      },
      "source": [
        "y_range = (0, y_train.max()*1.2)\n",
        "y_range"
      ],
      "execution_count": 33,
      "outputs": [
        {
          "output_type": "execute_result",
          "data": {
            "text/plain": [
              "(0, 6.357980839857643)"
            ]
          },
          "metadata": {
            "tags": []
          },
          "execution_count": 33
        }
      ]
    },
    {
      "cell_type": "code",
      "metadata": {
        "id": "UxDTmxl6_N_8",
        "colab": {
          "base_uri": "https://localhost:8080/"
        },
        "outputId": "73b67e31-fb4c-4ab8-cb33-a382df29391a"
      },
      "source": [
        "model = TabularModel(emb_szs = emb_szs,n_cont = len(cont_cols),out_sz = 1,layers = [1000,500,250],ps= [0.001,0.01,0.01],emb_drop=0.04, y_range=y_range).to(device)\n",
        "model"
      ],
      "execution_count": 34,
      "outputs": [
        {
          "output_type": "execute_result",
          "data": {
            "text/plain": [
              "TabularModel(\n",
              "  (embeds): ModuleList(\n",
              "    (0): Embedding(24, 12)\n",
              "    (1): Embedding(2, 1)\n",
              "    (2): Embedding(7, 4)\n",
              "  )\n",
              "  (emb_drop): Dropout(p=0.04, inplace=False)\n",
              "  (bn_cont): BatchNorm1d(6, eps=1e-05, momentum=0.1, affine=True, track_running_stats=True)\n",
              "  (layers): Sequential(\n",
              "    (0): Linear(in_features=23, out_features=1000, bias=True)\n",
              "    (1): ReLU(inplace=True)\n",
              "    (2): BatchNorm1d(1000, eps=1e-05, momentum=0.1, affine=True, track_running_stats=True)\n",
              "    (3): Dropout(p=0.001, inplace=False)\n",
              "    (4): Linear(in_features=1000, out_features=500, bias=True)\n",
              "    (5): ReLU(inplace=True)\n",
              "    (6): BatchNorm1d(500, eps=1e-05, momentum=0.1, affine=True, track_running_stats=True)\n",
              "    (7): Dropout(p=0.01, inplace=False)\n",
              "    (8): Linear(in_features=500, out_features=250, bias=True)\n",
              "    (9): ReLU(inplace=True)\n",
              "    (10): BatchNorm1d(250, eps=1e-05, momentum=0.1, affine=True, track_running_stats=True)\n",
              "    (11): Dropout(p=0.01, inplace=False)\n",
              "    (12): Linear(in_features=250, out_features=1, bias=True)\n",
              "  )\n",
              ")"
            ]
          },
          "metadata": {
            "tags": []
          },
          "execution_count": 34
        }
      ]
    },
    {
      "cell_type": "markdown",
      "metadata": {
        "id": "mCqq3sfY_mku"
      },
      "source": [
        "## Optimizer"
      ]
    },
    {
      "cell_type": "code",
      "metadata": {
        "id": "sOkFdhVN4Z6_"
      },
      "source": [
        "from collections import defaultdict\n",
        "opt = torch.optim.Adam(model.parameters(), lr=1e-2) # can add: weight_decay=\n",
        "#lr_cosine = lr_scheduler.CosineAnnealingLR(opt,T_max = 350) #1000 ## if you want to add lr_cosine\n",
        "\n",
        "\n",
        "\n",
        "lr = defaultdict(list)\n",
        "tloss = defaultdict(list)\n",
        "vloss = defaultdict(list)"
      ],
      "execution_count": 35,
      "outputs": []
    },
    {
      "cell_type": "markdown",
      "metadata": {
        "id": "dgSawsRpCd40"
      },
      "source": [
        "##Train and Fit"
      ]
    },
    {
      "cell_type": "code",
      "metadata": {
        "id": "IQ4sEx4NsAjO"
      },
      "source": [
        "def inv_y(y): return np.exp(y)\n",
        "\n",
        "def rmse(targ, y_pred):\n",
        "    return np.sqrt(mean_squared_error(inv_y(y_pred), inv_y(targ))) #.detach().numpy()\n",
        "    \n",
        "\n",
        "def rmse(targ, y_pred):\n",
        "   return np.sqrt(mean_squared_error(y_pred, targ)) #.detach().numpy()\n",
        "\n",
        "\n",
        "#def fit(model, train_dl, val_dl, loss_fn, opt, scheduler, epochs=3): ## if you want to add schedular\n",
        "def fit(model, train_dl, val_dl, loss_fn, opt, epochs=3):\n",
        "    num_batch = len(train_dl)\n",
        "    for epoch in tnrange(epochs):      \n",
        "        y_true_train = list()\n",
        "        y_pred_train = list()\n",
        "        total_loss_train = 0          \n",
        "        \n",
        "        t = tqdm_notebook(iter(train_dl), leave=False, total=num_batch)\n",
        "        for cat, cont, y in t:\n",
        "            cat = cat.cuda()\n",
        "            cont = cont.cuda()\n",
        "            y = y.cuda()\n",
        "            \n",
        "            t.set_description(f'Epoch {epoch}')\n",
        "            \n",
        "            opt.zero_grad() #find where the grads are zero\n",
        "            pred = model(cat, cont)\n",
        "            loss = loss_fn(pred, y)\n",
        "            \n",
        "            loss.backward() # do backprop\n",
        "            lr[epoch].append(opt.param_groups[0]['lr'])\n",
        "            tloss[epoch].append(loss.item())\n",
        "            opt.step()\n",
        "            #scheduler.step()\n",
        "            \n",
        "            \n",
        "            t.set_postfix(loss=loss.item())\n",
        "            \n",
        "            y_true_train += list(y.cpu().data.numpy())\n",
        "            y_pred_train += list(pred.cpu().data.numpy())\n",
        "            total_loss_train += loss.item()\n",
        "            \n",
        "        train_acc = rmse(y_true_train, y_pred_train)\n",
        "        train_loss = total_loss_train/len(train_dl) # len train_dl = 704. the calc is number of train examples (89991) / batch size (128)\n",
        "        \n",
        "        if val_dl:\n",
        "            y_true_val = list()\n",
        "            y_pred_val = list()\n",
        "            total_loss_val = 0\n",
        "            for cat, cont, y in tqdm_notebook(val_dl, leave=False):\n",
        "                cat = cat.cuda()\n",
        "                cont = cont.cuda()\n",
        "                y = y.cuda()\n",
        "                pred = model(cat, cont)\n",
        "                loss = loss_fn(pred, y)\n",
        "                \n",
        "                y_true_val += list(y.cpu().data.numpy())\n",
        "                y_pred_val += list(pred.cpu().data.numpy())\n",
        "                total_loss_val += loss.item()\n",
        "                vloss[epoch].append(loss.item())\n",
        "            valacc = rmse(y_true_val, y_pred_val)\n",
        "            valloss = total_loss_val/len(valdl)\n",
        "            print(f'Epoch {epoch}: train_loss: {train_loss:.4f} train_rmse: {train_acc:.4f} | val_loss: {valloss:.4f} val_rmse: {valacc:.4f}')\n",
        "        else:\n",
        "            print(f'Epoch {epoch}: train_loss: {train_loss:.4f} train_rmse: {train_acc:.4f}')\n",
        "    \n",
        "    return lr, tloss, vloss"
      ],
      "execution_count": 36,
      "outputs": []
    },
    {
      "cell_type": "markdown",
      "metadata": {
        "id": "CUORRsg-CWKp"
      },
      "source": [
        "## Train the model"
      ]
    },
    {
      "cell_type": "code",
      "metadata": {
        "id": "wAD4aful_uFX",
        "colab": {
          "base_uri": "https://localhost:8080/",
          "height": 1000,
          "referenced_widgets": [
            "e90518d07f5d496db7c19b852b173211",
            "ee79b6e9781240c08e12be13b36a7f17",
            "e6ab9a81357b419b9aea2cdf0a393e6e",
            "7921485655514c1eaa6bc40a886eea06",
            "c20003acd16f453da38b423b946279ae",
            "4fff1c35a3a1490a95d9fc371213387a",
            "c9d8d42f096049fba7b1f48119c4f094",
            "7308375b0a6646d78b7846920e35c872",
            "352f566ba8f5464ca84d033584a13040",
            "6a21c4cf2e0346e89e9d4dfde4e62aa9",
            "72e361930793472ca1e3bfbf19ea397c",
            "0915660b5b1743a084c86e01a018b6a5",
            "92ca2c302a42441f95358fa1067c8c02",
            "9641612492334f1297c30cbc909c5a5d",
            "b51f0b5066274c2f9813ea0ca1049cb0",
            "edd3d1ab196a49cca3a8d483072c7205",
            "1f325d007ba6477eadaca1e2818b40fa",
            "4973c8178c5241bda623a04346925b03",
            "9b7e256c90474af2af0c1cdd9415b05f",
            "d53799e2036a4244b407038b6fb32c1d",
            "1a0240456f16414b85d79f7998c683f6",
            "35abd48aa900449ab51c71268ad140a4",
            "6b433761af3c4c4b83f742f5d8996037",
            "55660ea8ba6840609fd32f6e17bd98c4",
            "fb3ce7ab3d194a4782290d933df9edf1",
            "7ba6c6e6a5e9412792d033eea855ddf0",
            "7299fc8fe6a1486f835ec47f696549a0",
            "99fbb0f9efb04916a0d72c96a66fecfc",
            "1800e36b796e4bd5b2f2b1e088c3d205",
            "8fe1222b13744208a0cf428f74e0db45",
            "af34bc6847d9495d8ff387d5f079674e",
            "9a41c88413bc48608d17dc92f0a54c48",
            "24ddbbda19ba4a4ab95c784a64b95907",
            "f269ddcc1f424a149bf173d297210f83",
            "c8df20d0802a45ba95049290ae4f2447",
            "7fc0357afc9f4e63847909f59c8f2fab",
            "5ce7f86ae30f4290ae802110648cd5de",
            "86d6424c76924126bf968b9cec5dab5b",
            "dc94a4e9de964a4ea2224e8c7a5aea65",
            "d2afef8d26874695b8b59af3976499c8",
            "d5c9474d35a24550aec601e809c97971",
            "a4913960f0794a2190584183fe9ec555",
            "9b6437eac9244649b84b8a493e356ab0",
            "4709986a028d4f3fb0eb0d5c67cbda1e",
            "f42339ec4be04ad6aaf60bc666fd2e74",
            "cfe6fa3154b143b1b0984158844e4d03",
            "f351e6f04fdb4f0a9f74c627ab353a05",
            "bb254026ce3d4828be6c8077429de57b",
            "1a23e38248db49ed8953f6f97080a040",
            "570f781b29e4413a8ca907c6777d793c",
            "91ac370fa9784491ae3da69f21f55806",
            "6de16904903a457d8e401acca4cf6c1d",
            "40953442fe2f419d9e1583bc933ad138",
            "d4a0e041e7de468ca6c6cc12aee3bb3f",
            "a849ee306756433cb8b9e1d8e3e3a6d8",
            "ad26afbfdfe947b783a382a9638b9351",
            "a0b570474fb64529be8ecc90c3adc827",
            "291f37979e1244ff9aae960fedd39945",
            "3e195f01bb6f4626b72578d46d3bafdb",
            "079dd1be993648a9a2b439e706f3311f",
            "9926218282154e289db144f38b959b56",
            "40d639fcb7ca4f8199e736f87b933b7e",
            "fd1cb5b47ebf43e0a4a0fb8cd1585f23",
            "db178224c37e4c538809df846a63b19e",
            "32b5448056134cf08fab984edfe3d922",
            "3c9fda5a7d8d4b2cb3a41ea848a8960d",
            "9612c090fbf84ddd8d9dc8716439daf1",
            "4fd50a1438af487290aee39a732d821d",
            "fa9981428cd44694ae1c7b7651046a41",
            "6148fb997ef14843ad41ba53acee6ede",
            "a44c7401bea745a6be900785f389586c",
            "82f2c4a0188242b1aecc7cbddca4d32e",
            "4fd4a6f73564467eabc20bd3b63267d9",
            "41871c2c1505417f8abc36e81caa1063",
            "b11006f2f61a4a65b176b7f21fa1e410",
            "4e525081899445b2823ea1319b4aaf43",
            "0b9abdbed93b4b63b6ecd00761ec27a4",
            "9bcae8c01eda434ab31b0735ceac743e",
            "a2d5880c720041cf8b1116af558b5727",
            "f406559e202541e4bd32f44db6cea0a7",
            "4b2c3b6a605e4adeb11bcef1bb88e3ec",
            "6b8f402dc98547358e6e69fed7719b68",
            "ff771d2ebc58456a9bbdeb7824d59b5b",
            "234e02e5b83b4abebad73e4d50154021",
            "301713c9460a4801a9e154b313c9e6a9",
            "cd577ba71d5c41b2814f2432d7171036",
            "6b293f29d8ad4a8d8b28720d030e6566",
            "5e2bd58036d04c98ba8ce9bb529d4eed",
            "fa651527df4d402d8b6fc099daae21fe",
            "581b67d072b54f18a16557b60d121087",
            "7f79cc21269b486689d0a28c665d9f10",
            "1a38b31343504f51803a111da35a2162",
            "05bf4e6d38864d50936d09989023326d",
            "77e189b3ec8442efa2340a6780fb7dad",
            "424ae1475d6340b5b668c49dacb701ff",
            "98ad96d4d22e485e9e514825f4e933d9",
            "722f360d1ed8438985cfb20544264059",
            "92c7b864cda24c6faa65506207b2d60d",
            "c80db52b50d84a31ad44e79a09a71561",
            "aab229dbb6f24abc807126c841ef55f1",
            "865e7772775b44b0b1eda7e49f067e4b",
            "1b95f2e4dd0b4781bf5f41529b967f91",
            "71292f2c784642c694c4b18e3ce089e8",
            "c7e703df974042e3b9ec70f66c3f2b30",
            "c78f5ca757c44620a025a687fda0600d",
            "70c032f50fcc4200a340684d488a8576",
            "f790c911a4dd4273adee53f676060910",
            "ad44cb0e75e74b35ae3e1ddb82c4af53",
            "c5166913787f40da83980e542ebc0c9e",
            "a52a039487c04f7684f8345ffb4deaa2",
            "ed6db6a22c3a4e11b60581101e13c17a",
            "e78d259b566d4924b5e86f01416a9333",
            "94814a69494a4c1a896859e0c4b0e78f",
            "57ab9e2bcd6f417081b1f864e026f172",
            "922742b71b33495d948c1e1f0a6caab1",
            "7fb78a48809f410b84b58bbddf498b70",
            "2da0247f48fb4a67a49e8f091da57fd7",
            "e3d06c6fdc7b405bb5b7dedddd9d24dc",
            "6f8b0ef36a0b45e793adfb743a1e4bd0",
            "7d621e2443f140a38311f951dbe93ece",
            "36df4bf4e71a40898499aac2e6bd340a",
            "59b463e19db04dd78cad484521d755d7",
            "d5a79eeb8c3c4b74b77cc210a19bbbb2",
            "d9e936d0faaa4a609ac1fbe260f1b6fc",
            "f3ba6d9420f64873871e8beffaf95679",
            "197dbda679f545a6af75ff198e0a157f",
            "d032c9d2ffab45a8af4e4d7bc33f297c",
            "c19c8e7332554469a55ab28fe777d3fe",
            "f76e37af50614e288829e403160875b5",
            "7961f6276c4f4c2aa5bbbaa141e82982",
            "783573df504b45dfb3d8785ef6d8b1b3",
            "bae6e1fe47c74db496ec7cd50c418f95",
            "235975a792b44dd09c9931c8110ac927",
            "ff73d4b711bd4711b82fab8f3ba1ff9c",
            "af734a024b544b59b58adab678cc500a",
            "76868afedaa84f74841fa6757f74c59b",
            "acb066b0c6544994a938cf90c15c158a",
            "1c20bfadeb9341fba7019c283ed23ac1",
            "48edd718ffbe4ee3a7b11a550db6cd9b",
            "4b47124492044274872dd87149b8e87f",
            "57f4ac09d88c4bcf80c05ce28063a571",
            "1692443e8ef24077a25dfce599877c66",
            "13c1607d9239492c8c76598c35bf1623",
            "5371cc162d5d439985e26a1e4ce17cae",
            "79b9ab221dd844939fe871f408574d7b",
            "73dcec5db3504dc890b147af3dfebe58",
            "ab8ac96673d645438a724e371a0777c4",
            "c727da9540554553956114698d451d2f",
            "8d85f9d770644601bac66b539654a906",
            "40704f9bf1eb405a8975f4a5d0f9c7a0",
            "cdd6f7234bc04d3e81d842dd0656b75c",
            "eb2887b10690457b8c4db8cddaed35ce",
            "6465ff9482a647239df8d2bd3b2b5d27",
            "7bc0a59c6d8a41abad026970f0f1a679",
            "94a9c6eb33654928845c92f850165726",
            "e58d51f0cdf8458a8d781100aced2d86",
            "259fdf7f6fc44103b06f1ee3837b4069",
            "447cf54c1f814d1ca48345c015c2a950",
            "9c4798b224c6433f92ee7a784519c4b4",
            "864a7bfd0136444f932306b83445190b",
            "e5d164afdf194ab48c9c132215e92606",
            "919ed07b0fb740b2a181a00c68d6e4af",
            "b07485b3a0e74cdda0c435aac6242336",
            "b74d9ff1d2a94b0e803b49f4c7a7892c",
            "7941d081c0314e5aaacb04e7c6e81923",
            "ff7658e70cd243619e47b31d505bd1a0",
            "834375ee4f9248e7912685b46b34f75f",
            "3d2026279bb4481193bc64ec4e075847",
            "7e46b0c0c8834966ad808f73d10a4ca7",
            "68613169aadd4175b3f4dfb9540d9ccb",
            "c581d1e6c477450a8c32903d389db61b",
            "c6464f50068d401ea87251e219ecf201",
            "28997a997e0040c7bb2b793831358a89",
            "f5f4492507684aa3b2bc678816967b31",
            "09e91e43b9e943b8b68cc47ecbe48006",
            "6665e4132fd94ababaa5c4a23960e5e5",
            "62afe46b95b249b3b6de0df2f67c7506",
            "d8dc14b3d21344539d7c4aedeced7478",
            "f98c4dcb545e45a79d0180f176d48368",
            "baf9ca68016847f2aa8541742515e0f0",
            "a83a868e118345c39b5c115be91e6b13",
            "accc5813317440a59d97bfa7e73ee82e",
            "909a2b1672c74fbfa0f683974206eb0f",
            "63194bc2434e4ec6a90e512b54787dc1",
            "87148b5a19aa4c15a122ebdf799c7181",
            "febb6be6aed948b6964203cd85a428f7",
            "cfd1f0eb46a74850ba70b0e5a803942a",
            "2b2a29cab3b54598a8f1c3c018395e1b",
            "4dfa9a04cb3f45fe8c9f125d31f055ac",
            "22386860d12542bb9a297f0e1d0e44f8",
            "5e56e1ae26194df3ab649fd0b49b2fe1",
            "b64721d285b94e0e91409ff4725fb1e6",
            "fdeb1be535614919a3dff41a5a29e656",
            "f4df6af468854fee96c50a7808a04034",
            "942f4fc45ac441d4bd36aec4fd992d44",
            "1462d1dd1e3e4b0da44f785cb841e21d",
            "f892b1a4b744485fb27eb0a6e10e570d",
            "047d038f4efb48cf8c4623535fa884c4",
            "967566cf23674999833252c9832886ab",
            "b3a0ac2c916043aa918de715a9a56f09",
            "8a061978ce304bd7a7976d8484abcd9c",
            "c698f3de5acd4e68a2851d1716b168ab",
            "34dd998b1725470e98bda0162cdc48c1",
            "c967e49499b045debb18778158e56321",
            "4a764ee69199442ebb2d008af93475bc",
            "847213ebaaa04a2ab9e37ce275c74162",
            "128d12350e664e93869302b7e8293291",
            "39e65421912c46b0835fb8e788e86187",
            "2eebcccb9d434700aa7c78321772e4f2",
            "2f9fb2cdc30d4d55a68fa59fa6eedfec",
            "e445f7049b114cb9b97a163abacfaa9b",
            "46d790eaa0324709b0604a606a6c0b19",
            "0e039ccb43234990910f405f960d4751",
            "c6165d891dc34ae5b6e02b76858f8d43",
            "d0bab61c27d44960a986abfc3c35fd52",
            "ce24b56071fa4f45986f9ced40906a68",
            "76581f787df54111ad7ffb4a41ecec83",
            "899a67cdb3c94a46a9654924bdd32b32",
            "0ecd250a620249b0bd2e50c35ade561b",
            "1812346f0bb54965b668516a3c72e521",
            "c4ca998bd86f44e6aaa0139298e2e821",
            "b4fc86f0d62c4a4aacc2c1d6c84eaf79",
            "b8e32e18bc9e4435923a2359b0af18fe",
            "1458e374de054aa393805cae1289c0fc",
            "eb0a576ef5124e408bbf2d741e583810",
            "9bbfc917558e447ab6705ab0d404b55a",
            "177c8d2b4726498a8514c108247583d7",
            "fc35cd6b2a8945dfb39c7a93ef5e4999",
            "c61b41a03ac348b082947352cd9ab8e1",
            "ffccea7d43114af8a0ccb15387f21a02",
            "44e7b9df2eda4e6285220173621038be",
            "09811726338243e7a968d2b7993e4d9b",
            "a8bfa81bc04441f3a8c5e4ac03b8d77a",
            "1eddd12256564de5aa8d6a0aae0f0cd9",
            "0c75ae318558412ea1f3ed4bd03582b8",
            "c22bdde756914553b719670b5373e148",
            "74433a9a8d504d0da15440aceb90b906",
            "75d5f8bfe6c2491daea5ee727080f677",
            "9e99be579c99405cb91c899a9d4583aa",
            "0de4a1e22d564b44a2c8f4ce370b97bf",
            "b8e1f4fa5325405baf353f8cbb9d1dee",
            "c929d619edb340f8a87a0760893d5a8d",
            "e9f29656ac274be684f9e564da2ae624",
            "e71dcb48c7124a4890a9214fb7965164",
            "11ca0cbf9c9a4f12a740df893c903097",
            "c443da419b4f41eab56d21b415cab888",
            "4c06e5e0dc1d4a1498f60a5abc84f1fb",
            "953084a52e81459abd755bcf2d4e2eec",
            "88920b23f10749d6a2e71ea0116e51db",
            "3174bc7cac2546c89e8f1c65e303d3dc",
            "c775ccfe4ea541de8e74e7a412a5efde",
            "a300b866cf004d1880c4692faf65985a",
            "597c29fb08194036b38a2ac5c1739628",
            "a860383480044b229558deb95e9a9d92",
            "388db6511f16412f91421ce9afe71adf",
            "6df180a53b9546009ae44b69b8130980",
            "5a4c756da84f46cdbf2cb648814142fc",
            "3cf985e8d22b4520bf00dea7421b7f92",
            "6ed1a14241384fb08cbee757f1b16e10",
            "6fde59490b1d42da8f609a538d4d80da",
            "bed5e0accba4493ca59b6dba8b2b157d",
            "129d8edc7d06410da9e12f42c8e5f23c",
            "8a1fe0b56ceb4877892d353cfb5f6e43",
            "d02c44b50ed5439cbca2c2f52f85c338",
            "1c43e2fd06804046926b2293a749bec0",
            "b2e3119779924e3eb5d8ea7b9b931c3e",
            "1cf8647fb7ce434ea7c26085add2fffb",
            "15965c77a9da4612aed7eba7a1436a0e",
            "3029116fa24d4bea901513a26c1db595",
            "ea036c11c40b44609c162435bb3f68a9",
            "b2e92cec13b044058b68d1b158ef938f",
            "24bb19a32afa4f8d824b78a5cbe4a4cc",
            "64b1c34581324f30a721ae0bdc1c01cc",
            "ce0c1dcd6c6547519062eb4a5c4775b7",
            "90721fab949443038fc579a2c8c81abf",
            "6e8743afad99487381cd217c9f62ae05",
            "c054ebee6fd74891a72ef1255580df96",
            "789dfc2f0bf1459d98b18a0ecdd3a76c",
            "9a277196de9945d7aaf71e1a649cb6bb",
            "3e1334c3f7154b0f8139ea47470f46e0",
            "394b227b3c424c51b2438e2613d38bc7",
            "ef6336a5a1414d209585368c80dbf123",
            "96352f3a820f452fa82797953a7cfeea",
            "0c99fbbb9a82466db3c690df7f73edcf",
            "790a7bef3bd9441a99f3e7eae3eb8473",
            "f52b83ed8f624f3ca037669afcd4bed0",
            "ad6a486528444deb93b65c05f794261d",
            "23dfd39b48a046cf84c8342a82d123d7",
            "4a5d34f621f34dd5b1ea2b0ef96a711c",
            "1e9f40064bb342be8bd5ac167f803152",
            "e8fe276f29374d23874cfd30da378151",
            "0e127632d74949629bd02c046a14bf4c",
            "903756dcc8cb40bebc3e38b5f1ad2e98",
            "7e71dc5e69f643debc8d0c0fea38e753",
            "95f3f4c4d2624f3d9ca238c64c5c8292",
            "f5c9138459c9411d8daa495177a94a5b",
            "62ff16a4c7c84ea995d70d3208467d6e",
            "d99d326bbc944d11b176b96ea5a89532",
            "2512d8559da24e3d9f6286860a0f41dd",
            "3bc45023c24b49ab90833ec3f6793a87",
            "a59ae7bf83e3478c9d550466a1f159cd",
            "6a66ab8a257c4a9db566e79f0b938e19",
            "339014eae87a4463bdcdf6157bd2adbb",
            "c84741484ec047aa893c8217e27cf49c",
            "631913cb76954bdd9bf00a64837499bc",
            "b24a9cbaff794bab9d8f6435a90a289d",
            "484139b895324966bffbd1ec4169f745",
            "f4cd0c33d7704923ad01f66c99cc3b0b",
            "78d16dbbc9234127b653dc52063764bd",
            "e753b63bd6034852a73588bd07b363e2",
            "d89c80aa442344ad94f19e2978e2a481",
            "c2d65d89be8147e992603129aedf2f34",
            "404db2b7fa2040f9bfc5a8627cda3564",
            "676098223b35489787dbcdcaf4f64825",
            "56e9b2f1a2cc4786a475e5e3ee10d16b",
            "33f403c42b6f459bb948744d10cbcda3",
            "8cf94a3605a14899abbbed25efe6ce4e",
            "4de82c7516d74a9cb80d19bb1cdacc00",
            "1947dede16614db98a68655d1853fef4",
            "2113556d2b2e468184b30eb033e550df",
            "1a0c5e4f2b4047d6bd2002906a491bc8",
            "8dead88ea9544479a89942066b38ad7d",
            "d714212f86ef42cea1d37729b758b4f0",
            "6cd4ec40506d44f581e561642490f6f8",
            "5ccc4c6e996d47ccb370deebb828eeeb",
            "d1dc7e05502242079111f6ffd39342b5",
            "6bfb9e5493724e4c86d99291b8758194",
            "f9dcd63dfc2f4a34be19ef67d89fe6a7"
          ]
        },
        "outputId": "51ea8960-ea2e-4819-be6b-b2489d56d343"
      },
      "source": [
        "lr, tloss, vloss = fit(model=model, train_dl=traindl, val_dl=valdl, loss_fn=nn.MSELoss(), opt=opt,  epochs=20)"
      ],
      "execution_count": 37,
      "outputs": [
        {
          "output_type": "stream",
          "text": [
            "/usr/local/lib/python3.7/dist-packages/ipykernel_launcher.py:14: TqdmDeprecationWarning:\n",
            "\n",
            "Please use `tqdm.notebook.trange` instead of `tqdm.tnrange`\n",
            "\n"
          ],
          "name": "stderr"
        },
        {
          "output_type": "display_data",
          "data": {
            "application/vnd.jupyter.widget-view+json": {
              "model_id": "e90518d07f5d496db7c19b852b173211",
              "version_minor": 0,
              "version_major": 2
            },
            "text/plain": [
              "HBox(children=(FloatProgress(value=0.0, max=20.0), HTML(value='')))"
            ]
          },
          "metadata": {
            "tags": []
          }
        },
        {
          "output_type": "stream",
          "text": [
            "/usr/local/lib/python3.7/dist-packages/ipykernel_launcher.py:19: TqdmDeprecationWarning:\n",
            "\n",
            "This function will be removed in tqdm==5.0.0\n",
            "Please use `tqdm.notebook.tqdm` instead of `tqdm.tqdm_notebook`\n",
            "\n"
          ],
          "name": "stderr"
        },
        {
          "output_type": "display_data",
          "data": {
            "application/vnd.jupyter.widget-view+json": {
              "model_id": "352f566ba8f5464ca84d033584a13040",
              "version_minor": 0,
              "version_major": 2
            },
            "text/plain": [
              "HBox(children=(FloatProgress(value=0.0, max=563.0), HTML(value='')))"
            ]
          },
          "metadata": {
            "tags": []
          }
        },
        {
          "output_type": "stream",
          "text": [
            "/usr/local/lib/python3.7/dist-packages/ipykernel_launcher.py:51: TqdmDeprecationWarning:\n",
            "\n",
            "This function will be removed in tqdm==5.0.0\n",
            "Please use `tqdm.notebook.tqdm` instead of `tqdm.tqdm_notebook`\n",
            "\n"
          ],
          "name": "stderr"
        },
        {
          "output_type": "display_data",
          "data": {
            "application/vnd.jupyter.widget-view+json": {
              "model_id": "1f325d007ba6477eadaca1e2818b40fa",
              "version_minor": 0,
              "version_major": 2
            },
            "text/plain": [
              "HBox(children=(FloatProgress(value=0.0, max=141.0), HTML(value='')))"
            ]
          },
          "metadata": {
            "tags": []
          }
        },
        {
          "output_type": "stream",
          "text": [
            "Epoch 0: train_loss: 0.2777 train_rmse: 0.5271 | val_loss: 0.1823 val_rmse: 0.4268\n"
          ],
          "name": "stdout"
        },
        {
          "output_type": "stream",
          "text": [
            "/usr/local/lib/python3.7/dist-packages/ipykernel_launcher.py:19: TqdmDeprecationWarning:\n",
            "\n",
            "This function will be removed in tqdm==5.0.0\n",
            "Please use `tqdm.notebook.tqdm` instead of `tqdm.tqdm_notebook`\n",
            "\n"
          ],
          "name": "stderr"
        },
        {
          "output_type": "display_data",
          "data": {
            "application/vnd.jupyter.widget-view+json": {
              "model_id": "fb3ce7ab3d194a4782290d933df9edf1",
              "version_minor": 0,
              "version_major": 2
            },
            "text/plain": [
              "HBox(children=(FloatProgress(value=0.0, max=563.0), HTML(value='')))"
            ]
          },
          "metadata": {
            "tags": []
          }
        },
        {
          "output_type": "stream",
          "text": [
            "/usr/local/lib/python3.7/dist-packages/ipykernel_launcher.py:51: TqdmDeprecationWarning:\n",
            "\n",
            "This function will be removed in tqdm==5.0.0\n",
            "Please use `tqdm.notebook.tqdm` instead of `tqdm.tqdm_notebook`\n",
            "\n"
          ],
          "name": "stderr"
        },
        {
          "output_type": "display_data",
          "data": {
            "application/vnd.jupyter.widget-view+json": {
              "model_id": "24ddbbda19ba4a4ab95c784a64b95907",
              "version_minor": 0,
              "version_major": 2
            },
            "text/plain": [
              "HBox(children=(FloatProgress(value=0.0, max=141.0), HTML(value='')))"
            ]
          },
          "metadata": {
            "tags": []
          }
        },
        {
          "output_type": "stream",
          "text": [
            "Epoch 1: train_loss: 0.1728 train_rmse: 0.4158 | val_loss: 0.1587 val_rmse: 0.3987\n"
          ],
          "name": "stdout"
        },
        {
          "output_type": "stream",
          "text": [
            "/usr/local/lib/python3.7/dist-packages/ipykernel_launcher.py:19: TqdmDeprecationWarning:\n",
            "\n",
            "This function will be removed in tqdm==5.0.0\n",
            "Please use `tqdm.notebook.tqdm` instead of `tqdm.tqdm_notebook`\n",
            "\n"
          ],
          "name": "stderr"
        },
        {
          "output_type": "display_data",
          "data": {
            "application/vnd.jupyter.widget-view+json": {
              "model_id": "d5c9474d35a24550aec601e809c97971",
              "version_minor": 0,
              "version_major": 2
            },
            "text/plain": [
              "HBox(children=(FloatProgress(value=0.0, max=563.0), HTML(value='')))"
            ]
          },
          "metadata": {
            "tags": []
          }
        },
        {
          "output_type": "stream",
          "text": [
            "/usr/local/lib/python3.7/dist-packages/ipykernel_launcher.py:51: TqdmDeprecationWarning:\n",
            "\n",
            "This function will be removed in tqdm==5.0.0\n",
            "Please use `tqdm.notebook.tqdm` instead of `tqdm.tqdm_notebook`\n",
            "\n"
          ],
          "name": "stderr"
        },
        {
          "output_type": "display_data",
          "data": {
            "application/vnd.jupyter.widget-view+json": {
              "model_id": "1a23e38248db49ed8953f6f97080a040",
              "version_minor": 0,
              "version_major": 2
            },
            "text/plain": [
              "HBox(children=(FloatProgress(value=0.0, max=141.0), HTML(value='')))"
            ]
          },
          "metadata": {
            "tags": []
          }
        },
        {
          "output_type": "stream",
          "text": [
            "Epoch 2: train_loss: 0.1452 train_rmse: 0.3810 | val_loss: 0.1126 val_rmse: 0.3358\n"
          ],
          "name": "stdout"
        },
        {
          "output_type": "stream",
          "text": [
            "/usr/local/lib/python3.7/dist-packages/ipykernel_launcher.py:19: TqdmDeprecationWarning:\n",
            "\n",
            "This function will be removed in tqdm==5.0.0\n",
            "Please use `tqdm.notebook.tqdm` instead of `tqdm.tqdm_notebook`\n",
            "\n"
          ],
          "name": "stderr"
        },
        {
          "output_type": "display_data",
          "data": {
            "application/vnd.jupyter.widget-view+json": {
              "model_id": "a0b570474fb64529be8ecc90c3adc827",
              "version_minor": 0,
              "version_major": 2
            },
            "text/plain": [
              "HBox(children=(FloatProgress(value=0.0, max=563.0), HTML(value='')))"
            ]
          },
          "metadata": {
            "tags": []
          }
        },
        {
          "output_type": "stream",
          "text": [
            "/usr/local/lib/python3.7/dist-packages/ipykernel_launcher.py:51: TqdmDeprecationWarning:\n",
            "\n",
            "This function will be removed in tqdm==5.0.0\n",
            "Please use `tqdm.notebook.tqdm` instead of `tqdm.tqdm_notebook`\n",
            "\n"
          ],
          "name": "stderr"
        },
        {
          "output_type": "display_data",
          "data": {
            "application/vnd.jupyter.widget-view+json": {
              "model_id": "32b5448056134cf08fab984edfe3d922",
              "version_minor": 0,
              "version_major": 2
            },
            "text/plain": [
              "HBox(children=(FloatProgress(value=0.0, max=141.0), HTML(value='')))"
            ]
          },
          "metadata": {
            "tags": []
          }
        },
        {
          "output_type": "stream",
          "text": [
            "Epoch 3: train_loss: 0.1151 train_rmse: 0.3393 | val_loss: 0.1011 val_rmse: 0.3178\n"
          ],
          "name": "stdout"
        },
        {
          "output_type": "stream",
          "text": [
            "/usr/local/lib/python3.7/dist-packages/ipykernel_launcher.py:19: TqdmDeprecationWarning:\n",
            "\n",
            "This function will be removed in tqdm==5.0.0\n",
            "Please use `tqdm.notebook.tqdm` instead of `tqdm.tqdm_notebook`\n",
            "\n"
          ],
          "name": "stderr"
        },
        {
          "output_type": "display_data",
          "data": {
            "application/vnd.jupyter.widget-view+json": {
              "model_id": "4fd4a6f73564467eabc20bd3b63267d9",
              "version_minor": 0,
              "version_major": 2
            },
            "text/plain": [
              "HBox(children=(FloatProgress(value=0.0, max=563.0), HTML(value='')))"
            ]
          },
          "metadata": {
            "tags": []
          }
        },
        {
          "output_type": "stream",
          "text": [
            "/usr/local/lib/python3.7/dist-packages/ipykernel_launcher.py:51: TqdmDeprecationWarning:\n",
            "\n",
            "This function will be removed in tqdm==5.0.0\n",
            "Please use `tqdm.notebook.tqdm` instead of `tqdm.tqdm_notebook`\n",
            "\n"
          ],
          "name": "stderr"
        },
        {
          "output_type": "display_data",
          "data": {
            "application/vnd.jupyter.widget-view+json": {
              "model_id": "4b2c3b6a605e4adeb11bcef1bb88e3ec",
              "version_minor": 0,
              "version_major": 2
            },
            "text/plain": [
              "HBox(children=(FloatProgress(value=0.0, max=141.0), HTML(value='')))"
            ]
          },
          "metadata": {
            "tags": []
          }
        },
        {
          "output_type": "stream",
          "text": [
            "Epoch 4: train_loss: 0.1084 train_rmse: 0.3293 | val_loss: 0.1112 val_rmse: 0.3333\n"
          ],
          "name": "stdout"
        },
        {
          "output_type": "stream",
          "text": [
            "/usr/local/lib/python3.7/dist-packages/ipykernel_launcher.py:19: TqdmDeprecationWarning:\n",
            "\n",
            "This function will be removed in tqdm==5.0.0\n",
            "Please use `tqdm.notebook.tqdm` instead of `tqdm.tqdm_notebook`\n",
            "\n"
          ],
          "name": "stderr"
        },
        {
          "output_type": "display_data",
          "data": {
            "application/vnd.jupyter.widget-view+json": {
              "model_id": "fa651527df4d402d8b6fc099daae21fe",
              "version_minor": 0,
              "version_major": 2
            },
            "text/plain": [
              "HBox(children=(FloatProgress(value=0.0, max=563.0), HTML(value='')))"
            ]
          },
          "metadata": {
            "tags": []
          }
        },
        {
          "output_type": "stream",
          "text": [
            "/usr/local/lib/python3.7/dist-packages/ipykernel_launcher.py:51: TqdmDeprecationWarning:\n",
            "\n",
            "This function will be removed in tqdm==5.0.0\n",
            "Please use `tqdm.notebook.tqdm` instead of `tqdm.tqdm_notebook`\n",
            "\n"
          ],
          "name": "stderr"
        },
        {
          "output_type": "display_data",
          "data": {
            "application/vnd.jupyter.widget-view+json": {
              "model_id": "722f360d1ed8438985cfb20544264059",
              "version_minor": 0,
              "version_major": 2
            },
            "text/plain": [
              "HBox(children=(FloatProgress(value=0.0, max=141.0), HTML(value='')))"
            ]
          },
          "metadata": {
            "tags": []
          }
        },
        {
          "output_type": "stream",
          "text": [
            "Epoch 5: train_loss: 0.1096 train_rmse: 0.3311 | val_loss: 0.1065 val_rmse: 0.3263\n"
          ],
          "name": "stdout"
        },
        {
          "output_type": "stream",
          "text": [
            "/usr/local/lib/python3.7/dist-packages/ipykernel_launcher.py:19: TqdmDeprecationWarning:\n",
            "\n",
            "This function will be removed in tqdm==5.0.0\n",
            "Please use `tqdm.notebook.tqdm` instead of `tqdm.tqdm_notebook`\n",
            "\n"
          ],
          "name": "stderr"
        },
        {
          "output_type": "display_data",
          "data": {
            "application/vnd.jupyter.widget-view+json": {
              "model_id": "c78f5ca757c44620a025a687fda0600d",
              "version_minor": 0,
              "version_major": 2
            },
            "text/plain": [
              "HBox(children=(FloatProgress(value=0.0, max=563.0), HTML(value='')))"
            ]
          },
          "metadata": {
            "tags": []
          }
        },
        {
          "output_type": "stream",
          "text": [
            "/usr/local/lib/python3.7/dist-packages/ipykernel_launcher.py:51: TqdmDeprecationWarning:\n",
            "\n",
            "This function will be removed in tqdm==5.0.0\n",
            "Please use `tqdm.notebook.tqdm` instead of `tqdm.tqdm_notebook`\n",
            "\n"
          ],
          "name": "stderr"
        },
        {
          "output_type": "display_data",
          "data": {
            "application/vnd.jupyter.widget-view+json": {
              "model_id": "94814a69494a4c1a896859e0c4b0e78f",
              "version_minor": 0,
              "version_major": 2
            },
            "text/plain": [
              "HBox(children=(FloatProgress(value=0.0, max=141.0), HTML(value='')))"
            ]
          },
          "metadata": {
            "tags": []
          }
        },
        {
          "output_type": "stream",
          "text": [
            "Epoch 6: train_loss: 0.1061 train_rmse: 0.3258 | val_loss: 0.1009 val_rmse: 0.3179\n"
          ],
          "name": "stdout"
        },
        {
          "output_type": "stream",
          "text": [
            "/usr/local/lib/python3.7/dist-packages/ipykernel_launcher.py:19: TqdmDeprecationWarning:\n",
            "\n",
            "This function will be removed in tqdm==5.0.0\n",
            "Please use `tqdm.notebook.tqdm` instead of `tqdm.tqdm_notebook`\n",
            "\n"
          ],
          "name": "stderr"
        },
        {
          "output_type": "display_data",
          "data": {
            "application/vnd.jupyter.widget-view+json": {
              "model_id": "36df4bf4e71a40898499aac2e6bd340a",
              "version_minor": 0,
              "version_major": 2
            },
            "text/plain": [
              "HBox(children=(FloatProgress(value=0.0, max=563.0), HTML(value='')))"
            ]
          },
          "metadata": {
            "tags": []
          }
        },
        {
          "output_type": "stream",
          "text": [
            "/usr/local/lib/python3.7/dist-packages/ipykernel_launcher.py:51: TqdmDeprecationWarning:\n",
            "\n",
            "This function will be removed in tqdm==5.0.0\n",
            "Please use `tqdm.notebook.tqdm` instead of `tqdm.tqdm_notebook`\n",
            "\n"
          ],
          "name": "stderr"
        },
        {
          "output_type": "display_data",
          "data": {
            "application/vnd.jupyter.widget-view+json": {
              "model_id": "f76e37af50614e288829e403160875b5",
              "version_minor": 0,
              "version_major": 2
            },
            "text/plain": [
              "HBox(children=(FloatProgress(value=0.0, max=141.0), HTML(value='')))"
            ]
          },
          "metadata": {
            "tags": []
          }
        },
        {
          "output_type": "stream",
          "text": [
            "Epoch 7: train_loss: 0.1061 train_rmse: 0.3258 | val_loss: 0.1087 val_rmse: 0.3299\n"
          ],
          "name": "stdout"
        },
        {
          "output_type": "stream",
          "text": [
            "/usr/local/lib/python3.7/dist-packages/ipykernel_launcher.py:19: TqdmDeprecationWarning:\n",
            "\n",
            "This function will be removed in tqdm==5.0.0\n",
            "Please use `tqdm.notebook.tqdm` instead of `tqdm.tqdm_notebook`\n",
            "\n"
          ],
          "name": "stderr"
        },
        {
          "output_type": "display_data",
          "data": {
            "application/vnd.jupyter.widget-view+json": {
              "model_id": "acb066b0c6544994a938cf90c15c158a",
              "version_minor": 0,
              "version_major": 2
            },
            "text/plain": [
              "HBox(children=(FloatProgress(value=0.0, max=563.0), HTML(value='')))"
            ]
          },
          "metadata": {
            "tags": []
          }
        },
        {
          "output_type": "stream",
          "text": [
            "/usr/local/lib/python3.7/dist-packages/ipykernel_launcher.py:51: TqdmDeprecationWarning:\n",
            "\n",
            "This function will be removed in tqdm==5.0.0\n",
            "Please use `tqdm.notebook.tqdm` instead of `tqdm.tqdm_notebook`\n",
            "\n"
          ],
          "name": "stderr"
        },
        {
          "output_type": "display_data",
          "data": {
            "application/vnd.jupyter.widget-view+json": {
              "model_id": "79b9ab221dd844939fe871f408574d7b",
              "version_minor": 0,
              "version_major": 2
            },
            "text/plain": [
              "HBox(children=(FloatProgress(value=0.0, max=141.0), HTML(value='')))"
            ]
          },
          "metadata": {
            "tags": []
          }
        },
        {
          "output_type": "stream",
          "text": [
            "Epoch 8: train_loss: 0.1058 train_rmse: 0.3253 | val_loss: 0.0994 val_rmse: 0.3154\n"
          ],
          "name": "stdout"
        },
        {
          "output_type": "stream",
          "text": [
            "/usr/local/lib/python3.7/dist-packages/ipykernel_launcher.py:19: TqdmDeprecationWarning:\n",
            "\n",
            "This function will be removed in tqdm==5.0.0\n",
            "Please use `tqdm.notebook.tqdm` instead of `tqdm.tqdm_notebook`\n",
            "\n"
          ],
          "name": "stderr"
        },
        {
          "output_type": "display_data",
          "data": {
            "application/vnd.jupyter.widget-view+json": {
              "model_id": "6465ff9482a647239df8d2bd3b2b5d27",
              "version_minor": 0,
              "version_major": 2
            },
            "text/plain": [
              "HBox(children=(FloatProgress(value=0.0, max=563.0), HTML(value='')))"
            ]
          },
          "metadata": {
            "tags": []
          }
        },
        {
          "output_type": "stream",
          "text": [
            "/usr/local/lib/python3.7/dist-packages/ipykernel_launcher.py:51: TqdmDeprecationWarning:\n",
            "\n",
            "This function will be removed in tqdm==5.0.0\n",
            "Please use `tqdm.notebook.tqdm` instead of `tqdm.tqdm_notebook`\n",
            "\n"
          ],
          "name": "stderr"
        },
        {
          "output_type": "display_data",
          "data": {
            "application/vnd.jupyter.widget-view+json": {
              "model_id": "e5d164afdf194ab48c9c132215e92606",
              "version_minor": 0,
              "version_major": 2
            },
            "text/plain": [
              "HBox(children=(FloatProgress(value=0.0, max=141.0), HTML(value='')))"
            ]
          },
          "metadata": {
            "tags": []
          }
        },
        {
          "output_type": "stream",
          "text": [
            "Epoch 9: train_loss: 0.1053 train_rmse: 0.3246 | val_loss: 0.1024 val_rmse: 0.3199\n"
          ],
          "name": "stdout"
        },
        {
          "output_type": "stream",
          "text": [
            "/usr/local/lib/python3.7/dist-packages/ipykernel_launcher.py:19: TqdmDeprecationWarning:\n",
            "\n",
            "This function will be removed in tqdm==5.0.0\n",
            "Please use `tqdm.notebook.tqdm` instead of `tqdm.tqdm_notebook`\n",
            "\n"
          ],
          "name": "stderr"
        },
        {
          "output_type": "display_data",
          "data": {
            "application/vnd.jupyter.widget-view+json": {
              "model_id": "7e46b0c0c8834966ad808f73d10a4ca7",
              "version_minor": 0,
              "version_major": 2
            },
            "text/plain": [
              "HBox(children=(FloatProgress(value=0.0, max=563.0), HTML(value='')))"
            ]
          },
          "metadata": {
            "tags": []
          }
        },
        {
          "output_type": "stream",
          "text": [
            "/usr/local/lib/python3.7/dist-packages/ipykernel_launcher.py:51: TqdmDeprecationWarning:\n",
            "\n",
            "This function will be removed in tqdm==5.0.0\n",
            "Please use `tqdm.notebook.tqdm` instead of `tqdm.tqdm_notebook`\n",
            "\n"
          ],
          "name": "stderr"
        },
        {
          "output_type": "display_data",
          "data": {
            "application/vnd.jupyter.widget-view+json": {
              "model_id": "62afe46b95b249b3b6de0df2f67c7506",
              "version_minor": 0,
              "version_major": 2
            },
            "text/plain": [
              "HBox(children=(FloatProgress(value=0.0, max=141.0), HTML(value='')))"
            ]
          },
          "metadata": {
            "tags": []
          }
        },
        {
          "output_type": "stream",
          "text": [
            "Epoch 10: train_loss: 0.1058 train_rmse: 0.3252 | val_loss: 0.1010 val_rmse: 0.3180\n"
          ],
          "name": "stdout"
        },
        {
          "output_type": "stream",
          "text": [
            "/usr/local/lib/python3.7/dist-packages/ipykernel_launcher.py:19: TqdmDeprecationWarning:\n",
            "\n",
            "This function will be removed in tqdm==5.0.0\n",
            "Please use `tqdm.notebook.tqdm` instead of `tqdm.tqdm_notebook`\n",
            "\n"
          ],
          "name": "stderr"
        },
        {
          "output_type": "display_data",
          "data": {
            "application/vnd.jupyter.widget-view+json": {
              "model_id": "87148b5a19aa4c15a122ebdf799c7181",
              "version_minor": 0,
              "version_major": 2
            },
            "text/plain": [
              "HBox(children=(FloatProgress(value=0.0, max=563.0), HTML(value='')))"
            ]
          },
          "metadata": {
            "tags": []
          }
        },
        {
          "output_type": "stream",
          "text": [
            "/usr/local/lib/python3.7/dist-packages/ipykernel_launcher.py:51: TqdmDeprecationWarning:\n",
            "\n",
            "This function will be removed in tqdm==5.0.0\n",
            "Please use `tqdm.notebook.tqdm` instead of `tqdm.tqdm_notebook`\n",
            "\n"
          ],
          "name": "stderr"
        },
        {
          "output_type": "display_data",
          "data": {
            "application/vnd.jupyter.widget-view+json": {
              "model_id": "fdeb1be535614919a3dff41a5a29e656",
              "version_minor": 0,
              "version_major": 2
            },
            "text/plain": [
              "HBox(children=(FloatProgress(value=0.0, max=141.0), HTML(value='')))"
            ]
          },
          "metadata": {
            "tags": []
          }
        },
        {
          "output_type": "stream",
          "text": [
            "Epoch 11: train_loss: 0.1069 train_rmse: 0.3269 | val_loss: 0.1048 val_rmse: 0.3237\n"
          ],
          "name": "stdout"
        },
        {
          "output_type": "stream",
          "text": [
            "/usr/local/lib/python3.7/dist-packages/ipykernel_launcher.py:19: TqdmDeprecationWarning:\n",
            "\n",
            "This function will be removed in tqdm==5.0.0\n",
            "Please use `tqdm.notebook.tqdm` instead of `tqdm.tqdm_notebook`\n",
            "\n"
          ],
          "name": "stderr"
        },
        {
          "output_type": "display_data",
          "data": {
            "application/vnd.jupyter.widget-view+json": {
              "model_id": "8a061978ce304bd7a7976d8484abcd9c",
              "version_minor": 0,
              "version_major": 2
            },
            "text/plain": [
              "HBox(children=(FloatProgress(value=0.0, max=563.0), HTML(value='')))"
            ]
          },
          "metadata": {
            "tags": []
          }
        },
        {
          "output_type": "stream",
          "text": [
            "/usr/local/lib/python3.7/dist-packages/ipykernel_launcher.py:51: TqdmDeprecationWarning:\n",
            "\n",
            "This function will be removed in tqdm==5.0.0\n",
            "Please use `tqdm.notebook.tqdm` instead of `tqdm.tqdm_notebook`\n",
            "\n"
          ],
          "name": "stderr"
        },
        {
          "output_type": "display_data",
          "data": {
            "application/vnd.jupyter.widget-view+json": {
              "model_id": "2eebcccb9d434700aa7c78321772e4f2",
              "version_minor": 0,
              "version_major": 2
            },
            "text/plain": [
              "HBox(children=(FloatProgress(value=0.0, max=141.0), HTML(value='')))"
            ]
          },
          "metadata": {
            "tags": []
          }
        },
        {
          "output_type": "stream",
          "text": [
            "Epoch 12: train_loss: 0.1062 train_rmse: 0.3258 | val_loss: 0.1087 val_rmse: 0.3297\n"
          ],
          "name": "stdout"
        },
        {
          "output_type": "stream",
          "text": [
            "/usr/local/lib/python3.7/dist-packages/ipykernel_launcher.py:19: TqdmDeprecationWarning:\n",
            "\n",
            "This function will be removed in tqdm==5.0.0\n",
            "Please use `tqdm.notebook.tqdm` instead of `tqdm.tqdm_notebook`\n",
            "\n"
          ],
          "name": "stderr"
        },
        {
          "output_type": "display_data",
          "data": {
            "application/vnd.jupyter.widget-view+json": {
              "model_id": "76581f787df54111ad7ffb4a41ecec83",
              "version_minor": 0,
              "version_major": 2
            },
            "text/plain": [
              "HBox(children=(FloatProgress(value=0.0, max=563.0), HTML(value='')))"
            ]
          },
          "metadata": {
            "tags": []
          }
        },
        {
          "output_type": "stream",
          "text": [
            "/usr/local/lib/python3.7/dist-packages/ipykernel_launcher.py:51: TqdmDeprecationWarning:\n",
            "\n",
            "This function will be removed in tqdm==5.0.0\n",
            "Please use `tqdm.notebook.tqdm` instead of `tqdm.tqdm_notebook`\n",
            "\n"
          ],
          "name": "stderr"
        },
        {
          "output_type": "display_data",
          "data": {
            "application/vnd.jupyter.widget-view+json": {
              "model_id": "eb0a576ef5124e408bbf2d741e583810",
              "version_minor": 0,
              "version_major": 2
            },
            "text/plain": [
              "HBox(children=(FloatProgress(value=0.0, max=141.0), HTML(value='')))"
            ]
          },
          "metadata": {
            "tags": []
          }
        },
        {
          "output_type": "stream",
          "text": [
            "Epoch 13: train_loss: 0.1053 train_rmse: 0.3244 | val_loss: 0.1030 val_rmse: 0.3210\n"
          ],
          "name": "stdout"
        },
        {
          "output_type": "stream",
          "text": [
            "/usr/local/lib/python3.7/dist-packages/ipykernel_launcher.py:19: TqdmDeprecationWarning:\n",
            "\n",
            "This function will be removed in tqdm==5.0.0\n",
            "Please use `tqdm.notebook.tqdm` instead of `tqdm.tqdm_notebook`\n",
            "\n"
          ],
          "name": "stderr"
        },
        {
          "output_type": "display_data",
          "data": {
            "application/vnd.jupyter.widget-view+json": {
              "model_id": "a8bfa81bc04441f3a8c5e4ac03b8d77a",
              "version_minor": 0,
              "version_major": 2
            },
            "text/plain": [
              "HBox(children=(FloatProgress(value=0.0, max=563.0), HTML(value='')))"
            ]
          },
          "metadata": {
            "tags": []
          }
        },
        {
          "output_type": "stream",
          "text": [
            "/usr/local/lib/python3.7/dist-packages/ipykernel_launcher.py:51: TqdmDeprecationWarning:\n",
            "\n",
            "This function will be removed in tqdm==5.0.0\n",
            "Please use `tqdm.notebook.tqdm` instead of `tqdm.tqdm_notebook`\n",
            "\n"
          ],
          "name": "stderr"
        },
        {
          "output_type": "display_data",
          "data": {
            "application/vnd.jupyter.widget-view+json": {
              "model_id": "b8e1f4fa5325405baf353f8cbb9d1dee",
              "version_minor": 0,
              "version_major": 2
            },
            "text/plain": [
              "HBox(children=(FloatProgress(value=0.0, max=141.0), HTML(value='')))"
            ]
          },
          "metadata": {
            "tags": []
          }
        },
        {
          "output_type": "stream",
          "text": [
            "Epoch 14: train_loss: 0.1057 train_rmse: 0.3252 | val_loss: 0.1001 val_rmse: 0.3165\n"
          ],
          "name": "stdout"
        },
        {
          "output_type": "stream",
          "text": [
            "/usr/local/lib/python3.7/dist-packages/ipykernel_launcher.py:19: TqdmDeprecationWarning:\n",
            "\n",
            "This function will be removed in tqdm==5.0.0\n",
            "Please use `tqdm.notebook.tqdm` instead of `tqdm.tqdm_notebook`\n",
            "\n"
          ],
          "name": "stderr"
        },
        {
          "output_type": "display_data",
          "data": {
            "application/vnd.jupyter.widget-view+json": {
              "model_id": "88920b23f10749d6a2e71ea0116e51db",
              "version_minor": 0,
              "version_major": 2
            },
            "text/plain": [
              "HBox(children=(FloatProgress(value=0.0, max=563.0), HTML(value='')))"
            ]
          },
          "metadata": {
            "tags": []
          }
        },
        {
          "output_type": "stream",
          "text": [
            "/usr/local/lib/python3.7/dist-packages/ipykernel_launcher.py:51: TqdmDeprecationWarning:\n",
            "\n",
            "This function will be removed in tqdm==5.0.0\n",
            "Please use `tqdm.notebook.tqdm` instead of `tqdm.tqdm_notebook`\n",
            "\n"
          ],
          "name": "stderr"
        },
        {
          "output_type": "display_data",
          "data": {
            "application/vnd.jupyter.widget-view+json": {
              "model_id": "5a4c756da84f46cdbf2cb648814142fc",
              "version_minor": 0,
              "version_major": 2
            },
            "text/plain": [
              "HBox(children=(FloatProgress(value=0.0, max=141.0), HTML(value='')))"
            ]
          },
          "metadata": {
            "tags": []
          }
        },
        {
          "output_type": "stream",
          "text": [
            "Epoch 15: train_loss: 0.1049 train_rmse: 0.3239 | val_loss: 0.1124 val_rmse: 0.3354\n"
          ],
          "name": "stdout"
        },
        {
          "output_type": "stream",
          "text": [
            "/usr/local/lib/python3.7/dist-packages/ipykernel_launcher.py:19: TqdmDeprecationWarning:\n",
            "\n",
            "This function will be removed in tqdm==5.0.0\n",
            "Please use `tqdm.notebook.tqdm` instead of `tqdm.tqdm_notebook`\n",
            "\n"
          ],
          "name": "stderr"
        },
        {
          "output_type": "display_data",
          "data": {
            "application/vnd.jupyter.widget-view+json": {
              "model_id": "1c43e2fd06804046926b2293a749bec0",
              "version_minor": 0,
              "version_major": 2
            },
            "text/plain": [
              "HBox(children=(FloatProgress(value=0.0, max=563.0), HTML(value='')))"
            ]
          },
          "metadata": {
            "tags": []
          }
        },
        {
          "output_type": "stream",
          "text": [
            "/usr/local/lib/python3.7/dist-packages/ipykernel_launcher.py:51: TqdmDeprecationWarning:\n",
            "\n",
            "This function will be removed in tqdm==5.0.0\n",
            "Please use `tqdm.notebook.tqdm` instead of `tqdm.tqdm_notebook`\n",
            "\n"
          ],
          "name": "stderr"
        },
        {
          "output_type": "display_data",
          "data": {
            "application/vnd.jupyter.widget-view+json": {
              "model_id": "64b1c34581324f30a721ae0bdc1c01cc",
              "version_minor": 0,
              "version_major": 2
            },
            "text/plain": [
              "HBox(children=(FloatProgress(value=0.0, max=141.0), HTML(value='')))"
            ]
          },
          "metadata": {
            "tags": []
          }
        },
        {
          "output_type": "stream",
          "text": [
            "Epoch 16: train_loss: 0.1050 train_rmse: 0.3241 | val_loss: 0.1042 val_rmse: 0.3229\n"
          ],
          "name": "stdout"
        },
        {
          "output_type": "stream",
          "text": [
            "/usr/local/lib/python3.7/dist-packages/ipykernel_launcher.py:19: TqdmDeprecationWarning:\n",
            "\n",
            "This function will be removed in tqdm==5.0.0\n",
            "Please use `tqdm.notebook.tqdm` instead of `tqdm.tqdm_notebook`\n",
            "\n"
          ],
          "name": "stderr"
        },
        {
          "output_type": "display_data",
          "data": {
            "application/vnd.jupyter.widget-view+json": {
              "model_id": "394b227b3c424c51b2438e2613d38bc7",
              "version_minor": 0,
              "version_major": 2
            },
            "text/plain": [
              "HBox(children=(FloatProgress(value=0.0, max=563.0), HTML(value='')))"
            ]
          },
          "metadata": {
            "tags": []
          }
        },
        {
          "output_type": "stream",
          "text": [
            "/usr/local/lib/python3.7/dist-packages/ipykernel_launcher.py:51: TqdmDeprecationWarning:\n",
            "\n",
            "This function will be removed in tqdm==5.0.0\n",
            "Please use `tqdm.notebook.tqdm` instead of `tqdm.tqdm_notebook`\n",
            "\n"
          ],
          "name": "stderr"
        },
        {
          "output_type": "display_data",
          "data": {
            "application/vnd.jupyter.widget-view+json": {
              "model_id": "4a5d34f621f34dd5b1ea2b0ef96a711c",
              "version_minor": 0,
              "version_major": 2
            },
            "text/plain": [
              "HBox(children=(FloatProgress(value=0.0, max=141.0), HTML(value='')))"
            ]
          },
          "metadata": {
            "tags": []
          }
        },
        {
          "output_type": "stream",
          "text": [
            "Epoch 17: train_loss: 0.1058 train_rmse: 0.3254 | val_loss: 0.1021 val_rmse: 0.3195\n"
          ],
          "name": "stdout"
        },
        {
          "output_type": "stream",
          "text": [
            "/usr/local/lib/python3.7/dist-packages/ipykernel_launcher.py:19: TqdmDeprecationWarning:\n",
            "\n",
            "This function will be removed in tqdm==5.0.0\n",
            "Please use `tqdm.notebook.tqdm` instead of `tqdm.tqdm_notebook`\n",
            "\n"
          ],
          "name": "stderr"
        },
        {
          "output_type": "display_data",
          "data": {
            "application/vnd.jupyter.widget-view+json": {
              "model_id": "62ff16a4c7c84ea995d70d3208467d6e",
              "version_minor": 0,
              "version_major": 2
            },
            "text/plain": [
              "HBox(children=(FloatProgress(value=0.0, max=563.0), HTML(value='')))"
            ]
          },
          "metadata": {
            "tags": []
          }
        },
        {
          "output_type": "stream",
          "text": [
            "/usr/local/lib/python3.7/dist-packages/ipykernel_launcher.py:51: TqdmDeprecationWarning:\n",
            "\n",
            "This function will be removed in tqdm==5.0.0\n",
            "Please use `tqdm.notebook.tqdm` instead of `tqdm.tqdm_notebook`\n",
            "\n"
          ],
          "name": "stderr"
        },
        {
          "output_type": "display_data",
          "data": {
            "application/vnd.jupyter.widget-view+json": {
              "model_id": "631913cb76954bdd9bf00a64837499bc",
              "version_minor": 0,
              "version_major": 2
            },
            "text/plain": [
              "HBox(children=(FloatProgress(value=0.0, max=141.0), HTML(value='')))"
            ]
          },
          "metadata": {
            "tags": []
          }
        },
        {
          "output_type": "stream",
          "text": [
            "Epoch 18: train_loss: 0.1049 train_rmse: 0.3239 | val_loss: 0.0993 val_rmse: 0.3153\n"
          ],
          "name": "stdout"
        },
        {
          "output_type": "stream",
          "text": [
            "/usr/local/lib/python3.7/dist-packages/ipykernel_launcher.py:19: TqdmDeprecationWarning:\n",
            "\n",
            "This function will be removed in tqdm==5.0.0\n",
            "Please use `tqdm.notebook.tqdm` instead of `tqdm.tqdm_notebook`\n",
            "\n"
          ],
          "name": "stderr"
        },
        {
          "output_type": "display_data",
          "data": {
            "application/vnd.jupyter.widget-view+json": {
              "model_id": "404db2b7fa2040f9bfc5a8627cda3564",
              "version_minor": 0,
              "version_major": 2
            },
            "text/plain": [
              "HBox(children=(FloatProgress(value=0.0, max=563.0), HTML(value='')))"
            ]
          },
          "metadata": {
            "tags": []
          }
        },
        {
          "output_type": "stream",
          "text": [
            "/usr/local/lib/python3.7/dist-packages/ipykernel_launcher.py:51: TqdmDeprecationWarning:\n",
            "\n",
            "This function will be removed in tqdm==5.0.0\n",
            "Please use `tqdm.notebook.tqdm` instead of `tqdm.tqdm_notebook`\n",
            "\n"
          ],
          "name": "stderr"
        },
        {
          "output_type": "display_data",
          "data": {
            "application/vnd.jupyter.widget-view+json": {
              "model_id": "1a0c5e4f2b4047d6bd2002906a491bc8",
              "version_minor": 0,
              "version_major": 2
            },
            "text/plain": [
              "HBox(children=(FloatProgress(value=0.0, max=141.0), HTML(value='')))"
            ]
          },
          "metadata": {
            "tags": []
          }
        },
        {
          "output_type": "stream",
          "text": [
            "Epoch 19: train_loss: 0.1053 train_rmse: 0.3243 | val_loss: 0.1028 val_rmse: 0.3204\n",
            "\n"
          ],
          "name": "stdout"
        }
      ]
    },
    {
      "cell_type": "markdown",
      "metadata": {
        "id": "dg-YyTMzChI7"
      },
      "source": [
        "## Plots"
      ]
    },
    {
      "cell_type": "code",
      "metadata": {
        "id": "SyqjNOfiIFGB",
        "colab": {
          "base_uri": "https://localhost:8080/",
          "height": 281
        },
        "outputId": "13a7003b-09ed-4c9f-b050-8e15c638e5db"
      },
      "source": [
        "#Plot the Learning rate\n",
        "_ = plt.plot(lr[0])\n",
        "_ = plt.title('LR over Epoch (Epoch 0)')"
      ],
      "execution_count": 38,
      "outputs": [
        {
          "output_type": "display_data",
          "data": {
            "image/png": "[encoded data removed]",
            "text/plain": [
              "<Figure size 432x288 with 1 Axes>"
            ]
          },
          "metadata": {
            "tags": [],
            "needs_background": "light"
          }
        }
      ]
    },
    {
      "cell_type": "code",
      "metadata": {
        "id": "Y35tlzFRrCPZ"
      },
      "source": [
        ""
      ],
      "execution_count": 38,
      "outputs": []
    },
    {
      "cell_type": "code",
      "metadata": {
        "id": "4q-a7-Ylp6JN",
        "colab": {
          "base_uri": "https://localhost:8080/",
          "height": 313
        },
        "outputId": "e0dd36a8-753d-43c8-b9e9-e6cf016c76e2"
      },
      "source": [
        "#inspired from: https://nbviewer.jupyter.org/github/FraPochetti/KagglePlaygrounds/blob/master/NYC%20Taxi%20Fares%20Prediction.ipynb \n",
        "# Train VS Validaton Loss\n",
        "\n",
        "t = [np.mean(tloss[el]) for el in tloss]\n",
        "v = [np.mean(vloss[el]) for el in vloss]\n",
        "\n",
        "plt.plot(t, label='Training loss')\n",
        "plt.plot(v, label='Validation loss')\n",
        "plt.title(\"Train VS Validation Loss over Epochs\")\n",
        "plt.xlabel(\"Epochs\")\n",
        "plt.legend(frameon=False)"
      ],
      "execution_count": 39,
      "outputs": [
        {
          "output_type": "execute_result",
          "data": {
            "text/plain": [
              "<matplotlib.legend.Legend at 0x7f8f405ac810>"
            ]
          },
          "metadata": {
            "tags": []
          },
          "execution_count": 39
        },
        {
          "output_type": "display_data",
          "data": {
            "image/png": "[encoded data removed]",
            "text/plain": [
              "<Figure size 432x288 with 1 Axes>"
            ]
          },
          "metadata": {
            "tags": [],
            "needs_background": "light"
          }
        }
      ]
    },
    {
      "cell_type": "markdown",
      "metadata": {
        "id": "e0lSOupcxzIZ"
      },
      "source": [
        "# Test "
      ]
    },
    {
      "cell_type": "code",
      "metadata": {
        "id": "_xsc3FhFbsGz",
        "colab": {
          "base_uri": "https://localhost:8080/"
        },
        "outputId": "d1c55e1e-6cad-4474-aab4-074c89ee3429"
      },
      "source": [
        "df_test.info()"
      ],
      "execution_count": 40,
      "outputs": [
        {
          "output_type": "stream",
          "text": [
            "<class 'pandas.core.frame.DataFrame'>\n",
            "Int64Index: 9987 entries, 90011 to 99998\n",
            "Data columns (total 10 columns):\n",
            " #   Column             Non-Null Count  Dtype   \n",
            "---  ------             --------------  -----   \n",
            " 0   Hour               9987 non-null   category\n",
            " 1   AMorPM             9987 non-null   category\n",
            " 2   Weekday            9987 non-null   category\n",
            " 3   pickup_latitude    9987 non-null   float64 \n",
            " 4   pickup_longitude   9987 non-null   float64 \n",
            " 5   dropoff_latitude   9987 non-null   float64 \n",
            " 6   dropoff_longitude  9987 non-null   float64 \n",
            " 7   passenger_count    9987 non-null   float64 \n",
            " 8   dist_km            9987 non-null   float64 \n",
            " 9   fare_amount        9987 non-null   float64 \n",
            "dtypes: category(3), float64(7)\n",
            "memory usage: 654.7 KB\n"
          ],
          "name": "stdout"
        }
      ]
    },
    {
      "cell_type": "code",
      "metadata": {
        "id": "3nrV9kSilNCS"
      },
      "source": [
        "# divide to cats and conts columns + make them a tensor + to.cuda()\n",
        "\n",
        "df_test_cats = df_test[['Hour', 'AMorPM', 'Weekday']]\n",
        "test_cats = df_test_cats.astype(np.int64)\n",
        "test_cats = torch.tensor(test_cats.values).cuda()\n",
        "\n",
        "df_test_conts = df_test[['pickup_latitude', 'pickup_longitude', 'dropoff_latitude', 'dropoff_longitude', 'passenger_count', 'dist_km']]\n",
        "test_conts = df_test_conts.astype(np.float32)\n",
        "test_conts = torch.tensor(test_conts.values).cuda()"
      ],
      "execution_count": 41,
      "outputs": []
    },
    {
      "cell_type": "code",
      "metadata": {
        "id": "jgYTtfyVxUFJ"
      },
      "source": [
        "# make prediction\n",
        "\n",
        "with torch.no_grad():\n",
        "    model.eval()\n",
        "    output = model.forward(test_cats,test_conts).cuda()"
      ],
      "execution_count": 42,
      "outputs": []
    },
    {
      "cell_type": "code",
      "metadata": {
        "id": "E8Rl4zVZ93ag",
        "colab": {
          "base_uri": "https://localhost:8080/"
        },
        "outputId": "a90b8c70-e531-4d86-ab79-4f6c038a4300"
      },
      "source": [
        "output"
      ],
      "execution_count": 43,
      "outputs": [
        {
          "output_type": "execute_result",
          "data": {
            "text/plain": [
              "tensor([2.4464, 2.4931, 2.5442,  ..., 2.5397, 2.5086, 2.4634], device='cuda:0')"
            ]
          },
          "metadata": {
            "tags": []
          },
          "execution_count": 43
        }
      ]
    },
    {
      "cell_type": "code",
      "metadata": {
        "id": "nw6AZdZXAfv7",
        "colab": {
          "base_uri": "https://localhost:8080/"
        },
        "outputId": "15078792-c3c0-486d-8603-813555660389"
      },
      "source": [
        "len(output)"
      ],
      "execution_count": 44,
      "outputs": [
        {
          "output_type": "execute_result",
          "data": {
            "text/plain": [
              "9987"
            ]
          },
          "metadata": {
            "tags": []
          },
          "execution_count": 44
        }
      ]
    },
    {
      "cell_type": "code",
      "metadata": {
        "id": "AFJ9Ny5nAjWA",
        "colab": {
          "base_uri": "https://localhost:8080/"
        },
        "outputId": "ea260c2e-353c-455b-d614-c463e5d5384f"
      },
      "source": [
        "type(output)"
      ],
      "execution_count": 45,
      "outputs": [
        {
          "output_type": "execute_result",
          "data": {
            "text/plain": [
              "torch.Tensor"
            ]
          },
          "metadata": {
            "tags": []
          },
          "execution_count": 45
        }
      ]
    },
    {
      "cell_type": "code",
      "metadata": {
        "id": "iLEtdrOoDIBA"
      },
      "source": [
        "# convert to numpy array\n",
        "np_output = output.cpu().numpy()"
      ],
      "execution_count": 46,
      "outputs": []
    },
    {
      "cell_type": "code",
      "metadata": {
        "id": "s4HOvUYIE7jx",
        "colab": {
          "base_uri": "https://localhost:8080/"
        },
        "outputId": "6d28b7a8-900c-4575-f8c7-95f53b336673"
      },
      "source": [
        "type(np_output)"
      ],
      "execution_count": 47,
      "outputs": [
        {
          "output_type": "execute_result",
          "data": {
            "text/plain": [
              "numpy.ndarray"
            ]
          },
          "metadata": {
            "tags": []
          },
          "execution_count": 47
        }
      ]
    },
    {
      "cell_type": "code",
      "metadata": {
        "id": "CKp9G4XTDZNI",
        "colab": {
          "base_uri": "https://localhost:8080/"
        },
        "outputId": "53210b0c-5f49-4f4d-d250-a96963b4799c"
      },
      "source": [
        "np_output"
      ],
      "execution_count": 48,
      "outputs": [
        {
          "output_type": "execute_result",
          "data": {
            "text/plain": [
              "array([2.4464242, 2.4931092, 2.5441787, ..., 2.5396771, 2.508596 ,\n",
              "       2.4633863], dtype=float32)"
            ]
          },
          "metadata": {
            "tags": []
          },
          "execution_count": 48
        }
      ]
    },
    {
      "cell_type": "code",
      "metadata": {
        "id": "EHo-Vq3AE5zE"
      },
      "source": [
        "#  exp to the output data\n",
        "\n",
        "np_output_exp = np.exp(np_output)"
      ],
      "execution_count": 49,
      "outputs": []
    },
    {
      "cell_type": "code",
      "metadata": {
        "id": "hCeCxOKpFayL",
        "colab": {
          "base_uri": "https://localhost:8080/"
        },
        "outputId": "3ca90d46-9603-4138-feff-85278dccf858"
      },
      "source": [
        "np_output_exp"
      ],
      "execution_count": 50,
      "outputs": [
        {
          "output_type": "execute_result",
          "data": {
            "text/plain": [
              "array([11.546983, 12.098835, 12.732766, ..., 12.675577, 12.287665,\n",
              "       11.744514], dtype=float32)"
            ]
          },
          "metadata": {
            "tags": []
          },
          "execution_count": 50
        }
      ]
    },
    {
      "cell_type": "code",
      "metadata": {
        "id": "wC-v0WfmCwEw"
      },
      "source": [
        "# CONVERT to pandas data frame \n",
        "\n",
        "df_output =  pd.DataFrame(np_output_exp)"
      ],
      "execution_count": 51,
      "outputs": []
    },
    {
      "cell_type": "code",
      "metadata": {
        "id": "EWeienWcC2t1",
        "colab": {
          "base_uri": "https://localhost:8080/",
          "height": 402
        },
        "outputId": "5e39c30e-244e-4218-9d11-292e8ec92ec8"
      },
      "source": [
        "df_output"
      ],
      "execution_count": 52,
      "outputs": [
        {
          "output_type": "execute_result",
          "data": {
            "text/html": [
              "<div>\n",
              "<style scoped>\n",
              "    .dataframe tbody tr th:only-of-type {\n",
              "        vertical-align: middle;\n",
              "    }\n",
              "\n",
              "    .dataframe tbody tr th {\n",
              "        vertical-align: top;\n",
              "    }\n",
              "\n",
              "    .dataframe thead th {\n",
              "        text-align: right;\n",
              "    }\n",
              "</style>\n",
              "<table border=\"1\" class=\"dataframe\">\n",
              "  <thead>\n",
              "    <tr style=\"text-align: right;\">\n",
              "      <th></th>\n",
              "      <th>0</th>\n",
              "    </tr>\n",
              "  </thead>\n",
              "  <tbody>\n",
              "    <tr>\n",
              "      <th>0</th>\n",
              "      <td>11.546983</td>\n",
              "    </tr>\n",
              "    <tr>\n",
              "      <th>1</th>\n",
              "      <td>12.098835</td>\n",
              "    </tr>\n",
              "    <tr>\n",
              "      <th>2</th>\n",
              "      <td>12.732766</td>\n",
              "    </tr>\n",
              "    <tr>\n",
              "      <th>3</th>\n",
              "      <td>12.390021</td>\n",
              "    </tr>\n",
              "    <tr>\n",
              "      <th>4</th>\n",
              "      <td>12.338657</td>\n",
              "    </tr>\n",
              "    <tr>\n",
              "      <th>...</th>\n",
              "      <td>...</td>\n",
              "    </tr>\n",
              "    <tr>\n",
              "      <th>9982</th>\n",
              "      <td>12.603804</td>\n",
              "    </tr>\n",
              "    <tr>\n",
              "      <th>9983</th>\n",
              "      <td>11.644686</td>\n",
              "    </tr>\n",
              "    <tr>\n",
              "      <th>9984</th>\n",
              "      <td>12.675577</td>\n",
              "    </tr>\n",
              "    <tr>\n",
              "      <th>9985</th>\n",
              "      <td>12.287665</td>\n",
              "    </tr>\n",
              "    <tr>\n",
              "      <th>9986</th>\n",
              "      <td>11.744514</td>\n",
              "    </tr>\n",
              "  </tbody>\n",
              "</table>\n",
              "<p>9987 rows × 1 columns</p>\n",
              "</div>"
            ],
            "text/plain": [
              "              0\n",
              "0     11.546983\n",
              "1     12.098835\n",
              "2     12.732766\n",
              "3     12.390021\n",
              "4     12.338657\n",
              "...         ...\n",
              "9982  12.603804\n",
              "9983  11.644686\n",
              "9984  12.675577\n",
              "9985  12.287665\n",
              "9986  11.744514\n",
              "\n",
              "[9987 rows x 1 columns]"
            ]
          },
          "metadata": {
            "tags": []
          },
          "execution_count": 52
        }
      ]
    },
    {
      "cell_type": "code",
      "metadata": {
        "id": "UtBEyhHPKCCO",
        "colab": {
          "base_uri": "https://localhost:8080/"
        },
        "outputId": "d1b61ff7-8f4c-4701-8910-6dab66f07fea"
      },
      "source": [
        "type(df_output)"
      ],
      "execution_count": 53,
      "outputs": [
        {
          "output_type": "execute_result",
          "data": {
            "text/plain": [
              "pandas.core.frame.DataFrame"
            ]
          },
          "metadata": {
            "tags": []
          },
          "execution_count": 53
        }
      ]
    },
    {
      "cell_type": "code",
      "metadata": {
        "id": "BHl0PIlDH9ZU"
      },
      "source": [
        "#output file\n",
        "\n",
        "df_output.to_csv('submission.csv', index=False)\n"
      ],
      "execution_count": 54,
      "outputs": []
    },
    {
      "cell_type": "code",
      "metadata": {
        "id": "1-y9qE3yIenz"
      },
      "source": [
        "# function that takes in a dataframe and creates a text link to  \n",
        "# download it (will only work for files < 2MB or so)\n",
        "\n",
        "from IPython.display import HTML\n",
        "import base64\n",
        "\n",
        "def create_download_link(df, title = \"Download CSV file\", filename = \"submission.csv\"):  \n",
        "    csv = df.to_csv()\n",
        "    b64 = base64.b64encode(csv.encode())\n",
        "    payload = b64.decode()\n",
        "    html = '<a download=\"{filename}\" href=\"data:text/csv;base64,{payload}\" target=\"_blank\">{title}</a>'\n",
        "    html = html.format(payload=payload,title=title,filename=filename)\n",
        "    return HTML(html)"
      ],
      "execution_count": 55,
      "outputs": []
    },
    {
      "cell_type": "code",
      "metadata": {
        "id": "f_jMDav8I82M",
        "colab": {
          "base_uri": "https://localhost:8080/",
          "height": 34
        },
        "outputId": "1dc06272-1c1b-4139-a7c5-c7c643fe060b"
      },
      "source": [
        "# create a link to download the dataframe\n",
        "create_download_link(df_output)"
      ],
      "execution_count": 56,
      "outputs": [
        {
          "output_type": "execute_result",
          "data": {
            "text/html": [
              "<a download=\"submission.csv\" href=\"data:text/csv;base64,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\" target=\"_blank\">Download CSV file</a>"
            ],
            "text/plain": [
              "<IPython.core.display.HTML object>"
            ]
          },
          "metadata": {
            "tags": []
          },
          "execution_count": 56
        }
      ]
    }
  ]
}