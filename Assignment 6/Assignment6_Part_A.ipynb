{
  "nbformat": 4,
  "nbformat_minor": 0,
  "metadata": {
    "colab": {
      "name": "Assignment6_Part_A.ipynb",
      "provenance": []
    },
    "kernelspec": {
      "name": "python3",
      "display_name": "Python 3"
    },
    "language_info": {
      "name": "python"
    }
  },
  "cells": [
    {
      "cell_type": "markdown",
      "metadata": {
        "id": "vaDeezaP1VoN"
      },
      "source": [
        "**Complete autograd framework in python and numpy  and mnist classifier using the autograd framework.**"
      ]
    },
    {
      "cell_type": "markdown",
      "metadata": {
        "id": "sepsDznr52zY"
      },
      "source": [
        "**Tensor class with operations**"
      ]
    },
    {
      "cell_type": "code",
      "metadata": {
        "colab": {
          "base_uri": "https://localhost:8080/"
        },
        "id": "bG2P1stQ8paU",
        "outputId": "d535479e-8096-417b-b513-5eb2f4a1570f"
      },
      "source": [
        "import numpy as np\n",
        "\n",
        "class Tensor (object):\n",
        "    \n",
        "    def __init__(self,data,\n",
        "                 autograd=False,\n",
        "                 creators=None,\n",
        "                 creation_op=None,\n",
        "                 id=None):\n",
        "        \n",
        "        self.data = np.array(data)\n",
        "        self.autograd = autograd\n",
        "        self.grad = None\n",
        "        if(id is None):\n",
        "            self.id = np.random.randint(0,100000)\n",
        "        else:\n",
        "            self.id = id\n",
        "        \n",
        "        self.creators = creators\n",
        "        self.creation_op = creation_op\n",
        "        self.children = {}\n",
        "        \n",
        "        if(creators is not None):\n",
        "            for c in creators:\n",
        "                if(self.id not in c.children):\n",
        "                    c.children[self.id] = 1\n",
        "                else:\n",
        "                    c.children[self.id] += 1\n",
        "\n",
        "    def all_children_grads_accounted_for(self):\n",
        "        for id,cnt in self.children.items():\n",
        "            if(cnt != 0):\n",
        "                return False\n",
        "        return True \n",
        "        \n",
        "    def backward(self,grad=None, grad_origin=None):\n",
        "        if(self.autograd):\n",
        " \n",
        "            if(grad is None):\n",
        "                grad = Tensor(np.ones_like(self.data))\n",
        "\n",
        "            if(grad_origin is not None):\n",
        "                if(self.children[grad_origin.id] == 0):\n",
        "                    raise Exception(\"cannot backprop more than once\")\n",
        "                else:\n",
        "                  self.children[grad_origin.id] -= 1\n",
        "\n",
        "            if(self.grad is None):\n",
        "                self.grad = grad\n",
        "            else:\n",
        "                self.grad += grad\n",
        "            \n",
        "            # grads must not have grads of their own\n",
        "            assert grad.autograd == False\n",
        "            \n",
        "            # only continue backpropping if there's something to\n",
        "            # backprop into and if all gradients (from children)\n",
        "            # are accounted for override waiting for children if\n",
        "            # \"backprop\" was called on this variable directly\n",
        "            if(self.creators is not None and \n",
        "               (self.all_children_grads_accounted_for() or \n",
        "                grad_origin is None)):\n",
        "\n",
        "                if(self.creation_op == \"add\"):\n",
        "                    self.creators[0].backward(self.grad, self)\n",
        "                    self.creators[1].backward(self.grad, self)\n",
        "                    \n",
        "                if(self.creation_op == \"sub\"):\n",
        "                    self.creators[0].backward(Tensor(self.grad.data), self)\n",
        "                    self.creators[1].backward(Tensor(self.grad.__neg__().data), self)\n",
        "\n",
        "                if(self.creation_op == \"mul\"):\n",
        "                    new = self.grad * self.creators[1]\n",
        "                    self.creators[0].backward(new , self)\n",
        "                    new = self.grad * self.creators[0]\n",
        "                    self.creators[1].backward(new, self)                    \n",
        "                    \n",
        "                if(self.creation_op == \"mm\"):\n",
        "                    c0 = self.creators[0]\n",
        "                    c1 = self.creators[1]\n",
        "                    new = self.grad.mm(c1.transpose())\n",
        "                    c0.backward(new)\n",
        "                    new = self.grad.transpose().mm(c0).transpose()\n",
        "                    c1.backward(new)\n",
        "                if(self.creation_op == \"transpose\"):\n",
        "                    self.creators[0].backward(self.grad.transpose())\n",
        "\n",
        "                if(\"sum\" in self.creation_op):\n",
        "                    dim = int(self.creation_op.split(\"_\")[1])\n",
        "                    self.creators[0].backward(self.grad.expand(dim,\n",
        "                                                               self.creators[0].data.shape[dim]))\n",
        "\n",
        "                if(\"expand\" in self.creation_op):\n",
        "                    dim = int(self.creation_op.split(\"_\")[1])\n",
        "                    self.creators[0].backward(self.grad.sum(dim))\n",
        "                    \n",
        "                if(self.creation_op == \"neg\"):\n",
        "                    self.creators[0].backward(self.grad.__neg__())\n",
        "                    \n",
        "    def __add__(self, other):\n",
        "        if(self.autograd and other.autograd):\n",
        "            return Tensor(self.data + other.data,\n",
        "                          autograd=True,\n",
        "                          creators=[self,other],\n",
        "                          creation_op=\"add\")\n",
        "        return Tensor(self.data + other.data)\n",
        "\n",
        "    def __neg__(self):\n",
        "        if(self.autograd):\n",
        "            return Tensor(self.data * -1,\n",
        "                          autograd=True,\n",
        "                          creators=[self],\n",
        "                          creation_op=\"neg\")\n",
        "        return Tensor(self.data * -1)\n",
        "    \n",
        "    def __sub__(self, other):\n",
        "        if(self.autograd and other.autograd):\n",
        "            return Tensor(self.data - other.data,\n",
        "                          autograd=True,\n",
        "                          creators=[self,other],\n",
        "                          creation_op=\"sub\")\n",
        "        return Tensor(self.data - other.data)\n",
        "\n",
        "    def __mul__(self, other):\n",
        "        if(self.autograd and other.autograd):\n",
        "            return Tensor(self.data * other.data,\n",
        "                          autograd=True,\n",
        "                          creators=[self,other],\n",
        "                          creation_op=\"mul\")\n",
        "        return Tensor(self.data * other.data)    \n",
        "\n",
        "    def sum(self, dim):\n",
        "        if(self.autograd):\n",
        "            return Tensor(self.data.sum(dim),\n",
        "                          autograd=True,\n",
        "                          creators=[self],\n",
        "                          creation_op=\"sum_\"+str(dim))\n",
        "        return Tensor(self.data.sum(dim))\n",
        "    \n",
        "    def expand(self, dim,copies):\n",
        "\n",
        "        trans_cmd = list(range(0,len(self.data.shape)))\n",
        "        trans_cmd.insert(dim,len(self.data.shape))\n",
        "        new_data = self.data.repeat(copies).reshape(list(self.data.shape) + [copies]).transpose(trans_cmd)\n",
        "        \n",
        "        if(self.autograd):\n",
        "            return Tensor(new_data,\n",
        "                          autograd=True,\n",
        "                          creators=[self],\n",
        "                          creation_op=\"expand_\"+str(dim))\n",
        "        return Tensor(new_data)\n",
        "    \n",
        "    def transpose(self):\n",
        "        if(self.autograd):\n",
        "            return Tensor(self.data.transpose(),\n",
        "                          autograd=True,\n",
        "                          creators=[self],\n",
        "                          creation_op=\"transpose\")\n",
        "        \n",
        "        return Tensor(self.data.transpose())\n",
        "\n",
        "    def mm(self, x):\n",
        "        if(self.autograd):\n",
        "            return Tensor(self.data.dot(x.data),\n",
        "                          autograd=True,\n",
        "                          creators=[self,x],\n",
        "                          creation_op=\"mm\")\n",
        "        return Tensor(self.data.dot(x.data))\n",
        "    \n",
        "    def __repr__(self):\n",
        "        return str(self.data.__repr__())\n",
        "    \n",
        "    def __str__(self):\n",
        "        return str(self.data.__str__())  \n",
        "    \n",
        "a = Tensor([1,2,3,4,5], autograd=True)\n",
        "b = Tensor([2,2,2,2,2], autograd=True)\n",
        "c = Tensor([5,4,3,2,1], autograd=True)\n",
        "\n",
        "d = a + b\n",
        "e = b + c\n",
        "f = d + e\n",
        "\n",
        "f.backward(Tensor(np.array([1,1,1,1,1])))\n",
        "\n",
        "print(b.grad.data == np.array([2,2,2,2,2]))"
      ],
      "execution_count": 1,
      "outputs": [
        {
          "output_type": "stream",
          "text": [
            "[ True  True  True  True  True]\n"
          ],
          "name": "stdout"
        }
      ]
    },
    {
      "cell_type": "markdown",
      "metadata": {
        "id": "Iv1oUKAX96Ma"
      },
      "source": [
        "A few Notes on Sum and Expand"
      ]
    },
    {
      "cell_type": "code",
      "metadata": {
        "id": "SBMtQ4z697Tq"
      },
      "source": [
        "x = Tensor(np.array([[1,2,3],\n",
        "                     [4,5,6]]))"
      ],
      "execution_count": 2,
      "outputs": []
    },
    {
      "cell_type": "code",
      "metadata": {
        "colab": {
          "base_uri": "https://localhost:8080/"
        },
        "id": "5S1Ka-BC9-M0",
        "outputId": "941f176d-7528-43ae-93fb-58fac6b51487"
      },
      "source": [
        "x.sum(0)"
      ],
      "execution_count": 3,
      "outputs": [
        {
          "output_type": "execute_result",
          "data": {
            "text/plain": [
              "array([5, 7, 9])"
            ]
          },
          "metadata": {
            "tags": []
          },
          "execution_count": 3
        }
      ]
    },
    {
      "cell_type": "code",
      "metadata": {
        "colab": {
          "base_uri": "https://localhost:8080/"
        },
        "id": "1XQPFFYN-A4A",
        "outputId": "412985d2-b682-416f-9f98-0639d8830659"
      },
      "source": [
        "x.sum(1)"
      ],
      "execution_count": 4,
      "outputs": [
        {
          "output_type": "execute_result",
          "data": {
            "text/plain": [
              "array([ 6, 15])"
            ]
          },
          "metadata": {
            "tags": []
          },
          "execution_count": 4
        }
      ]
    },
    {
      "cell_type": "code",
      "metadata": {
        "colab": {
          "base_uri": "https://localhost:8080/"
        },
        "id": "4sDP_ams-C_7",
        "outputId": "ea0c1986-ad50-4193-d8cf-0f598bc99ad1"
      },
      "source": [
        "x.expand(dim=2, copies=4)"
      ],
      "execution_count": 5,
      "outputs": [
        {
          "output_type": "execute_result",
          "data": {
            "text/plain": [
              "array([[[1, 1, 1, 1],\n",
              "        [2, 2, 2, 2],\n",
              "        [3, 3, 3, 3]],\n",
              "\n",
              "       [[4, 4, 4, 4],\n",
              "        [5, 5, 5, 5],\n",
              "        [6, 6, 6, 6]]])"
            ]
          },
          "metadata": {
            "tags": []
          },
          "execution_count": 5
        }
      ]
    },
    {
      "cell_type": "markdown",
      "metadata": {
        "id": "rWwpZfuc-Hr0"
      },
      "source": [
        "**Use Autograd to Train a Neural Network**"
      ]
    },
    {
      "cell_type": "code",
      "metadata": {
        "colab": {
          "base_uri": "https://localhost:8080/"
        },
        "id": "v0ghvzeJ-IOb",
        "outputId": "a9bd3e8b-5f87-4857-b6b9-b02a6ba56fdf"
      },
      "source": [
        "import numpy\n",
        "np.random.seed(0)\n",
        "\n",
        "data = np.array([[0,0],[0,1],[1,0],[1,1]])\n",
        "target = np.array([[0],[1],[0],[1]])\n",
        "\n",
        "weights_0_1 = np.random.rand(2,3)\n",
        "weights_1_2 = np.random.rand(3,1)\n",
        "\n",
        "for i in range(10):\n",
        "    \n",
        "    # Predict\n",
        "    layer_1 = data.dot(weights_0_1)\n",
        "    layer_2 = layer_1.dot(weights_1_2)\n",
        "    \n",
        "    # Compare\n",
        "    diff = (layer_2 - target)\n",
        "    sqdiff = (diff * diff)\n",
        "    loss = sqdiff.sum(0) # mean squared error loss\n",
        "\n",
        "    # Learn: this is the backpropagation piece\n",
        "    layer_1_grad = diff.dot(weights_1_2.transpose())\n",
        "    weight_1_2_update = layer_1.transpose().dot(diff)\n",
        "    weight_0_1_update = data.transpose().dot(layer_1_grad)\n",
        "    \n",
        "    weights_1_2 -= weight_1_2_update * 0.1\n",
        "    weights_0_1 -= weight_0_1_update * 0.1\n",
        "    print(loss[0])"
      ],
      "execution_count": 6,
      "outputs": [
        {
          "output_type": "stream",
          "text": [
            "5.066439994622396\n",
            "0.4959907791902341\n",
            "0.4180671892167177\n",
            "0.35298133007809646\n",
            "0.2972549636567376\n",
            "0.24923260381633278\n",
            "0.20785392075862477\n",
            "0.17231260916265181\n",
            "0.14193744536652994\n",
            "0.11613979792168387\n"
          ],
          "name": "stdout"
        }
      ]
    },
    {
      "cell_type": "code",
      "metadata": {
        "colab": {
          "base_uri": "https://localhost:8080/"
        },
        "id": "bz95xd-y-TRJ",
        "outputId": "666336a7-d4f4-4586-9ad3-536aeeda2c6e"
      },
      "source": [
        "np.random.seed(0)\n",
        "\n",
        "data = Tensor(np.array([[0,0],[0,1],[1,0],[1,1]]), autograd=True)\n",
        "target = Tensor(np.array([[0],[1],[0],[1]]), autograd=True)\n",
        "\n",
        "w = list()\n",
        "w.append(Tensor(np.random.rand(2,3), autograd=True))\n",
        "w.append(Tensor(np.random.rand(3,1), autograd=True))\n",
        "\n",
        "for i in range(10):\n",
        "\n",
        "    # Predict\n",
        "    pred = data.mm(w[0]).mm(w[1])\n",
        "    \n",
        "    # Compare\n",
        "    loss = ((pred - target)*(pred - target)).sum(0)\n",
        "    \n",
        "    # Learn\n",
        "    loss.backward(Tensor(np.ones_like(loss.data)))\n",
        "\n",
        "    for w_ in w:\n",
        "        w_.data -= w_.grad.data * 0.1\n",
        "        w_.grad.data *= 0\n",
        "\n",
        "    print(loss)"
      ],
      "execution_count": 7,
      "outputs": [
        {
          "output_type": "stream",
          "text": [
            "[0.58128304]\n",
            "[0.48988149]\n",
            "[0.41375111]\n",
            "[0.34489412]\n",
            "[0.28210124]\n",
            "[0.2254484]\n",
            "[0.17538853]\n",
            "[0.1324231]\n",
            "[0.09682769]\n",
            "[0.06849361]\n"
          ],
          "name": "stdout"
        }
      ]
    },
    {
      "cell_type": "markdown",
      "metadata": {
        "id": "5zyJFX7p-Xjv"
      },
      "source": [
        "**Adding Automatic Optimization**"
      ]
    },
    {
      "cell_type": "code",
      "metadata": {
        "id": "UR3h3pxh-YEc"
      },
      "source": [
        "class SGD(object):\n",
        "    \n",
        "    def __init__(self, parameters, alpha=0.1):\n",
        "        self.parameters = parameters\n",
        "        self.alpha = alpha\n",
        "    \n",
        "    def zero(self):\n",
        "        for p in self.parameters:\n",
        "            p.grad.data *= 0\n",
        "        \n",
        "    def step(self, zero=True):\n",
        "        \n",
        "        for p in self.parameters:\n",
        "            \n",
        "            p.data -= p.grad.data * self.alpha\n",
        "            \n",
        "            if(zero):\n",
        "                p.grad.data *= 0"
      ],
      "execution_count": 8,
      "outputs": []
    },
    {
      "cell_type": "code",
      "metadata": {
        "colab": {
          "base_uri": "https://localhost:8080/"
        },
        "id": "UeQeWzJj-e9t",
        "outputId": "705c3d46-f1c1-419c-ffed-a4a352251b78"
      },
      "source": [
        "import numpy\n",
        "np.random.seed(0)\n",
        "\n",
        "data = Tensor(np.array([[0,0],[0,1],[1,0],[1,1]]), autograd=True)\n",
        "target = Tensor(np.array([[0],[1],[0],[1]]), autograd=True)\n",
        "\n",
        "w = list()\n",
        "w.append(Tensor(np.random.rand(2,3), autograd=True))\n",
        "w.append(Tensor(np.random.rand(3,1), autograd=True))\n",
        "\n",
        "optim = SGD(parameters=w, alpha=0.1)\n",
        "\n",
        "for i in range(10):\n",
        "\n",
        "    # Predict\n",
        "    pred = data.mm(w[0]).mm(w[1])\n",
        "    \n",
        "    # Compare\n",
        "    loss = ((pred - target)*(pred - target)).sum(0)\n",
        "    \n",
        "    # Learn\n",
        "    loss.backward(Tensor(np.ones_like(loss.data)))\n",
        "    optim.step()\n",
        "\n",
        "    print(loss)"
      ],
      "execution_count": 9,
      "outputs": [
        {
          "output_type": "stream",
          "text": [
            "[0.58128304]\n",
            "[0.48988149]\n",
            "[0.41375111]\n",
            "[0.34489412]\n",
            "[0.28210124]\n",
            "[0.2254484]\n",
            "[0.17538853]\n",
            "[0.1324231]\n",
            "[0.09682769]\n",
            "[0.06849361]\n"
          ],
          "name": "stdout"
        }
      ]
    },
    {
      "cell_type": "markdown",
      "metadata": {
        "id": "S1HLaljc-nag"
      },
      "source": [
        "**Adding Support for Layer Types**"
      ]
    },
    {
      "cell_type": "code",
      "metadata": {
        "id": "xzZHaRoU-n1o"
      },
      "source": [
        "class Layer(object):\n",
        "    \n",
        "    def __init__(self):\n",
        "        self.parameters = list()\n",
        "        \n",
        "    def get_parameters(self):\n",
        "        return self.parameters\n",
        "\n",
        "\n",
        "class Linear(Layer):\n",
        "\n",
        "    def __init__(self, n_inputs, n_outputs):\n",
        "        super().__init__()\n",
        "        W = np.random.randn(n_inputs, n_outputs) * np.sqrt(2.0/(n_inputs))\n",
        "        self.weight = Tensor(W, autograd=True)\n",
        "        self.bias = Tensor(np.zeros(n_outputs), autograd=True)\n",
        "        \n",
        "        self.parameters.append(self.weight)\n",
        "        self.parameters.append(self.bias)\n",
        "\n",
        "    def forward(self, input):\n",
        "        return input.mm(self.weight)+self.bias.expand(0,len(input.data))"
      ],
      "execution_count": 10,
      "outputs": []
    },
    {
      "cell_type": "markdown",
      "metadata": {
        "id": "YS1yEHml-t6v"
      },
      "source": [
        "**Layers Which Contain Layers**"
      ]
    },
    {
      "cell_type": "code",
      "metadata": {
        "colab": {
          "base_uri": "https://localhost:8080/"
        },
        "id": "9_Fy-KJq-uij",
        "outputId": "56616899-508a-4669-cb93-bd7eaa7a4b58"
      },
      "source": [
        "class Sequential(Layer):\n",
        "    \n",
        "    def __init__(self, layers=list()):\n",
        "        super().__init__()\n",
        "        \n",
        "        self.layers = layers\n",
        "    \n",
        "    def add(self, layer):\n",
        "        self.layers.append(layer)\n",
        "        \n",
        "    def forward(self, input):\n",
        "        for layer in self.layers:\n",
        "            input = layer.forward(input)\n",
        "        return input\n",
        "    \n",
        "    def get_parameters(self):\n",
        "        params = list()\n",
        "        for l in self.layers:\n",
        "            params += l.get_parameters()\n",
        "        return params\n",
        "    \n",
        "import numpy\n",
        "np.random.seed(0)\n",
        "\n",
        "data = Tensor(np.array([[0,0],[0,1],[1,0],[1,1]]), autograd=True)\n",
        "target = Tensor(np.array([[0],[1],[0],[1]]), autograd=True)\n",
        "\n",
        "model = Sequential([Linear(2,3), Linear(3,1)])\n",
        "\n",
        "optim = SGD(parameters=model.get_parameters(), alpha=0.05)\n",
        "\n",
        "for i in range(10):\n",
        "    \n",
        "    # Predict\n",
        "    pred = model.forward(data)\n",
        "    \n",
        "    # Compare\n",
        "    loss = ((pred - target)*(pred - target)).sum(0)\n",
        "    \n",
        "    # Learn\n",
        "    loss.backward(Tensor(np.ones_like(loss.data)))\n",
        "    optim.step()\n",
        "    print(loss)"
      ],
      "execution_count": 11,
      "outputs": [
        {
          "output_type": "stream",
          "text": [
            "[2.33428272]\n",
            "[0.06743796]\n",
            "[0.0521849]\n",
            "[0.04079507]\n",
            "[0.03184365]\n",
            "[0.02479336]\n",
            "[0.01925443]\n",
            "[0.01491699]\n",
            "[0.01153118]\n",
            "[0.00889602]\n"
          ],
          "name": "stdout"
        }
      ]
    },
    {
      "cell_type": "markdown",
      "metadata": {
        "id": "A3Q_gPTh-2uk"
      },
      "source": [
        "Loss Function Layers"
      ]
    },
    {
      "cell_type": "code",
      "metadata": {
        "colab": {
          "base_uri": "https://localhost:8080/"
        },
        "id": "aHd8lFGC-3PH",
        "outputId": "8a89e557-a24f-4914-a27f-e6fb19d1c992"
      },
      "source": [
        "class MSELoss(Layer):\n",
        "    \n",
        "    def __init__(self):\n",
        "        super().__init__()\n",
        "    \n",
        "    def forward(self, pred, target):\n",
        "        return ((pred - target)*(pred - target)).sum(0)\n",
        "    \n",
        "import numpy\n",
        "np.random.seed(0)\n",
        "\n",
        "data = Tensor(np.array([[0,0],[0,1],[1,0],[1,1]]), autograd=True)\n",
        "target = Tensor(np.array([[0],[1],[0],[1]]), autograd=True)\n",
        "\n",
        "model = Sequential([Linear(2,3), Linear(3,1)])\n",
        "criterion = MSELoss()\n",
        "\n",
        "optim = SGD(parameters=model.get_parameters(), alpha=0.05)\n",
        "\n",
        "for i in range(10):\n",
        "    \n",
        "    # Predict\n",
        "    pred = model.forward(data)\n",
        "    \n",
        "    # Compare\n",
        "    loss = criterion.forward(pred, target)\n",
        "    \n",
        "    # Learn\n",
        "    loss.backward(Tensor(np.ones_like(loss.data)))\n",
        "    optim.step()\n",
        "    print(loss)"
      ],
      "execution_count": 12,
      "outputs": [
        {
          "output_type": "stream",
          "text": [
            "[2.33428272]\n",
            "[0.06743796]\n",
            "[0.0521849]\n",
            "[0.04079507]\n",
            "[0.03184365]\n",
            "[0.02479336]\n",
            "[0.01925443]\n",
            "[0.01491699]\n",
            "[0.01153118]\n",
            "[0.00889602]\n"
          ],
          "name": "stdout"
        }
      ]
    },
    {
      "cell_type": "markdown",
      "metadata": {
        "id": "nF_yj6Gr-9Ig"
      },
      "source": [
        "**Non-linearity Layers**"
      ]
    },
    {
      "cell_type": "code",
      "metadata": {
        "id": "-yjAwATY-9j1"
      },
      "source": [
        "import numpy as np\n",
        "\n",
        "class Tensor (object):\n",
        "    \n",
        "    def __init__(self,data,\n",
        "                 autograd=False,\n",
        "                 creators=None,\n",
        "                 creation_op=None,\n",
        "                 id=None):\n",
        "        \n",
        "        self.data = np.array(data)\n",
        "        self.autograd = autograd\n",
        "        self.grad = None\n",
        "        if(id is None):\n",
        "            self.id = np.random.randint(0,100000)\n",
        "        else:\n",
        "            self.id = id\n",
        "        \n",
        "        self.creators = creators\n",
        "        self.creation_op = creation_op\n",
        "        self.children = {}\n",
        "        \n",
        "        if(creators is not None):\n",
        "            for c in creators:\n",
        "                if(self.id not in c.children):\n",
        "                    c.children[self.id] = 1\n",
        "                else:\n",
        "                    c.children[self.id] += 1\n",
        "\n",
        "    def all_children_grads_accounted_for(self):\n",
        "        for id,cnt in self.children.items():\n",
        "            if(cnt != 0):\n",
        "                return False\n",
        "        return True \n",
        "        \n",
        "    def backward(self,grad=None, grad_origin=None):\n",
        "        if(self.autograd):\n",
        " \n",
        "            if(grad is None):\n",
        "                grad = Tensor(np.ones_like(self.data))\n",
        "            \n",
        "            if(grad_origin is not None):\n",
        "                if(self.children[grad_origin.id] == 0):\n",
        "                    raise Exception(\"cannot backprop more than once\")\n",
        "                else:\n",
        "                    self.children[grad_origin.id] -= 1\n",
        "\n",
        "            if(self.grad is None):\n",
        "                self.grad = grad\n",
        "            else:\n",
        "                self.grad += grad\n",
        "            \n",
        "            # grads must not have grads of their own\n",
        "            assert grad.autograd == False\n",
        "            \n",
        "            # only continue backpropping if there's something to\n",
        "            # backprop into and if all gradients (from children)\n",
        "            # are accounted for override waiting for children if\n",
        "            # \"backprop\" was called on this variable directly\n",
        "            if(self.creators is not None and \n",
        "               (self.all_children_grads_accounted_for() or \n",
        "                grad_origin is None)):\n",
        "\n",
        "                if(self.creation_op == \"add\"):\n",
        "                    self.creators[0].backward(self.grad, self)\n",
        "                    self.creators[1].backward(self.grad, self)\n",
        "                    \n",
        "                if(self.creation_op == \"sub\"):\n",
        "                    self.creators[0].backward(Tensor(self.grad.data), self)\n",
        "                    self.creators[1].backward(Tensor(self.grad.__neg__().data), self)\n",
        "\n",
        "                if(self.creation_op == \"mul\"):\n",
        "                    new = self.grad * self.creators[1]\n",
        "                    self.creators[0].backward(new , self)\n",
        "                    new = self.grad * self.creators[0]\n",
        "                    self.creators[1].backward(new, self)  \n",
        "\n",
        "                if(self.creation_op == \"mm\"):\n",
        "                    c0 = self.creators[0]\n",
        "                    c1 = self.creators[1]\n",
        "                    new = self.grad.mm(c1.transpose())\n",
        "                    c0.backward(new)\n",
        "                    new = self.grad.transpose().mm(c0).transpose()\n",
        "                    c1.backward(new)\n",
        "                    \n",
        "                if(self.creation_op == \"transpose\"):\n",
        "                    self.creators[0].backward(self.grad.transpose())\n",
        "\n",
        "                if(\"sum\" in self.creation_op):\n",
        "                    dim = int(self.creation_op.split(\"_\")[1])\n",
        "                    self.creators[0].backward(self.grad.expand(dim,\n",
        "                                                               self.creators[0].data.shape[dim]))\n",
        "\n",
        "                if(\"expand\" in self.creation_op):\n",
        "                    dim = int(self.creation_op.split(\"_\")[1])\n",
        "                    self.creators[0].backward(self.grad.sum(dim))\n",
        "                    \n",
        "                if(self.creation_op == \"neg\"):\n",
        "                    self.creators[0].backward(self.grad.__neg__())\n",
        "                    \n",
        "                if(self.creation_op == \"sigmoid\"):\n",
        "                    ones = Tensor(np.ones_like(self.grad.data))\n",
        "                    self.creators[0].backward(self.grad * (self * (ones - self)))\n",
        "                \n",
        "                if(self.creation_op == \"tanh\"):\n",
        "                    ones = Tensor(np.ones_like(self.grad.data))\n",
        "                    self.creators[0].backward(self.grad * (ones - (self * self)))\n",
        "                    \n",
        "    def __add__(self, other):\n",
        "        if(self.autograd and other.autograd):\n",
        "            return Tensor(self.data + other.data,\n",
        "                          autograd=True,\n",
        "                          creators=[self,other],\n",
        "                          creation_op=\"add\")\n",
        "        return Tensor(self.data + other.data)\n",
        "\n",
        "    def __neg__(self):\n",
        "        if(self.autograd):\n",
        "            return Tensor(self.data * -1,\n",
        "                          autograd=True,\n",
        "                          creators=[self],\n",
        "                          creation_op=\"neg\")\n",
        "        return Tensor(self.data * -1)\n",
        "    \n",
        "    def __sub__(self, other):\n",
        "        if(self.autograd and other.autograd):\n",
        "            return Tensor(self.data - other.data,\n",
        "                          autograd=True,\n",
        "                          creators=[self,other],\n",
        "                          creation_op=\"sub\")\n",
        "        return Tensor(self.data - other.data)\n",
        "    \n",
        "    def __mul__(self, other):\n",
        "        if(self.autograd and other.autograd):\n",
        "            return Tensor(self.data * other.data,\n",
        "                          autograd=True,\n",
        "                          creators=[self,other],\n",
        "                          creation_op=\"mul\")\n",
        "        return Tensor(self.data * other.data)    \n",
        "\n",
        "    def sum(self, dim):\n",
        "        if(self.autograd):\n",
        "            return Tensor(self.data.sum(dim),\n",
        "                          autograd=True,\n",
        "                          creators=[self],\n",
        "                          creation_op=\"sum_\"+str(dim))\n",
        "        return Tensor(self.data.sum(dim))\n",
        "    \n",
        "    def expand(self, dim,copies):\n",
        "\n",
        "        trans_cmd = list(range(0,len(self.data.shape)))\n",
        "        trans_cmd.insert(dim,len(self.data.shape))\n",
        "        new_data = self.data.repeat(copies).reshape(list(self.data.shape) + [copies]).transpose(trans_cmd)\n",
        "\n",
        "        if(self.autograd):\n",
        "            return Tensor(new_data,\n",
        "                          autograd=True,\n",
        "                          creators=[self],\n",
        "                          creation_op=\"expand_\"+str(dim))\n",
        "        return Tensor(new_data)\n",
        "    \n",
        "    def transpose(self):\n",
        "        if(self.autograd):\n",
        "            return Tensor(self.data.transpose(),\n",
        "                          autograd=True,\n",
        "                          creators=[self],\n",
        "                          creation_op=\"transpose\")\n",
        "        \n",
        "        return Tensor(self.data.transpose())\n",
        "    \n",
        "    def mm(self, x):\n",
        "        if(self.autograd):\n",
        "            return Tensor(self.data.dot(x.data),\n",
        "                          autograd=True,\n",
        "                          creators=[self,x],\n",
        "                          creation_op=\"mm\")\n",
        "        return Tensor(self.data.dot(x.data))\n",
        "    \n",
        "    def sigmoid(self):\n",
        "        if(self.autograd):\n",
        "            return Tensor(1 / (1 + np.exp(-self.data)),\n",
        "                          autograd=True,\n",
        "                          creators=[self],\n",
        "                          creation_op=\"sigmoid\")\n",
        "        return Tensor(1 / (1 + np.exp(-self.data)))\n",
        "\n",
        "    def tanh(self):\n",
        "        if(self.autograd):\n",
        "            return Tensor(np.tanh(self.data),\n",
        "                          autograd=True,\n",
        "                          creators=[self],\n",
        "                          creation_op=\"tanh\")\n",
        "        return Tensor(np.tanh(self.data))\n",
        "\n",
        "    def __repr__(self):\n",
        "        return str(self.data.__repr__())\n",
        "    \n",
        "    def __str__(self):\n",
        "        return str(self.data.__str__())  \n",
        "    \n",
        "class Tanh(Layer):\n",
        "    def __init__(self):\n",
        "        super().__init__()\n",
        "    \n",
        "    def forward(self, input):\n",
        "        return input.tanh()\n",
        "    \n",
        "class Sigmoid(Layer):\n",
        "    def __init__(self):\n",
        "        super().__init__()\n",
        "    \n",
        "    def forward(self, input):\n",
        "        return input.sigmoid()"
      ],
      "execution_count": 13,
      "outputs": []
    },
    {
      "cell_type": "code",
      "metadata": {
        "colab": {
          "base_uri": "https://localhost:8080/"
        },
        "id": "3qNKzlZl_dll",
        "outputId": "647c966c-d139-4dfa-aba4-82264acf5355"
      },
      "source": [
        "import numpy\n",
        "np.random.seed(0)\n",
        "\n",
        "data = Tensor(np.array([[0,0],[0,1],[1,0],[1,1]]), autograd=True)\n",
        "target = Tensor(np.array([[0],[1],[0],[1]]), autograd=True)\n",
        "\n",
        "model = Sequential([Linear(2,3), Tanh(), Linear(3,1), Sigmoid()])\n",
        "criterion = MSELoss()\n",
        "\n",
        "optim = SGD(parameters=model.get_parameters(), alpha=1)\n",
        "\n",
        "for i in range(10):\n",
        "    \n",
        "    # Predict\n",
        "    pred = model.forward(data)\n",
        "    \n",
        "    # Compare\n",
        "    loss = criterion.forward(pred, target)\n",
        "    \n",
        "    # Learn\n",
        "    loss.backward(Tensor(np.ones_like(loss.data)))\n",
        "    optim.step()\n",
        "    print(loss)"
      ],
      "execution_count": 14,
      "outputs": [
        {
          "output_type": "stream",
          "text": [
            "[1.06372865]\n",
            "[0.75148144]\n",
            "[0.57384259]\n",
            "[0.39574294]\n",
            "[0.2482279]\n",
            "[0.15515294]\n",
            "[0.10423398]\n",
            "[0.07571169]\n",
            "[0.05837623]\n",
            "[0.04700013]\n"
          ],
          "name": "stdout"
        }
      ]
    },
    {
      "cell_type": "markdown",
      "metadata": {
        "id": "qkr3QVV__hX2"
      },
      "source": [
        "**The Embedding Layer**"
      ]
    },
    {
      "cell_type": "code",
      "metadata": {
        "id": "yjDBNvNW_hy5"
      },
      "source": [
        "class Embedding(Layer):\n",
        "    \n",
        "    def __init__(self, vocab_size, dim):\n",
        "        super().__init__()\n",
        "        \n",
        "        self.vocab_size = vocab_size\n",
        "        self.dim = dim\n",
        "        \n",
        "        # this random initialiation style is just a convention from word2vec\n",
        "        self.weight = (np.random.rand(vocab_size, dim) - 0.5) / dim"
      ],
      "execution_count": 15,
      "outputs": []
    },
    {
      "cell_type": "markdown",
      "metadata": {
        "id": "jbh4m3ycCC96"
      },
      "source": [
        "**Add Indexing to Autograd**"
      ]
    },
    {
      "cell_type": "code",
      "metadata": {
        "id": "tkdrxnCRCDb-"
      },
      "source": [
        "import numpy as np\n",
        "\n",
        "class Tensor (object):\n",
        "    \n",
        "    def __init__(self,data,\n",
        "                 autograd=False,\n",
        "                 creators=None,\n",
        "                 creation_op=None,\n",
        "                 id=None):\n",
        "        \n",
        "        self.data = np.array(data)\n",
        "        self.autograd = autograd\n",
        "        self.grad = None\n",
        "        if(id is None):\n",
        "            self.id = np.random.randint(0,100000)\n",
        "        else:\n",
        "            self.id = id\n",
        "        \n",
        "        self.creators = creators\n",
        "        self.creation_op = creation_op\n",
        "        self.children = {}\n",
        "        \n",
        "        if(creators is not None):\n",
        "            for c in creators:\n",
        "                if(self.id not in c.children):\n",
        "                    c.children[self.id] = 1\n",
        "                else:\n",
        "                    c.children[self.id] += 1\n",
        "\n",
        "    def all_children_grads_accounted_for(self):\n",
        "        for id,cnt in self.children.items():\n",
        "            if(cnt != 0):\n",
        "                return False\n",
        "        return True \n",
        "        \n",
        "    def backward(self,grad=None, grad_origin=None):\n",
        "        if(self.autograd):\n",
        " \n",
        "            if(grad is None):\n",
        "                grad = Tensor(np.ones_like(self.data))\n",
        "\n",
        "            if(grad_origin is not None):\n",
        "                if(self.children[grad_origin.id] == 0):\n",
        "                    raise Exception(\"cannot backprop more than once\")\n",
        "                else:\n",
        "                    self.children[grad_origin.id] -= 1\n",
        "\n",
        "            if(self.grad is None):\n",
        "                self.grad = grad\n",
        "            else:\n",
        "                self.grad += grad\n",
        "            \n",
        "            # grads must not have grads of their own\n",
        "            assert grad.autograd == False\n",
        "            \n",
        "            # only continue backpropping if there's something to\n",
        "            # backprop into and if all gradients (from children)\n",
        "            # are accounted for override waiting for children if\n",
        "            # \"backprop\" was called on this variable directly\n",
        "            if(self.creators is not None and \n",
        "               (self.all_children_grads_accounted_for() or \n",
        "                grad_origin is None)):\n",
        "\n",
        "                if(self.creation_op == \"add\"):\n",
        "                    self.creators[0].backward(self.grad, self)\n",
        "                    self.creators[1].backward(self.grad, self)\n",
        "                    \n",
        "                if(self.creation_op == \"sub\"):\n",
        "                    self.creators[0].backward(Tensor(self.grad.data), self)\n",
        "                    self.creators[1].backward(Tensor(self.grad.__neg__().data), self)\n",
        "\n",
        "                if(self.creation_op == \"mul\"):\n",
        "                    new = self.grad * self.creators[1]\n",
        "                    self.creators[0].backward(new , self)\n",
        "                    new = self.grad * self.creators[0]\n",
        "                    self.creators[1].backward(new, self)\n",
        "\n",
        "                if(self.creation_op == \"mm\"):\n",
        "                    c0 = self.creators[0]\n",
        "                    c1 = self.creators[1]\n",
        "                    new = self.grad.mm(c1.transpose())\n",
        "                    c0.backward(new)\n",
        "                    new = self.grad.transpose().mm(c0).transpose()\n",
        "                    c1.backward(new)\n",
        "                    \n",
        "                if(self.creation_op == \"transpose\"):\n",
        "                    self.creators[0].backward(self.grad.transpose())\n",
        "\n",
        "                if(\"sum\" in self.creation_op):\n",
        "                    dim = int(self.creation_op.split(\"_\")[1])\n",
        "                    self.creators[0].backward(self.grad.expand(dim,\n",
        "                                                               self.creators[0].data.shape[dim]))\n",
        "\n",
        "                if(\"expand\" in self.creation_op):\n",
        "                    dim = int(self.creation_op.split(\"_\")[1])\n",
        "                    self.creators[0].backward(self.grad.sum(dim))\n",
        "                    \n",
        "                if(self.creation_op == \"neg\"):\n",
        "                    self.creators[0].backward(self.grad.__neg__())\n",
        "                    \n",
        "                if(self.creation_op == \"sigmoid\"):\n",
        "                    ones = Tensor(np.ones_like(self.grad.data))\n",
        "                    self.creators[0].backward(self.grad * (self * (ones - self)))\n",
        "                \n",
        "                if(self.creation_op == \"tanh\"):\n",
        "                    ones = Tensor(np.ones_like(self.grad.data))\n",
        "                    self.creators[0].backward(self.grad * (ones - (self * self)))\n",
        "                \n",
        "                if(self.creation_op == \"index_select\"):\n",
        "                    new_grad = np.zeros_like(self.creators[0].data)\n",
        "                    indices_ = self.index_select_indices.data.flatten()\n",
        "                    grad_ = grad.data.reshape(len(indices_), -1)\n",
        "                    for i in range(len(indices_)):\n",
        "                        new_grad[indices_[i]] += grad_[i]\n",
        "                    self.creators[0].backward(Tensor(new_grad))\n",
        "\n",
        "    def __add__(self, other):\n",
        "        if(self.autograd and other.autograd):\n",
        "            return Tensor(self.data + other.data,\n",
        "                          autograd=True,\n",
        "                          creators=[self,other],\n",
        "                          creation_op=\"add\")\n",
        "        return Tensor(self.data + other.data)\n",
        "\n",
        "    def __neg__(self):\n",
        "        if(self.autograd):\n",
        "            return Tensor(self.data * -1,\n",
        "                          autograd=True,\n",
        "                          creators=[self],\n",
        "                          creation_op=\"neg\")\n",
        "        return Tensor(self.data * -1)\n",
        "    \n",
        "    def __sub__(self, other):\n",
        "        if(self.autograd and other.autograd):\n",
        "            return Tensor(self.data - other.data,\n",
        "                          autograd=True,\n",
        "                          creators=[self,other],\n",
        "                          creation_op=\"sub\")\n",
        "        return Tensor(self.data - other.data)\n",
        "    \n",
        "    def __mul__(self, other):\n",
        "        if(self.autograd and other.autograd):\n",
        "            return Tensor(self.data * other.data,\n",
        "                          autograd=True,\n",
        "                          creators=[self,other],\n",
        "                          creation_op=\"mul\")\n",
        "        return Tensor(self.data * other.data)    \n",
        "\n",
        "    def sum(self, dim):\n",
        "        if(self.autograd):\n",
        "            return Tensor(self.data.sum(dim),\n",
        "                          autograd=True,\n",
        "                          creators=[self],\n",
        "                          creation_op=\"sum_\"+str(dim))\n",
        "        return Tensor(self.data.sum(dim))\n",
        "    \n",
        "    def expand(self, dim,copies):\n",
        "\n",
        "        trans_cmd = list(range(0,len(self.data.shape)))\n",
        "        trans_cmd.insert(dim,len(self.data.shape))\n",
        "        new_data = self.data.repeat(copies).reshape(list(self.data.shape) + [copies]).transpose(trans_cmd)\n",
        "        \n",
        "        if(self.autograd):\n",
        "            return Tensor(new_data,\n",
        "                          autograd=True,\n",
        "                          creators=[self],\n",
        "                          creation_op=\"expand_\"+str(dim))\n",
        "        return Tensor(new_data)\n",
        "    \n",
        "    def transpose(self):\n",
        "        if(self.autograd):\n",
        "            return Tensor(self.data.transpose(),\n",
        "                          autograd=True,\n",
        "                          creators=[self],\n",
        "                          creation_op=\"transpose\")\n",
        "        \n",
        "        return Tensor(self.data.transpose())\n",
        "    \n",
        "    def mm(self, x):\n",
        "        if(self.autograd):\n",
        "            return Tensor(self.data.dot(x.data),\n",
        "                          autograd=True,\n",
        "                          creators=[self,x],\n",
        "                          creation_op=\"mm\")\n",
        "        return Tensor(self.data.dot(x.data))\n",
        "    \n",
        "    def sigmoid(self):\n",
        "        if(self.autograd):\n",
        "            return Tensor(1 / (1 + np.exp(-self.data)),\n",
        "                          autograd=True,\n",
        "                          creators=[self],\n",
        "                          creation_op=\"sigmoid\")\n",
        "        return Tensor(1 / (1 + np.exp(-self.data)))\n",
        "\n",
        "    def tanh(self):\n",
        "        if(self.autograd):\n",
        "            return Tensor(np.tanh(self.data),\n",
        "                          autograd=True,\n",
        "                          creators=[self],\n",
        "                          creation_op=\"tanh\")\n",
        "        return Tensor(np.tanh(self.data))\n",
        "    \n",
        "    def index_select(self, indices):\n",
        "\n",
        "        if(self.autograd):\n",
        "            new = Tensor(self.data[indices.data],\n",
        "                         autograd=True,\n",
        "                         creators=[self],\n",
        "                         creation_op=\"index_select\")\n",
        "            new.index_select_indices = indices\n",
        "            return new\n",
        "        return Tensor(self.data[indices.data])\n",
        "    \n",
        "    def __repr__(self):\n",
        "        return str(self.data.__repr__())\n",
        "    \n",
        "    def __str__(self):\n",
        "        return str(self.data.__str__())  \n",
        "    \n",
        "class Tanh(Layer):\n",
        "    def __init__(self):\n",
        "        super().__init__()\n",
        "    \n",
        "    def forward(self, input):\n",
        "        return input.tanh()\n",
        "\n",
        "class Sigmoid(Layer):\n",
        "    def __init__(self):\n",
        "        super().__init__()\n",
        "    \n",
        "    def forward(self, input):\n",
        "        return input.sigmoid()"
      ],
      "execution_count": 16,
      "outputs": []
    },
    {
      "cell_type": "code",
      "metadata": {
        "colab": {
          "base_uri": "https://localhost:8080/"
        },
        "id": "EW482DpDCplW",
        "outputId": "5decc70c-87e5-401d-9e79-1cc48541e21b"
      },
      "source": [
        "x = Tensor(np.eye(5), autograd=True)\n",
        "x.index_select(Tensor([[1,2,3],[2,3,4]])).backward()\n",
        "print(x.grad)"
      ],
      "execution_count": 17,
      "outputs": [
        {
          "output_type": "stream",
          "text": [
            "[[0. 0. 0. 0. 0.]\n",
            " [1. 1. 1. 1. 1.]\n",
            " [2. 2. 2. 2. 2.]\n",
            " [2. 2. 2. 2. 2.]\n",
            " [1. 1. 1. 1. 1.]]\n"
          ],
          "name": "stdout"
        }
      ]
    },
    {
      "cell_type": "markdown",
      "metadata": {
        "id": "eBo6sLUgCs7m"
      },
      "source": [
        "The Embedding Layer "
      ]
    },
    {
      "cell_type": "code",
      "metadata": {
        "id": "rtI0jrzdCtYi"
      },
      "source": [
        "class Embedding(Layer):\n",
        "    \n",
        "    def __init__(self, vocab_size, dim):\n",
        "        super().__init__()\n",
        "        \n",
        "        self.vocab_size = vocab_size\n",
        "        self.dim = dim\n",
        "        \n",
        "        # this random initialiation style is just a convention from word2vec\n",
        "        self.weight = Tensor((np.random.rand(vocab_size, dim) - 0.5) / dim, autograd=True)\n",
        "        \n",
        "        self.parameters.append(self.weight)\n",
        "    \n",
        "    def forward(self, input):\n",
        "        return self.weight.index_select(input)"
      ],
      "execution_count": 18,
      "outputs": []
    },
    {
      "cell_type": "code",
      "metadata": {
        "colab": {
          "base_uri": "https://localhost:8080/"
        },
        "id": "_wtlxymMC0KD",
        "outputId": "e6dcf621-3440-4527-a87e-761cd3406e10"
      },
      "source": [
        "import numpy\n",
        "np.random.seed(0)\n",
        "\n",
        "data = Tensor(np.array([1,2,1,2]), autograd=True)\n",
        "target = Tensor(np.array([[0],[1],[0],[1]]), autograd=True)\n",
        "\n",
        "embed = Embedding(5,3)\n",
        "model = Sequential([embed, Tanh(), Linear(3,1), Sigmoid()])\n",
        "criterion = MSELoss()\n",
        "\n",
        "optim = SGD(parameters=model.get_parameters(), alpha=0.5)\n",
        "\n",
        "for i in range(10):\n",
        "    \n",
        "    # Predict\n",
        "    pred = model.forward(data)\n",
        "    \n",
        "    # Compare\n",
        "    loss = criterion.forward(pred, target)\n",
        "    \n",
        "    # Learn\n",
        "    loss.backward(Tensor(np.ones_like(loss.data)))\n",
        "    optim.step()\n",
        "    print(loss)"
      ],
      "execution_count": 19,
      "outputs": [
        {
          "output_type": "stream",
          "text": [
            "[0.98874126]\n",
            "[0.6658868]\n",
            "[0.45639889]\n",
            "[0.31608168]\n",
            "[0.2260925]\n",
            "[0.16877423]\n",
            "[0.13120515]\n",
            "[0.10555487]\n",
            "[0.08731868]\n",
            "[0.07387834]\n"
          ],
          "name": "stdout"
        }
      ]
    },
    {
      "cell_type": "markdown",
      "metadata": {
        "id": "dQtYr90AC3og"
      },
      "source": [
        "**The Cross Entropy Layer**"
      ]
    },
    {
      "cell_type": "code",
      "metadata": {
        "id": "V7ymiO_nC4Ce"
      },
      "source": [
        "import numpy as np\n",
        "\n",
        "class Tensor (object):\n",
        "    \n",
        "    def __init__(self,data,\n",
        "                 autograd=False,\n",
        "                 creators=None,\n",
        "                 creation_op=None,\n",
        "                 id=None):\n",
        "        \n",
        "        self.data = np.array(data)\n",
        "        self.autograd = autograd\n",
        "        self.grad = None\n",
        "        if(id is None):\n",
        "            self.id = np.random.randint(0,100000)\n",
        "        else:\n",
        "            self.id = id\n",
        "        \n",
        "        self.creators = creators\n",
        "        self.creation_op = creation_op\n",
        "        self.children = {}\n",
        "        \n",
        "        if(creators is not None):\n",
        "            for c in creators:\n",
        "                if(self.id not in c.children):\n",
        "                    c.children[self.id] = 1\n",
        "                else:\n",
        "                    c.children[self.id] += 1\n",
        "\n",
        "    def all_children_grads_accounted_for(self):\n",
        "        for id,cnt in self.children.items():\n",
        "            if(cnt != 0):\n",
        "                return False\n",
        "        return True \n",
        "        \n",
        "    def backward(self,grad=None, grad_origin=None):\n",
        "        if(self.autograd):\n",
        " \n",
        "            if(grad is None):\n",
        "                grad = Tensor(np.ones_like(self.data))\n",
        "\n",
        "            if(grad_origin is not None):\n",
        "                if(self.children[grad_origin.id] == 0):\n",
        "                    raise Exception(\"cannot backprop more than once\")\n",
        "                else:\n",
        "                    self.children[grad_origin.id] -= 1\n",
        "\n",
        "            if(self.grad is None):\n",
        "                self.grad = grad\n",
        "            else:\n",
        "                self.grad += grad\n",
        "            \n",
        "            # grads must not have grads of their own\n",
        "            assert grad.autograd == False\n",
        "            \n",
        "            # only continue backpropping if there's something to\n",
        "            # backprop into and if all gradients (from children)\n",
        "            # are accounted for override waiting for children if\n",
        "            # \"backprop\" was called on this variable directly\n",
        "            if(self.creators is not None and \n",
        "               (self.all_children_grads_accounted_for() or \n",
        "                grad_origin is None)):\n",
        "\n",
        "                if(self.creation_op == \"add\"):\n",
        "                    self.creators[0].backward(self.grad, self)\n",
        "                    self.creators[1].backward(self.grad, self)\n",
        "                    \n",
        "                if(self.creation_op == \"sub\"):\n",
        "                    self.creators[0].backward(Tensor(self.grad.data), self)\n",
        "                    self.creators[1].backward(Tensor(self.grad.__neg__().data), self)\n",
        "\n",
        "                if(self.creation_op == \"mul\"):\n",
        "                    new = self.grad * self.creators[1]\n",
        "                    self.creators[0].backward(new , self)\n",
        "                    new = self.grad * self.creators[0]\n",
        "                    self.creators[1].backward(new, self)                    \n",
        "                    \n",
        "                if(self.creation_op == \"mm\"):\n",
        "                    c0 = self.creators[0]\n",
        "                    c1 = self.creators[1]\n",
        "                    new = self.grad.mm(c1.transpose())\n",
        "                    c0.backward(new)\n",
        "                    new = self.grad.transpose().mm(c0).transpose()\n",
        "                    c1.backward(new)\n",
        "\n",
        "                if(self.creation_op == \"transpose\"):\n",
        "                    self.creators[0].backward(self.grad.transpose())\n",
        "\n",
        "                if(\"sum\" in self.creation_op):\n",
        "                    dim = int(self.creation_op.split(\"_\")[1])\n",
        "                    self.creators[0].backward(self.grad.expand(dim,\n",
        "                                                               self.creators[0].data.shape[dim]))\n",
        "\n",
        "                if(\"expand\" in self.creation_op):\n",
        "                    dim = int(self.creation_op.split(\"_\")[1])\n",
        "                    self.creators[0].backward(self.grad.sum(dim))\n",
        "                    \n",
        "                if(self.creation_op == \"neg\"):\n",
        "                    self.creators[0].backward(self.grad.__neg__())\n",
        "                    \n",
        "                if(self.creation_op == \"sigmoid\"):\n",
        "                    ones = Tensor(np.ones_like(self.grad.data))\n",
        "                    self.creators[0].backward(self.grad * (self * (ones - self)))\n",
        "                \n",
        "                if(self.creation_op == \"tanh\"):\n",
        "                    ones = Tensor(np.ones_like(self.grad.data))\n",
        "                    self.creators[0].backward(self.grad * (ones - (self * self)))\n",
        "                \n",
        "                if(self.creation_op == \"index_select\"):\n",
        "                    new_grad = np.zeros_like(self.creators[0].data)\n",
        "                    indices_ = self.index_select_indices.data.flatten()\n",
        "                    grad_ = grad.data.reshape(len(indices_), -1)\n",
        "                    for i in range(len(indices_)):\n",
        "                        new_grad[indices_[i]] += grad_[i]\n",
        "                    self.creators[0].backward(Tensor(new_grad))\n",
        "                    \n",
        "                if(self.creation_op == \"cross_entropy\"):\n",
        "                    dx = self.softmax_output - self.target_dist\n",
        "                    self.creators[0].backward(Tensor(dx))\n",
        "                    \n",
        "    def __add__(self, other):\n",
        "        if(self.autograd and other.autograd):\n",
        "            return Tensor(self.data + other.data,\n",
        "                          autograd=True,\n",
        "                          creators=[self,other],\n",
        "                          creation_op=\"add\")\n",
        "        return Tensor(self.data + other.data)\n",
        "\n",
        "    def __neg__(self):\n",
        "        if(self.autograd):\n",
        "            return Tensor(self.data * -1,\n",
        "                          autograd=True,\n",
        "                          creators=[self],\n",
        "                          creation_op=\"neg\")\n",
        "        return Tensor(self.data * -1)\n",
        "    \n",
        "    def __sub__(self, other):\n",
        "        if(self.autograd and other.autograd):\n",
        "            return Tensor(self.data - other.data,\n",
        "                          autograd=True,\n",
        "                          creators=[self,other],\n",
        "                          creation_op=\"sub\")\n",
        "        return Tensor(self.data - other.data)\n",
        "    \n",
        "    def __mul__(self, other):\n",
        "        if(self.autograd and other.autograd):\n",
        "            return Tensor(self.data * other.data,\n",
        "                          autograd=True,\n",
        "                          creators=[self,other],\n",
        "                          creation_op=\"mul\")\n",
        "        return Tensor(self.data * other.data)    \n",
        "\n",
        "    def sum(self, dim):\n",
        "        if(self.autograd):\n",
        "            return Tensor(self.data.sum(dim),\n",
        "                          autograd=True,\n",
        "                          creators=[self],\n",
        "                          creation_op=\"sum_\"+str(dim))\n",
        "        return Tensor(self.data.sum(dim))\n",
        "    \n",
        "    def expand(self, dim,copies):\n",
        "\n",
        "        trans_cmd = list(range(0,len(self.data.shape)))\n",
        "        trans_cmd.insert(dim,len(self.data.shape))\n",
        "        new_data = self.data.repeat(copies).reshape(list(self.data.shape) + [copies]).transpose(trans_cmd)\n",
        "        \n",
        "        if(self.autograd):\n",
        "            return Tensor(new_data,\n",
        "                          autograd=True,\n",
        "                          creators=[self],\n",
        "                          creation_op=\"expand_\"+str(dim))\n",
        "        return Tensor(new_data)\n",
        "\n",
        "    def transpose(self):\n",
        "        if(self.autograd):\n",
        "            return Tensor(self.data.transpose(),\n",
        "                          autograd=True,\n",
        "                          creators=[self],\n",
        "                          creation_op=\"transpose\")\n",
        "        \n",
        "        return Tensor(self.data.transpose())\n",
        "    \n",
        "    def mm(self, x):\n",
        "        if(self.autograd):\n",
        "            return Tensor(self.data.dot(x.data),\n",
        "                          autograd=True,\n",
        "                          creators=[self,x],\n",
        "                          creation_op=\"mm\")\n",
        "        return Tensor(self.data.dot(x.data))\n",
        "    \n",
        "    def sigmoid(self):\n",
        "        if(self.autograd):\n",
        "            return Tensor(1 / (1 + np.exp(-self.data)),\n",
        "                          autograd=True,\n",
        "                          creators=[self],\n",
        "                          creation_op=\"sigmoid\")\n",
        "        return Tensor(1 / (1 + np.exp(-self.data)))\n",
        "\n",
        "    def tanh(self):\n",
        "        if(self.autograd):\n",
        "            return Tensor(np.tanh(self.data),\n",
        "                          autograd=True,\n",
        "                          creators=[self],\n",
        "                          creation_op=\"tanh\")\n",
        "        return Tensor(np.tanh(self.data))\n",
        "    \n",
        "    def index_select(self, indices):\n",
        "\n",
        "        if(self.autograd):\n",
        "            new = Tensor(self.data[indices.data],\n",
        "                         autograd=True,\n",
        "                         creators=[self],\n",
        "                         creation_op=\"index_select\")\n",
        "            new.index_select_indices = indices\n",
        "            return new\n",
        "        return Tensor(self.data[indices.data])\n",
        "\n",
        "    def cross_entropy(self, target_indices):\n",
        "\n",
        "        temp = np.exp(self.data)\n",
        "        softmax_output = temp / np.sum(temp,\n",
        "                                       axis=len(self.data.shape)-1,\n",
        "                                       keepdims=True)\n",
        "        \n",
        "        t = target_indices.data.flatten()\n",
        "        p = softmax_output.reshape(len(t),-1)\n",
        "        target_dist = np.eye(p.shape[1])[t]\n",
        "        loss = -(np.log(p) * (target_dist)).sum(1).mean()\n",
        "    \n",
        "        if(self.autograd):\n",
        "            out = Tensor(loss,\n",
        "                         autograd=True,\n",
        "                         creators=[self],\n",
        "                         creation_op=\"cross_entropy\")\n",
        "            out.softmax_output = softmax_output\n",
        "            out.target_dist = target_dist\n",
        "            return out\n",
        "\n",
        "        return Tensor(loss)\n",
        "        \n",
        "    \n",
        "    def __repr__(self):\n",
        "        return str(self.data.__repr__())\n",
        "    \n",
        "    def __str__(self):\n",
        "        return str(self.data.__str__())  \n",
        "    \n",
        "class Tanh(Layer):\n",
        "    def __init__(self):\n",
        "        super().__init__()\n",
        "    \n",
        "    def forward(self, input):\n",
        "        return input.tanh()\n",
        "    \n",
        "class Sigmoid(Layer):\n",
        "    def __init__(self):\n",
        "        super().__init__()\n",
        "    \n",
        "    def forward(self, input):\n",
        "        return input.sigmoid()"
      ],
      "execution_count": 20,
      "outputs": []
    },
    {
      "cell_type": "code",
      "metadata": {
        "id": "n9W2BHYqDYXD"
      },
      "source": [
        "class CrossEntropyLoss(object):\n",
        "    \n",
        "    def __init__(self):\n",
        "        super().__init__()\n",
        "    \n",
        "    def forward(self, input, target):\n",
        "        return input.cross_entropy(target)"
      ],
      "execution_count": 21,
      "outputs": []
    },
    {
      "cell_type": "code",
      "metadata": {
        "colab": {
          "base_uri": "https://localhost:8080/"
        },
        "id": "ijCi0Do7DcBe",
        "outputId": "b3129c30-bb4b-4bb6-fad5-c5affc9d8841"
      },
      "source": [
        "import numpy\n",
        "np.random.seed(0)\n",
        "\n",
        "# data indices\n",
        "data = Tensor(np.array([1,2,1,2]), autograd=True)\n",
        "\n",
        "# target indices\n",
        "target = Tensor(np.array([0,1,0,1]), autograd=True)\n",
        "\n",
        "model = Sequential([Embedding(3,3), Tanh(), Linear(3,4)])\n",
        "criterion = CrossEntropyLoss()\n",
        "\n",
        "optim = SGD(parameters=model.get_parameters(), alpha=0.1)\n",
        "\n",
        "for i in range(30):\n",
        "    \n",
        "    # Predict\n",
        "    pred = model.forward(data)\n",
        "    \n",
        "    # Compare\n",
        "    loss = criterion.forward(pred, target)\n",
        "    \n",
        "    # Learn\n",
        "    loss.backward(Tensor(np.ones_like(loss.data)))\n",
        "    optim.step()\n",
        "    print(loss)"
      ],
      "execution_count": 22,
      "outputs": [
        {
          "output_type": "stream",
          "text": [
            "1.3885032434928422\n",
            "0.9558181509266036\n",
            "0.6823083585795604\n",
            "0.509525996749312\n",
            "0.39574491472895856\n",
            "0.31752527285348275\n",
            "0.2617222861964216\n",
            "0.22061283923954234\n",
            "0.18946427334830074\n",
            "0.16527389263866668\n",
            "0.14607758194860357\n",
            "0.13055430369172646\n",
            "0.11779245238861638\n",
            "0.10714794475139533\n",
            "0.09815578667620338\n",
            "0.09047361136036355\n",
            "0.08384479311174867\n",
            "0.07807382413825212\n",
            "0.07300954249350346\n",
            "0.06853349135086163\n",
            "0.06455169775092835\n",
            "0.060988771902517606\n",
            "0.05778360828147246\n",
            "0.05488621006819306\n",
            "0.05225531311046944\n",
            "0.04985658683228821\n",
            "0.04766125685337316\n",
            "0.04564503956757056\n",
            "0.043787310088343745\n",
            "0.04207044660552249\n"
          ],
          "name": "stdout"
        }
      ]
    },
    {
      "cell_type": "code",
      "metadata": {
        "colab": {
          "base_uri": "https://localhost:8080/"
        },
        "id": "IGKn3hoB40Nm",
        "outputId": "a805f474-6a12-46b9-b9e8-5b696e17614a"
      },
      "source": [
        "np.array([[0,0],[0,1],[1,0],[1,1]]).shape"
      ],
      "execution_count": 23,
      "outputs": [
        {
          "output_type": "execute_result",
          "data": {
            "text/plain": [
              "(4, 2)"
            ]
          },
          "metadata": {
            "tags": []
          },
          "execution_count": 23
        }
      ]
    },
    {
      "cell_type": "code",
      "metadata": {
        "colab": {
          "base_uri": "https://localhost:8080/"
        },
        "id": "CBra7Vih44Tj",
        "outputId": "a4c506dc-da20-42e1-bf1a-42e353c0af91"
      },
      "source": [
        "np.array([0,1,0,1]).shape"
      ],
      "execution_count": 24,
      "outputs": [
        {
          "output_type": "execute_result",
          "data": {
            "text/plain": [
              "(4,)"
            ]
          },
          "metadata": {
            "tags": []
          },
          "execution_count": 24
        }
      ]
    },
    {
      "cell_type": "markdown",
      "metadata": {
        "id": "qmSHZB7O46T1"
      },
      "source": [
        "**Load Mnist Dataset**"
      ]
    },
    {
      "cell_type": "code",
      "metadata": {
        "colab": {
          "base_uri": "https://localhost:8080/"
        },
        "id": "1r3u-43Z4-5X",
        "outputId": "e0f589f5-23a0-46b4-a7a1-b4a607c3d260"
      },
      "source": [
        "import sys, numpy as np\n",
        "from keras.datasets import mnist\n",
        "import matplotlib.pyplot as plt\n",
        "\n",
        "(x_train, y_train), (x_test, y_test) = mnist.load_data()"
      ],
      "execution_count": 25,
      "outputs": [
        {
          "output_type": "stream",
          "text": [
            "Downloading data from https://storage.googleapis.com/tensorflow/tf-keras-datasets/mnist.npz\n",
            "11493376/11490434 [==============================] - 0s 0us/step\n"
          ],
          "name": "stdout"
        }
      ]
    },
    {
      "cell_type": "code",
      "metadata": {
        "colab": {
          "base_uri": "https://localhost:8080/"
        },
        "id": "MgvnbdhH5Dtt",
        "outputId": "aab41102-5210-4e62-9eeb-810d6a3fcec1"
      },
      "source": [
        "x_train.shape"
      ],
      "execution_count": 26,
      "outputs": [
        {
          "output_type": "execute_result",
          "data": {
            "text/plain": [
              "(60000, 28, 28)"
            ]
          },
          "metadata": {
            "tags": []
          },
          "execution_count": 26
        }
      ]
    },
    {
      "cell_type": "markdown",
      "metadata": {
        "id": "AmkhWz3I5Fk3"
      },
      "source": [
        "**One hot encoding**"
      ]
    },
    {
      "cell_type": "code",
      "metadata": {
        "colab": {
          "base_uri": "https://localhost:8080/"
        },
        "id": "p4DZsk8L5IKJ",
        "outputId": "8a4922db-8f3f-4dac-9482-48b9b655b774"
      },
      "source": [
        "def convert_labels(labels):\n",
        "  one_hot_labels = np.zeros((len(labels),10))\n",
        "  for i,l in enumerate(labels):\n",
        "      one_hot_labels[i][l] = 1\n",
        "  return one_hot_labels\n",
        "\n",
        "images, labels = (x_train[0:1000].reshape(1000,28*28)/255, y_train[0:1000])\n",
        "labels = convert_labels(labels)\n",
        "\n",
        "test_images, test_labels = x_test.reshape(len(x_test),28*28)/255, y_test\n",
        "test_labels = convert_labels(test_labels)\n",
        "\n",
        "print(f'images: {images.shape}, labels: {labels.shape}, test_images: {test_images.shape}, test_labels: {test_labels.shape}')"
      ],
      "execution_count": 27,
      "outputs": [
        {
          "output_type": "stream",
          "text": [
            "images: (1000, 784), labels: (1000, 10), test_images: (10000, 784), test_labels: (10000, 10)\n"
          ],
          "name": "stdout"
        }
      ]
    },
    {
      "cell_type": "markdown",
      "metadata": {
        "id": "7II787Lw5Lp3"
      },
      "source": [
        "**Convert to Tensors**"
      ]
    },
    {
      "cell_type": "code",
      "metadata": {
        "id": "6q1MK4d25OJo"
      },
      "source": [
        "# data indices\n",
        "data = Tensor(images, autograd=True)\n",
        "\n",
        "# target indices\n",
        "target = Tensor(labels, autograd=True)"
      ],
      "execution_count": 28,
      "outputs": []
    },
    {
      "cell_type": "markdown",
      "metadata": {
        "id": "ud_KCNHV5SAI"
      },
      "source": [
        "**Training on mnist dataset**"
      ]
    },
    {
      "cell_type": "code",
      "metadata": {
        "colab": {
          "base_uri": "https://localhost:8080/"
        },
        "id": "Hn2pr1x15U6O",
        "outputId": "a9a6f05a-9d36-43e9-8be1-af3bc155b3c0"
      },
      "source": [
        "model = Sequential([Linear(784,256), Tanh(), Linear(256,10), Sigmoid()])\n",
        "criterion = MSELoss()\n",
        "\n",
        "optim = SGD(parameters=model.get_parameters(), alpha=1)\n",
        "\n",
        "for i in range(100):\n",
        "    \n",
        "    # Predict\n",
        "    pred = model.forward(data)\n",
        "    \n",
        "    # Compare\n",
        "    loss = criterion.forward(pred, target)\n",
        "    \n",
        "    # Learn\n",
        "    loss.backward(Tensor(np.ones_like(loss.data)))\n",
        "    optim.step()\n",
        "    print(loss)"
      ],
      "execution_count": 29,
      "outputs": [
        {
          "output_type": "stream",
          "text": [
            "[179.81329635 308.40360557 258.8032468  282.79696538 201.95865821\n",
            " 294.78422849 300.81844464 179.14924533 291.11895034 297.06883763]\n",
            "[ 90.99808983 173.01842606 143.058282    94.         106.\n",
            "  93.          99.03169962 124.95634041 114.00459825 101.06373441]\n",
            "[ 97.         116.          99.          93.         105.\n",
            "  92.          94.         117.          92.76571157 100.        ]\n",
            "[ 97. 116.  99.  93. 105.  92.  94. 117.  87. 100.]\n"
          ],
          "name": "stdout"
        },
        {
          "output_type": "stream",
          "text": [
            "/usr/local/lib/python3.7/dist-packages/ipykernel_launcher.py:193: RuntimeWarning: overflow encountered in exp\n"
          ],
          "name": "stderr"
        },
        {
          "output_type": "stream",
          "text": [
            "[ 97. 116.  99.  93. 105.  92.  94. 117.  87. 100.]\n",
            "[ 97. 116.  99.  93. 105.  92.  94. 117.  87. 100.]\n",
            "[ 97. 116.  99.  93. 105.  92.  94. 117.  87. 100.]\n",
            "[ 97. 116.  99.  93. 105.  92.  94. 117.  87. 100.]\n",
            "[ 97. 116.  99.  93. 105.  92.  94. 117.  87. 100.]\n",
            "[ 97. 116.  99.  93. 105.  92.  94. 117.  87. 100.]\n",
            "[ 97. 116.  99.  93. 105.  92.  94. 117.  87. 100.]\n",
            "[ 97. 116.  99.  93. 105.  92.  94. 117.  87. 100.]\n",
            "[ 97. 116.  99.  93. 105.  92.  94. 117.  87. 100.]\n",
            "[ 97. 116.  99.  93. 105.  92.  94. 117.  87. 100.]\n",
            "[ 97. 116.  99.  93. 105.  92.  94. 117.  87. 100.]\n",
            "[ 97. 116.  99.  93. 105.  92.  94. 117.  87. 100.]\n",
            "[ 97. 116.  99.  93. 105.  92.  94. 117.  87. 100.]\n",
            "[ 97. 116.  99.  93. 105.  92.  94. 117.  87. 100.]\n",
            "[ 97. 116.  99.  93. 105.  92.  94. 117.  87. 100.]\n",
            "[ 97. 116.  99.  93. 105.  92.  94. 117.  87. 100.]\n",
            "[ 97. 116.  99.  93. 105.  92.  94. 117.  87. 100.]\n",
            "[ 97. 116.  99.  93. 105.  92.  94. 117.  87. 100.]\n",
            "[ 97. 116.  99.  93. 105.  92.  94. 117.  87. 100.]\n",
            "[ 97. 116.  99.  93. 105.  92.  94. 117.  87. 100.]\n",
            "[ 97. 116.  99.  93. 105.  92.  94. 117.  87. 100.]\n",
            "[ 97. 116.  99.  93. 105.  92.  94. 117.  87. 100.]\n",
            "[ 97. 116.  99.  93. 105.  92.  94. 117.  87. 100.]\n",
            "[ 97. 116.  99.  93. 105.  92.  94. 117.  87. 100.]\n",
            "[ 97. 116.  99.  93. 105.  92.  94. 117.  87. 100.]\n",
            "[ 97. 116.  99.  93. 105.  92.  94. 117.  87. 100.]\n",
            "[ 97. 116.  99.  93. 105.  92.  94. 117.  87. 100.]\n",
            "[ 97. 116.  99.  93. 105.  92.  94. 117.  87. 100.]\n",
            "[ 97. 116.  99.  93. 105.  92.  94. 117.  87. 100.]\n",
            "[ 97. 116.  99.  93. 105.  92.  94. 117.  87. 100.]\n",
            "[ 97. 116.  99.  93. 105.  92.  94. 117.  87. 100.]\n",
            "[ 97. 116.  99.  93. 105.  92.  94. 117.  87. 100.]\n",
            "[ 97. 116.  99.  93. 105.  92.  94. 117.  87. 100.]\n",
            "[ 97. 116.  99.  93. 105.  92.  94. 117.  87. 100.]\n",
            "[ 97. 116.  99.  93. 105.  92.  94. 117.  87. 100.]\n",
            "[ 97. 116.  99.  93. 105.  92.  94. 117.  87. 100.]\n",
            "[ 97. 116.  99.  93. 105.  92.  94. 117.  87. 100.]\n",
            "[ 97. 116.  99.  93. 105.  92.  94. 117.  87. 100.]\n",
            "[ 97. 116.  99.  93. 105.  92.  94. 117.  87. 100.]\n",
            "[ 97. 116.  99.  93. 105.  92.  94. 117.  87. 100.]\n",
            "[ 97. 116.  99.  93. 105.  92.  94. 117.  87. 100.]\n",
            "[ 97. 116.  99.  93. 105.  92.  94. 117.  87. 100.]\n",
            "[ 97. 116.  99.  93. 105.  92.  94. 117.  87. 100.]\n",
            "[ 97. 116.  99.  93. 105.  92.  94. 117.  87. 100.]\n",
            "[ 97. 116.  99.  93. 105.  92.  94. 117.  87. 100.]\n",
            "[ 97. 116.  99.  93. 105.  92.  94. 117.  87. 100.]\n",
            "[ 97. 116.  99.  93. 105.  92.  94. 117.  87. 100.]\n",
            "[ 97. 116.  99.  93. 105.  92.  94. 117.  87. 100.]\n",
            "[ 97. 116.  99.  93. 105.  92.  94. 117.  87. 100.]\n",
            "[ 97. 116.  99.  93. 105.  92.  94. 117.  87. 100.]\n",
            "[ 97. 116.  99.  93. 105.  92.  94. 117.  87. 100.]\n",
            "[ 97. 116.  99.  93. 105.  92.  94. 117.  87. 100.]\n",
            "[ 97. 116.  99.  93. 105.  92.  94. 117.  87. 100.]\n",
            "[ 97. 116.  99.  93. 105.  92.  94. 117.  87. 100.]\n",
            "[ 97. 116.  99.  93. 105.  92.  94. 117.  87. 100.]\n",
            "[ 97. 116.  99.  93. 105.  92.  94. 117.  87. 100.]\n",
            "[ 97. 116.  99.  93. 105.  92.  94. 117.  87. 100.]\n",
            "[ 97. 116.  99.  93. 105.  92.  94. 117.  87. 100.]\n",
            "[ 97. 116.  99.  93. 105.  92.  94. 117.  87. 100.]\n",
            "[ 97. 116.  99.  93. 105.  92.  94. 117.  87. 100.]\n",
            "[ 97. 116.  99.  93. 105.  92.  94. 117.  87. 100.]\n",
            "[ 97. 116.  99.  93. 105.  92.  94. 117.  87. 100.]\n",
            "[ 97. 116.  99.  93. 105.  92.  94. 117.  87. 100.]\n",
            "[ 97. 116.  99.  93. 105.  92.  94. 117.  87. 100.]\n",
            "[ 97. 116.  99.  93. 105.  92.  94. 117.  87. 100.]\n",
            "[ 97. 116.  99.  93. 105.  92.  94. 117.  87. 100.]\n",
            "[ 97. 116.  99.  93. 105.  92.  94. 117.  87. 100.]\n",
            "[ 97. 116.  99.  93. 105.  92.  94. 117.  87. 100.]\n",
            "[ 97. 116.  99.  93. 105.  92.  94. 117.  87. 100.]\n",
            "[ 97. 116.  99.  93. 105.  92.  94. 117.  87. 100.]\n",
            "[ 97. 116.  99.  93. 105.  92.  94. 117.  87. 100.]\n",
            "[ 97. 116.  99.  93. 105.  92.  94. 117.  87. 100.]\n",
            "[ 97. 116.  99.  93. 105.  92.  94. 117.  87. 100.]\n",
            "[ 97. 116.  99.  93. 105.  92.  94. 117.  87. 100.]\n",
            "[ 97. 116.  99.  93. 105.  92.  94. 117.  87. 100.]\n",
            "[ 97. 116.  99.  93. 105.  92.  94. 117.  87. 100.]\n",
            "[ 97. 116.  99.  93. 105.  92.  94. 117.  87. 100.]\n",
            "[ 97. 116.  99.  93. 105.  92.  94. 117.  87. 100.]\n",
            "[ 97. 116.  99.  93. 105.  92.  94. 117.  87. 100.]\n",
            "[ 97. 116.  99.  93. 105.  92.  94. 117.  87. 100.]\n",
            "[ 97. 116.  99.  93. 105.  92.  94. 117.  87. 100.]\n",
            "[ 97. 116.  99.  93. 105.  92.  94. 117.  87. 100.]\n",
            "[ 97. 116.  99.  93. 105.  92.  94. 117.  87. 100.]\n",
            "[ 97. 116.  99.  93. 105.  92.  94. 117.  87. 100.]\n",
            "[ 97. 116.  99.  93. 105.  92.  94. 117.  87. 100.]\n",
            "[ 97. 116.  99.  93. 105.  92.  94. 117.  87. 100.]\n",
            "[ 97. 116.  99.  93. 105.  92.  94. 117.  87. 100.]\n",
            "[ 97. 116.  99.  93. 105.  92.  94. 117.  87. 100.]\n",
            "[ 97. 116.  99.  93. 105.  92.  94. 117.  87. 100.]\n",
            "[ 97. 116.  99.  93. 105.  92.  94. 117.  87. 100.]\n",
            "[ 97. 116.  99.  93. 105.  92.  94. 117.  87. 100.]\n",
            "[ 97. 116.  99.  93. 105.  92.  94. 117.  87. 100.]\n",
            "[ 97. 116.  99.  93. 105.  92.  94. 117.  87. 100.]\n",
            "[ 97. 116.  99.  93. 105.  92.  94. 117.  87. 100.]\n",
            "[ 97. 116.  99.  93. 105.  92.  94. 117.  87. 100.]\n",
            "[ 97. 116.  99.  93. 105.  92.  94. 117.  87. 100.]\n"
          ],
          "name": "stdout"
        }
      ]
    }
  ]
}